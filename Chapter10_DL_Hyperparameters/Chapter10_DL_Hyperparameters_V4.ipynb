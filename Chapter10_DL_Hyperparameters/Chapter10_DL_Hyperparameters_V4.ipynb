{
 "cells": [
  {
   "cell_type": "markdown",
   "metadata": {},
   "source": [
    "#  Deep Learning Hyper-parameters"
   ]
  },
  {
   "cell_type": "markdown",
   "metadata": {},
   "source": [
    "## Regularization"
   ]
  },
  {
   "cell_type": "code",
   "execution_count": 4,
   "metadata": {},
   "outputs": [],
   "source": [
    "#import the packages\n",
    "import pandas as pd\n",
    "import numpy as np"
   ]
  },
  {
   "cell_type": "markdown",
   "metadata": {},
   "source": [
    "The data set"
   ]
  },
  {
   "cell_type": "code",
   "execution_count": 5,
   "metadata": {},
   "outputs": [
    {
     "name": "stdout",
     "output_type": "stream",
     "text": [
      "         x        y\n",
      "0 -0.99768  2.08850\n",
      "1 -0.69574  1.16460\n",
      "2 -0.40373  0.32870\n",
      "3 -0.10236  0.46013\n",
      "4  0.22024  0.44808\n",
      "5  0.47742  0.10013\n",
      "6  0.82229 -0.32952\n"
     ]
    }
   ],
   "source": [
    "x=[-0.99768,-0.69574,-0.40373,-0.10236,0.22024,0.47742,0.82229]\n",
    "y=[2.0885,1.1646,0.3287,0.46013,0.44808,0.10013,-0.32952]\n",
    "\n",
    "input_data = pd.DataFrame(list(zip(x, y)), columns =['x', 'y']) \n",
    "print(input_data)"
   ]
  },
  {
   "cell_type": "markdown",
   "metadata": {},
   "source": [
    "Plotting the data"
   ]
  },
  {
   "cell_type": "code",
   "execution_count": 6,
   "metadata": {},
   "outputs": [
    {
     "data": {
      "image/png": "[encoded data removed]",
      "text/plain": [
       "<Figure size 432x288 with 1 Axes>"
      ]
     },
     "metadata": {
      "needs_background": "light"
     },
     "output_type": "display_data"
    }
   ],
   "source": [
    "x = np.array(input_data.x)\n",
    "y = input_data.y\n",
    "#scatter plot x and y\n",
    "import matplotlib.pyplot as plt\n",
    "%matplotlib inline\n",
    "plt.title(\"Input data\", fontsize=20)\n",
    "plt.scatter(x,y,s=50,c=\"g\")\n",
    "plt.xlabel(\"X\")\n",
    "plt.ylabel(\"Y\")\n",
    "plt.show()"
   ]
  },
  {
   "cell_type": "markdown",
   "metadata": {},
   "source": [
    "### Usual Regression Model building - Without Regualrization"
   ]
  },
  {
   "cell_type": "markdown",
   "metadata": {},
   "source": [
    "#### Simple Linear Regression"
   ]
  },
  {
   "cell_type": "code",
   "execution_count": 7,
   "metadata": {},
   "outputs": [
    {
     "name": "stdout",
     "output_type": "stream",
     "text": [
      "m1 SSE 0.7107401451797565\n"
     ]
    }
   ],
   "source": [
    "import statsmodels.api as sm\n",
    "x1 = sm.add_constant(x)\n",
    "m1 = sm.OLS(y,x1).fit()\n",
    "#SSE\n",
    "print(\"m1 SSE\", m1.ssr)"
   ]
  },
  {
   "cell_type": "markdown",
   "metadata": {},
   "source": [
    "#### Second Order polynomial regression"
   ]
  },
  {
   "cell_type": "code",
   "execution_count": 8,
   "metadata": {},
   "outputs": [
    {
     "name": "stdout",
     "output_type": "stream",
     "text": [
      "m2 SSE 0.45723172052129896\n"
     ]
    }
   ],
   "source": [
    "x2 = sm.add_constant(np.column_stack([x,np.square(x)]))\n",
    "m2 = sm.OLS(y,x2).fit()\n",
    "print(\"m2 SSE\", m2.ssr)"
   ]
  },
  {
   "cell_type": "markdown",
   "metadata": {},
   "source": [
    "#### Fifth order polynomial"
   ]
  },
  {
   "cell_type": "code",
   "execution_count": 9,
   "metadata": {},
   "outputs": [
    {
     "name": "stdout",
     "output_type": "stream",
     "text": [
      "m3 SSE 0.010562888801624615\n"
     ]
    }
   ],
   "source": [
    "x3 = sm.add_constant(np.column_stack([x, np.power(x,2),np.power(x,3),np.power(x,4),np.power(x,5)]))\n",
    "m3 = sm.OLS(y,x3).fit()\n",
    "print(\"m3 SSE\", m3.ssr)"
   ]
  },
  {
   "cell_type": "markdown",
   "metadata": {},
   "source": [
    "### Regression Model building - With Regualrization"
   ]
  },
  {
   "cell_type": "code",
   "execution_count": 10,
   "metadata": {},
   "outputs": [
    {
     "name": "stderr",
     "output_type": "stream",
     "text": [
      "C:\\Users\\SREEHARI\\AppData\\Local\\Temp\\ipykernel_15448\\1298214204.py:9: FutureWarning: `rcond` parameter will change to the default of machine precision times ``max(M, N)`` where M and N are the input matrix dimensions.\n",
      "To use the future default and silence this warning we advise to pass `rcond=None`, to keep using the old, explicitly pass `rcond=-1`.\n",
      "  w.append(np.linalg.lstsq(X.T.dot(X) + reg * d, X.T.dot(y))[0])\n",
      "C:\\Users\\SREEHARI\\AppData\\Local\\Temp\\ipykernel_15448\\1298214204.py:12: FutureWarning: `rcond` parameter will change to the default of machine precision times ``max(M, N)`` where M and N are the input matrix dimensions.\n",
      "To use the future default and silence this warning we advise to pass `rcond=None`, to keep using the old, explicitly pass `rcond=-1`.\n",
      "  w.append(np.linalg.lstsq(X.T.dot(X) + reg * d, X.T.dot(y))[0])\n",
      "C:\\Users\\SREEHARI\\AppData\\Local\\Temp\\ipykernel_15448\\1298214204.py:16: FutureWarning: `rcond` parameter will change to the default of machine precision times ``max(M, N)`` where M and N are the input matrix dimensions.\n",
      "To use the future default and silence this warning we advise to pass `rcond=None`, to keep using the old, explicitly pass `rcond=-1`.\n",
      "  w.append(np.linalg.lstsq(X.T.dot(X) + reg * d, X.T.dot(y))[0])\n"
     ]
    }
   ],
   "source": [
    "X = x3\n",
    "y = np.array(y)\n",
    "n_col = X.shape[1]\n",
    "d = np.identity(n_col)\n",
    "d[0,0] = 0\n",
    "w = []\n",
    "\n",
    "reg =0 \n",
    "w.append(np.linalg.lstsq(X.T.dot(X) + reg * d, X.T.dot(y))[0])\n",
    "\n",
    "reg =1 \n",
    "w.append(np.linalg.lstsq(X.T.dot(X) + reg * d, X.T.dot(y))[0])\n",
    "\n",
    "\n",
    "reg =10 \n",
    "w.append(np.linalg.lstsq(X.T.dot(X) + reg * d, X.T.dot(y))[0])\n"
   ]
  },
  {
   "cell_type": "code",
   "execution_count": 11,
   "metadata": {},
   "outputs": [
    {
     "name": "stdout",
     "output_type": "stream",
     "text": [
      "Regularized weights  lambda=0 \n",
      " [ 0.47252877  0.68135289 -1.38012842 -5.97768747  2.44173268  4.73711433]\n",
      "Regularized weights  lambda=1 \n",
      " [ 0.3975953  -0.42066637  0.12959211 -0.3974739   0.17525553 -0.33938772]\n",
      "Regularized weights  lambda=10 \n",
      " [ 0.52047074 -0.18250706  0.06064258 -0.14817721  0.07433006 -0.12795737]\n"
     ]
    }
   ],
   "source": [
    "print(\"Regularized weights  lambda=0 \\n\", w[0])\n",
    "print(\"Regularized weights  lambda=1 \\n\", w[1])\n",
    "print(\"Regularized weights  lambda=10 \\n\", w[2])"
   ]
  },
  {
   "cell_type": "code",
   "execution_count": 12,
   "metadata": {},
   "outputs": [
    {
     "name": "stdout",
     "output_type": "stream",
     "text": [
      "Regularized Weights With lambda = 0 \n",
      " [0.4725287728743471, 0.6813528948567897, -1.3801284186125349, -5.977687467469833, 2.4417326847935117, 4.7371143348316815]\n",
      "Standard Weights With inbuilt package \n",
      " [0.47252877287434, 0.6813528948567658, -1.3801284186124518, -5.977687467469686, 2.4417326847933998, 4.737114334831525]\n"
     ]
    }
   ],
   "source": [
    "#new weights and older weights\n",
    "print(\"Regularized Weights With lambda = 0 \\n\", list(w[0]))\n",
    "print(\"Standard Weights With inbuilt package \\n\",list(m3.params))"
   ]
  },
  {
   "cell_type": "code",
   "execution_count": 13,
   "metadata": {},
   "outputs": [
    {
     "data": {
      "image/png": "[encoded data removed]",
      "text/plain": [
       "<Figure size 576x432 with 1 Axes>"
      ]
     },
     "metadata": {
      "needs_background": "light"
     },
     "output_type": "display_data"
    }
   ],
   "source": [
    "#ploat all these three models\n",
    "import matplotlib.pyplot as plt\n",
    "%matplotlib inline\n",
    "plt.rcParams[\"figure.figsize\"] = (8,6)\n",
    "plt.title('Model results for different lambda values', fontsize=20)\n",
    "plt.scatter(x,y, s = 50, c = \"g\")\n",
    "x_new = np.linspace(x.min(), x.max(), 200)\n",
    "plt.plot(x_new, np.poly1d(np.polyfit(x, X.dot(w[0]), 5))(x_new),label='$\\lambda$ = 0', c = \"b\")\n",
    "plt.plot(x_new, np.poly1d(np.polyfit(x, X.dot(w[1]), 5))(x_new),label='$\\lambda$ = 1', c = \"r\")\n",
    "plt.plot(x_new, np.poly1d(np.polyfit(x, X.dot(w[2]), 5))(x_new),label='$\\lambda$ = 10', c = \"g\")\n",
    "plt.legend(loc='upper right');\n",
    "plt.show()"
   ]
  },
  {
   "cell_type": "markdown",
   "metadata": {},
   "source": [
    "#### Choosing the regularization λ"
   ]
  },
  {
   "cell_type": "code",
   "execution_count": 14,
   "metadata": {},
   "outputs": [
    {
     "name": "stdout",
     "output_type": "stream",
     "text": [
      "Final Weights \n",
      " [ 0.3975953  -0.42066637  0.12959211 -0.3974739   0.17525553 -0.33938772]\n",
      "Final SSE  0.24363202160352707\n"
     ]
    }
   ],
   "source": [
    "#weights\n",
    "print(\"Final Weights \\n\", w[1])\n",
    "#perdiction\n",
    "pred = X.dot(w[1])\n",
    "##SSE\n",
    "SSE_Final = sum(np.square(y-pred))\n",
    "print(\"Final SSE \", SSE_Final)"
   ]
  },
  {
   "cell_type": "markdown",
   "metadata": {},
   "source": [
    "## Regularization in Keras"
   ]
  },
  {
   "cell_type": "code",
   "execution_count": 17,
   "metadata": {},
   "outputs": [],
   "source": [
    "import tensorflow as tf\n",
    "from tensorflow import keras\n",
    "from tensorflow.keras import layers\n",
    "from tensorflow.keras.models import Sequential\n",
    "from tensorflow.keras.layers import Dense"
   ]
  },
  {
   "cell_type": "code",
   "execution_count": 18,
   "metadata": {},
   "outputs": [
    {
     "name": "stdout",
     "output_type": "stream",
     "text": [
      "(60000, 784) train input samples\n",
      "(10000, 784) test input samples\n",
      "(60000, 10) train output samples\n",
      "(10000, 10) test output samples\n"
     ]
    }
   ],
   "source": [
    "## MNIST data The data, shuffled and split between train and test sets\n",
    "(X_train, Y_train), (X_test, Y_test) = keras.datasets.mnist.load_data()\n",
    "num_classes=10\n",
    "x_train = X_train.reshape(60000, 784)\n",
    "x_test = X_test.reshape(10000, 784)\n",
    "x_train = x_train.astype('float32')\n",
    "x_test = x_test.astype('float32')\n",
    "x_train /= 255\n",
    "x_test /= 255\n",
    "\n",
    "## Convert class vectors to binary class matrices\n",
    "y_train = keras.utils.to_categorical(Y_train, num_classes)\n",
    "y_test = keras.utils.to_categorical(Y_test, num_classes)\n",
    "\n",
    "print(x_train.shape, 'train input samples')\n",
    "print(x_test.shape, 'test input samples')\n",
    "\n",
    "print(y_train.shape, 'train output samples')\n",
    "print(y_test.shape, 'test output samples')"
   ]
  },
  {
   "cell_type": "markdown",
   "metadata": {},
   "source": [
    "## Model without Regularization "
   ]
  },
  {
   "cell_type": "code",
   "execution_count": 19,
   "metadata": {},
   "outputs": [
    {
     "name": "stdout",
     "output_type": "stream",
     "text": [
      "Model: \"sequential\"\n",
      "_________________________________________________________________\n",
      "Layer (type)                 Output Shape              Param #   \n",
      "=================================================================\n",
      "dense (Dense)                (None, 256)               200960    \n",
      "_________________________________________________________________\n",
      "dense_1 (Dense)              (None, 128)               32896     \n",
      "_________________________________________________________________\n",
      "dense_2 (Dense)              (None, 10)                1290      \n",
      "=================================================================\n",
      "Total params: 235,146\n",
      "Trainable params: 235,146\n",
      "Non-trainable params: 0\n",
      "_________________________________________________________________\n"
     ]
    }
   ],
   "source": [
    "model = keras.Sequential()\n",
    "model.add(layers.Dense(256, activation='sigmoid', input_shape=(784,)))\n",
    "model.add(layers.Dense(128, activation='sigmoid'))\n",
    "model.add(layers.Dense(10, activation='softmax'))\n",
    "model.summary()"
   ]
  },
  {
   "cell_type": "code",
   "execution_count": 20,
   "metadata": {},
   "outputs": [
    {
     "name": "stdout",
     "output_type": "stream",
     "text": [
      "Epoch 1/10\n",
      "1875/1875 [==============================] - 5s 2ms/step - loss: 0.3744 - accuracy: 0.8931\n",
      "Epoch 2/10\n",
      "1875/1875 [==============================] - 3s 2ms/step - loss: 0.1646 - accuracy: 0.9499\n",
      "Epoch 3/10\n",
      "1875/1875 [==============================] - 3s 2ms/step - loss: 0.1154 - accuracy: 0.9647\n",
      "Epoch 4/10\n",
      "1875/1875 [==============================] - 3s 2ms/step - loss: 0.0890 - accuracy: 0.9732\n",
      "Epoch 5/10\n",
      "1875/1875 [==============================] - 3s 2ms/step - loss: 0.0725 - accuracy: 0.9779\n",
      "Epoch 6/10\n",
      "1875/1875 [==============================] - 3s 2ms/step - loss: 0.0610 - accuracy: 0.9818\n",
      "Epoch 7/10\n",
      "1875/1875 [==============================] - 3s 2ms/step - loss: 0.0511 - accuracy: 0.9842\n",
      "Epoch 8/10\n",
      "1875/1875 [==============================] - 3s 2ms/step - loss: 0.0435 - accuracy: 0.9867\n",
      "Epoch 9/10\n",
      "1875/1875 [==============================] - 3s 2ms/step - loss: 0.0385 - accuracy: 0.9882\n",
      "Epoch 10/10\n",
      "1875/1875 [==============================] - 3s 2ms/step - loss: 0.0322 - accuracy: 0.9905\n"
     ]
    },
    {
     "data": {
      "text/plain": [
       "<tensorflow.python.keras.callbacks.History at 0x1fdcd5ebbe0>"
      ]
     },
     "execution_count": 20,
     "metadata": {},
     "output_type": "execute_result"
    }
   ],
   "source": [
    "model.compile(loss='categorical_crossentropy', metrics=['accuracy'])\n",
    "model.fit(x_train, y_train,epochs=10)"
   ]
  },
  {
   "cell_type": "code",
   "execution_count": 21,
   "metadata": {},
   "outputs": [
    {
     "name": "stdout",
     "output_type": "stream",
     "text": [
      "1875/1875 - 1s - loss: 0.0345 - accuracy: 0.9898\n",
      "Train Accuracy: 98.98%\n",
      "313/313 - 0s - loss: 0.0899 - accuracy: 0.9759\n",
      "Test Accuracy: 97.59%\n"
     ]
    }
   ],
   "source": [
    "#Final Results\n",
    "loss, acc = model.evaluate(x_train,  y_train, verbose=2)\n",
    "print(\"Train Accuracy: {:5.2f}%\".format(100*acc))\n",
    "\n",
    "loss, acc = model.evaluate(x_test,  y_test, verbose=2)\n",
    "print(\"Test Accuracy: {:5.2f}%\".format(100*acc))"
   ]
  },
  {
   "cell_type": "markdown",
   "metadata": {},
   "source": [
    "## Model with Regularization "
   ]
  },
  {
   "cell_type": "code",
   "execution_count": 22,
   "metadata": {},
   "outputs": [
    {
     "name": "stdout",
     "output_type": "stream",
     "text": [
      "Model: \"sequential_1\"\n",
      "_________________________________________________________________\n",
      "Layer (type)                 Output Shape              Param #   \n",
      "=================================================================\n",
      "dense_3 (Dense)              (None, 256)               200960    \n",
      "_________________________________________________________________\n",
      "dense_4 (Dense)              (None, 128)               32896     \n",
      "_________________________________________________________________\n",
      "dense_5 (Dense)              (None, 10)                1290      \n",
      "=================================================================\n",
      "Total params: 235,146\n",
      "Trainable params: 235,146\n",
      "Non-trainable params: 0\n",
      "_________________________________________________________________\n"
     ]
    }
   ],
   "source": [
    "from tensorflow.keras import regularizers\n",
    "model_r = keras.Sequential()\n",
    "model_r.add(layers.Dense(256, activation='sigmoid', input_shape=(784,), kernel_regularizer=regularizers.l2(0.01)))\n",
    "model_r.add(layers.Dense(128, activation='sigmoid',kernel_regularizer=regularizers.l2(0.01)))\n",
    "model_r.add(layers.Dense(10, activation='softmax'))\n",
    "model_r.summary()"
   ]
  },
  {
   "cell_type": "code",
   "execution_count": 23,
   "metadata": {},
   "outputs": [
    {
     "name": "stdout",
     "output_type": "stream",
     "text": [
      "Epoch 1/10\n",
      "1875/1875 [==============================] - 4s 2ms/step - loss: 1.7759 - accuracy: 0.6396\n",
      "Epoch 2/10\n",
      "1875/1875 [==============================] - 4s 2ms/step - loss: 1.3373 - accuracy: 0.7615\n",
      "Epoch 3/10\n",
      "1875/1875 [==============================] - 4s 2ms/step - loss: 1.2272 - accuracy: 0.7806\n",
      "Epoch 4/10\n",
      "1875/1875 [==============================] - 4s 2ms/step - loss: 1.1672 - accuracy: 0.7879\n",
      "Epoch 5/10\n",
      "1875/1875 [==============================] - 4s 2ms/step - loss: 1.1271 - accuracy: 0.7945\n",
      "Epoch 6/10\n",
      "1875/1875 [==============================] - 4s 2ms/step - loss: 1.0952 - accuracy: 0.7981\n",
      "Epoch 7/10\n",
      "1875/1875 [==============================] - 4s 2ms/step - loss: 1.0645 - accuracy: 0.8035\n",
      "Epoch 8/10\n",
      "1875/1875 [==============================] - 4s 2ms/step - loss: 1.0323 - accuracy: 0.8108\n",
      "Epoch 9/10\n",
      "1875/1875 [==============================] - 4s 2ms/step - loss: 1.0039 - accuracy: 0.8160\n",
      "Epoch 10/10\n",
      "1875/1875 [==============================] - 4s 2ms/step - loss: 0.9768 - accuracy: 0.8224\n"
     ]
    },
    {
     "data": {
      "text/plain": [
       "<tensorflow.python.keras.callbacks.History at 0x1fec3b5b4c0>"
      ]
     },
     "execution_count": 23,
     "metadata": {},
     "output_type": "execute_result"
    }
   ],
   "source": [
    "model_r.compile(loss='categorical_crossentropy', metrics=['accuracy'])\n",
    "model_r.fit(x_train, y_train,epochs=10)"
   ]
  },
  {
   "cell_type": "code",
   "execution_count": 24,
   "metadata": {},
   "outputs": [
    {
     "name": "stdout",
     "output_type": "stream",
     "text": [
      "1875/1875 - 2s - loss: 1.0955 - accuracy: 0.7764\n",
      "Train Accuracy: 77.64%\n",
      "313/313 - 0s - loss: 1.0827 - accuracy: 0.7830\n",
      "Test Accuracy: 78.30%\n"
     ]
    }
   ],
   "source": [
    "#Final Results\n",
    "loss, acc = model_r.evaluate(x_train,  y_train, verbose=2)\n",
    "print(\"Train Accuracy: {:5.2f}%\".format(100*acc))\n",
    "\n",
    "loss, acc = model_r.evaluate(x_test,  y_test, verbose=2)\n",
    "print(\"Test Accuracy: {:5.2f}%\".format(100*acc))"
   ]
  },
  {
   "cell_type": "markdown",
   "metadata": {},
   "source": [
    "## Model with Dropout "
   ]
  },
  {
   "cell_type": "code",
   "execution_count": 25,
   "metadata": {},
   "outputs": [
    {
     "name": "stdout",
     "output_type": "stream",
     "text": [
      "Model: \"sequential_2\"\n",
      "_________________________________________________________________\n",
      "Layer (type)                 Output Shape              Param #   \n",
      "=================================================================\n",
      "dense_6 (Dense)              (None, 256)               200960    \n",
      "_________________________________________________________________\n",
      "dropout (Dropout)            (None, 256)               0         \n",
      "_________________________________________________________________\n",
      "dense_7 (Dense)              (None, 128)               32896     \n",
      "_________________________________________________________________\n",
      "dropout_1 (Dropout)          (None, 128)               0         \n",
      "_________________________________________________________________\n",
      "dense_8 (Dense)              (None, 10)                1290      \n",
      "=================================================================\n",
      "Total params: 235,146\n",
      "Trainable params: 235,146\n",
      "Non-trainable params: 0\n",
      "_________________________________________________________________\n"
     ]
    }
   ],
   "source": [
    "from tensorflow.keras.layers import Dropout\n",
    "model_rd = keras.Sequential()\n",
    "\n",
    "model_rd.add(layers.Dense(256, activation='sigmoid', input_shape=(784,)))\n",
    "model_rd.add(Dropout(0.7))\n",
    "\n",
    "model_rd.add(layers.Dense(128, activation='sigmoid'))\n",
    "model_rd.add(Dropout(0.6))\n",
    "\n",
    "model_rd.add(layers.Dense(10, activation='softmax'))\n",
    "model_rd.summary()"
   ]
  },
  {
   "cell_type": "code",
   "execution_count": 26,
   "metadata": {},
   "outputs": [
    {
     "name": "stdout",
     "output_type": "stream",
     "text": [
      "Epoch 1/10\n",
      "1875/1875 [==============================] - 4s 2ms/step - loss: 0.8272 - accuracy: 0.7319\n",
      "Epoch 2/10\n",
      "1875/1875 [==============================] - 4s 2ms/step - loss: 0.4307 - accuracy: 0.8754\n",
      "Epoch 3/10\n",
      "1875/1875 [==============================] - 4s 2ms/step - loss: 0.3750 - accuracy: 0.8959\n",
      "Epoch 4/10\n",
      "1875/1875 [==============================] - 4s 2ms/step - loss: 0.3466 - accuracy: 0.9061\n",
      "Epoch 5/10\n",
      "1875/1875 [==============================] - 4s 2ms/step - loss: 0.3200 - accuracy: 0.9125\n",
      "Epoch 6/10\n",
      "1875/1875 [==============================] - 4s 2ms/step - loss: 0.3113 - accuracy: 0.9179\n",
      "Epoch 7/10\n",
      "1875/1875 [==============================] - 4s 2ms/step - loss: 0.2951 - accuracy: 0.9229\n",
      "Epoch 8/10\n",
      "1875/1875 [==============================] - 4s 2ms/step - loss: 0.2881 - accuracy: 0.9255\n",
      "Epoch 9/10\n",
      "1875/1875 [==============================] - 4s 2ms/step - loss: 0.2810 - accuracy: 0.9294\n",
      "Epoch 10/10\n",
      "1875/1875 [==============================] - 4s 2ms/step - loss: 0.2743 - accuracy: 0.9308\n"
     ]
    },
    {
     "data": {
      "text/plain": [
       "<tensorflow.python.keras.callbacks.History at 0x1fee5ba0880>"
      ]
     },
     "execution_count": 26,
     "metadata": {},
     "output_type": "execute_result"
    }
   ],
   "source": [
    "model_rd.compile(loss='categorical_crossentropy', metrics=['accuracy'])\n",
    "model_rd.fit(x_train, y_train,epochs=10)"
   ]
  },
  {
   "cell_type": "code",
   "execution_count": 27,
   "metadata": {},
   "outputs": [
    {
     "name": "stdout",
     "output_type": "stream",
     "text": [
      "1875/1875 - 1s - loss: 0.1584 - accuracy: 0.9599\n",
      "Train Accuracy: 95.99%\n",
      "313/313 - 0s - loss: 0.1684 - accuracy: 0.9573\n",
      "Test Accuracy: 95.73%\n"
     ]
    }
   ],
   "source": [
    "#Final Results\n",
    "loss, acc = model_rd.evaluate(x_train,  y_train, verbose=2)\n",
    "print(\"Train Accuracy: {:5.2f}%\".format(100*acc))\n",
    "\n",
    "loss, acc = model_rd.evaluate(x_test,  y_test, verbose=2)\n",
    "print(\"Test Accuracy: {:5.2f}%\".format(100*acc))"
   ]
  },
  {
   "cell_type": "markdown",
   "metadata": {},
   "source": [
    "## Early Stopping"
   ]
  },
  {
   "cell_type": "code",
   "execution_count": 28,
   "metadata": {},
   "outputs": [
    {
     "name": "stdout",
     "output_type": "stream",
     "text": [
      "Model: \"sequential_3\"\n",
      "_________________________________________________________________\n",
      "Layer (type)                 Output Shape              Param #   \n",
      "=================================================================\n",
      "dense_9 (Dense)              (None, 256)               200960    \n",
      "_________________________________________________________________\n",
      "dense_10 (Dense)             (None, 128)               32896     \n",
      "_________________________________________________________________\n",
      "dense_11 (Dense)             (None, 10)                1290      \n",
      "=================================================================\n",
      "Total params: 235,146\n",
      "Trainable params: 235,146\n",
      "Non-trainable params: 0\n",
      "_________________________________________________________________\n"
     ]
    }
   ],
   "source": [
    "model_re = keras.Sequential()\n",
    "model_re.add(layers.Dense(256, activation='sigmoid', input_shape=(784,)))\n",
    "model_re.add(layers.Dense(128, activation='sigmoid'))\n",
    "model_re.add(layers.Dense(10, activation='softmax'))\n",
    "model_re.summary()"
   ]
  },
  {
   "cell_type": "code",
   "execution_count": 29,
   "metadata": {},
   "outputs": [
    {
     "name": "stdout",
     "output_type": "stream",
     "text": [
      "Epoch 1/10\n",
      "1875/1875 [==============================] - 4s 2ms/step - loss: 0.3720 - accuracy: 0.8957 - val_loss: 0.1922 - val_accuracy: 0.9415\n",
      "Epoch 2/10\n",
      "1875/1875 [==============================] - 4s 2ms/step - loss: 0.1651 - accuracy: 0.9501 - val_loss: 0.1301 - val_accuracy: 0.9595\n",
      "Epoch 3/10\n",
      "1875/1875 [==============================] - 4s 2ms/step - loss: 0.1167 - accuracy: 0.9648 - val_loss: 0.1079 - val_accuracy: 0.9665\n",
      "Epoch 4/10\n",
      "1875/1875 [==============================] - 4s 2ms/step - loss: 0.0893 - accuracy: 0.9729 - val_loss: 0.1013 - val_accuracy: 0.9692\n",
      "Epoch 5/10\n",
      "1875/1875 [==============================] - 4s 2ms/step - loss: 0.0719 - accuracy: 0.9781 - val_loss: 0.0890 - val_accuracy: 0.9735\n",
      "Epoch 6/10\n",
      "1875/1875 [==============================] - 4s 2ms/step - loss: 0.0603 - accuracy: 0.9812 - val_loss: 0.0835 - val_accuracy: 0.9749\n",
      "Epoch 7/10\n",
      "1875/1875 [==============================] - 4s 2ms/step - loss: 0.0508 - accuracy: 0.9848 - val_loss: 0.0767 - val_accuracy: 0.9773\n",
      "Epoch 8/10\n",
      "1875/1875 [==============================] - 4s 2ms/step - loss: 0.0443 - accuracy: 0.9869 - val_loss: 0.0732 - val_accuracy: 0.9791\n",
      "Epoch 9/10\n",
      "1875/1875 [==============================] - 4s 2ms/step - loss: 0.0378 - accuracy: 0.9889 - val_loss: 0.0757 - val_accuracy: 0.9793\n",
      "Epoch 10/10\n",
      "1875/1875 [==============================] - 4s 2ms/step - loss: 0.0330 - accuracy: 0.9897 - val_loss: 0.0702 - val_accuracy: 0.9808\n"
     ]
    },
    {
     "data": {
      "text/plain": [
       "<tensorflow.python.keras.callbacks.History at 0x1fdb4509f40>"
      ]
     },
     "execution_count": 29,
     "metadata": {},
     "output_type": "execute_result"
    }
   ],
   "source": [
    "model_re.compile(loss='categorical_crossentropy', metrics=['accuracy'])\n",
    "#Enable saving checkpoints\n",
    "# Checkpoint the weights when validation accuracy improves\n",
    "from tensorflow.keras.callbacks import ModelCheckpoint\n",
    "import h5py\n",
    "\n",
    "# checkpoint\n",
    "#dont forget to create a directory to store the checkpoints:\"early_stopping_checkpoints\"\n",
    "checkpoint = ModelCheckpoint(r\"D:\\Google Drive\\Training\\Book\\0.Chapters\\Chapter10 Deep Learning Hyperparameters\\4.Code\\epoch-{epoch:02d}.hdf5\")\n",
    "model_re.fit(x_train, y_train,epochs=10,validation_data=(x_test, y_test),callbacks=[checkpoint])"
   ]
  },
  {
   "cell_type": "code",
   "execution_count": 30,
   "metadata": {},
   "outputs": [],
   "source": [
    "model_re.load_weights(r\"D:\\Google Drive\\Training\\Book\\0.Chapters\\Chapter10 Deep Learning Hyperparameters\\4.Code\\\\epoch-07.hdf5\")# change the file name to the epoch you want to load"
   ]
  },
  {
   "cell_type": "code",
   "execution_count": 32,
   "metadata": {},
   "outputs": [
    {
     "name": "stdout",
     "output_type": "stream",
     "text": [
      "Epoch 1/30\n",
      "1875/1875 [==============================] - 4s 2ms/step - loss: 0.3725 - accuracy: 0.8949 - val_loss: 0.2082 - val_accuracy: 0.9373\n",
      "Epoch 2/30\n",
      "1875/1875 [==============================] - 4s 2ms/step - loss: 0.1663 - accuracy: 0.9484 - val_loss: 0.1379 - val_accuracy: 0.9582\n",
      "Epoch 3/30\n",
      "1875/1875 [==============================] - 4s 2ms/step - loss: 0.1165 - accuracy: 0.9647 - val_loss: 0.1208 - val_accuracy: 0.9638\n",
      "Epoch 4/30\n",
      "1875/1875 [==============================] - 4s 2ms/step - loss: 0.0897 - accuracy: 0.9725 - val_loss: 0.0893 - val_accuracy: 0.9730\n",
      "Epoch 5/30\n",
      "1875/1875 [==============================] - 4s 2ms/step - loss: 0.0720 - accuracy: 0.9780 - val_loss: 0.0894 - val_accuracy: 0.9728\n",
      "Epoch 6/30\n",
      "1875/1875 [==============================] - 4s 2ms/step - loss: 0.0600 - accuracy: 0.9813 - val_loss: 0.0781 - val_accuracy: 0.9764\n"
     ]
    },
    {
     "data": {
      "text/plain": [
       "<tensorflow.python.keras.callbacks.History at 0x1febb5efb20>"
      ]
     },
     "execution_count": 32,
     "metadata": {},
     "output_type": "execute_result"
    }
   ],
   "source": [
    "model_re = keras.Sequential()\n",
    "model_re.add(layers.Dense(256, activation='sigmoid', input_shape=(784,)))\n",
    "model_re.add(layers.Dense(128, activation='sigmoid'))\n",
    "model_re.add(layers.Dense(10, activation='softmax'))\n",
    "\n",
    "model_re.compile(loss='categorical_crossentropy', metrics=['accuracy'])\n",
    "\n",
    "es = keras.callbacks.EarlyStopping(monitor='val_accuracy',\n",
    "                              min_delta=0.01,\n",
    "                              patience=2)\n",
    "\n",
    "#train the model with call back method\n",
    "model_re.fit(x_train, y_train, epochs=30,validation_data=(x_test, y_test), callbacks=[es])"
   ]
  },
  {
   "cell_type": "markdown",
   "metadata": {},
   "source": [
    "## Activation Functions"
   ]
  },
  {
   "cell_type": "code",
   "execution_count": 33,
   "metadata": {},
   "outputs": [
    {
     "name": "stdout",
     "output_type": "stream",
     "text": [
      "Model: \"sequential_6\"\n",
      "_________________________________________________________________\n",
      "Layer (type)                 Output Shape              Param #   \n",
      "=================================================================\n",
      "dense_18 (Dense)             (None, 15)                11775     \n",
      "_________________________________________________________________\n",
      "dense_19 (Dense)             (None, 15)                240       \n",
      "_________________________________________________________________\n",
      "dense_20 (Dense)             (None, 15)                240       \n",
      "_________________________________________________________________\n",
      "dense_21 (Dense)             (None, 15)                240       \n",
      "_________________________________________________________________\n",
      "dense_22 (Dense)             (None, 10)                160       \n",
      "=================================================================\n",
      "Total params: 12,655\n",
      "Trainable params: 12,655\n",
      "Non-trainable params: 0\n",
      "_________________________________________________________________\n"
     ]
    }
   ],
   "source": [
    "model2 = keras.Sequential()\n",
    "model2.add(layers.Dense(15, activation='sigmoid', input_shape=(784,)))\n",
    "model2.add(layers.Dense(15, activation='relu'))\n",
    "model2.add(layers.Dense(15, activation='tanh'))\n",
    "model2.add(layers.Dense(15, activation='relu'))\n",
    "model2.add(layers.Dense(10, activation='softmax'))\n",
    "model2.summary()"
   ]
  },
  {
   "cell_type": "code",
   "execution_count": 34,
   "metadata": {},
   "outputs": [
    {
     "name": "stdout",
     "output_type": "stream",
     "text": [
      "Epoch 1/10\n",
      "1875/1875 [==============================] - 5s 2ms/step - loss: 0.6698 - accuracy: 0.8063\n",
      "Epoch 2/10\n",
      "1875/1875 [==============================] - 5s 2ms/step - loss: 0.2820 - accuracy: 0.9189\n",
      "Epoch 3/10\n",
      "1875/1875 [==============================] - 5s 3ms/step - loss: 0.2323 - accuracy: 0.9325\n",
      "Epoch 4/10\n",
      "1875/1875 [==============================] - 5s 2ms/step - loss: 0.2070 - accuracy: 0.9393\n",
      "Epoch 5/10\n",
      "1875/1875 [==============================] - 5s 2ms/step - loss: 0.1898 - accuracy: 0.9442\n",
      "Epoch 6/10\n",
      "1875/1875 [==============================] - 5s 3ms/step - loss: 0.1774 - accuracy: 0.9485\n",
      "Epoch 7/10\n",
      "1875/1875 [==============================] - 5s 3ms/step - loss: 0.1687 - accuracy: 0.9495\n",
      "Epoch 8/10\n",
      "1875/1875 [==============================] - 5s 3ms/step - loss: 0.1608 - accuracy: 0.9526: 0s - loss: 0.1\n",
      "Epoch 9/10\n",
      "1875/1875 [==============================] - 5s 3ms/step - loss: 0.1560 - accuracy: 0.9535\n",
      "Epoch 10/10\n",
      "1875/1875 [==============================] - 5s 2ms/step - loss: 0.1503 - accuracy: 0.9555\n"
     ]
    },
    {
     "data": {
      "text/plain": [
       "<tensorflow.python.keras.callbacks.History at 0x1feb9097160>"
      ]
     },
     "execution_count": 34,
     "metadata": {},
     "output_type": "execute_result"
    }
   ],
   "source": [
    "model2.compile(loss='categorical_crossentropy', metrics=['accuracy'])\n",
    "model2.fit(x_train, y_train,epochs=10)"
   ]
  },
  {
   "cell_type": "markdown",
   "metadata": {},
   "source": [
    "## Learning Rate"
   ]
  },
  {
   "cell_type": "code",
   "execution_count": 35,
   "metadata": {},
   "outputs": [
    {
     "name": "stdout",
     "output_type": "stream",
     "text": [
      "Model: \"sequential_7\"\n",
      "_________________________________________________________________\n",
      "Layer (type)                 Output Shape              Param #   \n",
      "=================================================================\n",
      "dense_23 (Dense)             (None, 20)                15700     \n",
      "_________________________________________________________________\n",
      "dense_24 (Dense)             (None, 20)                420       \n",
      "_________________________________________________________________\n",
      "dense_25 (Dense)             (None, 10)                210       \n",
      "=================================================================\n",
      "Total params: 16,330\n",
      "Trainable params: 16,330\n",
      "Non-trainable params: 0\n",
      "_________________________________________________________________\n",
      "Epoch 1/20\n",
      "1875/1875 [==============================] - 3s 1ms/step - loss: 3.8946 - accuracy: 0.1632\n",
      "Epoch 2/20\n",
      "1875/1875 [==============================] - 3s 1ms/step - loss: 3.3772 - accuracy: 0.1943\n",
      "Epoch 3/20\n",
      "1875/1875 [==============================] - 3s 1ms/step - loss: 3.4027 - accuracy: 0.2023\n",
      "Epoch 4/20\n",
      "1875/1875 [==============================] - 3s 2ms/step - loss: 3.4288 - accuracy: 0.1948\n",
      "Epoch 5/20\n",
      "1875/1875 [==============================] - 3s 2ms/step - loss: 3.3934 - accuracy: 0.1945\n",
      "Epoch 6/20\n",
      "1875/1875 [==============================] - 3s 2ms/step - loss: 2.5354 - accuracy: 0.2114\n",
      "Epoch 7/20\n",
      "1875/1875 [==============================] - 3s 2ms/step - loss: 1.9900 - accuracy: 0.2709\n",
      "Epoch 8/20\n",
      "1875/1875 [==============================] - 3s 1ms/step - loss: 1.9494 - accuracy: 0.2738\n",
      "Epoch 9/20\n",
      "1875/1875 [==============================] - 3s 2ms/step - loss: 1.8887 - accuracy: 0.3234\n",
      "Epoch 10/20\n",
      "1875/1875 [==============================] - 3s 1ms/step - loss: 1.7944 - accuracy: 0.3577\n",
      "Epoch 11/20\n",
      "1875/1875 [==============================] - 3s 1ms/step - loss: 1.7640 - accuracy: 0.3623\n",
      "Epoch 12/20\n",
      "1875/1875 [==============================] - 3s 1ms/step - loss: 1.7537 - accuracy: 0.3637\n",
      "Epoch 13/20\n",
      "1875/1875 [==============================] - 3s 1ms/step - loss: 1.7298 - accuracy: 0.3661\n",
      "Epoch 14/20\n",
      "1875/1875 [==============================] - 3s 1ms/step - loss: 1.7351 - accuracy: 0.3641\n",
      "Epoch 15/20\n",
      "1875/1875 [==============================] - 3s 1ms/step - loss: 1.6534 - accuracy: 0.4426\n",
      "Epoch 16/20\n",
      "1875/1875 [==============================] - 3s 2ms/step - loss: 1.4893 - accuracy: 0.5208\n",
      "Epoch 17/20\n",
      "1875/1875 [==============================] - 3s 1ms/step - loss: 1.5254 - accuracy: 0.5143\n",
      "Epoch 18/20\n",
      "1875/1875 [==============================] - 3s 1ms/step - loss: 1.4623 - accuracy: 0.5382\n",
      "Epoch 19/20\n",
      "1875/1875 [==============================] - 3s 2ms/step - loss: 1.5653 - accuracy: 0.5038\n",
      "Epoch 20/20\n",
      "1875/1875 [==============================] - 3s 1ms/step - loss: 1.5309 - accuracy: 0.5014\n"
     ]
    },
    {
     "data": {
      "text/plain": [
       "<tensorflow.python.keras.callbacks.History at 0x1febf2134c0>"
      ]
     },
     "execution_count": 35,
     "metadata": {},
     "output_type": "execute_result"
    }
   ],
   "source": [
    "model3 = keras.Sequential()\n",
    "model3.add(layers.Dense(20, activation='sigmoid', input_shape=(784,)))\n",
    "model3.add(layers.Dense(20, activation='sigmoid'))\n",
    "model3.add(layers.Dense(10, activation='softmax'))\n",
    "model3.summary()\n",
    "\n",
    "#High Learning Rate\n",
    "opt_new = tf.keras.optimizers.SGD(learning_rate=10)\n",
    "model3.compile(optimizer=opt_new, loss='categorical_crossentropy', metrics=['accuracy'])\n",
    "model3.fit(x_train, y_train,epochs=20)"
   ]
  },
  {
   "cell_type": "code",
   "execution_count": 36,
   "metadata": {},
   "outputs": [
    {
     "name": "stdout",
     "output_type": "stream",
     "text": [
      "Model: \"sequential_8\"\n",
      "_________________________________________________________________\n",
      "Layer (type)                 Output Shape              Param #   \n",
      "=================================================================\n",
      "dense_26 (Dense)             (None, 20)                15700     \n",
      "_________________________________________________________________\n",
      "dense_27 (Dense)             (None, 20)                420       \n",
      "_________________________________________________________________\n",
      "dense_28 (Dense)             (None, 10)                210       \n",
      "=================================================================\n",
      "Total params: 16,330\n",
      "Trainable params: 16,330\n",
      "Non-trainable params: 0\n",
      "_________________________________________________________________\n",
      "Epoch 1/20\n",
      "1875/1875 [==============================] - 3s 1ms/step - loss: 2.4578 - accuracy: 0.0993\n",
      "Epoch 2/20\n",
      "1875/1875 [==============================] - 2s 1ms/step - loss: 2.4534 - accuracy: 0.0993\n",
      "Epoch 3/20\n",
      "1875/1875 [==============================] - 3s 1ms/step - loss: 2.4492 - accuracy: 0.0993\n",
      "Epoch 4/20\n",
      "1875/1875 [==============================] - 3s 1ms/step - loss: 2.4451 - accuracy: 0.0993\n",
      "Epoch 5/20\n",
      "1875/1875 [==============================] - 3s 1ms/step - loss: 2.4411 - accuracy: 0.0993\n",
      "Epoch 6/20\n",
      "1875/1875 [==============================] - 3s 1ms/step - loss: 2.4372 - accuracy: 0.0993\n",
      "Epoch 7/20\n",
      "1875/1875 [==============================] - 3s 2ms/step - loss: 2.4334 - accuracy: 0.0993\n",
      "Epoch 8/20\n",
      "1875/1875 [==============================] - 3s 1ms/step - loss: 2.4297 - accuracy: 0.0993\n",
      "Epoch 9/20\n",
      "1875/1875 [==============================] - 3s 1ms/step - loss: 2.4262 - accuracy: 0.0993\n",
      "Epoch 10/20\n",
      "1875/1875 [==============================] - 3s 1ms/step - loss: 2.4227 - accuracy: 0.0993\n",
      "Epoch 11/20\n",
      "1875/1875 [==============================] - 3s 1ms/step - loss: 2.4193 - accuracy: 0.0993\n",
      "Epoch 12/20\n",
      "1875/1875 [==============================] - 3s 1ms/step - loss: 2.4161 - accuracy: 0.0993\n",
      "Epoch 13/20\n",
      "1875/1875 [==============================] - 2s 1ms/step - loss: 2.4129 - accuracy: 0.0993\n",
      "Epoch 14/20\n",
      "1875/1875 [==============================] - 3s 1ms/step - loss: 2.4098 - accuracy: 0.0993\n",
      "Epoch 15/20\n",
      "1875/1875 [==============================] - 2s 1ms/step - loss: 2.4068 - accuracy: 0.0993\n",
      "Epoch 16/20\n",
      "1875/1875 [==============================] - 3s 1ms/step - loss: 2.4039 - accuracy: 0.0993\n",
      "Epoch 17/20\n",
      "1875/1875 [==============================] - 3s 1ms/step - loss: 2.4010 - accuracy: 0.0993\n",
      "Epoch 18/20\n",
      "1875/1875 [==============================] - 3s 1ms/step - loss: 2.3983 - accuracy: 0.0993\n",
      "Epoch 19/20\n",
      "1875/1875 [==============================] - 2s 1ms/step - loss: 2.3956 - accuracy: 0.0993\n",
      "Epoch 20/20\n",
      "1875/1875 [==============================] - 3s 1ms/step - loss: 2.3930 - accuracy: 0.0993\n"
     ]
    },
    {
     "data": {
      "text/plain": [
       "<tensorflow.python.keras.callbacks.History at 0x1febf48b760>"
      ]
     },
     "execution_count": 36,
     "metadata": {},
     "output_type": "execute_result"
    }
   ],
   "source": [
    "model3 = keras.Sequential()\n",
    "model3.add(layers.Dense(20, activation='sigmoid', input_shape=(784,)))\n",
    "model3.add(layers.Dense(20, activation='sigmoid'))\n",
    "model3.add(layers.Dense(10, activation='softmax'))\n",
    "model3.summary()\n",
    "\n",
    "#Low learning rate\n",
    "opt_new = tf.keras.optimizers.SGD(learning_rate=0.00001)\n",
    "model3.compile(optimizer=opt_new, loss='categorical_crossentropy', metrics=['accuracy'])\n",
    "model3.fit(x_train, y_train,epochs=20)"
   ]
  },
  {
   "cell_type": "code",
   "execution_count": 37,
   "metadata": {},
   "outputs": [
    {
     "name": "stdout",
     "output_type": "stream",
     "text": [
      "Model: \"sequential_9\"\n",
      "_________________________________________________________________\n",
      "Layer (type)                 Output Shape              Param #   \n",
      "=================================================================\n",
      "dense_29 (Dense)             (None, 20)                15700     \n",
      "_________________________________________________________________\n",
      "dense_30 (Dense)             (None, 20)                420       \n",
      "_________________________________________________________________\n",
      "dense_31 (Dense)             (None, 10)                210       \n",
      "=================================================================\n",
      "Total params: 16,330\n",
      "Trainable params: 16,330\n",
      "Non-trainable params: 0\n",
      "_________________________________________________________________\n",
      "Epoch 1/20\n",
      "1875/1875 [==============================] - 3s 1ms/step - loss: 2.2449 - accuracy: 0.2519\n",
      "Epoch 2/20\n",
      "1875/1875 [==============================] - 3s 1ms/step - loss: 2.0267 - accuracy: 0.4349\n",
      "Epoch 3/20\n",
      "1875/1875 [==============================] - 3s 1ms/step - loss: 1.6692 - accuracy: 0.5633\n",
      "Epoch 4/20\n",
      "1875/1875 [==============================] - 3s 1ms/step - loss: 1.3505 - accuracy: 0.6657\n",
      "Epoch 5/20\n",
      "1875/1875 [==============================] - 3s 1ms/step - loss: 1.1042 - accuracy: 0.7296\n",
      "Epoch 6/20\n",
      "1875/1875 [==============================] - 3s 1ms/step - loss: 0.9153 - accuracy: 0.7727\n",
      "Epoch 7/20\n",
      "1875/1875 [==============================] - 3s 1ms/step - loss: 0.7775 - accuracy: 0.8067\n",
      "Epoch 8/20\n",
      "1875/1875 [==============================] - 2s 1ms/step - loss: 0.6747 - accuracy: 0.8336\n",
      "Epoch 9/20\n",
      "1875/1875 [==============================] - 2s 1ms/step - loss: 0.5979 - accuracy: 0.8522\n",
      "Epoch 10/20\n",
      "1875/1875 [==============================] - 3s 1ms/step - loss: 0.5406 - accuracy: 0.8651\n",
      "Epoch 11/20\n",
      "1875/1875 [==============================] - 3s 1ms/step - loss: 0.4972 - accuracy: 0.8742\n",
      "Epoch 12/20\n",
      "1875/1875 [==============================] - 3s 1ms/step - loss: 0.4634 - accuracy: 0.8812\n",
      "Epoch 13/20\n",
      "1875/1875 [==============================] - 2s 1ms/step - loss: 0.4364 - accuracy: 0.8868\n",
      "Epoch 14/20\n",
      "1875/1875 [==============================] - 3s 1ms/step - loss: 0.4141 - accuracy: 0.8911\n",
      "Epoch 15/20\n",
      "1875/1875 [==============================] - 3s 1ms/step - loss: 0.3955 - accuracy: 0.8951\n",
      "Epoch 16/20\n",
      "1875/1875 [==============================] - 3s 1ms/step - loss: 0.3795 - accuracy: 0.8981\n",
      "Epoch 17/20\n",
      "1875/1875 [==============================] - 2s 1ms/step - loss: 0.3655 - accuracy: 0.9012\n",
      "Epoch 18/20\n",
      "1875/1875 [==============================] - 2s 1ms/step - loss: 0.3531 - accuracy: 0.9038\n",
      "Epoch 19/20\n",
      "1875/1875 [==============================] - 2s 1ms/step - loss: 0.3420 - accuracy: 0.9065\n",
      "Epoch 20/20\n",
      "1875/1875 [==============================] - 3s 1ms/step - loss: 0.3320 - accuracy: 0.9091\n"
     ]
    },
    {
     "data": {
      "text/plain": [
       "<tensorflow.python.keras.callbacks.History at 0x1feb64b39a0>"
      ]
     },
     "execution_count": 37,
     "metadata": {},
     "output_type": "execute_result"
    }
   ],
   "source": [
    "model3 = keras.Sequential()\n",
    "model3.add(layers.Dense(20, activation='sigmoid', input_shape=(784,)))\n",
    "model3.add(layers.Dense(20, activation='sigmoid'))\n",
    "model3.add(layers.Dense(10, activation='softmax'))\n",
    "model3.summary()\n",
    "\n",
    "#Optimal learning rate\n",
    "opt_new = tf.keras.optimizers.SGD(learning_rate=0.01)\n",
    "model3.compile(optimizer=opt_new, loss='categorical_crossentropy', metrics=['accuracy'])\n",
    "model3.fit(x_train, y_train,epochs=20)"
   ]
  },
  {
   "cell_type": "markdown",
   "metadata": {},
   "source": [
    "## Momentum"
   ]
  },
  {
   "cell_type": "code",
   "execution_count": 38,
   "metadata": {},
   "outputs": [
    {
     "name": "stdout",
     "output_type": "stream",
     "text": [
      "Model: \"sequential_10\"\n",
      "_________________________________________________________________\n",
      "Layer (type)                 Output Shape              Param #   \n",
      "=================================================================\n",
      "dense_32 (Dense)             (None, 20)                15700     \n",
      "_________________________________________________________________\n",
      "dense_33 (Dense)             (None, 20)                420       \n",
      "_________________________________________________________________\n",
      "dense_34 (Dense)             (None, 10)                210       \n",
      "=================================================================\n",
      "Total params: 16,330\n",
      "Trainable params: 16,330\n",
      "Non-trainable params: 0\n",
      "_________________________________________________________________\n",
      "Epoch 1/20\n",
      "1875/1875 [==============================] - 3s 1ms/step - loss: 2.1662 - accuracy: 0.3388\n",
      "Epoch 2/20\n",
      "1875/1875 [==============================] - 3s 1ms/step - loss: 1.5457 - accuracy: 0.6028\n",
      "Epoch 3/20\n",
      "1875/1875 [==============================] - 3s 1ms/step - loss: 1.0186 - accuracy: 0.7333\n",
      "Epoch 4/20\n",
      "1875/1875 [==============================] - 3s 2ms/step - loss: 0.7663 - accuracy: 0.7850\n",
      "Epoch 5/20\n",
      "1875/1875 [==============================] - 3s 1ms/step - loss: 0.6313 - accuracy: 0.8202\n",
      "Epoch 6/20\n",
      "1875/1875 [==============================] - 3s 2ms/step - loss: 0.5432 - accuracy: 0.8510\n",
      "Epoch 7/20\n",
      "1875/1875 [==============================] - 3s 1ms/step - loss: 0.4789 - accuracy: 0.8718\n",
      "Epoch 8/20\n",
      "1875/1875 [==============================] - 3s 1ms/step - loss: 0.4313 - accuracy: 0.8856\n",
      "Epoch 9/20\n",
      "1875/1875 [==============================] - 3s 1ms/step - loss: 0.3960 - accuracy: 0.8941\n",
      "Epoch 10/20\n",
      "1875/1875 [==============================] - 3s 1ms/step - loss: 0.3690 - accuracy: 0.9009\n",
      "Epoch 11/20\n",
      "1875/1875 [==============================] - 3s 1ms/step - loss: 0.3475 - accuracy: 0.9062\n",
      "Epoch 12/20\n",
      "1875/1875 [==============================] - 3s 1ms/step - loss: 0.3299 - accuracy: 0.9103\n",
      "Epoch 13/20\n",
      "1875/1875 [==============================] - 3s 1ms/step - loss: 0.3150 - accuracy: 0.9141\n",
      "Epoch 14/20\n",
      "1875/1875 [==============================] - 3s 1ms/step - loss: 0.3023 - accuracy: 0.9174\n",
      "Epoch 15/20\n",
      "1875/1875 [==============================] - 3s 1ms/step - loss: 0.2913 - accuracy: 0.9198\n",
      "Epoch 16/20\n",
      "1875/1875 [==============================] - 3s 1ms/step - loss: 0.2813 - accuracy: 0.9225\n",
      "Epoch 17/20\n",
      "1875/1875 [==============================] - 2s 1ms/step - loss: 0.2723 - accuracy: 0.9253\n",
      "Epoch 18/20\n",
      "1875/1875 [==============================] - 3s 1ms/step - loss: 0.2639 - accuracy: 0.9270\n",
      "Epoch 19/20\n",
      "1875/1875 [==============================] - 3s 1ms/step - loss: 0.2565 - accuracy: 0.9292\n",
      "Epoch 20/20\n",
      "1875/1875 [==============================] - 3s 1ms/step - loss: 0.2495 - accuracy: 0.9306\n"
     ]
    },
    {
     "data": {
      "text/plain": [
       "<tensorflow.python.keras.callbacks.History at 0x1feb69a1b80>"
      ]
     },
     "execution_count": 38,
     "metadata": {},
     "output_type": "execute_result"
    }
   ],
   "source": [
    "model3 = keras.Sequential()\n",
    "model3.add(layers.Dense(20, activation='sigmoid', input_shape=(784,)))\n",
    "model3.add(layers.Dense(20, activation='sigmoid'))\n",
    "model3.add(layers.Dense(10, activation='softmax'))\n",
    "model3.summary()\n",
    "\n",
    "#Optimal learning rate\n",
    "opt_new = tf.keras.optimizers.SGD(learning_rate=0.01, momentum=0.5)\n",
    "model3.compile(optimizer=opt_new, loss='categorical_crossentropy', metrics=['accuracy'])\n",
    "model3.fit(x_train, y_train,epochs=20)"
   ]
  },
  {
   "cell_type": "markdown",
   "metadata": {},
   "source": [
    "## Mini batch Gradient Descent"
   ]
  },
  {
   "cell_type": "code",
   "execution_count": 39,
   "metadata": {},
   "outputs": [
    {
     "name": "stdout",
     "output_type": "stream",
     "text": [
      "Model: \"sequential_11\"\n",
      "_________________________________________________________________\n",
      "Layer (type)                 Output Shape              Param #   \n",
      "=================================================================\n",
      "dense_35 (Dense)             (None, 20)                15700     \n",
      "_________________________________________________________________\n",
      "dense_36 (Dense)             (None, 20)                420       \n",
      "_________________________________________________________________\n",
      "dense_37 (Dense)             (None, 10)                210       \n",
      "=================================================================\n",
      "Total params: 16,330\n",
      "Trainable params: 16,330\n",
      "Non-trainable params: 0\n",
      "_________________________________________________________________\n",
      "Epoch 1/10\n",
      "1/1 [==============================] - 1s 786ms/step - loss: 2.3953 - accuracy: 0.1146\n",
      "Epoch 2/10\n",
      "1/1 [==============================] - 0s 45ms/step - loss: 2.3673 - accuracy: 0.1111\n",
      "Epoch 3/10\n",
      "1/1 [==============================] - 0s 45ms/step - loss: 2.3490 - accuracy: 0.1161\n",
      "Epoch 4/10\n",
      "1/1 [==============================] - 0s 51ms/step - loss: 2.3344 - accuracy: 0.1214\n",
      "Epoch 5/10\n",
      "1/1 [==============================] - 0s 63ms/step - loss: 2.3219 - accuracy: 0.1295\n",
      "Epoch 6/10\n",
      "1/1 [==============================] - 0s 66ms/step - loss: 2.3108 - accuracy: 0.1460\n",
      "Epoch 7/10\n",
      "1/1 [==============================] - 0s 56ms/step - loss: 2.3007 - accuracy: 0.1686\n",
      "Epoch 8/10\n",
      "1/1 [==============================] - 0s 64ms/step - loss: 2.2912 - accuracy: 0.1913\n",
      "Epoch 9/10\n",
      "1/1 [==============================] - 0s 66ms/step - loss: 2.2823 - accuracy: 0.2125\n",
      "Epoch 10/10\n",
      "1/1 [==============================] - 0s 69ms/step - loss: 2.2739 - accuracy: 0.2291\n"
     ]
    },
    {
     "data": {
      "text/plain": [
       "<tensorflow.python.keras.callbacks.History at 0x1feb6ea06d0>"
      ]
     },
     "execution_count": 39,
     "metadata": {},
     "output_type": "execute_result"
    }
   ],
   "source": [
    "model4 = keras.Sequential()\n",
    "model4.add(layers.Dense(20, activation='sigmoid', input_shape=(784,)))\n",
    "model4.add(layers.Dense(20, activation='sigmoid'))\n",
    "model4.add(layers.Dense(10, activation='softmax'))\n",
    "model4.summary()\n",
    "\n",
    "\n",
    "opt_new = tf.keras.optimizers.SGD(learning_rate=0.01, momentum=0.5)\n",
    "model4.compile(loss='categorical_crossentropy', metrics=['accuracy'])\n",
    "\n",
    "#Batch size=fll data(GD)\n",
    "model4.fit(x_train, y_train,batch_size=x_train.shape[0], epochs=10)"
   ]
  },
  {
   "cell_type": "code",
   "execution_count": 40,
   "metadata": {},
   "outputs": [
    {
     "name": "stdout",
     "output_type": "stream",
     "text": [
      "Model: \"sequential_12\"\n",
      "_________________________________________________________________\n",
      "Layer (type)                 Output Shape              Param #   \n",
      "=================================================================\n",
      "dense_38 (Dense)             (None, 20)                15700     \n",
      "_________________________________________________________________\n",
      "dense_39 (Dense)             (None, 20)                420       \n",
      "_________________________________________________________________\n",
      "dense_40 (Dense)             (None, 10)                210       \n",
      "=================================================================\n",
      "Total params: 16,330\n",
      "Trainable params: 16,330\n",
      "Non-trainable params: 0\n",
      "_________________________________________________________________\n",
      "Epoch 1/2\n",
      "60000/60000 [==============================] - 115s 2ms/step - loss: 0.4810 - accuracy: 0.8744\n",
      "Epoch 2/2\n",
      "60000/60000 [==============================] - 116s 2ms/step - loss: 0.3644 - accuracy: 0.9161\n"
     ]
    },
    {
     "data": {
      "text/plain": [
       "<tensorflow.python.keras.callbacks.History at 0x1feb74badc0>"
      ]
     },
     "execution_count": 40,
     "metadata": {},
     "output_type": "execute_result"
    }
   ],
   "source": [
    "model4 = keras.Sequential()\n",
    "model4.add(layers.Dense(20, activation='sigmoid', input_shape=(784,)))\n",
    "model4.add(layers.Dense(20, activation='sigmoid'))\n",
    "model4.add(layers.Dense(10, activation='softmax'))\n",
    "model4.summary()\n",
    "\n",
    "\n",
    "opt_new = tf.keras.optimizers.SGD(learning_rate=0.01, momentum=0.5)\n",
    "model4.compile(loss='categorical_crossentropy', metrics=['accuracy'])\n",
    "\n",
    "#Batch size=1 (SGD)\n",
    "model4.fit(x_train, y_train,batch_size=1, epochs=2)"
   ]
  },
  {
   "cell_type": "code",
   "execution_count": 41,
   "metadata": {},
   "outputs": [
    {
     "name": "stdout",
     "output_type": "stream",
     "text": [
      "Model: \"sequential_13\"\n",
      "_________________________________________________________________\n",
      "Layer (type)                 Output Shape              Param #   \n",
      "=================================================================\n",
      "dense_41 (Dense)             (None, 20)                15700     \n",
      "_________________________________________________________________\n",
      "dense_42 (Dense)             (None, 20)                420       \n",
      "_________________________________________________________________\n",
      "dense_43 (Dense)             (None, 10)                210       \n",
      "=================================================================\n",
      "Total params: 16,330\n",
      "Trainable params: 16,330\n",
      "Non-trainable params: 0\n",
      "_________________________________________________________________\n",
      "Epoch 1/10\n",
      "118/118 [==============================] - 1s 2ms/step - loss: 2.0512 - accuracy: 0.3720\n",
      "Epoch 2/10\n",
      "118/118 [==============================] - 0s 3ms/step - loss: 1.5838 - accuracy: 0.6276\n",
      "Epoch 3/10\n",
      "118/118 [==============================] - 0s 3ms/step - loss: 1.2163 - accuracy: 0.7465\n",
      "Epoch 4/10\n",
      "118/118 [==============================] - 0s 3ms/step - loss: 0.9404 - accuracy: 0.8095\n",
      "Epoch 5/10\n",
      "118/118 [==============================] - 0s 3ms/step - loss: 0.7428 - accuracy: 0.8476\n",
      "Epoch 6/10\n",
      "118/118 [==============================] - 0s 3ms/step - loss: 0.5991 - accuracy: 0.8708\n",
      "Epoch 7/10\n",
      "118/118 [==============================] - 0s 4ms/step - loss: 0.4924 - accuracy: 0.8888\n",
      "Epoch 8/10\n",
      "118/118 [==============================] - 0s 3ms/step - loss: 0.4151 - accuracy: 0.8997\n",
      "Epoch 9/10\n",
      "118/118 [==============================] - 0s 3ms/step - loss: 0.3623 - accuracy: 0.9079\n",
      "Epoch 10/10\n",
      "118/118 [==============================] - 0s 3ms/step - loss: 0.3276 - accuracy: 0.9130\n"
     ]
    },
    {
     "data": {
      "text/plain": [
       "<tensorflow.python.keras.callbacks.History at 0x1feb7ad1700>"
      ]
     },
     "execution_count": 41,
     "metadata": {},
     "output_type": "execute_result"
    }
   ],
   "source": [
    "model4 = keras.Sequential()\n",
    "model4.add(layers.Dense(20, activation='sigmoid', input_shape=(784,)))\n",
    "model4.add(layers.Dense(20, activation='sigmoid'))\n",
    "model4.add(layers.Dense(10, activation='softmax'))\n",
    "model4.summary()\n",
    "\n",
    "\n",
    "opt_new = tf.keras.optimizers.SGD(learning_rate=0.01, momentum=0.5)\n",
    "model4.compile(loss='categorical_crossentropy', metrics=['accuracy'])\n",
    "\n",
    "#Batch size = 512\n",
    "model4.fit(x_train, y_train,batch_size=512, epochs=10)"
   ]
  },
  {
   "cell_type": "code",
   "execution_count": null,
   "metadata": {},
   "outputs": [],
   "source": []
  }
 ],
 "metadata": {
  "kernelspec": {
   "display_name": "Python 3 (ipykernel)",
   "language": "python",
   "name": "python3"
  },
  "language_info": {
   "codemirror_mode": {
    "name": "ipython",
    "version": 3
   },
   "file_extension": ".py",
   "mimetype": "text/x-python",
   "name": "python",
   "nbconvert_exporter": "python",
   "pygments_lexer": "ipython3",
   "version": "3.9.12"
  }
 },
 "nbformat": 4,
 "nbformat_minor": 4
}
