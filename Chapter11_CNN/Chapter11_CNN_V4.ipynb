{
 "cells": [
  {
   "cell_type": "markdown",
   "metadata": {},
   "source": [
    "# CNN"
   ]
  },
  {
   "cell_type": "code",
   "execution_count": 4,
   "metadata": {},
   "outputs": [],
   "source": [
    "import tensorflow as tf\n",
    "from tensorflow import keras\n",
    "from tensorflow.keras import layers\n",
    "from tensorflow.keras.models import Sequential\n",
    "from tensorflow.keras.layers import Dense"
   ]
  },
  {
   "cell_type": "code",
   "execution_count": 17,
   "metadata": {},
   "outputs": [],
   "source": [
    "Data_path=\"C:\\\\Users\\\\SREEHARI\\\\Desktop\\\\internship\\\\my training\\\\Chapter11_CNN\\\\Datasets\\\\\""
   ]
  },
  {
   "cell_type": "markdown",
   "metadata": {},
   "source": [
    "## Reshape images in ANN"
   ]
  },
  {
   "cell_type": "code",
   "execution_count": 5,
   "metadata": {},
   "outputs": [
    {
     "name": "stdout",
     "output_type": "stream",
     "text": [
      "X_train shape (60000, 28, 28)\n",
      "X_test shape (10000, 28, 28)\n",
      "X_train new shape (60000, 784)\n",
      "X_test new shape (10000, 784)\n"
     ]
    }
   ],
   "source": [
    "(X_train, Y_train), (X_test, Y_test) = keras.datasets.mnist.load_data()\n",
    "print(\"X_train shape\", X_train.shape)\n",
    "print(\"X_test shape\", X_test.shape)\n",
    "\n",
    "x_train = X_train.reshape(60000, 784)\n",
    "x_test = X_test.reshape(10000, 784)\n",
    "\n",
    "print(\"X_train new shape\", x_train.shape)\n",
    "print(\"X_test new shape\", x_test.shape)"
   ]
  },
  {
   "cell_type": "code",
   "execution_count": 6,
   "metadata": {},
   "outputs": [
    {
     "name": "stdout",
     "output_type": "stream",
     "text": [
      "Model: \"sequential\"\n",
      "_________________________________________________________________\n",
      "Layer (type)                 Output Shape              Param #   \n",
      "=================================================================\n",
      "dense (Dense)                (None, 20)                15700     \n",
      "_________________________________________________________________\n",
      "dense_1 (Dense)              (None, 20)                420       \n",
      "_________________________________________________________________\n",
      "dense_2 (Dense)              (None, 10)                210       \n",
      "=================================================================\n",
      "Total params: 16,330\n",
      "Trainable params: 16,330\n",
      "Non-trainable params: 0\n",
      "_________________________________________________________________\n",
      "Epoch 1/2\n",
      "1875/1875 [==============================] - 23s 8ms/step - loss: 1.0173 - accuracy: 0.7520\n",
      "Epoch 2/2\n",
      "1875/1875 [==============================] - 15s 8ms/step - loss: 0.3586 - accuracy: 0.9019\n"
     ]
    },
    {
     "data": {
      "text/plain": [
       "<tensorflow.python.keras.callbacks.History at 0x1fb3e820f40>"
      ]
     },
     "execution_count": 6,
     "metadata": {},
     "output_type": "execute_result"
    }
   ],
   "source": [
    "num_classes=10\n",
    "x_train = x_train.astype('float32')\n",
    "x_test = x_test.astype('float32')\n",
    "x_train /= 255\n",
    "x_test /= 255\n",
    "\n",
    "## Convert class vectors to binary class matrices\n",
    "y_train = keras.utils.to_categorical(Y_train, num_classes)\n",
    "y_test = keras.utils.to_categorical(Y_test, num_classes)\n",
    "\n",
    "model = keras.Sequential()\n",
    "model.add(layers.Dense(20, activation='sigmoid', input_shape=(784,)))\n",
    "model.add(layers.Dense(20, activation='sigmoid'))\n",
    "model.add(layers.Dense(10, activation='softmax'))\n",
    "model.summary()\n",
    "model.compile(loss='categorical_crossentropy', metrics=['accuracy'])\n",
    "model.fit(x_train, y_train,epochs=2)"
   ]
  },
  {
   "cell_type": "markdown",
   "metadata": {},
   "source": [
    "## Convolution Layer"
   ]
  },
  {
   "cell_type": "code",
   "execution_count": 7,
   "metadata": {},
   "outputs": [
    {
     "name": "stdout",
     "output_type": "stream",
     "text": [
      "X_train shape (60000, 28, 28)\n",
      "X_test shape (10000, 28, 28)\n"
     ]
    }
   ],
   "source": [
    "(X_train, Y_train), (X_test, Y_test) = keras.datasets.mnist.load_data()\n",
    "print(\"X_train shape\", X_train.shape)\n",
    "print(\"X_test shape\", X_test.shape)"
   ]
  },
  {
   "cell_type": "code",
   "execution_count": 8,
   "metadata": {},
   "outputs": [
    {
     "data": {
      "image/png": "[encoded data removed]",
      "text/plain": [
       "<Figure size 432x288 with 4 Axes>"
      ]
     },
     "metadata": {
      "needs_background": "light"
     },
     "output_type": "display_data"
    }
   ],
   "source": [
    "# Plot 4 images as gray scale\n",
    "\n",
    "%matplotlib inline\n",
    "import matplotlib.pyplot as plt\n",
    "plt.subplot(221)\n",
    "plt.imshow(X_train[1], cmap=plt.get_cmap('gray'))\n",
    "plt.subplot(222)\n",
    "plt.imshow(X_train[6], cmap=plt.get_cmap('gray'))\n",
    "plt.subplot(223)\n",
    "plt.imshow(X_train[7], cmap=plt.get_cmap('gray'))\n",
    "plt.subplot(224)\n",
    "plt.imshow(X_train[9], cmap=plt.get_cmap('gray'))\n",
    "\n",
    "# show the plot\n",
    "plt.show()"
   ]
  },
  {
   "cell_type": "markdown",
   "metadata": {},
   "source": [
    "## Random kernel_initializer"
   ]
  },
  {
   "cell_type": "code",
   "execution_count": 9,
   "metadata": {},
   "outputs": [
    {
     "name": "stdout",
     "output_type": "stream",
     "text": [
      "Actual Image\n"
     ]
    },
    {
     "data": {
      "image/png": "[encoded data removed]",
      "text/plain": [
       "<Figure size 432x288 with 1 Axes>"
      ]
     },
     "metadata": {
      "needs_background": "light"
     },
     "output_type": "display_data"
    },
    {
     "name": "stdout",
     "output_type": "stream",
     "text": [
      "Random Weights Kennel\n"
     ]
    },
    {
     "data": {
      "image/png": "[encoded data removed]",
      "text/plain": [
       "<Figure size 432x288 with 1 Axes>"
      ]
     },
     "metadata": {
      "needs_background": "light"
     },
     "output_type": "display_data"
    }
   ],
   "source": [
    "#i=int(np.random.rand(1,1)*60000)\n",
    "#634 #924 #952 #3611  #4458\n",
    "import numpy as np\n",
    "x=X_train[3611]\n",
    "\n",
    "\n",
    "print(\"Actual Image\")\n",
    "plt.imshow(x, cmap=plt.get_cmap('gray'))\n",
    "plt.show()\n",
    "\n",
    "\n",
    "print(\"Random Weights Kennel\")\n",
    "from tensorflow.keras.layers import Conv2D\n",
    "model=Sequential()\n",
    "model.add(Conv2D(filters=1,\n",
    "                 kernel_size=7,\n",
    "                 input_shape=(28,28,1),\n",
    "                 kernel_initializer='random_uniform'))\n",
    "\n",
    "img_reshape=np.expand_dims(x, axis=0)\n",
    "img_reshape=np.expand_dims(img_reshape, axis=3)\n",
    "img_reshape=model.predict(img_reshape)\n",
    "pixels = np.matrix(img_reshape[:][:][:][0])\n",
    "plt.imshow(pixels,cmap=plt.get_cmap('gray'))\n",
    "plt.show()"
   ]
  },
  {
   "cell_type": "markdown",
   "metadata": {},
   "source": [
    "### Constant kernel_initializer"
   ]
  },
  {
   "cell_type": "code",
   "execution_count": 10,
   "metadata": {},
   "outputs": [
    {
     "name": "stdout",
     "output_type": "stream",
     "text": [
      "filter1 \n",
      " [[  1   1   1   1   1   1   1]\n",
      " [  1   1   1   1   1   1   1]\n",
      " [100 100 100 100 100 100 100]\n",
      " [100 100 100 100 100 100 100]\n",
      " [100 100 100 100 100 100 100]\n",
      " [  1   1   1   1   1   1   1]\n",
      " [  1   1   1   1   1   1   1]]\n",
      "filter2 \n",
      " [[  1   1 100 100 100   1   1]\n",
      " [  1   1 100 100 100   1   1]\n",
      " [  1   1 100 100 100   1   1]\n",
      " [  1   1 100 100 100   1   1]\n",
      " [  1   1 100 100 100   1   1]\n",
      " [  1   1 100 100 100   1   1]\n",
      " [  1   1 100 100 100   1   1]]\n"
     ]
    }
   ],
   "source": [
    "import numpy as np\n",
    "filter1=np.array([[1,1,1,1,1,1,1],\n",
    "           [1,1,1,1,1,1,1],\n",
    "           [100,100,100,100,100,100,100],\n",
    "           [100,100,100,100,100,100,100],\n",
    "           [100,100,100,100,100,100,100],\n",
    "           [1,1,1,1,1,1,1],\n",
    "           [1,1,1,1,1,1,1]])\n",
    "print(\"filter1 \\n\", filter1)\n",
    "\n",
    "filter2=np.transpose(filter1)\n",
    "print(\"filter2 \\n\",filter2)"
   ]
  },
  {
   "cell_type": "code",
   "execution_count": 11,
   "metadata": {},
   "outputs": [
    {
     "name": "stdout",
     "output_type": "stream",
     "text": [
      "Actual Image\n"
     ]
    },
    {
     "data": {
      "image/png": "[encoded data removed]",
      "text/plain": [
       "<Figure size 432x288 with 1 Axes>"
      ]
     },
     "metadata": {
      "needs_background": "light"
     },
     "output_type": "display_data"
    },
    {
     "name": "stdout",
     "output_type": "stream",
     "text": [
      "Horizontal Line\n"
     ]
    },
    {
     "data": {
      "image/png": "[encoded data removed]",
      "text/plain": [
       "<Figure size 432x288 with 1 Axes>"
      ]
     },
     "metadata": {
      "needs_background": "light"
     },
     "output_type": "display_data"
    },
    {
     "name": "stdout",
     "output_type": "stream",
     "text": [
      "Vertical Line\n"
     ]
    },
    {
     "data": {
      "image/png": "[encoded data removed]",
      "text/plain": [
       "<Figure size 432x288 with 1 Axes>"
      ]
     },
     "metadata": {
      "needs_background": "light"
     },
     "output_type": "display_data"
    }
   ],
   "source": [
    "#Try #634 #924 #952 #3611  #4458\n",
    "x=X_train[3611]\n",
    "\n",
    "print(\"Actual Image\")\n",
    "plt.imshow(x, cmap=plt.get_cmap('gray'))\n",
    "plt.show()\n",
    "\n",
    "print(\"Horizontal Line\")\n",
    "\n",
    "model=Sequential()\n",
    "model.add(Conv2D(1,\n",
    "                 kernel_size=7,\n",
    "                 input_shape=(28,28,1),\n",
    "                 kernel_initializer=keras.initializers.Constant(filter1)))\n",
    "\n",
    "img_reshape=np.expand_dims(x, axis=0)\n",
    "img_reshape=np.expand_dims(img_reshape, axis=3)\n",
    "img_reshape=model.predict(img_reshape)\n",
    "pixels = np.matrix(img_reshape[:][:][:][0])\n",
    "plt.imshow(pixels,cmap=plt.get_cmap('gray'))\n",
    "plt.show()\n",
    "\n",
    "print(\"Vertical Line\")\n",
    "model=Sequential()\n",
    "model.add(Conv2D(1,\n",
    "                 kernel_size=7,\n",
    "                 input_shape=(28,28,1),\n",
    "                 kernel_initializer=keras.initializers.Constant(filter2)))\n",
    "\n",
    "img_reshape=np.expand_dims(x, axis=0)\n",
    "img_reshape=np.expand_dims(img_reshape, axis=3)\n",
    "img_reshape=model.predict(img_reshape)\n",
    "pixels = np.matrix(img_reshape[:][:][:][0])\n",
    "plt.imshow(pixels,cmap=plt.get_cmap('gray'))\n",
    "plt.show()"
   ]
  },
  {
   "cell_type": "markdown",
   "metadata": {},
   "source": [
    "### Filters for Colour Images"
   ]
  },
  {
   "cell_type": "code",
   "execution_count": 18,
   "metadata": {},
   "outputs": [
    {
     "name": "stdout",
     "output_type": "stream",
     "text": [
      "12505\n",
      "imp_path C:\\Users\\SREEHARI\\Desktop\\internship\\my training\\Chapter11_CNN\\Datasets\\43534.png\n",
      "(32, 32, 3)\n",
      "[[[12.156863  10.666667   8.235294 ]\n",
      "  [12.941177   9.176471   7.6862745]\n",
      "  [13.490196   8.862745   8.       ]\n",
      "  [11.372549   7.372549   6.27451  ]\n",
      "  [11.607843   7.6862745  6.666667 ]]\n",
      "\n",
      " [[11.843138  10.745098   8.078431 ]\n",
      "  [13.960785  10.82353    8.941176 ]\n",
      "  [14.901961   9.960784   9.019608 ]\n",
      "  [13.411765   8.941176   7.921569 ]\n",
      "  [10.901961   6.666667   5.7254906]]\n",
      "\n",
      " [[11.6862755 10.745098   8.       ]\n",
      "  [13.803922  11.058825   9.09804  ]\n",
      "  [14.745098   9.725491   9.09804  ]\n",
      "  [15.686275  11.215687  10.82353  ]\n",
      "  [11.294118   7.0588236  6.745098 ]]\n",
      "\n",
      " [[11.294118  10.509805   7.764706 ]\n",
      "  [12.235294  10.3529415  8.156863 ]\n",
      "  [13.254902   9.725491   8.784314 ]\n",
      "  [17.960785  15.215687  14.901961 ]\n",
      "  [15.764706  13.09804   12.862745 ]]\n",
      "\n",
      " [[11.294118  10.666667   7.8431373]\n",
      "  [12.078432  11.058825   8.470589 ]\n",
      "  [14.039216  12.313726  10.509805 ]\n",
      "  [18.117647  16.62745   15.921569 ]\n",
      "  [17.960785  16.078432  15.764706 ]]]\n",
      "(5, 5, 3)\n"
     ]
    },
    {
     "data": {
      "text/plain": [
       "<matplotlib.image.AxesImage at 0x1fc30ef0cd0>"
      ]
     },
     "execution_count": 18,
     "metadata": {},
     "output_type": "execute_result"
    },
    {
     "data": {
      "image/png": "[encoded data removed]",
      "text/plain": [
       "<Figure size 432x288 with 1 Axes>"
      ]
     },
     "metadata": {
      "needs_background": "light"
     },
     "output_type": "display_data"
    }
   ],
   "source": [
    "i=int(np.random.rand(1,1)*60000)\n",
    "print(i)\n",
    "\n",
    "imp_path=Data_path+\"43534.png\"\n",
    "print(\"imp_path\",imp_path)\n",
    "\n",
    "%matplotlib inline\n",
    "x=plt.imread(imp_path)\n",
    "print(x.shape)\n",
    "y=x[10:15,10:15]\n",
    "print(y*20)\n",
    "print(y.shape)\n",
    "plt.imshow((y*255).astype(np.uint8))"
   ]
  },
  {
   "cell_type": "markdown",
   "metadata": {},
   "source": [
    "## Zero Padding "
   ]
  },
  {
   "cell_type": "code",
   "execution_count": 19,
   "metadata": {},
   "outputs": [
    {
     "name": "stdout",
     "output_type": "stream",
     "text": [
      "Actual Image Shape  (28, 28)\n"
     ]
    },
    {
     "data": {
      "image/png": "[encoded data removed]",
      "text/plain": [
       "<Figure size 432x288 with 1 Axes>"
      ]
     },
     "metadata": {
      "needs_background": "light"
     },
     "output_type": "display_data"
    },
    {
     "name": "stdout",
     "output_type": "stream",
     "text": [
      "Random Weights Kennel siz3 7X7\n",
      "Output Shape  (22, 22)\n"
     ]
    },
    {
     "data": {
      "image/png": "[encoded data removed]",
      "text/plain": [
       "<Figure size 432x288 with 1 Axes>"
      ]
     },
     "metadata": {
      "needs_background": "light"
     },
     "output_type": "display_data"
    },
    {
     "name": "stdout",
     "output_type": "stream",
     "text": [
      "Random Weights Kennel siz3 5X5\n",
      "WARNING:tensorflow:5 out of the last 5 calls to <function Model.make_predict_function.<locals>.predict_function at 0x000001FC30F4D310> triggered tf.function retracing. Tracing is expensive and the excessive number of tracings could be due to (1) creating @tf.function repeatedly in a loop, (2) passing tensors with different shapes, (3) passing Python objects instead of tensors. For (1), please define your @tf.function outside of the loop. For (2), @tf.function has experimental_relax_shapes=True option that relaxes argument shapes that can avoid unnecessary retracing. For (3), please refer to https://www.tensorflow.org/guide/function#controlling_retracing and https://www.tensorflow.org/api_docs/python/tf/function for  more details.\n",
      "Output Shape  (24, 24)\n"
     ]
    },
    {
     "data": {
      "image/png": "[encoded data removed]",
      "text/plain": [
       "<Figure size 432x288 with 1 Axes>"
      ]
     },
     "metadata": {
      "needs_background": "light"
     },
     "output_type": "display_data"
    }
   ],
   "source": [
    "#i=int(np.random.rand(1,1)*60000)\n",
    "#634 #924 #952 #3611  #4458\n",
    "import numpy as np\n",
    "x=X_train[3611]\n",
    "\n",
    "print(\"Actual Image Shape \" ,  x.shape)\n",
    "plt.imshow(x, cmap=plt.get_cmap('gray'))\n",
    "plt.show()\n",
    "\n",
    "\n",
    "print(\"Random Weights Kennel siz3 7X7\")\n",
    "from tensorflow.keras.layers import Conv2D\n",
    "model=Sequential()\n",
    "model.add(Conv2D(filters=1,\n",
    "                 kernel_size=7,\n",
    "                 input_shape=(28,28,1),\n",
    "                 kernel_initializer='random_uniform'))\n",
    "\n",
    "img_reshape=np.expand_dims(x, axis=0)\n",
    "img_reshape=np.expand_dims(img_reshape, axis=3)\n",
    "img_reshape=model.predict(img_reshape)\n",
    "pixels = np.matrix(img_reshape[:][:][:][0])\n",
    "print(\"Output Shape \" ,pixels.shape)\n",
    "plt.imshow(pixels,cmap=plt.get_cmap('gray'))\n",
    "plt.show()\n",
    "\n",
    "\n",
    "print(\"Random Weights Kennel siz3 5X5\")\n",
    "from tensorflow.keras.layers import Conv2D\n",
    "model=Sequential()\n",
    "model.add(Conv2D(filters=1,\n",
    "                 kernel_size=5,\n",
    "                 input_shape=(28,28,1),\n",
    "                 kernel_initializer='random_uniform'))\n",
    "\n",
    "img_reshape=np.expand_dims(x, axis=0)\n",
    "img_reshape=np.expand_dims(img_reshape, axis=3)\n",
    "img_reshape=model.predict(img_reshape)\n",
    "pixels = np.matrix(img_reshape[:][:][:][0])\n",
    "print(\"Output Shape \" ,pixels.shape)\n",
    "plt.imshow(pixels,cmap=plt.get_cmap('gray'))\n",
    "plt.show()"
   ]
  },
  {
   "cell_type": "markdown",
   "metadata": {},
   "source": [
    "## CNN for CIFAR10"
   ]
  },
  {
   "cell_type": "code",
   "execution_count": 20,
   "metadata": {},
   "outputs": [],
   "source": [
    "from tensorflow.keras import datasets, layers, models\n",
    "import matplotlib.pyplot as plt"
   ]
  },
  {
   "cell_type": "code",
   "execution_count": 21,
   "metadata": {},
   "outputs": [
    {
     "name": "stdout",
     "output_type": "stream",
     "text": [
      "Downloading data from https://www.cs.toronto.edu/~kriz/cifar-10-python.tar.gz\n",
      "170500096/170498071 [==============================] - 65s 0us/step\n"
     ]
    }
   ],
   "source": [
    "(X_train, y_train), (X_test, y_test) = datasets.cifar10.load_data()\n",
    "\n",
    "# Normalize pixel values to be between 0 and 1\n",
    "X_train=X_train/255\n",
    "X_test=X_test/255"
   ]
  },
  {
   "cell_type": "code",
   "execution_count": 22,
   "metadata": {},
   "outputs": [
    {
     "name": "stdout",
     "output_type": "stream",
     "text": [
      "X_train.shape (50000, 32, 32, 3)\n",
      "y_train.shape (50000, 1)\n",
      "X_test.shape (10000, 32, 32, 3)\n",
      "y_test.shape (10000, 1)\n"
     ]
    }
   ],
   "source": [
    "print(\"X_train.shape\", X_train.shape)\n",
    "print(\"y_train.shape\", y_train.shape)\n",
    "print(\"X_test.shape\", X_test.shape)\n",
    "print(\"y_test.shape\", y_test.shape)"
   ]
  },
  {
   "cell_type": "code",
   "execution_count": 23,
   "metadata": {},
   "outputs": [
    {
     "data": {
      "image/png": "[encoded data removed]",
      "text/plain": [
       "<Figure size 720x720 with 16 Axes>"
      ]
     },
     "metadata": {},
     "output_type": "display_data"
    }
   ],
   "source": [
    "#Drawing Few images\n",
    "class_names = ['airplane', 'automobile', 'bird', 'cat', 'deer', 'dog', 'frog', 'horse', 'ship', 'truck']\n",
    "plt.figure(figsize=(10,10))\n",
    "for i in range(16):\n",
    "    plt.subplot(4,4,i+1)\n",
    "    plt.imshow(X_train[i], cmap=plt.cm.binary)\n",
    "    plt.xlabel(class_names[y_train[i][0]])\n",
    "    plt.xticks([])\n",
    "    plt.yticks([])\n",
    "plt.show()"
   ]
  },
  {
   "cell_type": "code",
   "execution_count": 24,
   "metadata": {},
   "outputs": [
    {
     "name": "stdout",
     "output_type": "stream",
     "text": [
      "Model: \"sequential_6\"\n",
      "_________________________________________________________________\n",
      "Layer (type)                 Output Shape              Param #   \n",
      "=================================================================\n",
      "conv2d_5 (Conv2D)            (None, 28, 28, 32)        2432      \n",
      "_________________________________________________________________\n",
      "max_pooling2d (MaxPooling2D) (None, 14, 14, 32)        0         \n",
      "_________________________________________________________________\n",
      "conv2d_6 (Conv2D)            (None, 12, 12, 64)        18496     \n",
      "_________________________________________________________________\n",
      "max_pooling2d_1 (MaxPooling2 (None, 6, 6, 64)          0         \n",
      "_________________________________________________________________\n",
      "conv2d_7 (Conv2D)            (None, 4, 4, 128)         73856     \n",
      "_________________________________________________________________\n",
      "flatten (Flatten)            (None, 2048)              0         \n",
      "_________________________________________________________________\n",
      "dense_3 (Dense)              (None, 64)                131136    \n",
      "_________________________________________________________________\n",
      "dense_4 (Dense)              (None, 10)                650       \n",
      "=================================================================\n",
      "Total params: 226,570\n",
      "Trainable params: 226,570\n",
      "Non-trainable params: 0\n",
      "_________________________________________________________________\n"
     ]
    }
   ],
   "source": [
    "model = models.Sequential()\n",
    "model.add(layers.Conv2D(32, (5, 5), activation='relu', input_shape=(32, 32, 3)))\n",
    "model.add(layers.MaxPooling2D((2, 2)))\n",
    "model.add(layers.Conv2D(64, (3, 3), activation='relu'))\n",
    "model.add(layers.MaxPooling2D((2, 2)))\n",
    "model.add(layers.Conv2D(128, (3, 3), activation='relu'))\n",
    "model.add(layers.Flatten())\n",
    "model.add(layers.Dense(64, activation='relu'))\n",
    "model.add(layers.Dense(10))\n",
    "model.summary()"
   ]
  },
  {
   "cell_type": "code",
   "execution_count": 25,
   "metadata": {},
   "outputs": [
    {
     "name": "stdout",
     "output_type": "stream",
     "text": [
      "Epoch 1/12\n",
      "3125/3125 [==============================] - 30s 8ms/step - loss: 1.8177 - accuracy: 0.3329 - val_loss: 1.5186 - val_accuracy: 0.4515\n",
      "Epoch 2/12\n",
      "3125/3125 [==============================] - 23s 7ms/step - loss: 1.4028 - accuracy: 0.4973 - val_loss: 1.3060 - val_accuracy: 0.5278\n",
      "Epoch 3/12\n",
      "3125/3125 [==============================] - 21s 7ms/step - loss: 1.2326 - accuracy: 0.5640 - val_loss: 1.1732 - val_accuracy: 0.5848\n",
      "Epoch 4/12\n",
      "3125/3125 [==============================] - 21s 7ms/step - loss: 1.1072 - accuracy: 0.6115 - val_loss: 1.0667 - val_accuracy: 0.6287\n",
      "Epoch 5/12\n",
      "3125/3125 [==============================] - 22s 7ms/step - loss: 1.0045 - accuracy: 0.6480 - val_loss: 1.0630 - val_accuracy: 0.6298\n",
      "Epoch 6/12\n",
      "3125/3125 [==============================] - 21s 7ms/step - loss: 0.9183 - accuracy: 0.6772 - val_loss: 0.9803 - val_accuracy: 0.6573\n",
      "Epoch 7/12\n",
      "3125/3125 [==============================] - 21s 7ms/step - loss: 0.8415 - accuracy: 0.7066 - val_loss: 0.9728 - val_accuracy: 0.6639\n",
      "Epoch 8/12\n",
      "3125/3125 [==============================] - 21s 7ms/step - loss: 0.7751 - accuracy: 0.7291 - val_loss: 0.9438 - val_accuracy: 0.6753\n",
      "Epoch 9/12\n",
      "3125/3125 [==============================] - 22s 7ms/step - loss: 0.7183 - accuracy: 0.7477 - val_loss: 0.9809 - val_accuracy: 0.6714\n",
      "Epoch 10/12\n",
      "3125/3125 [==============================] - 21s 7ms/step - loss: 0.6620 - accuracy: 0.7659 - val_loss: 0.8876 - val_accuracy: 0.7017\n",
      "Epoch 11/12\n",
      "3125/3125 [==============================] - 21s 7ms/step - loss: 0.6093 - accuracy: 0.7858 - val_loss: 0.9224 - val_accuracy: 0.6957\n",
      "Epoch 12/12\n",
      "3125/3125 [==============================] - 22s 7ms/step - loss: 0.5583 - accuracy: 0.8036 - val_loss: 0.9490 - val_accuracy: 0.6898\n",
      "Execution time is 268 seconds\n"
     ]
    }
   ],
   "source": [
    "import time #To measure the execution time \n",
    "start = time.time()\n",
    "\n",
    "model.compile(optimizer=tf.keras.optimizers.SGD(learning_rate=0.01, momentum=0.1),\n",
    "              loss=tf.keras.losses.SparseCategoricalCrossentropy(from_logits=True),\n",
    "              metrics=['accuracy'])\n",
    "model.fit(X_train, y_train, \n",
    "          batch_size=16,\n",
    "          epochs=12, \n",
    "          validation_data=(X_test, y_test))\n",
    "\n",
    "end = time.time()\n",
    "print(\"Execution time is\", int(end - start), \"seconds\")"
   ]
  },
  {
   "cell_type": "markdown",
   "metadata": {},
   "source": [
    "## Case Study- Sign Language Reading from Images "
   ]
  },
  {
   "cell_type": "code",
   "execution_count": 26,
   "metadata": {},
   "outputs": [],
   "source": [
    "#Let us keep all the libraries ready\n",
    "import tensorflow.keras\n",
    "from tensorflow.keras.models import Model, Sequential\n",
    "from tensorflow.keras.layers import Dense, Dropout, Flatten, Input, AveragePooling2D,  Activation\n",
    "from tensorflow.keras.layers import Reshape, Input, Lambda\n",
    "from tensorflow.keras.layers import Conv2D, Convolution2D, MaxPooling2D, BatchNormalization\n",
    "from tensorflow.keras.layers import Concatenate, GlobalAveragePooling2D\n",
    "from tensorflow.keras.optimizers import Adam, SGD\n",
    "from tensorflow.keras import regularizers, initializers\n",
    "from tensorflow.keras.preprocessing.image import ImageDataGenerator\n",
    "\n",
    "import pandas as pd\n",
    "import numpy as np\n",
    "\n",
    "from sklearn.metrics import confusion_matrix\n",
    "import matplotlib.pyplot as plt\n",
    "%matplotlib inline\n",
    "\n",
    "from PIL import Image\n",
    "from matplotlib.pyplot import imshow, imsave\n",
    "import imageio\n",
    "import random"
   ]
  },
  {
   "cell_type": "code",
   "execution_count": 28,
   "metadata": {},
   "outputs": [
    {
     "name": "stderr",
     "output_type": "stream",
     "text": [
      "C:\\Users\\SREEHARI\\AppData\\Local\\Temp\\ipykernel_5736\\1636337409.py:6: DeprecationWarning: Starting with ImageIO v3 the behavior of this function will switch to that of iio.v3.imread. To keep the current behavior (and make this warning disappear) use `import imageio.v2 as imageio` or call `imageio.v2.imread` directly.\n",
      "  img=imageio.imread(location+str(i)+\"\\\\IMG_11\"+str(img_id)+\".JPG\")\n",
      "C:\\Users\\SREEHARI\\AppData\\Local\\Temp\\ipykernel_5736\\1636337409.py:11: DeprecationWarning: Starting with ImageIO v3 the behavior of this function will switch to that of iio.v3.imread. To keep the current behavior (and make this warning disappear) use `import imageio.v2 as imageio` or call `imageio.v2.imread` directly.\n",
      "  img=imageio.imread(location+str(i)+\"\\\\IMG_11\"+str(img_id)+\".JPG\")\n",
      "C:\\Users\\SREEHARI\\AppData\\Local\\Temp\\ipykernel_5736\\1636337409.py:16: DeprecationWarning: Starting with ImageIO v3 the behavior of this function will switch to that of iio.v3.imread. To keep the current behavior (and make this warning disappear) use `import imageio.v2 as imageio` or call `imageio.v2.imread` directly.\n",
      "  img=imageio.imread(location+str(i)+\"\\\\IMG_11\"+str(img_id)+\".JPG\")\n",
      "C:\\Users\\SREEHARI\\AppData\\Local\\Temp\\ipykernel_5736\\1636337409.py:21: DeprecationWarning: Starting with ImageIO v3 the behavior of this function will switch to that of iio.v3.imread. To keep the current behavior (and make this warning disappear) use `import imageio.v2 as imageio` or call `imageio.v2.imread` directly.\n",
      "  img=imageio.imread(location+str(i)+\"\\\\IMG_11\"+str(img_id)+\".JPG\")\n"
     ]
    },
    {
     "data": {
      "text/plain": [
       "<matplotlib.image.AxesImage at 0x1fc91de5dc0>"
      ]
     },
     "execution_count": 28,
     "metadata": {},
     "output_type": "execute_result"
    },
    {
     "data": {
      "image/png": "[encoded data removed]",
      "text/plain": [
       "<Figure size 432x288 with 4 Axes>"
      ]
     },
     "metadata": {
      "needs_background": "light"
     },
     "output_type": "display_data"
    }
   ],
   "source": [
    "#Few random Images\n",
    "fig, ax = plt.subplots(2,2)\n",
    "location=Data_path+'Sign-Language-Digits-Dataset-master\\Dataset\\\\'\n",
    "i=random.randint(0, 9)\n",
    "img_id=18+i\n",
    "img=imageio.imread(location+str(i)+\"\\\\IMG_11\"+str(img_id)+\".JPG\")\n",
    "ax[0,0].imshow(img)\n",
    "\n",
    "i=random.randint(0, 9)\n",
    "img_id=18+i\n",
    "img=imageio.imread(location+str(i)+\"\\\\IMG_11\"+str(img_id)+\".JPG\")\n",
    "ax[0,1].imshow(img)\n",
    "\n",
    "i=random.randint(0, 9)\n",
    "img_id=18+i\n",
    "img=imageio.imread(location+str(i)+\"\\\\IMG_11\"+str(img_id)+\".JPG\")\n",
    "ax[1,0].imshow(img)\n",
    "\n",
    "i=random.randint(0, 9)\n",
    "img_id=18+i\n",
    "img=imageio.imread(location+str(i)+\"\\\\IMG_11\"+str(img_id)+\".JPG\")\n",
    "ax[1,1].imshow(img)"
   ]
  },
  {
   "cell_type": "code",
   "execution_count": 29,
   "metadata": {},
   "outputs": [
    {
     "name": "stdout",
     "output_type": "stream",
     "text": [
      "Found 1653 images belonging to 10 classes.\n",
      "Found 409 images belonging to 10 classes.\n"
     ]
    }
   ],
   "source": [
    "########################\n",
    "# Generators\n",
    "########################\n",
    "\n",
    "from tensorflow.keras.preprocessing.image import ImageDataGenerator\n",
    "\n",
    "batch_size = 256\n",
    "target_size = (100,100)\n",
    "\n",
    "\n",
    "########################\n",
    "# Data Directory\n",
    "########################\n",
    "\n",
    "data_dir = location  # this is the image datasets directory\n",
    "location_1=Data_path+\"Sign_language_digits_dataset_64_64\\\\\"\n",
    "########################\n",
    "# Data generator : Any preprocessing options/steps can be  defined here\n",
    "########################\n",
    "datagen = ImageDataGenerator(rescale = 1./255,  # scaling the images matrix(standard preprocessing step)\n",
    "                             validation_split=0.2) # set validation split\n",
    "\n",
    "########################\n",
    "# Train generator\n",
    "########################\n",
    "train_generator = datagen.flow_from_directory(\n",
    "    data_dir,\n",
    "    target_size=target_size,   # resizing the input images to a specific size\n",
    "    batch_size=batch_size,     # Batch size, iterator will generate a random batch with this size\n",
    "    color_mode = 'grayscale',  # keeping the channel to grayscale for easy calculations\n",
    "    class_mode='categorical',\n",
    "    shuffle=True,\n",
    "    subset=\"training\") \n",
    "\n",
    "########################\n",
    "# Validation generator\n",
    "########################\n",
    "\n",
    "validation_generator = datagen.flow_from_directory(\n",
    "    data_dir, # same directory as training data\n",
    "    target_size=target_size,\n",
    "    batch_size=batch_size,\n",
    "    color_mode = 'grayscale', \n",
    "    class_mode='categorical',\n",
    "    shuffle=True,\n",
    "    subset=\"validation\") # set as validation data"
   ]
  },
  {
   "cell_type": "code",
   "execution_count": 30,
   "metadata": {},
   "outputs": [
    {
     "name": "stdout",
     "output_type": "stream",
     "text": [
      "Model: \"sequential_7\"\n",
      "_________________________________________________________________\n",
      "Layer (type)                 Output Shape              Param #   \n",
      "=================================================================\n",
      "conv2d_8 (Conv2D)            (None, 98, 98, 64)        640       \n",
      "_________________________________________________________________\n",
      "max_pooling2d_2 (MaxPooling2 (None, 49, 49, 64)        0         \n",
      "_________________________________________________________________\n",
      "conv2d_9 (Conv2D)            (None, 47, 47, 64)        36928     \n",
      "_________________________________________________________________\n",
      "max_pooling2d_3 (MaxPooling2 (None, 23, 23, 64)        0         \n",
      "_________________________________________________________________\n",
      "conv2d_10 (Conv2D)           (None, 21, 21, 64)        36928     \n",
      "_________________________________________________________________\n",
      "max_pooling2d_4 (MaxPooling2 (None, 10, 10, 64)        0         \n",
      "_________________________________________________________________\n",
      "flatten_1 (Flatten)          (None, 6400)              0         \n",
      "_________________________________________________________________\n",
      "dense_5 (Dense)              (None, 256)               1638656   \n",
      "_________________________________________________________________\n",
      "dense_6 (Dense)              (None, 10)                2570      \n",
      "=================================================================\n",
      "Total params: 1,715,722\n",
      "Trainable params: 1,715,722\n",
      "Non-trainable params: 0\n",
      "_________________________________________________________________\n"
     ]
    }
   ],
   "source": [
    "model1 = Sequential()\n",
    "\n",
    "# Convolution layer\n",
    "model1.add(Conv2D(64, (3, 3), input_shape = (100, 100, 1), activation = 'relu'))\n",
    "\n",
    "# Pooling layer\n",
    "model1.add(MaxPooling2D(pool_size = (2, 2)))\n",
    "\n",
    "# Adding second convolutional layer\n",
    "model1.add(Conv2D(64, (3, 3), activation = 'relu'))\n",
    "model1.add(MaxPooling2D(pool_size = (2, 2)))\n",
    "\n",
    "# Adding third convolutional layer\n",
    "model1.add(Conv2D(64, (3, 3), activation = 'relu'))\n",
    "model1.add(MaxPooling2D(pool_size = (2, 2)))\n",
    "\n",
    "# Flattening\n",
    "model1.add(Flatten())\n",
    "\n",
    "# Step 4 - Fully connected dense layers\n",
    "model1.add(Dense(units = 256, activation = 'relu'))\n",
    "model1.add(Dense(units = 10, activation = 'softmax'))\n",
    "\n",
    "model1.summary()"
   ]
  },
  {
   "cell_type": "code",
   "execution_count": 31,
   "metadata": {},
   "outputs": [
    {
     "name": "stderr",
     "output_type": "stream",
     "text": [
      "C:\\Users\\SREEHARI\\anaconda3\\envs\\tfgpu\\lib\\site-packages\\tensorflow\\python\\keras\\optimizer_v2\\optimizer_v2.py:374: UserWarning: The `lr` argument is deprecated, use `learning_rate` instead.\n",
      "  warnings.warn(\n",
      "C:\\Users\\SREEHARI\\anaconda3\\envs\\tfgpu\\lib\\site-packages\\tensorflow\\python\\keras\\engine\\training.py:1969: UserWarning: `Model.fit_generator` is deprecated and will be removed in a future version. Please use `Model.fit`, which supports generators.\n",
      "  warnings.warn('`Model.fit_generator` is deprecated and '\n"
     ]
    },
    {
     "name": "stdout",
     "output_type": "stream",
     "text": [
      "Epoch 1/20\n",
      "7/7 [==============================] - 5s 567ms/step - loss: 2.3038 - accuracy: 0.0968 - val_loss: 2.3016 - val_accuracy: 0.1002\n",
      "Epoch 2/20\n",
      "7/7 [==============================] - 2s 236ms/step - loss: 2.3000 - accuracy: 0.1204 - val_loss: 2.2989 - val_accuracy: 0.1198\n",
      "Epoch 3/20\n",
      "7/7 [==============================] - 1s 179ms/step - loss: 2.2966 - accuracy: 0.1264 - val_loss: 2.2969 - val_accuracy: 0.1002\n",
      "Epoch 4/20\n",
      "7/7 [==============================] - 1s 206ms/step - loss: 2.2923 - accuracy: 0.1028 - val_loss: 2.2933 - val_accuracy: 0.1100\n",
      "Epoch 5/20\n",
      "7/7 [==============================] - 1s 199ms/step - loss: 2.2872 - accuracy: 0.2002 - val_loss: 2.2897 - val_accuracy: 0.1638\n",
      "Epoch 6/20\n",
      "7/7 [==============================] - 1s 216ms/step - loss: 2.2799 - accuracy: 0.2069 - val_loss: 2.2835 - val_accuracy: 0.2714\n",
      "Epoch 7/20\n",
      "7/7 [==============================] - 1s 204ms/step - loss: 2.2695 - accuracy: 0.3424 - val_loss: 2.2742 - val_accuracy: 0.3056\n",
      "Epoch 8/20\n",
      "7/7 [==============================] - 1s 205ms/step - loss: 2.2545 - accuracy: 0.3200 - val_loss: 2.2590 - val_accuracy: 0.3105\n",
      "Epoch 9/20\n",
      "7/7 [==============================] - 1s 229ms/step - loss: 2.2257 - accuracy: 0.3757 - val_loss: 2.2331 - val_accuracy: 0.3227\n",
      "Epoch 10/20\n",
      "7/7 [==============================] - 2s 213ms/step - loss: 2.1837 - accuracy: 0.3351 - val_loss: 2.1906 - val_accuracy: 0.2567\n",
      "Epoch 11/20\n",
      "7/7 [==============================] - 1s 194ms/step - loss: 2.0910 - accuracy: 0.3684 - val_loss: 2.0956 - val_accuracy: 0.3032\n",
      "Epoch 12/20\n",
      "7/7 [==============================] - 2s 257ms/step - loss: 1.8907 - accuracy: 0.4132 - val_loss: 1.8616 - val_accuracy: 0.4450\n",
      "Epoch 13/20\n",
      "7/7 [==============================] - 2s 266ms/step - loss: 1.5601 - accuracy: 0.5535 - val_loss: 1.5730 - val_accuracy: 0.4890\n",
      "Epoch 14/20\n",
      "7/7 [==============================] - 2s 222ms/step - loss: 1.1122 - accuracy: 0.6407 - val_loss: 1.4188 - val_accuracy: 0.4939\n",
      "Epoch 15/20\n",
      "7/7 [==============================] - 1s 209ms/step - loss: 0.8258 - accuracy: 0.7205 - val_loss: 1.3998 - val_accuracy: 0.5403\n",
      "Epoch 16/20\n",
      "7/7 [==============================] - 2s 231ms/step - loss: 0.6673 - accuracy: 0.7871 - val_loss: 1.3344 - val_accuracy: 0.5770\n",
      "Epoch 17/20\n",
      "7/7 [==============================] - 1s 197ms/step - loss: 0.5758 - accuracy: 0.8143 - val_loss: 1.5058 - val_accuracy: 0.5575\n",
      "Epoch 18/20\n",
      "7/7 [==============================] - 1s 194ms/step - loss: 0.4815 - accuracy: 0.8524 - val_loss: 1.5777 - val_accuracy: 0.5892\n",
      "Epoch 19/20\n",
      "7/7 [==============================] - 1s 196ms/step - loss: 0.4185 - accuracy: 0.8633 - val_loss: 1.5608 - val_accuracy: 0.5892\n",
      "Epoch 20/20\n",
      "7/7 [==============================] - 2s 215ms/step - loss: 0.3692 - accuracy: 0.8814 - val_loss: 1.6297 - val_accuracy: 0.6137\n",
      "Execution time is 35 seconds\n"
     ]
    }
   ],
   "source": [
    "# model1 compilation\n",
    "model1.compile(optimizer =SGD(lr=0.01, momentum = 0.9), loss = 'categorical_crossentropy', metrics = ['accuracy'])\n",
    "\n",
    "########################\n",
    "# fit model and train\n",
    "########################\n",
    "\n",
    "import time\n",
    "start = time.time()\n",
    "\n",
    "model1.fit_generator(\n",
    "        train_generator, \n",
    "        steps_per_epoch = len(train_generator), #total number of batches in one train epoch(train observation/batch size; also called iterations per epoch)\n",
    "        epochs=20,\n",
    "        validation_data = validation_generator,\n",
    "        validation_steps = len(validation_generator), #total number of batches in validation(validation observation/batch size)\n",
    "        verbose=1)\n",
    "\n",
    "model1.save_weights('m1_Sign_Language_20epochs.h5')\n",
    "\n",
    "end = time.time()\n",
    "print(\"Execution time is\", int(end - start), \"seconds\")"
   ]
  },
  {
   "cell_type": "code",
   "execution_count": 36,
   "metadata": {},
   "outputs": [
    {
     "name": "stdout",
     "output_type": "stream",
     "text": [
      "Epoch 1/50\n",
      "7/7 [==============================] - 2s 202ms/step - loss: 0.2701 - accuracy: 0.9105 - val_loss: 1.7609 - val_accuracy: 0.6112\n",
      "Epoch 2/50\n",
      "7/7 [==============================] - 1s 175ms/step - loss: 0.2540 - accuracy: 0.9177 - val_loss: 1.9780 - val_accuracy: 0.6161\n",
      "Epoch 3/50\n",
      "7/7 [==============================] - 1s 186ms/step - loss: 0.2605 - accuracy: 0.9171 - val_loss: 1.7027 - val_accuracy: 0.6112\n",
      "Epoch 4/50\n",
      "7/7 [==============================] - 1s 188ms/step - loss: 0.2630 - accuracy: 0.9093 - val_loss: 1.6543 - val_accuracy: 0.5990\n",
      "Epoch 5/50\n",
      "7/7 [==============================] - 1s 207ms/step - loss: 0.2267 - accuracy: 0.9359 - val_loss: 1.6983 - val_accuracy: 0.6161\n",
      "Epoch 6/50\n",
      "7/7 [==============================] - 1s 184ms/step - loss: 0.1929 - accuracy: 0.9437 - val_loss: 1.7521 - val_accuracy: 0.6186\n",
      "Epoch 7/50\n",
      "7/7 [==============================] - 1s 190ms/step - loss: 0.1539 - accuracy: 0.9528 - val_loss: 1.5520 - val_accuracy: 0.6430\n",
      "Epoch 8/50\n",
      "7/7 [==============================] - 2s 223ms/step - loss: 0.1382 - accuracy: 0.9637 - val_loss: 1.9073 - val_accuracy: 0.6235\n",
      "Epoch 9/50\n",
      "7/7 [==============================] - 1s 172ms/step - loss: 0.1105 - accuracy: 0.9704 - val_loss: 1.6368 - val_accuracy: 0.6504\n",
      "Epoch 10/50\n",
      "7/7 [==============================] - 1s 189ms/step - loss: 0.1013 - accuracy: 0.9752 - val_loss: 1.7403 - val_accuracy: 0.6406\n",
      "Epoch 11/50\n",
      "7/7 [==============================] - 1s 189ms/step - loss: 0.0931 - accuracy: 0.9800 - val_loss: 1.7475 - val_accuracy: 0.6308\n",
      "Epoch 12/50\n",
      "7/7 [==============================] - 1s 206ms/step - loss: 0.0701 - accuracy: 0.9825 - val_loss: 1.7812 - val_accuracy: 0.6381\n",
      "Epoch 13/50\n",
      "7/7 [==============================] - 1s 181ms/step - loss: 0.0591 - accuracy: 0.9885 - val_loss: 1.7622 - val_accuracy: 0.6430\n",
      "Epoch 14/50\n",
      "7/7 [==============================] - 1s 213ms/step - loss: 0.0466 - accuracy: 0.9897 - val_loss: 1.8009 - val_accuracy: 0.6381\n",
      "Epoch 15/50\n",
      "7/7 [==============================] - 1s 190ms/step - loss: 0.0463 - accuracy: 0.9921 - val_loss: 1.8864 - val_accuracy: 0.6357\n",
      "Epoch 16/50\n",
      "7/7 [==============================] - 1s 194ms/step - loss: 0.0398 - accuracy: 0.9903 - val_loss: 2.0000 - val_accuracy: 0.6455\n",
      "Epoch 17/50\n",
      "7/7 [==============================] - 1s 186ms/step - loss: 0.0524 - accuracy: 0.9879 - val_loss: 1.7855 - val_accuracy: 0.6675\n",
      "Epoch 18/50\n",
      "7/7 [==============================] - 1s 186ms/step - loss: 0.0410 - accuracy: 0.9927 - val_loss: 1.6690 - val_accuracy: 0.6650\n",
      "Epoch 19/50\n",
      "7/7 [==============================] - 1s 167ms/step - loss: 0.0470 - accuracy: 0.9891 - val_loss: 1.9975 - val_accuracy: 0.6430\n",
      "Epoch 20/50\n",
      "7/7 [==============================] - 1s 192ms/step - loss: 0.0530 - accuracy: 0.9855 - val_loss: 2.0649 - val_accuracy: 0.6284\n",
      "Epoch 21/50\n",
      "7/7 [==============================] - 1s 191ms/step - loss: 0.0415 - accuracy: 0.9897 - val_loss: 1.9713 - val_accuracy: 0.6504\n",
      "Epoch 22/50\n",
      "7/7 [==============================] - 1s 192ms/step - loss: 0.0320 - accuracy: 0.9946 - val_loss: 1.8674 - val_accuracy: 0.6504\n",
      "Epoch 23/50\n",
      "7/7 [==============================] - 1s 192ms/step - loss: 0.0257 - accuracy: 0.9952 - val_loss: 1.8851 - val_accuracy: 0.6650\n",
      "Epoch 24/50\n",
      "7/7 [==============================] - 1s 200ms/step - loss: 0.0158 - accuracy: 0.9988 - val_loss: 1.8440 - val_accuracy: 0.6553\n",
      "Epoch 25/50\n",
      "7/7 [==============================] - 2s 222ms/step - loss: 0.0120 - accuracy: 0.9994 - val_loss: 1.9458 - val_accuracy: 0.6724\n",
      "Epoch 26/50\n",
      "7/7 [==============================] - 1s 192ms/step - loss: 0.0084 - accuracy: 1.0000 - val_loss: 1.9281 - val_accuracy: 0.6626\n",
      "Epoch 27/50\n",
      "7/7 [==============================] - 1s 189ms/step - loss: 0.0062 - accuracy: 1.0000 - val_loss: 1.8904 - val_accuracy: 0.6626\n",
      "Epoch 28/50\n",
      "7/7 [==============================] - 1s 201ms/step - loss: 0.0050 - accuracy: 1.0000 - val_loss: 1.9251 - val_accuracy: 0.6577\n",
      "Epoch 29/50\n",
      "7/7 [==============================] - 1s 193ms/step - loss: 0.0043 - accuracy: 1.0000 - val_loss: 1.9287 - val_accuracy: 0.6724\n",
      "Epoch 30/50\n",
      "7/7 [==============================] - 1s 191ms/step - loss: 0.0037 - accuracy: 1.0000 - val_loss: 1.9202 - val_accuracy: 0.6626\n",
      "Epoch 31/50\n",
      "7/7 [==============================] - 1s 229ms/step - loss: 0.0034 - accuracy: 1.0000 - val_loss: 1.9260 - val_accuracy: 0.6601\n",
      "Epoch 32/50\n",
      "7/7 [==============================] - 1s 189ms/step - loss: 0.0032 - accuracy: 1.0000 - val_loss: 1.9581 - val_accuracy: 0.6675\n",
      "Epoch 33/50\n",
      "7/7 [==============================] - 1s 179ms/step - loss: 0.0029 - accuracy: 1.0000 - val_loss: 1.9077 - val_accuracy: 0.6748\n",
      "Epoch 34/50\n",
      "7/7 [==============================] - 1s 203ms/step - loss: 0.0029 - accuracy: 1.0000 - val_loss: 1.9231 - val_accuracy: 0.6773\n",
      "Epoch 35/50\n",
      "7/7 [==============================] - 1s 184ms/step - loss: 0.0027 - accuracy: 1.0000 - val_loss: 1.9625 - val_accuracy: 0.6748\n",
      "Epoch 36/50\n",
      "7/7 [==============================] - 1s 191ms/step - loss: 0.0025 - accuracy: 1.0000 - val_loss: 1.9637 - val_accuracy: 0.6748\n",
      "Epoch 37/50\n",
      "7/7 [==============================] - 2s 205ms/step - loss: 0.0023 - accuracy: 1.0000 - val_loss: 1.9604 - val_accuracy: 0.6748\n",
      "Epoch 38/50\n",
      "7/7 [==============================] - 2s 219ms/step - loss: 0.0022 - accuracy: 1.0000 - val_loss: 1.9797 - val_accuracy: 0.6748\n",
      "Epoch 39/50\n",
      "7/7 [==============================] - 2s 206ms/step - loss: 0.0020 - accuracy: 1.0000 - val_loss: 1.9817 - val_accuracy: 0.6748\n",
      "Epoch 40/50\n",
      "7/7 [==============================] - 1s 194ms/step - loss: 0.0020 - accuracy: 1.0000 - val_loss: 1.9825 - val_accuracy: 0.6773\n",
      "Epoch 41/50\n",
      "7/7 [==============================] - 1s 178ms/step - loss: 0.0019 - accuracy: 1.0000 - val_loss: 1.9555 - val_accuracy: 0.6773\n",
      "Epoch 42/50\n",
      "7/7 [==============================] - 1s 206ms/step - loss: 0.0018 - accuracy: 1.0000 - val_loss: 1.9835 - val_accuracy: 0.6773\n",
      "Epoch 43/50\n",
      "7/7 [==============================] - 1s 193ms/step - loss: 0.0018 - accuracy: 1.0000 - val_loss: 1.9987 - val_accuracy: 0.6797\n",
      "Epoch 44/50\n",
      "7/7 [==============================] - 1s 174ms/step - loss: 0.0017 - accuracy: 1.0000 - val_loss: 1.9918 - val_accuracy: 0.6797\n",
      "Epoch 45/50\n",
      "7/7 [==============================] - 2s 231ms/step - loss: 0.0016 - accuracy: 1.0000 - val_loss: 2.0169 - val_accuracy: 0.6797\n",
      "Epoch 46/50\n",
      "7/7 [==============================] - 1s 186ms/step - loss: 0.0016 - accuracy: 1.0000 - val_loss: 2.0047 - val_accuracy: 0.6797\n",
      "Epoch 47/50\n",
      "7/7 [==============================] - 1s 189ms/step - loss: 0.0015 - accuracy: 1.0000 - val_loss: 1.9996 - val_accuracy: 0.6773\n",
      "Epoch 48/50\n",
      "7/7 [==============================] - 1s 188ms/step - loss: 0.0015 - accuracy: 1.0000 - val_loss: 2.0218 - val_accuracy: 0.6797\n",
      "Epoch 49/50\n",
      "7/7 [==============================] - 1s 189ms/step - loss: 0.0015 - accuracy: 1.0000 - val_loss: 2.0461 - val_accuracy: 0.6773\n",
      "Epoch 50/50\n",
      "7/7 [==============================] - 1s 178ms/step - loss: 0.0014 - accuracy: 1.0000 - val_loss: 2.0265 - val_accuracy: 0.6870\n",
      "Execution time is 71 seconds\n"
     ]
    }
   ],
   "source": [
    "# model1 compilation\n",
    "model1.compile(optimizer =SGD(lr=0.01, momentum = 0.9), loss = 'categorical_crossentropy', metrics = ['accuracy'])\n",
    "\n",
    "########################\n",
    "# fit model and train\n",
    "########################\n",
    "\n",
    "import time\n",
    "start = time.time()\n",
    "\n",
    "model1.fit_generator(\n",
    "        train_generator, \n",
    "        steps_per_epoch = len(train_generator), #total number of batches in one train epoch(train observation/batch size; also called iterations per epoch)\n",
    "        epochs=50,\n",
    "        validation_data = validation_generator,\n",
    "        validation_steps = len(validation_generator), #total number of batches in validation(validation observation/batch size)\n",
    "        verbose=1)\n",
    "\n",
    "model1.save_weights('m1_Sign_Language_50epochs.h5')\n",
    "\n",
    "end = time.time()\n",
    "print(\"Execution time is\", int(end - start), \"seconds\")"
   ]
  },
  {
   "cell_type": "code",
   "execution_count": 37,
   "metadata": {},
   "outputs": [
    {
     "name": "stdout",
     "output_type": "stream",
     "text": [
      "Epoch 1/2\n",
      "7/7 [==============================] - 2s 244ms/step - loss: 0.3322 - accuracy: 0.8905 - val_loss: 1.3802 - val_accuracy: 0.6088\n",
      "Epoch 2/2\n",
      "7/7 [==============================] - 1s 208ms/step - loss: 0.3202 - accuracy: 0.8935 - val_loss: 1.8296 - val_accuracy: 0.5966\n"
     ]
    },
    {
     "data": {
      "text/plain": [
       "<tensorflow.python.keras.callbacks.History at 0x1fce6b79520>"
      ]
     },
     "execution_count": 37,
     "metadata": {},
     "output_type": "execute_result"
    }
   ],
   "source": [
    "model1.load_weights(\"C:\\\\Users\\\\SREEHARI\\\\Desktop\\\\internship\\\\my training\\\\Chapter11_CNN\\\\m1_Sign_Language_20epochs.h5\")\n",
    "\n",
    "model1.fit_generator(\n",
    "        train_generator, \n",
    "        steps_per_epoch = len(train_generator), \n",
    "        epochs=2,\n",
    "        validation_data = validation_generator,\n",
    "        validation_steps = len(validation_generator), \n",
    "        verbose=1)"
   ]
  },
  {
   "cell_type": "code",
   "execution_count": 38,
   "metadata": {},
   "outputs": [
    {
     "name": "stdout",
     "output_type": "stream",
     "text": [
      "Epoch 1/2\n",
      "7/7 [==============================] - 2s 209ms/step - loss: 0.0275 - accuracy: 0.9903 - val_loss: 2.6372 - val_accuracy: 0.6381\n",
      "Epoch 2/2\n",
      "7/7 [==============================] - 1s 184ms/step - loss: 0.0712 - accuracy: 0.9794 - val_loss: 2.1125 - val_accuracy: 0.6479\n"
     ]
    },
    {
     "data": {
      "text/plain": [
       "<tensorflow.python.keras.callbacks.History at 0x1fc9c2c0490>"
      ]
     },
     "execution_count": 38,
     "metadata": {},
     "output_type": "execute_result"
    }
   ],
   "source": [
    "model1.load_weights(\"C:\\\\Users\\\\SREEHARI\\\\Desktop\\\\internship\\\\my training\\\\Chapter11_CNN\\\\m1_Sign_Language_50epochs.h5\")\n",
    "\n",
    "model1.fit_generator(\n",
    "        train_generator, \n",
    "        steps_per_epoch = len(train_generator), \n",
    "        epochs=2,\n",
    "        validation_data = validation_generator,\n",
    "        validation_steps = len(validation_generator), \n",
    "        verbose=1)"
   ]
  },
  {
   "cell_type": "markdown",
   "metadata": {},
   "source": [
    "# Model2 - Model with Receptive field "
   ]
  },
  {
   "cell_type": "markdown",
   "metadata": {},
   "source": [
    "Change the image shape to 64X64 "
   ]
  },
  {
   "cell_type": "code",
   "execution_count": 39,
   "metadata": {},
   "outputs": [
    {
     "name": "stdout",
     "output_type": "stream",
     "text": [
      "Found 1653 images belonging to 10 classes.\n",
      "Found 409 images belonging to 10 classes.\n"
     ]
    }
   ],
   "source": [
    "########################\n",
    "# Generators\n",
    "########################\n",
    "\n",
    "from tensorflow.keras.preprocessing.image import ImageDataGenerator\n",
    "\n",
    "batch_size = 256\n",
    "target_size = (64,64)\n",
    "\n",
    "\n",
    "########################\n",
    "# Data Directory\n",
    "########################\n",
    "\n",
    "data_dir = location  # this is the image datasets directory\n",
    "\n",
    "########################\n",
    "# Data generator : Any preprocessing options/steps can be  defined here\n",
    "########################\n",
    "datagen = ImageDataGenerator(rescale = 1./255,  # scaling the images matrix(standard preprocessing step)\n",
    "                             validation_split=0.2) # set validation split\n",
    "\n",
    "########################\n",
    "# Train generator\n",
    "########################\n",
    "train_generator = datagen.flow_from_directory(\n",
    "    data_dir,\n",
    "    target_size=target_size,   # resizing the input images to a specific size\n",
    "    batch_size=batch_size,     # Batch size, iterator will generate a random batch with this size\n",
    "    color_mode = 'grayscale',  # keeping the channel to grayscale for easy calculations\n",
    "    class_mode='categorical',\n",
    "    shuffle=True,\n",
    "    subset=\"training\") # set as training data\n",
    "\n",
    "########################\n",
    "# Validation generator\n",
    "########################\n",
    "\n",
    "validation_generator = datagen.flow_from_directory(\n",
    "    data_dir, # same directory as training data\n",
    "    target_size=target_size,\n",
    "    batch_size=batch_size,\n",
    "    color_mode = 'grayscale', \n",
    "    class_mode='categorical',\n",
    "    shuffle=True,\n",
    "    subset=\"validation\") # set as validation data"
   ]
  },
  {
   "cell_type": "code",
   "execution_count": 40,
   "metadata": {},
   "outputs": [
    {
     "name": "stdout",
     "output_type": "stream",
     "text": [
      "Model: \"sequential_8\"\n",
      "_________________________________________________________________\n",
      "Layer (type)                 Output Shape              Param #   \n",
      "=================================================================\n",
      "conv2d_11 (Conv2D)           (None, 62, 62, 16)        160       \n",
      "_________________________________________________________________\n",
      "conv2d_12 (Conv2D)           (None, 60, 60, 32)        4640      \n",
      "_________________________________________________________________\n",
      "max_pooling2d_5 (MaxPooling2 (None, 30, 30, 32)        0         \n",
      "_________________________________________________________________\n",
      "conv2d_13 (Conv2D)           (None, 28, 28, 64)        18496     \n",
      "_________________________________________________________________\n",
      "conv2d_14 (Conv2D)           (None, 26, 26, 64)        36928     \n",
      "_________________________________________________________________\n",
      "max_pooling2d_6 (MaxPooling2 (None, 13, 13, 64)        0         \n",
      "_________________________________________________________________\n",
      "conv2d_15 (Conv2D)           (None, 11, 11, 128)       73856     \n",
      "_________________________________________________________________\n",
      "conv2d_16 (Conv2D)           (None, 9, 9, 128)         147584    \n",
      "_________________________________________________________________\n",
      "max_pooling2d_7 (MaxPooling2 (None, 4, 4, 128)         0         \n",
      "_________________________________________________________________\n",
      "flatten_2 (Flatten)          (None, 2048)              0         \n",
      "_________________________________________________________________\n",
      "dense_7 (Dense)              (None, 32)                65568     \n",
      "_________________________________________________________________\n",
      "dense_8 (Dense)              (None, 10)                330       \n",
      "=================================================================\n",
      "Total params: 347,562\n",
      "Trainable params: 347,562\n",
      "Non-trainable params: 0\n",
      "_________________________________________________________________\n"
     ]
    }
   ],
   "source": [
    "model2 = Sequential()\n",
    "\n",
    "# Convolution and Pooling layers\n",
    "model2.add(Conv2D(16, (3, 3), input_shape = (64, 64, 1), activation = 'relu'))\n",
    "model2.add(Conv2D(32, (3, 3), activation = 'relu'))\n",
    "model2.add(MaxPooling2D(pool_size = (2, 2)))\n",
    "\n",
    "\n",
    "model2.add(Conv2D(64, (3, 3), activation = 'relu'))\n",
    "model2.add(Conv2D(64, (3, 3), activation = 'relu'))\n",
    "model2.add(MaxPooling2D(pool_size = (2, 2)))\n",
    "\n",
    "model2.add(Conv2D(128, (3, 3), activation = 'relu'))\n",
    "model2.add(Conv2D(128, (3, 3), activation = 'relu'))\n",
    "model2.add(MaxPooling2D(pool_size = (2, 2)))\n",
    "\n",
    "\n",
    "# Flattening and  Fully connected dense layers\n",
    "model2.add(Flatten())\n",
    "model2.add(Dense(units = 32, activation = 'relu'))\n",
    "model2.add(Dense(units = 10, activation = 'softmax'))\n",
    "\n",
    "model2.summary()"
   ]
  },
  {
   "cell_type": "code",
   "execution_count": 41,
   "metadata": {},
   "outputs": [
    {
     "name": "stdout",
     "output_type": "stream",
     "text": [
      "Epoch 1/50\n",
      "7/7 [==============================] - 4s 348ms/step - loss: 2.3024 - accuracy: 0.1295 - val_loss: 2.3020 - val_accuracy: 0.1271\n",
      "Epoch 2/50\n",
      "7/7 [==============================] - 1s 172ms/step - loss: 2.3020 - accuracy: 0.1234 - val_loss: 2.3017 - val_accuracy: 0.1027\n",
      "Epoch 3/50\n",
      "7/7 [==============================] - 1s 174ms/step - loss: 2.3013 - accuracy: 0.1331 - val_loss: 2.3013 - val_accuracy: 0.1418\n",
      "Epoch 4/50\n",
      "7/7 [==============================] - 1s 187ms/step - loss: 2.3008 - accuracy: 0.1095 - val_loss: 2.3010 - val_accuracy: 0.1027\n",
      "Epoch 5/50\n",
      "7/7 [==============================] - 1s 165ms/step - loss: 2.3004 - accuracy: 0.1004 - val_loss: 2.3006 - val_accuracy: 0.1125\n",
      "Epoch 6/50\n",
      "7/7 [==============================] - 1s 185ms/step - loss: 2.2998 - accuracy: 0.1385 - val_loss: 2.3003 - val_accuracy: 0.1345\n",
      "Epoch 7/50\n",
      "7/7 [==============================] - 1s 188ms/step - loss: 2.2995 - accuracy: 0.1875 - val_loss: 2.2999 - val_accuracy: 0.1687\n",
      "Epoch 8/50\n",
      "7/7 [==============================] - 1s 185ms/step - loss: 2.2988 - accuracy: 0.1627 - val_loss: 2.2994 - val_accuracy: 0.1247\n",
      "Epoch 9/50\n",
      "7/7 [==============================] - 1s 184ms/step - loss: 2.2979 - accuracy: 0.1240 - val_loss: 2.2987 - val_accuracy: 0.1296\n",
      "Epoch 10/50\n",
      "7/7 [==============================] - 1s 183ms/step - loss: 2.2970 - accuracy: 0.1730 - val_loss: 2.2978 - val_accuracy: 0.1711\n",
      "Epoch 11/50\n",
      "7/7 [==============================] - 1s 196ms/step - loss: 2.2957 - accuracy: 0.2129 - val_loss: 2.2967 - val_accuracy: 0.1980\n",
      "Epoch 12/50\n",
      "7/7 [==============================] - 1s 182ms/step - loss: 2.2942 - accuracy: 0.1676 - val_loss: 2.2954 - val_accuracy: 0.1907\n",
      "Epoch 13/50\n",
      "7/7 [==============================] - 1s 183ms/step - loss: 2.2920 - accuracy: 0.1658 - val_loss: 2.2936 - val_accuracy: 0.1076\n",
      "Epoch 14/50\n",
      "7/7 [==============================] - 1s 174ms/step - loss: 2.2897 - accuracy: 0.1525 - val_loss: 2.2910 - val_accuracy: 0.1834\n",
      "Epoch 15/50\n",
      "7/7 [==============================] - 1s 185ms/step - loss: 2.2852 - accuracy: 0.1652 - val_loss: 2.2869 - val_accuracy: 0.1663\n",
      "Epoch 16/50\n",
      "7/7 [==============================] - 1s 181ms/step - loss: 2.2787 - accuracy: 0.2535 - val_loss: 2.2805 - val_accuracy: 0.2836\n",
      "Epoch 17/50\n",
      "7/7 [==============================] - 1s 166ms/step - loss: 2.2688 - accuracy: 0.2807 - val_loss: 2.2690 - val_accuracy: 0.2274\n",
      "Epoch 18/50\n",
      "7/7 [==============================] - 1s 182ms/step - loss: 2.2485 - accuracy: 0.2886 - val_loss: 2.2456 - val_accuracy: 0.2543\n",
      "Epoch 19/50\n",
      "7/7 [==============================] - 1s 170ms/step - loss: 2.2037 - accuracy: 0.3351 - val_loss: 2.1924 - val_accuracy: 0.3350\n",
      "Epoch 20/50\n",
      "7/7 [==============================] - 1s 160ms/step - loss: 2.1573 - accuracy: 0.2892 - val_loss: 2.2447 - val_accuracy: 0.1565\n",
      "Epoch 21/50\n",
      "7/7 [==============================] - 1s 183ms/step - loss: 2.0982 - accuracy: 0.2880 - val_loss: 2.0451 - val_accuracy: 0.2323\n",
      "Epoch 22/50\n",
      "7/7 [==============================] - 1s 186ms/step - loss: 1.7490 - accuracy: 0.4652 - val_loss: 1.6415 - val_accuracy: 0.4523\n",
      "Epoch 23/50\n",
      "7/7 [==============================] - 1s 171ms/step - loss: 2.4244 - accuracy: 0.2946 - val_loss: 2.2950 - val_accuracy: 0.1051\n",
      "Epoch 24/50\n",
      "7/7 [==============================] - 1s 184ms/step - loss: 2.3014 - accuracy: 0.0992 - val_loss: 2.3047 - val_accuracy: 0.0978\n",
      "Epoch 25/50\n",
      "7/7 [==============================] - 1s 197ms/step - loss: 2.3049 - accuracy: 0.0974 - val_loss: 2.3042 - val_accuracy: 0.1002\n",
      "Epoch 26/50\n",
      "7/7 [==============================] - 1s 198ms/step - loss: 2.3036 - accuracy: 0.1004 - val_loss: 2.3029 - val_accuracy: 0.1002\n",
      "Epoch 27/50\n",
      "7/7 [==============================] - 1s 208ms/step - loss: 2.3027 - accuracy: 0.1004 - val_loss: 2.3025 - val_accuracy: 0.1002\n",
      "Epoch 28/50\n",
      "7/7 [==============================] - 1s 165ms/step - loss: 2.3023 - accuracy: 0.1071 - val_loss: 2.3022 - val_accuracy: 0.1222\n",
      "Epoch 29/50\n",
      "7/7 [==============================] - 1s 181ms/step - loss: 2.3020 - accuracy: 0.1174 - val_loss: 2.3020 - val_accuracy: 0.0978\n",
      "Epoch 30/50\n",
      "7/7 [==============================] - 1s 173ms/step - loss: 2.3017 - accuracy: 0.0992 - val_loss: 2.3020 - val_accuracy: 0.0978\n",
      "Epoch 31/50\n",
      "7/7 [==============================] - 1s 185ms/step - loss: 2.3016 - accuracy: 0.0992 - val_loss: 2.3017 - val_accuracy: 0.1198\n",
      "Epoch 32/50\n",
      "7/7 [==============================] - 1s 170ms/step - loss: 2.3011 - accuracy: 0.1373 - val_loss: 2.3014 - val_accuracy: 0.1418\n",
      "Epoch 33/50\n",
      "7/7 [==============================] - 1s 176ms/step - loss: 2.3008 - accuracy: 0.1168 - val_loss: 2.3012 - val_accuracy: 0.1198\n",
      "Epoch 34/50\n",
      "7/7 [==============================] - 1s 191ms/step - loss: 2.3006 - accuracy: 0.1149 - val_loss: 2.3009 - val_accuracy: 0.1002\n",
      "Epoch 35/50\n",
      "7/7 [==============================] - 1s 185ms/step - loss: 2.3002 - accuracy: 0.1228 - val_loss: 2.3006 - val_accuracy: 0.1369\n",
      "Epoch 36/50\n",
      "7/7 [==============================] - 1s 179ms/step - loss: 2.2998 - accuracy: 0.1379 - val_loss: 2.3002 - val_accuracy: 0.1002\n",
      "Epoch 37/50\n",
      "7/7 [==============================] - 1s 186ms/step - loss: 2.2994 - accuracy: 0.1192 - val_loss: 2.2999 - val_accuracy: 0.1125\n",
      "Epoch 38/50\n",
      "7/7 [==============================] - 1s 184ms/step - loss: 2.2987 - accuracy: 0.1270 - val_loss: 2.2993 - val_accuracy: 0.1663\n",
      "Epoch 39/50\n",
      "7/7 [==============================] - 1s 171ms/step - loss: 2.2978 - accuracy: 0.1881 - val_loss: 2.2984 - val_accuracy: 0.1467\n",
      "Epoch 40/50\n",
      "7/7 [==============================] - 1s 182ms/step - loss: 2.2966 - accuracy: 0.1331 - val_loss: 2.2972 - val_accuracy: 0.1540\n",
      "Epoch 41/50\n",
      "7/7 [==============================] - 1s 183ms/step - loss: 2.2957 - accuracy: 0.1216 - val_loss: 2.2963 - val_accuracy: 0.1027\n",
      "Epoch 42/50\n",
      "7/7 [==============================] - 1s 183ms/step - loss: 2.2933 - accuracy: 0.1349 - val_loss: 2.2947 - val_accuracy: 0.1125\n",
      "Epoch 43/50\n",
      "7/7 [==============================] - 1s 197ms/step - loss: 2.2912 - accuracy: 0.1373 - val_loss: 2.2917 - val_accuracy: 0.1394\n",
      "Epoch 44/50\n",
      "7/7 [==============================] - 1s 158ms/step - loss: 2.2864 - accuracy: 0.1168 - val_loss: 2.2907 - val_accuracy: 0.1271\n",
      "Epoch 45/50\n",
      "7/7 [==============================] - 2s 238ms/step - loss: 2.2852 - accuracy: 0.1331 - val_loss: 2.2785 - val_accuracy: 0.0782\n",
      "Epoch 46/50\n",
      "7/7 [==============================] - 1s 183ms/step - loss: 2.2691 - accuracy: 0.1627 - val_loss: 2.2831 - val_accuracy: 0.1027\n",
      "Epoch 47/50\n",
      "7/7 [==============================] - 1s 174ms/step - loss: 2.2639 - accuracy: 0.1083 - val_loss: 2.2731 - val_accuracy: 0.1345\n",
      "Epoch 48/50\n",
      "7/7 [==============================] - 1s 204ms/step - loss: 2.2738 - accuracy: 0.1307 - val_loss: 2.2445 - val_accuracy: 0.1174\n",
      "Epoch 49/50\n",
      "7/7 [==============================] - 2s 228ms/step - loss: 2.2591 - accuracy: 0.1652 - val_loss: 2.2575 - val_accuracy: 0.1760\n",
      "Epoch 50/50\n",
      "7/7 [==============================] - 1s 196ms/step - loss: 2.2400 - accuracy: 0.1827 - val_loss: 2.2336 - val_accuracy: 0.2078\n",
      "Execution time is 69 seconds\n"
     ]
    }
   ],
   "source": [
    "# model compilation\n",
    "model2.compile(optimizer =SGD(lr=0.01, momentum = 0.9), loss = 'categorical_crossentropy', metrics = ['accuracy'])\n",
    "\n",
    "########################\n",
    "# fit model and train\n",
    "########################\n",
    "\n",
    "import time\n",
    "start = time.time()\n",
    "\n",
    "model2.fit_generator(\n",
    "        train_generator, \n",
    "        steps_per_epoch = len(train_generator), #total number of batches in one train epoch(train observation/batch size; also called iterations per epoch)\n",
    "        epochs=50,\n",
    "        validation_data = validation_generator,\n",
    "        validation_steps = len(validation_generator), #total number of batches in validation(validation observation/batch size)\n",
    "        verbose=1)\n",
    "\n",
    "model2.save_weights('m2_Receptive_field_50epochs.h5')\n",
    "\n",
    "end = time.time()\n",
    "print(\"Execution time is\", int(end - start), \"seconds\")"
   ]
  },
  {
   "cell_type": "code",
   "execution_count": 45,
   "metadata": {},
   "outputs": [
    {
     "name": "stdout",
     "output_type": "stream",
     "text": [
      "Epoch 1/2\n",
      "7/7 [==============================] - 2s 205ms/step - loss: 2.1702 - accuracy: 0.2559 - val_loss: 2.1176 - val_accuracy: 0.2298\n",
      "Epoch 2/2\n",
      "7/7 [==============================] - 1s 185ms/step - loss: 1.9981 - accuracy: 0.3249 - val_loss: 1.9387 - val_accuracy: 0.3276\n"
     ]
    },
    {
     "data": {
      "text/plain": [
       "<tensorflow.python.keras.callbacks.History at 0x1fd830419a0>"
      ]
     },
     "execution_count": 45,
     "metadata": {},
     "output_type": "execute_result"
    }
   ],
   "source": [
    "model2.load_weights(\"C:\\\\Users\\\\SREEHARI\\\\Desktop\\\\internship\\\\my training\\\\Chapter11_CNN\\\\m2_Receptive_field_50epochs.h5\")\n",
    "\n",
    "model2.fit_generator(\n",
    "        train_generator, \n",
    "        steps_per_epoch = len(train_generator), #total number of batches in one train epoch(train observation/batch size; also called iterations per epoch)\n",
    "        epochs=2,\n",
    "        validation_data = validation_generator,\n",
    "        validation_steps = len(validation_generator), #total number of batches in validation(validation observation/batch size)\n",
    "        verbose=1)"
   ]
  },
  {
   "cell_type": "markdown",
   "metadata": {},
   "source": [
    "## Model2 - Model with Dropout and Receptive field "
   ]
  },
  {
   "cell_type": "markdown",
   "metadata": {},
   "source": [
    "Batchsize Changed "
   ]
  },
  {
   "cell_type": "code",
   "execution_count": 46,
   "metadata": {},
   "outputs": [
    {
     "name": "stdout",
     "output_type": "stream",
     "text": [
      "Found 1653 images belonging to 10 classes.\n",
      "Found 409 images belonging to 10 classes.\n"
     ]
    }
   ],
   "source": [
    "########################\n",
    "# Generators\n",
    "########################\n",
    "\n",
    "from tensorflow.keras.preprocessing.image import ImageDataGenerator\n",
    "\n",
    "batch_size = 64\n",
    "target_size = (64,64)\n",
    "\n",
    "\n",
    "########################\n",
    "# Data Directory\n",
    "########################\n",
    "\n",
    "data_dir = location  # this is the image datasets directory\n",
    "\n",
    "########################\n",
    "# Data generator : Any preprocessing options/steps can be  defined here\n",
    "########################\n",
    "datagen = ImageDataGenerator(rescale = 1./255,  # scaling the images matrix(standard preprocessing step)\n",
    "                             validation_split=0.2) # set validation split\n",
    "\n",
    "########################\n",
    "# Train generator\n",
    "########################\n",
    "train_generator = datagen.flow_from_directory(\n",
    "    data_dir,\n",
    "    target_size=target_size,   # resizing the input images to a specific size\n",
    "    batch_size=batch_size,     # Batch size, iterator will generate a random batch with this size\n",
    "    color_mode = 'grayscale',  # keeping the channel to grayscale for easy calculations\n",
    "    class_mode='categorical',\n",
    "    shuffle=True,\n",
    "    subset=\"training\") # set as training data\n",
    "\n",
    "########################\n",
    "# Validation generator\n",
    "########################\n",
    "\n",
    "validation_generator = datagen.flow_from_directory(\n",
    "    data_dir, # same directory as training data\n",
    "    target_size=target_size,\n",
    "    batch_size=batch_size,\n",
    "    color_mode = 'grayscale', \n",
    "    class_mode='categorical',\n",
    "    shuffle=True,\n",
    "    subset=\"validation\") # set as validation data"
   ]
  },
  {
   "cell_type": "code",
   "execution_count": 47,
   "metadata": {},
   "outputs": [
    {
     "name": "stdout",
     "output_type": "stream",
     "text": [
      "Model: \"sequential_9\"\n",
      "_________________________________________________________________\n",
      "Layer (type)                 Output Shape              Param #   \n",
      "=================================================================\n",
      "conv2d_17 (Conv2D)           (None, 62, 62, 16)        160       \n",
      "_________________________________________________________________\n",
      "conv2d_18 (Conv2D)           (None, 60, 60, 32)        4640      \n",
      "_________________________________________________________________\n",
      "max_pooling2d_8 (MaxPooling2 (None, 30, 30, 32)        0         \n",
      "_________________________________________________________________\n",
      "dropout (Dropout)            (None, 30, 30, 32)        0         \n",
      "_________________________________________________________________\n",
      "conv2d_19 (Conv2D)           (None, 28, 28, 64)        18496     \n",
      "_________________________________________________________________\n",
      "conv2d_20 (Conv2D)           (None, 26, 26, 64)        36928     \n",
      "_________________________________________________________________\n",
      "max_pooling2d_9 (MaxPooling2 (None, 13, 13, 64)        0         \n",
      "_________________________________________________________________\n",
      "dropout_1 (Dropout)          (None, 13, 13, 64)        0         \n",
      "_________________________________________________________________\n",
      "conv2d_21 (Conv2D)           (None, 11, 11, 128)       73856     \n",
      "_________________________________________________________________\n",
      "conv2d_22 (Conv2D)           (None, 9, 9, 128)         147584    \n",
      "_________________________________________________________________\n",
      "max_pooling2d_10 (MaxPooling (None, 4, 4, 128)         0         \n",
      "_________________________________________________________________\n",
      "dropout_2 (Dropout)          (None, 4, 4, 128)         0         \n",
      "_________________________________________________________________\n",
      "flatten_3 (Flatten)          (None, 2048)              0         \n",
      "_________________________________________________________________\n",
      "dense_9 (Dense)              (None, 32)                65568     \n",
      "_________________________________________________________________\n",
      "dropout_3 (Dropout)          (None, 32)                0         \n",
      "_________________________________________________________________\n",
      "dense_10 (Dense)             (None, 10)                330       \n",
      "=================================================================\n",
      "Total params: 347,562\n",
      "Trainable params: 347,562\n",
      "Non-trainable params: 0\n",
      "_________________________________________________________________\n"
     ]
    }
   ],
   "source": [
    "model2 = Sequential()\n",
    "\n",
    "# Convolution and Pooling layers\n",
    "model2.add(Conv2D(16, (3, 3), input_shape = (64, 64, 1), activation = 'relu'))\n",
    "model2.add(Conv2D(32, (3, 3), activation = 'relu'))\n",
    "model2.add(MaxPooling2D(pool_size = (2, 2)))\n",
    "model2.add(Dropout(0.5))\n",
    "\n",
    "model2.add(Conv2D(64, (3, 3), activation = 'relu'))\n",
    "model2.add(Conv2D(64, (3, 3), activation = 'relu'))\n",
    "model2.add(MaxPooling2D(pool_size = (2, 2)))\n",
    "model2.add(Dropout(0.5))\n",
    "\n",
    "model2.add(Conv2D(128, (3, 3), activation = 'relu'))\n",
    "model2.add(Conv2D(128, (3, 3), activation = 'relu'))\n",
    "model2.add(MaxPooling2D(pool_size = (2, 2)))\n",
    "model2.add(Dropout(0.5))\n",
    "\n",
    "\n",
    "# Flattening and  Fully connected dense layers\n",
    "model2.add(Flatten())\n",
    "model2.add(Dense(units = 32, activation = 'relu'))\n",
    "model2.add(Dropout(0.5))\n",
    "\n",
    "model2.add(Dense(units = 10, activation = 'softmax'))\n",
    "\n",
    "model2.summary()"
   ]
  },
  {
   "cell_type": "code",
   "execution_count": 48,
   "metadata": {},
   "outputs": [
    {
     "name": "stdout",
     "output_type": "stream",
     "text": [
      "Epoch 1/50\n",
      "26/26 [==============================] - 3s 80ms/step - loss: 2.3037 - accuracy: 0.0944 - val_loss: 2.3025 - val_accuracy: 0.1002\n",
      "Epoch 2/50\n",
      "26/26 [==============================] - 1s 53ms/step - loss: 2.3033 - accuracy: 0.1028 - val_loss: 2.3025 - val_accuracy: 0.1247\n",
      "Epoch 3/50\n",
      "26/26 [==============================] - 1s 54ms/step - loss: 2.3039 - accuracy: 0.0895 - val_loss: 2.3026 - val_accuracy: 0.0978\n",
      "Epoch 4/50\n",
      "26/26 [==============================] - 1s 52ms/step - loss: 2.3037 - accuracy: 0.1028 - val_loss: 2.3027 - val_accuracy: 0.1002\n",
      "Epoch 5/50\n",
      "26/26 [==============================] - 2s 61ms/step - loss: 2.3037 - accuracy: 0.0883 - val_loss: 2.3026 - val_accuracy: 0.1002\n",
      "Epoch 6/50\n",
      "26/26 [==============================] - 1s 57ms/step - loss: 2.3040 - accuracy: 0.0920 - val_loss: 2.3027 - val_accuracy: 0.1002\n",
      "Epoch 7/50\n",
      "26/26 [==============================] - 1s 54ms/step - loss: 2.3043 - accuracy: 0.0907 - val_loss: 2.3027 - val_accuracy: 0.1002\n",
      "Epoch 8/50\n",
      "26/26 [==============================] - 1s 55ms/step - loss: 2.3030 - accuracy: 0.1028 - val_loss: 2.3026 - val_accuracy: 0.1002\n",
      "Epoch 9/50\n",
      "26/26 [==============================] - 1s 54ms/step - loss: 2.3031 - accuracy: 0.0974 - val_loss: 2.3025 - val_accuracy: 0.1002\n",
      "Epoch 10/50\n",
      "26/26 [==============================] - 1s 53ms/step - loss: 2.3027 - accuracy: 0.1071 - val_loss: 2.3023 - val_accuracy: 0.1002\n",
      "Epoch 11/50\n",
      "26/26 [==============================] - 1s 53ms/step - loss: 2.3026 - accuracy: 0.0998 - val_loss: 2.3024 - val_accuracy: 0.1002\n",
      "Epoch 12/50\n",
      "26/26 [==============================] - 1s 51ms/step - loss: 2.3029 - accuracy: 0.0986 - val_loss: 2.3021 - val_accuracy: 0.1051\n",
      "Epoch 13/50\n",
      "26/26 [==============================] - 1s 54ms/step - loss: 2.3023 - accuracy: 0.1065 - val_loss: 2.3020 - val_accuracy: 0.1002\n",
      "Epoch 14/50\n",
      "26/26 [==============================] - 2s 67ms/step - loss: 2.3020 - accuracy: 0.0974 - val_loss: 2.3018 - val_accuracy: 0.1051\n",
      "Epoch 15/50\n",
      "26/26 [==============================] - 2s 60ms/step - loss: 2.3012 - accuracy: 0.1053 - val_loss: 2.3014 - val_accuracy: 0.1002\n",
      "Epoch 16/50\n",
      "26/26 [==============================] - 1s 57ms/step - loss: 2.3006 - accuracy: 0.1016 - val_loss: 2.3002 - val_accuracy: 0.1320\n",
      "Epoch 17/50\n",
      "26/26 [==============================] - 1s 53ms/step - loss: 2.2976 - accuracy: 0.1210 - val_loss: 2.2991 - val_accuracy: 0.1418\n",
      "Epoch 18/50\n",
      "26/26 [==============================] - 1s 53ms/step - loss: 2.2947 - accuracy: 0.1258 - val_loss: 2.2958 - val_accuracy: 0.1638\n",
      "Epoch 19/50\n",
      "26/26 [==============================] - 1s 55ms/step - loss: 2.2854 - accuracy: 0.1337 - val_loss: 2.2874 - val_accuracy: 0.1809\n",
      "Epoch 20/50\n",
      "26/26 [==============================] - 1s 55ms/step - loss: 2.2590 - accuracy: 0.1603 - val_loss: 2.2376 - val_accuracy: 0.2861\n",
      "Epoch 21/50\n",
      "26/26 [==============================] - 1s 55ms/step - loss: 2.1891 - accuracy: 0.2039 - val_loss: 2.1349 - val_accuracy: 0.2616\n",
      "Epoch 22/50\n",
      "26/26 [==============================] - 1s 54ms/step - loss: 2.0568 - accuracy: 0.2601 - val_loss: 1.9265 - val_accuracy: 0.3472\n",
      "Epoch 23/50\n",
      "26/26 [==============================] - 1s 54ms/step - loss: 1.8086 - accuracy: 0.3509 - val_loss: 1.7967 - val_accuracy: 0.4914\n",
      "Epoch 24/50\n",
      "26/26 [==============================] - 1s 54ms/step - loss: 1.6589 - accuracy: 0.3975 - val_loss: 1.7632 - val_accuracy: 0.5061\n",
      "Epoch 25/50\n",
      "26/26 [==============================] - 1s 53ms/step - loss: 1.5459 - accuracy: 0.4350 - val_loss: 1.7852 - val_accuracy: 0.4914\n",
      "Epoch 26/50\n",
      "26/26 [==============================] - 1s 53ms/step - loss: 1.3946 - accuracy: 0.4773 - val_loss: 1.6169 - val_accuracy: 0.5550\n",
      "Epoch 27/50\n",
      "26/26 [==============================] - 1s 54ms/step - loss: 1.2862 - accuracy: 0.5390 - val_loss: 1.5661 - val_accuracy: 0.5672\n",
      "Epoch 28/50\n",
      "26/26 [==============================] - 1s 54ms/step - loss: 1.1994 - accuracy: 0.5662 - val_loss: 1.4600 - val_accuracy: 0.5770\n",
      "Epoch 29/50\n",
      "26/26 [==============================] - 1s 54ms/step - loss: 1.1432 - accuracy: 0.5886 - val_loss: 1.2972 - val_accuracy: 0.6186\n",
      "Epoch 30/50\n",
      "26/26 [==============================] - 2s 61ms/step - loss: 1.0651 - accuracy: 0.6201 - val_loss: 1.5852 - val_accuracy: 0.5966\n",
      "Epoch 31/50\n",
      "26/26 [==============================] - 1s 54ms/step - loss: 0.9644 - accuracy: 0.6461 - val_loss: 1.3335 - val_accuracy: 0.6137\n",
      "Epoch 32/50\n",
      "26/26 [==============================] - 1s 55ms/step - loss: 0.8798 - accuracy: 0.6903 - val_loss: 1.2874 - val_accuracy: 0.6186\n",
      "Epoch 33/50\n",
      "26/26 [==============================] - 1s 51ms/step - loss: 0.8583 - accuracy: 0.6927 - val_loss: 1.1454 - val_accuracy: 0.6553\n",
      "Epoch 34/50\n",
      "26/26 [==============================] - 1s 54ms/step - loss: 0.8060 - accuracy: 0.7145 - val_loss: 1.2828 - val_accuracy: 0.6553\n",
      "Epoch 35/50\n",
      "26/26 [==============================] - 1s 54ms/step - loss: 0.7664 - accuracy: 0.7229 - val_loss: 1.1127 - val_accuracy: 0.6675\n",
      "Epoch 36/50\n",
      "26/26 [==============================] - 1s 54ms/step - loss: 0.8014 - accuracy: 0.7187 - val_loss: 1.3404 - val_accuracy: 0.6601\n",
      "Epoch 37/50\n",
      "26/26 [==============================] - 2s 68ms/step - loss: 0.7538 - accuracy: 0.7405 - val_loss: 1.0622 - val_accuracy: 0.6724\n",
      "Epoch 38/50\n",
      "26/26 [==============================] - 2s 59ms/step - loss: 0.6573 - accuracy: 0.7641 - val_loss: 1.0854 - val_accuracy: 0.6870\n",
      "Epoch 39/50\n",
      "26/26 [==============================] - 1s 56ms/step - loss: 0.6524 - accuracy: 0.7629 - val_loss: 1.0891 - val_accuracy: 0.6870\n",
      "Epoch 40/50\n",
      "26/26 [==============================] - 1s 54ms/step - loss: 0.6402 - accuracy: 0.7852 - val_loss: 0.9438 - val_accuracy: 0.7359\n",
      "Epoch 41/50\n",
      "26/26 [==============================] - 2s 58ms/step - loss: 0.5793 - accuracy: 0.7979 - val_loss: 1.0530 - val_accuracy: 0.6919\n",
      "Epoch 42/50\n",
      "26/26 [==============================] - 1s 55ms/step - loss: 0.5669 - accuracy: 0.7919 - val_loss: 1.0593 - val_accuracy: 0.7066\n",
      "Epoch 43/50\n",
      "26/26 [==============================] - 1s 56ms/step - loss: 0.5721 - accuracy: 0.7931 - val_loss: 0.7753 - val_accuracy: 0.7506\n",
      "Epoch 44/50\n",
      "26/26 [==============================] - 1s 56ms/step - loss: 0.5423 - accuracy: 0.7979 - val_loss: 0.8232 - val_accuracy: 0.7482\n",
      "Epoch 45/50\n",
      "26/26 [==============================] - 2s 58ms/step - loss: 0.5144 - accuracy: 0.8088 - val_loss: 0.9890 - val_accuracy: 0.7359\n",
      "Epoch 46/50\n",
      "26/26 [==============================] - 1s 57ms/step - loss: 0.4928 - accuracy: 0.8197 - val_loss: 0.8015 - val_accuracy: 0.7555\n",
      "Epoch 47/50\n",
      "26/26 [==============================] - 2s 58ms/step - loss: 0.4525 - accuracy: 0.8397 - val_loss: 0.8189 - val_accuracy: 0.7775\n",
      "Epoch 48/50\n",
      "26/26 [==============================] - 1s 55ms/step - loss: 0.4815 - accuracy: 0.8294 - val_loss: 0.7077 - val_accuracy: 0.7848\n",
      "Epoch 49/50\n",
      "26/26 [==============================] - 1s 54ms/step - loss: 0.4442 - accuracy: 0.8518 - val_loss: 0.6694 - val_accuracy: 0.7971\n",
      "Epoch 50/50\n",
      "26/26 [==============================] - 1s 55ms/step - loss: 0.4565 - accuracy: 0.8385 - val_loss: 0.7109 - val_accuracy: 0.7897\n",
      "Execution time is 75 seconds\n"
     ]
    }
   ],
   "source": [
    "# model compilation\n",
    "model2.compile(optimizer =SGD(lr=0.01, momentum = 0.9), loss = 'categorical_crossentropy', metrics = ['accuracy'])\n",
    "\n",
    "########################\n",
    "# fit model and train\n",
    "########################\n",
    "\n",
    "import time\n",
    "start = time.time()\n",
    "\n",
    "history=model2.fit_generator(\n",
    "        train_generator, \n",
    "        steps_per_epoch = len(train_generator), \n",
    "        epochs=50,\n",
    "        validation_data = validation_generator,\n",
    "        validation_steps = len(validation_generator), \n",
    "        verbose=1)\n",
    "\n",
    "model2.save_weights('m2_Dropout_Rec_fld_50epochs.h5')\n",
    "\n",
    "end = time.time()\n",
    "print(\"Execution time is\", int(end - start), \"seconds\")"
   ]
  },
  {
   "cell_type": "code",
   "execution_count": 49,
   "metadata": {},
   "outputs": [
    {
     "data": {
      "text/plain": [
       "<matplotlib.legend.Legend at 0x1fd922f3520>"
      ]
     },
     "execution_count": 49,
     "metadata": {},
     "output_type": "execute_result"
    },
    {
     "data": {
      "image/png": "[encoded data removed]",
      "text/plain": [
       "<Figure size 432x288 with 1 Axes>"
      ]
     },
     "metadata": {
      "needs_background": "light"
     },
     "output_type": "display_data"
    }
   ],
   "source": [
    "plt.plot(history.history['accuracy'], label='accuracy')\n",
    "plt.plot(history.history['val_accuracy'], label = 'val_accuracy')\n",
    "plt.title(\"Train and Valid Accuracy by Epochs\")\n",
    "plt.xlabel('Epoch')\n",
    "plt.ylabel('Accuracy')\n",
    "plt.ylim([0,1])\n",
    "plt.legend(loc='lower right')"
   ]
  },
  {
   "cell_type": "code",
   "execution_count": 50,
   "metadata": {},
   "outputs": [
    {
     "name": "stdout",
     "output_type": "stream",
     "text": [
      "Epoch 1/2\n",
      "26/26 [==============================] - 2s 66ms/step - loss: 0.3932 - accuracy: 0.8590 - val_loss: 0.8478 - val_accuracy: 0.7604\n",
      "Epoch 2/2\n",
      "26/26 [==============================] - 2s 59ms/step - loss: 0.3891 - accuracy: 0.8639 - val_loss: 0.6779 - val_accuracy: 0.7946\n"
     ]
    }
   ],
   "source": [
    "model2.load_weights(\"C:\\\\Users\\\\SREEHARI\\\\Desktop\\\\internship\\\\my training\\\\Chapter11_CNN\\\\m2_Dropout_Rec_fld_50epochs.h5\")\n",
    "\n",
    "history=model2.fit_generator(\n",
    "        train_generator, \n",
    "        steps_per_epoch = len(train_generator), \n",
    "        epochs=2,\n",
    "        validation_data = validation_generator,\n",
    "        validation_steps = len(validation_generator), \n",
    "        verbose=1)"
   ]
  },
  {
   "cell_type": "markdown",
   "metadata": {},
   "source": [
    "#### Dropout 100 epochs"
   ]
  },
  {
   "cell_type": "code",
   "execution_count": 52,
   "metadata": {},
   "outputs": [
    {
     "name": "stdout",
     "output_type": "stream",
     "text": [
      "Epoch 1/100\n",
      "26/26 [==============================] - 3s 66ms/step - loss: 0.3682 - accuracy: 0.8778 - val_loss: 0.8689 - val_accuracy: 0.7726\n",
      "Epoch 2/100\n",
      "26/26 [==============================] - 1s 54ms/step - loss: 0.4135 - accuracy: 0.8633 - val_loss: 0.7916 - val_accuracy: 0.7726\n",
      "Epoch 3/100\n",
      "26/26 [==============================] - 1s 54ms/step - loss: 0.4030 - accuracy: 0.8657 - val_loss: 0.6260 - val_accuracy: 0.8093\n",
      "Epoch 4/100\n",
      "26/26 [==============================] - 1s 55ms/step - loss: 0.3584 - accuracy: 0.8724 - val_loss: 0.6876 - val_accuracy: 0.7995\n",
      "Epoch 5/100\n",
      "26/26 [==============================] - 1s 53ms/step - loss: 0.3734 - accuracy: 0.8711 - val_loss: 0.7544 - val_accuracy: 0.7995ss: 0.3879 - accuracy\n",
      "Epoch 6/100\n",
      "26/26 [==============================] - 1s 54ms/step - loss: 0.3698 - accuracy: 0.8796 - val_loss: 0.7021 - val_accuracy: 0.7971\n",
      "Epoch 7/100\n",
      "26/26 [==============================] - 1s 56ms/step - loss: 0.3297 - accuracy: 0.8820 - val_loss: 0.6288 - val_accuracy: 0.8191\n",
      "Epoch 8/100\n",
      "26/26 [==============================] - 1s 50ms/step - loss: 0.2957 - accuracy: 0.8911 - val_loss: 0.7595 - val_accuracy: 0.7946\n",
      "Epoch 9/100\n",
      "26/26 [==============================] - 1s 55ms/step - loss: 0.3131 - accuracy: 0.8923 - val_loss: 0.7188 - val_accuracy: 0.7751\n",
      "Epoch 10/100\n",
      "26/26 [==============================] - 1s 54ms/step - loss: 0.3302 - accuracy: 0.8802 - val_loss: 0.9459 - val_accuracy: 0.7800\n",
      "Epoch 11/100\n",
      "26/26 [==============================] - 2s 59ms/step - loss: 0.2891 - accuracy: 0.8966 - val_loss: 0.5113 - val_accuracy: 0.8460\n",
      "Epoch 12/100\n",
      "26/26 [==============================] - 1s 53ms/step - loss: 0.2887 - accuracy: 0.8996 - val_loss: 0.4940 - val_accuracy: 0.8582\n",
      "Epoch 13/100\n",
      "26/26 [==============================] - 1s 53ms/step - loss: 0.2927 - accuracy: 0.8959 - val_loss: 0.5707 - val_accuracy: 0.8386\n",
      "Epoch 14/100\n",
      "26/26 [==============================] - 1s 54ms/step - loss: 0.2825 - accuracy: 0.9002 - val_loss: 0.8450 - val_accuracy: 0.7922\n",
      "Epoch 15/100\n",
      "26/26 [==============================] - 2s 59ms/step - loss: 0.2980 - accuracy: 0.8959 - val_loss: 0.5238 - val_accuracy: 0.8460\n",
      "Epoch 16/100\n",
      "26/26 [==============================] - 1s 54ms/step - loss: 0.2710 - accuracy: 0.8984 - val_loss: 0.6062 - val_accuracy: 0.8289\n",
      "Epoch 17/100\n",
      "26/26 [==============================] - 1s 53ms/step - loss: 0.2368 - accuracy: 0.9201 - val_loss: 0.6061 - val_accuracy: 0.8362\n",
      "Epoch 18/100\n",
      "26/26 [==============================] - 1s 54ms/step - loss: 0.2520 - accuracy: 0.9038 - val_loss: 0.6034 - val_accuracy: 0.8313\n",
      "Epoch 19/100\n",
      "26/26 [==============================] - 1s 53ms/step - loss: 0.2310 - accuracy: 0.9123 - val_loss: 0.5778 - val_accuracy: 0.8264\n",
      "Epoch 20/100\n",
      "26/26 [==============================] - 1s 55ms/step - loss: 0.2395 - accuracy: 0.9135 - val_loss: 0.5264 - val_accuracy: 0.8606\n",
      "Epoch 21/100\n",
      "26/26 [==============================] - 1s 54ms/step - loss: 0.2303 - accuracy: 0.9147 - val_loss: 0.8189 - val_accuracy: 0.8117\n",
      "Epoch 22/100\n",
      "26/26 [==============================] - 1s 56ms/step - loss: 0.2392 - accuracy: 0.9147 - val_loss: 0.6468 - val_accuracy: 0.8509\n",
      "Epoch 23/100\n",
      "26/26 [==============================] - 1s 54ms/step - loss: 0.2447 - accuracy: 0.9129 - val_loss: 0.5870 - val_accuracy: 0.8484\n",
      "Epoch 24/100\n",
      "26/26 [==============================] - 1s 57ms/step - loss: 0.2365 - accuracy: 0.9274 - val_loss: 0.7124 - val_accuracy: 0.8289\n",
      "Epoch 25/100\n",
      "26/26 [==============================] - 1s 50ms/step - loss: 0.2029 - accuracy: 0.9316 - val_loss: 0.6749 - val_accuracy: 0.8289\n",
      "Epoch 26/100\n",
      "26/26 [==============================] - 1s 54ms/step - loss: 0.2348 - accuracy: 0.9177 - val_loss: 0.9300 - val_accuracy: 0.7922\n",
      "Epoch 27/100\n",
      "26/26 [==============================] - 1s 55ms/step - loss: 0.2286 - accuracy: 0.9220 - val_loss: 0.5762 - val_accuracy: 0.8411\n",
      "Epoch 28/100\n",
      "26/26 [==============================] - 1s 54ms/step - loss: 0.1946 - accuracy: 0.9280 - val_loss: 0.6205 - val_accuracy: 0.8313\n",
      "Epoch 29/100\n",
      "26/26 [==============================] - 1s 55ms/step - loss: 0.2119 - accuracy: 0.9298 - val_loss: 0.5788 - val_accuracy: 0.8631\n",
      "Epoch 30/100\n",
      "26/26 [==============================] - 1s 54ms/step - loss: 0.1919 - accuracy: 0.9286 - val_loss: 0.6053 - val_accuracy: 0.8484\n",
      "Epoch 31/100\n",
      "26/26 [==============================] - 1s 55ms/step - loss: 0.1679 - accuracy: 0.9425 - val_loss: 0.7305 - val_accuracy: 0.8362\n",
      "Epoch 32/100\n",
      "26/26 [==============================] - 1s 53ms/step - loss: 0.2003 - accuracy: 0.9286 - val_loss: 0.4819 - val_accuracy: 0.8704\n",
      "Epoch 33/100\n",
      "26/26 [==============================] - 1s 55ms/step - loss: 0.2019 - accuracy: 0.9304 - val_loss: 0.6128 - val_accuracy: 0.8337\n",
      "Epoch 34/100\n",
      "26/26 [==============================] - 1s 54ms/step - loss: 0.2064 - accuracy: 0.9322 - val_loss: 0.5112 - val_accuracy: 0.8704\n",
      "Epoch 35/100\n",
      "26/26 [==============================] - 1s 54ms/step - loss: 0.1992 - accuracy: 0.9292 - val_loss: 0.4744 - val_accuracy: 0.8753\n",
      "Epoch 36/100\n",
      "26/26 [==============================] - 1s 51ms/step - loss: 0.1717 - accuracy: 0.9341 - val_loss: 0.8723 - val_accuracy: 0.8068\n",
      "Epoch 37/100\n",
      "26/26 [==============================] - 1s 52ms/step - loss: 0.1806 - accuracy: 0.9328 - val_loss: 0.4479 - val_accuracy: 0.8875\n",
      "Epoch 38/100\n",
      "26/26 [==============================] - 1s 53ms/step - loss: 0.1762 - accuracy: 0.9262 - val_loss: 0.4502 - val_accuracy: 0.8655\n",
      "Epoch 39/100\n",
      "26/26 [==============================] - 1s 53ms/step - loss: 0.2166 - accuracy: 0.9298 - val_loss: 0.4955 - val_accuracy: 0.8484\n",
      "Epoch 40/100\n",
      "26/26 [==============================] - 1s 54ms/step - loss: 0.1821 - accuracy: 0.9377 - val_loss: 0.4384 - val_accuracy: 0.8704\n",
      "Epoch 41/100\n",
      "26/26 [==============================] - 1s 54ms/step - loss: 0.1919 - accuracy: 0.9322 - val_loss: 0.5838 - val_accuracy: 0.8533\n",
      "Epoch 42/100\n",
      "26/26 [==============================] - 1s 58ms/step - loss: 0.1773 - accuracy: 0.9413 - val_loss: 0.4415 - val_accuracy: 0.8802\n",
      "Epoch 43/100\n",
      "26/26 [==============================] - 2s 62ms/step - loss: 0.1645 - accuracy: 0.9456 - val_loss: 0.5490 - val_accuracy: 0.8533\n",
      "Epoch 44/100\n",
      "26/26 [==============================] - 2s 59ms/step - loss: 0.1647 - accuracy: 0.9359 - val_loss: 0.5891 - val_accuracy: 0.8582\n",
      "Epoch 45/100\n",
      "26/26 [==============================] - 1s 54ms/step - loss: 0.1679 - accuracy: 0.9395 - val_loss: 0.6763 - val_accuracy: 0.8240\n",
      "Epoch 46/100\n",
      "26/26 [==============================] - 2s 59ms/step - loss: 0.2029 - accuracy: 0.9292 - val_loss: 0.7112 - val_accuracy: 0.8142\n",
      "Epoch 47/100\n",
      "26/26 [==============================] - 1s 55ms/step - loss: 0.1750 - accuracy: 0.9365 - val_loss: 0.4420 - val_accuracy: 0.8851\n",
      "Epoch 48/100\n",
      "26/26 [==============================] - 1s 53ms/step - loss: 0.1667 - accuracy: 0.9449 - val_loss: 0.4251 - val_accuracy: 0.8802\n",
      "Epoch 49/100\n",
      "26/26 [==============================] - 1s 53ms/step - loss: 0.1607 - accuracy: 0.9456 - val_loss: 0.5025 - val_accuracy: 0.8704\n",
      "Epoch 50/100\n",
      "26/26 [==============================] - 1s 53ms/step - loss: 0.1957 - accuracy: 0.9316 - val_loss: 0.4202 - val_accuracy: 0.8802\n",
      "Epoch 51/100\n",
      "26/26 [==============================] - 1s 54ms/step - loss: 0.1414 - accuracy: 0.9480 - val_loss: 0.4402 - val_accuracy: 0.8900\n",
      "Epoch 52/100\n",
      "26/26 [==============================] - 1s 53ms/step - loss: 0.1490 - accuracy: 0.9480 - val_loss: 0.5948 - val_accuracy: 0.8460\n",
      "Epoch 53/100\n",
      "26/26 [==============================] - 1s 54ms/step - loss: 0.1431 - accuracy: 0.9468 - val_loss: 0.6606 - val_accuracy: 0.8631\n",
      "Epoch 54/100\n",
      "26/26 [==============================] - 1s 53ms/step - loss: 0.1652 - accuracy: 0.9401 - val_loss: 0.3845 - val_accuracy: 0.8875\n",
      "Epoch 55/100\n",
      "26/26 [==============================] - 1s 53ms/step - loss: 0.1371 - accuracy: 0.9462 - val_loss: 0.3715 - val_accuracy: 0.8998\n",
      "Epoch 56/100\n",
      "26/26 [==============================] - 1s 54ms/step - loss: 0.1505 - accuracy: 0.9474 - val_loss: 0.6493 - val_accuracy: 0.8460\n",
      "Epoch 57/100\n",
      "26/26 [==============================] - 1s 53ms/step - loss: 0.1512 - accuracy: 0.9353 - val_loss: 0.5081 - val_accuracy: 0.8704\n",
      "Epoch 58/100\n"
     ]
    },
    {
     "name": "stdout",
     "output_type": "stream",
     "text": [
      "26/26 [==============================] - 1s 54ms/step - loss: 0.1342 - accuracy: 0.9492 - val_loss: 0.3872 - val_accuracy: 0.8900\n",
      "Epoch 59/100\n",
      "26/26 [==============================] - 1s 52ms/step - loss: 0.1461 - accuracy: 0.9413 - val_loss: 0.4410 - val_accuracy: 0.8753\n",
      "Epoch 60/100\n",
      "26/26 [==============================] - 1s 54ms/step - loss: 0.1354 - accuracy: 0.9474 - val_loss: 0.4541 - val_accuracy: 0.8851\n",
      "Epoch 61/100\n",
      "26/26 [==============================] - 2s 58ms/step - loss: 0.1494 - accuracy: 0.9449 - val_loss: 0.6949 - val_accuracy: 0.8557\n",
      "Epoch 62/100\n",
      "26/26 [==============================] - 2s 62ms/step - loss: 0.1363 - accuracy: 0.9546 - val_loss: 0.7857 - val_accuracy: 0.8337\n",
      "Epoch 63/100\n",
      "26/26 [==============================] - 1s 54ms/step - loss: 0.1614 - accuracy: 0.9456 - val_loss: 0.6016 - val_accuracy: 0.8460\n",
      "Epoch 64/100\n",
      "26/26 [==============================] - 1s 53ms/step - loss: 0.1493 - accuracy: 0.9468 - val_loss: 0.5937 - val_accuracy: 0.8337\n",
      "Epoch 65/100\n",
      "26/26 [==============================] - 1s 54ms/step - loss: 0.1280 - accuracy: 0.9564 - val_loss: 0.5790 - val_accuracy: 0.8509\n",
      "Epoch 66/100\n",
      "26/26 [==============================] - 1s 50ms/step - loss: 0.1536 - accuracy: 0.9407 - val_loss: 0.3815 - val_accuracy: 0.8924\n",
      "Epoch 67/100\n",
      "26/26 [==============================] - 1s 53ms/step - loss: 0.1312 - accuracy: 0.9468 - val_loss: 0.4769 - val_accuracy: 0.8778\n",
      "Epoch 68/100\n",
      "26/26 [==============================] - 1s 54ms/step - loss: 0.1264 - accuracy: 0.9589 - val_loss: 0.4631 - val_accuracy: 0.8875\n",
      "Epoch 69/100\n",
      "26/26 [==============================] - 1s 52ms/step - loss: 0.1503 - accuracy: 0.9425 - val_loss: 0.6262 - val_accuracy: 0.8582\n",
      "Epoch 70/100\n",
      "26/26 [==============================] - 1s 51ms/step - loss: 0.1343 - accuracy: 0.9437 - val_loss: 0.6635 - val_accuracy: 0.8680\n",
      "Epoch 71/100\n",
      "26/26 [==============================] - 1s 53ms/step - loss: 0.1112 - accuracy: 0.9522 - val_loss: 0.6173 - val_accuracy: 0.8655\n",
      "Epoch 72/100\n",
      "26/26 [==============================] - 1s 53ms/step - loss: 0.1280 - accuracy: 0.9492 - val_loss: 0.5202 - val_accuracy: 0.8802\n",
      "Epoch 73/100\n",
      "26/26 [==============================] - 1s 53ms/step - loss: 0.1368 - accuracy: 0.9486 - val_loss: 0.5772 - val_accuracy: 0.8582\n",
      "Epoch 74/100\n",
      "26/26 [==============================] - 1s 53ms/step - loss: 0.1044 - accuracy: 0.9583 - val_loss: 0.5011 - val_accuracy: 0.8826\n",
      "Epoch 75/100\n",
      "26/26 [==============================] - 1s 54ms/step - loss: 0.1125 - accuracy: 0.9564 - val_loss: 0.5494 - val_accuracy: 0.8826\n",
      "Epoch 76/100\n",
      "26/26 [==============================] - 1s 56ms/step - loss: 0.1186 - accuracy: 0.9492 - val_loss: 0.5370 - val_accuracy: 0.8753\n",
      "Epoch 77/100\n",
      "26/26 [==============================] - 1s 54ms/step - loss: 0.1228 - accuracy: 0.9564 - val_loss: 0.6925 - val_accuracy: 0.8411\n",
      "Epoch 78/100\n",
      "26/26 [==============================] - 1s 53ms/step - loss: 0.1097 - accuracy: 0.9595 - val_loss: 0.4822 - val_accuracy: 0.8875\n",
      "Epoch 79/100\n",
      "26/26 [==============================] - 1s 57ms/step - loss: 0.1156 - accuracy: 0.9528 - val_loss: 0.6304 - val_accuracy: 0.8655\n",
      "Epoch 80/100\n",
      "26/26 [==============================] - 2s 64ms/step - loss: 0.0947 - accuracy: 0.9637 - val_loss: 0.4768 - val_accuracy: 0.8924\n",
      "Epoch 81/100\n",
      "26/26 [==============================] - 2s 61ms/step - loss: 0.1355 - accuracy: 0.9492 - val_loss: 0.4573 - val_accuracy: 0.8680\n",
      "Epoch 82/100\n",
      "26/26 [==============================] - 2s 60ms/step - loss: 0.1232 - accuracy: 0.9486 - val_loss: 0.4015 - val_accuracy: 0.8973\n",
      "Epoch 83/100\n",
      "26/26 [==============================] - 2s 60ms/step - loss: 0.1050 - accuracy: 0.9595 - val_loss: 0.4420 - val_accuracy: 0.8949\n",
      "Epoch 84/100\n",
      "26/26 [==============================] - 1s 54ms/step - loss: 0.1065 - accuracy: 0.9601 - val_loss: 0.5584 - val_accuracy: 0.8704\n",
      "Epoch 85/100\n",
      "26/26 [==============================] - 1s 53ms/step - loss: 0.1048 - accuracy: 0.9631 - val_loss: 0.5116 - val_accuracy: 0.8729\n",
      "Epoch 86/100\n",
      "26/26 [==============================] - 1s 53ms/step - loss: 0.1314 - accuracy: 0.9570 - val_loss: 0.4426 - val_accuracy: 0.8826\n",
      "Epoch 87/100\n",
      "26/26 [==============================] - 1s 54ms/step - loss: 0.1158 - accuracy: 0.9577 - val_loss: 0.3548 - val_accuracy: 0.8998\n",
      "Epoch 88/100\n",
      "26/26 [==============================] - 1s 49ms/step - loss: 0.1144 - accuracy: 0.9583 - val_loss: 0.5283 - val_accuracy: 0.8826\n",
      "Epoch 89/100\n",
      "26/26 [==============================] - 1s 54ms/step - loss: 0.1346 - accuracy: 0.9437 - val_loss: 0.5678 - val_accuracy: 0.8753\n",
      "Epoch 90/100\n",
      "26/26 [==============================] - 1s 55ms/step - loss: 0.1161 - accuracy: 0.9583 - val_loss: 0.4218 - val_accuracy: 0.8851\n",
      "Epoch 91/100\n",
      "26/26 [==============================] - 1s 54ms/step - loss: 0.1136 - accuracy: 0.9577 - val_loss: 0.6546 - val_accuracy: 0.8582\n",
      "Epoch 92/100\n",
      "26/26 [==============================] - 1s 53ms/step - loss: 0.1133 - accuracy: 0.9504 - val_loss: 0.6298 - val_accuracy: 0.8606\n",
      "Epoch 93/100\n",
      "26/26 [==============================] - 1s 54ms/step - loss: 0.1105 - accuracy: 0.9564 - val_loss: 0.5212 - val_accuracy: 0.8753\n",
      "Epoch 94/100\n",
      "26/26 [==============================] - 2s 56ms/step - loss: 0.1217 - accuracy: 0.9540 - val_loss: 0.4953 - val_accuracy: 0.8778\n",
      "Epoch 95/100\n",
      "26/26 [==============================] - 1s 56ms/step - loss: 0.1266 - accuracy: 0.9546 - val_loss: 0.5308 - val_accuracy: 0.8557\n",
      "Epoch 96/100\n",
      "26/26 [==============================] - 1s 53ms/step - loss: 0.1110 - accuracy: 0.9631 - val_loss: 0.5088 - val_accuracy: 0.8826\n",
      "Epoch 97/100\n",
      "26/26 [==============================] - 1s 54ms/step - loss: 0.1076 - accuracy: 0.9583 - val_loss: 0.5987 - val_accuracy: 0.8557\n",
      "Epoch 98/100\n",
      "26/26 [==============================] - 2s 69ms/step - loss: 0.0838 - accuracy: 0.9661 - val_loss: 0.5260 - val_accuracy: 0.8826\n",
      "Epoch 99/100\n",
      "26/26 [==============================] - 1s 53ms/step - loss: 0.1024 - accuracy: 0.9613 - val_loss: 0.5127 - val_accuracy: 0.8826\n",
      "Epoch 100/100\n",
      "26/26 [==============================] - 1s 53ms/step - loss: 0.1261 - accuracy: 0.9546 - val_loss: 0.4909 - val_accuracy: 0.8631\n",
      "Execution time is 146 seconds\n"
     ]
    }
   ],
   "source": [
    "# model compilation\n",
    "model2.compile(optimizer =SGD(lr=0.01, momentum = 0.9), loss = 'categorical_crossentropy', metrics = ['accuracy'])\n",
    "\n",
    "########################\n",
    "# fit model and train\n",
    "########################\n",
    "\n",
    "import time\n",
    "start = time.time()\n",
    "\n",
    "history=model2.fit_generator(\n",
    "        train_generator, \n",
    "        steps_per_epoch = len(train_generator), \n",
    "        epochs=100,\n",
    "        validation_data = validation_generator,\n",
    "        validation_steps = len(validation_generator), \n",
    "        verbose=1)\n",
    "\n",
    "model2.save_weights('m2_Dropout_Rec_fld_100epochs.h5')\n",
    "\n",
    "end = time.time()\n",
    "print(\"Execution time is\", int(end - start), \"seconds\")"
   ]
  },
  {
   "cell_type": "code",
   "execution_count": 53,
   "metadata": {},
   "outputs": [
    {
     "name": "stdout",
     "output_type": "stream",
     "text": [
      "Epoch 1/2\n",
      "26/26 [==============================] - 2s 59ms/step - loss: 0.1131 - accuracy: 0.9540 - val_loss: 0.5628 - val_accuracy: 0.8729\n",
      "Epoch 2/2\n",
      "26/26 [==============================] - 1s 53ms/step - loss: 0.1356 - accuracy: 0.9516 - val_loss: 0.4594 - val_accuracy: 0.8851\n"
     ]
    }
   ],
   "source": [
    "model2.load_weights(\"C:\\\\Users\\\\SREEHARI\\\\Desktop\\\\internship\\\\my training\\\\Chapter11_CNN\\\\m2_Dropout_Rec_fld_100epochs.h5\")\n",
    "\n",
    "history=model2.fit_generator(\n",
    "        train_generator, \n",
    "        steps_per_epoch = len(train_generator), \n",
    "        epochs=2,\n",
    "        validation_data = validation_generator,\n",
    "        validation_steps = len(validation_generator), \n",
    "        verbose=1)"
   ]
  },
  {
   "cell_type": "markdown",
   "metadata": {},
   "source": [
    "## Batch Normalization"
   ]
  },
  {
   "cell_type": "code",
   "execution_count": 55,
   "metadata": {},
   "outputs": [
    {
     "name": "stdout",
     "output_type": "stream",
     "text": [
      "Model: \"sequential_11\"\n",
      "_________________________________________________________________\n",
      "Layer (type)                 Output Shape              Param #   \n",
      "=================================================================\n",
      "conv2d_26 (Conv2D)           (None, 30, 30, 1)         10        \n",
      "_________________________________________________________________\n",
      "batch_normalization_5 (Batch (None, 30, 30, 1)         4         \n",
      "_________________________________________________________________\n",
      "max_pooling2d_13 (MaxPooling (None, 15, 15, 1)         0         \n",
      "_________________________________________________________________\n",
      "batch_normalization_6 (Batch (None, 15, 15, 1)         4         \n",
      "_________________________________________________________________\n",
      "conv2d_27 (Conv2D)           (None, 13, 13, 2)         20        \n",
      "_________________________________________________________________\n",
      "batch_normalization_7 (Batch (None, 13, 13, 2)         8         \n",
      "_________________________________________________________________\n",
      "max_pooling2d_14 (MaxPooling (None, 6, 6, 2)           0         \n",
      "_________________________________________________________________\n",
      "batch_normalization_8 (Batch (None, 6, 6, 2)           8         \n",
      "_________________________________________________________________\n",
      "conv2d_28 (Conv2D)           (None, 4, 4, 3)           57        \n",
      "_________________________________________________________________\n",
      "batch_normalization_9 (Batch (None, 4, 4, 3)           12        \n",
      "=================================================================\n",
      "Total params: 123\n",
      "Trainable params: 105\n",
      "Non-trainable params: 18\n",
      "_________________________________________________________________\n"
     ]
    }
   ],
   "source": [
    "model = Sequential()\n",
    "model.add(Conv2D(1, (3, 3), input_shape = (32, 32, 1)))\n",
    "model.add(BatchNormalization())\n",
    "\n",
    "model.add(MaxPooling2D(pool_size = (2, 2)))\n",
    "model.add(BatchNormalization())\n",
    "\n",
    "model.add(Conv2D(2, (3, 3)))\n",
    "model.add(BatchNormalization())\n",
    "\n",
    "model.add(MaxPooling2D(pool_size = (2, 2)))\n",
    "model.add(BatchNormalization())\n",
    "\n",
    "model.add(Conv2D(3, (3, 3)))\n",
    "model.add(BatchNormalization())\n",
    "\n",
    "model.summary()"
   ]
  },
  {
   "cell_type": "markdown",
   "metadata": {},
   "source": [
    "## Model3 with Batch Normalization. "
   ]
  },
  {
   "cell_type": "code",
   "execution_count": 56,
   "metadata": {},
   "outputs": [
    {
     "name": "stdout",
     "output_type": "stream",
     "text": [
      "Model: \"sequential_12\"\n",
      "_________________________________________________________________\n",
      "Layer (type)                 Output Shape              Param #   \n",
      "=================================================================\n",
      "conv2d_29 (Conv2D)           (None, 62, 62, 16)        160       \n",
      "_________________________________________________________________\n",
      "batch_normalization_10 (Batc (None, 62, 62, 16)        64        \n",
      "_________________________________________________________________\n",
      "dropout_4 (Dropout)          (None, 62, 62, 16)        0         \n",
      "_________________________________________________________________\n",
      "conv2d_30 (Conv2D)           (None, 60, 60, 16)        2320      \n",
      "_________________________________________________________________\n",
      "max_pooling2d_15 (MaxPooling (None, 30, 30, 16)        0         \n",
      "_________________________________________________________________\n",
      "batch_normalization_11 (Batc (None, 30, 30, 16)        64        \n",
      "_________________________________________________________________\n",
      "dropout_5 (Dropout)          (None, 30, 30, 16)        0         \n",
      "_________________________________________________________________\n",
      "conv2d_31 (Conv2D)           (None, 28, 28, 32)        4640      \n",
      "_________________________________________________________________\n",
      "max_pooling2d_16 (MaxPooling (None, 14, 14, 32)        0         \n",
      "_________________________________________________________________\n",
      "batch_normalization_12 (Batc (None, 14, 14, 32)        128       \n",
      "_________________________________________________________________\n",
      "dropout_6 (Dropout)          (None, 14, 14, 32)        0         \n",
      "_________________________________________________________________\n",
      "conv2d_32 (Conv2D)           (None, 12, 12, 32)        9248      \n",
      "_________________________________________________________________\n",
      "max_pooling2d_17 (MaxPooling (None, 6, 6, 32)          0         \n",
      "_________________________________________________________________\n",
      "batch_normalization_13 (Batc (None, 6, 6, 32)          128       \n",
      "_________________________________________________________________\n",
      "dropout_7 (Dropout)          (None, 6, 6, 32)          0         \n",
      "_________________________________________________________________\n",
      "conv2d_33 (Conv2D)           (None, 4, 4, 64)          18496     \n",
      "_________________________________________________________________\n",
      "batch_normalization_14 (Batc (None, 4, 4, 64)          256       \n",
      "_________________________________________________________________\n",
      "dropout_8 (Dropout)          (None, 4, 4, 64)          0         \n",
      "_________________________________________________________________\n",
      "flatten_4 (Flatten)          (None, 1024)              0         \n",
      "_________________________________________________________________\n",
      "dense_11 (Dense)             (None, 16)                16400     \n",
      "_________________________________________________________________\n",
      "dropout_9 (Dropout)          (None, 16)                0         \n",
      "_________________________________________________________________\n",
      "dense_12 (Dense)             (None, 10)                170       \n",
      "=================================================================\n",
      "Total params: 52,074\n",
      "Trainable params: 51,754\n",
      "Non-trainable params: 320\n",
      "_________________________________________________________________\n"
     ]
    }
   ],
   "source": [
    "model3 = Sequential()\n",
    "\n",
    "model3.add(Conv2D(16, (3, 3), input_shape = (64, 64, 1), activation = 'relu'))\n",
    "model3.add(BatchNormalization())\n",
    "model3.add(Dropout(0.5))\n",
    "\n",
    "model3.add(Conv2D(16, (3, 3), activation = 'relu'))\n",
    "model3.add(MaxPooling2D(pool_size = (2, 2)))\n",
    "model3.add(BatchNormalization())\n",
    "model3.add(Dropout(0.5))\n",
    "\n",
    "model3.add(Conv2D(32, (3, 3), activation = 'relu'))\n",
    "model3.add(MaxPooling2D(pool_size = (2, 2)))\n",
    "model3.add(BatchNormalization())\n",
    "model3.add(Dropout(0.5))\n",
    "\n",
    "model3.add(Conv2D(32, (3, 3), activation = 'relu'))\n",
    "model3.add(MaxPooling2D(pool_size = (2, 2)))\n",
    "model3.add(BatchNormalization())\n",
    "model3.add(Dropout(0.5))\n",
    "\n",
    "model3.add(Conv2D(64, (3, 3), activation = 'relu'))\n",
    "model3.add(BatchNormalization())\n",
    "model3.add(Dropout(0.5))\n",
    "\n",
    "model3.add(Flatten())\n",
    "model3.add(Dense(units = 16, activation = 'relu'))\n",
    "model3.add(Dropout(0.5))\n",
    "model3.add(Dense(units = 10, activation = 'softmax'))\n",
    "\n",
    "model3.summary()"
   ]
  },
  {
   "cell_type": "code",
   "execution_count": 57,
   "metadata": {},
   "outputs": [
    {
     "name": "stdout",
     "output_type": "stream",
     "text": [
      "Epoch 1/200\n",
      "26/26 [==============================] - 3s 67ms/step - loss: 2.4876 - accuracy: 0.1101 - val_loss: 9.4889 - val_accuracy: 0.1418\n",
      "Epoch 2/200\n",
      "26/26 [==============================] - 1s 53ms/step - loss: 2.1565 - accuracy: 0.1900 - val_loss: 5.0439 - val_accuracy: 0.1589\n",
      "Epoch 3/200\n",
      "26/26 [==============================] - 1s 50ms/step - loss: 2.0347 - accuracy: 0.2371 - val_loss: 2.4942 - val_accuracy: 0.1467\n",
      "Epoch 4/200\n",
      "26/26 [==============================] - 1s 54ms/step - loss: 1.9198 - accuracy: 0.2855 - val_loss: 2.7482 - val_accuracy: 0.1002\n",
      "Epoch 5/200\n",
      "26/26 [==============================] - 1s 54ms/step - loss: 1.7413 - accuracy: 0.3466 - val_loss: 2.9084 - val_accuracy: 0.0954\n",
      "Epoch 6/200\n",
      "26/26 [==============================] - 1s 55ms/step - loss: 1.6355 - accuracy: 0.3950 - val_loss: 4.0343 - val_accuracy: 0.1002\n",
      "Epoch 7/200\n",
      "26/26 [==============================] - 1s 53ms/step - loss: 1.5907 - accuracy: 0.4017 - val_loss: 6.0505 - val_accuracy: 0.0978\n",
      "Epoch 8/200\n",
      "26/26 [==============================] - 1s 55ms/step - loss: 1.5678 - accuracy: 0.4271 - val_loss: 5.1057 - val_accuracy: 0.0978\n",
      "Epoch 9/200\n",
      "26/26 [==============================] - 1s 53ms/step - loss: 1.4007 - accuracy: 0.4894 - val_loss: 3.1707 - val_accuracy: 0.1369\n",
      "Epoch 10/200\n",
      "26/26 [==============================] - 1s 54ms/step - loss: 1.3989 - accuracy: 0.5033 - val_loss: 4.5352 - val_accuracy: 0.1614\n",
      "Epoch 11/200\n",
      "26/26 [==============================] - 1s 53ms/step - loss: 1.2849 - accuracy: 0.5275 - val_loss: 3.1456 - val_accuracy: 0.1711\n",
      "Epoch 12/200\n",
      "26/26 [==============================] - 1s 54ms/step - loss: 1.2587 - accuracy: 0.5505 - val_loss: 1.7617 - val_accuracy: 0.3765\n",
      "Epoch 13/200\n",
      "26/26 [==============================] - 1s 53ms/step - loss: 1.2553 - accuracy: 0.5469 - val_loss: 1.6833 - val_accuracy: 0.4254\n",
      "Epoch 14/200\n",
      "26/26 [==============================] - 1s 53ms/step - loss: 1.2268 - accuracy: 0.5541 - val_loss: 1.9651 - val_accuracy: 0.3570\n",
      "Epoch 15/200\n",
      "26/26 [==============================] - 1s 53ms/step - loss: 1.1639 - accuracy: 0.5723 - val_loss: 1.6473 - val_accuracy: 0.4499\n",
      "Epoch 16/200\n",
      "26/26 [==============================] - 1s 55ms/step - loss: 1.1711 - accuracy: 0.5644 - val_loss: 2.7792 - val_accuracy: 0.3276\n",
      "Epoch 17/200\n",
      "26/26 [==============================] - 1s 56ms/step - loss: 1.1247 - accuracy: 0.5874 - val_loss: 1.8481 - val_accuracy: 0.4817\n",
      "Epoch 18/200\n",
      "26/26 [==============================] - 1s 54ms/step - loss: 1.0319 - accuracy: 0.6038 - val_loss: 1.5366 - val_accuracy: 0.5159\n",
      "Epoch 19/200\n",
      "26/26 [==============================] - 2s 61ms/step - loss: 0.9941 - accuracy: 0.6340 - val_loss: 1.2869 - val_accuracy: 0.5770\n",
      "Epoch 20/200\n",
      "26/26 [==============================] - 2s 65ms/step - loss: 0.9892 - accuracy: 0.6582 - val_loss: 1.2161 - val_accuracy: 0.6455\n",
      "Epoch 21/200\n",
      "26/26 [==============================] - 1s 57ms/step - loss: 0.9198 - accuracy: 0.6528 - val_loss: 1.3356 - val_accuracy: 0.5697\n",
      "Epoch 22/200\n",
      "26/26 [==============================] - 2s 66ms/step - loss: 0.9512 - accuracy: 0.6540 - val_loss: 1.1276 - val_accuracy: 0.6455\n",
      "Epoch 23/200\n",
      "26/26 [==============================] - 2s 59ms/step - loss: 0.9258 - accuracy: 0.6685 - val_loss: 1.9681 - val_accuracy: 0.5355\n",
      "Epoch 24/200\n",
      "26/26 [==============================] - 1s 51ms/step - loss: 0.9283 - accuracy: 0.6794 - val_loss: 1.2970 - val_accuracy: 0.5721\n",
      "Epoch 25/200\n",
      "26/26 [==============================] - 1s 53ms/step - loss: 0.8981 - accuracy: 0.6697 - val_loss: 1.6257 - val_accuracy: 0.5501\n",
      "Epoch 26/200\n",
      "26/26 [==============================] - 1s 53ms/step - loss: 0.9771 - accuracy: 0.6534 - val_loss: 1.6285 - val_accuracy: 0.4890\n",
      "Epoch 27/200\n",
      "26/26 [==============================] - 1s 53ms/step - loss: 0.8890 - accuracy: 0.6770 - val_loss: 1.1094 - val_accuracy: 0.6284\n",
      "Epoch 28/200\n",
      "26/26 [==============================] - 1s 55ms/step - loss: 0.9032 - accuracy: 0.6806 - val_loss: 1.0853 - val_accuracy: 0.6748\n",
      "Epoch 29/200\n",
      "26/26 [==============================] - 1s 54ms/step - loss: 0.8590 - accuracy: 0.6963 - val_loss: 1.2337 - val_accuracy: 0.5990\n",
      "Epoch 30/200\n",
      "26/26 [==============================] - 1s 53ms/step - loss: 0.8639 - accuracy: 0.6860 - val_loss: 1.0759 - val_accuracy: 0.6333\n",
      "Epoch 31/200\n",
      "26/26 [==============================] - 1s 53ms/step - loss: 0.8803 - accuracy: 0.6933 - val_loss: 1.0200 - val_accuracy: 0.6455\n",
      "Epoch 32/200\n",
      "26/26 [==============================] - 1s 54ms/step - loss: 0.8714 - accuracy: 0.6969 - val_loss: 1.0745 - val_accuracy: 0.6748\n",
      "Epoch 33/200\n",
      "26/26 [==============================] - 1s 50ms/step - loss: 0.8637 - accuracy: 0.6854 - val_loss: 1.0778 - val_accuracy: 0.6235\n",
      "Epoch 34/200\n",
      "26/26 [==============================] - 1s 53ms/step - loss: 0.8287 - accuracy: 0.7036 - val_loss: 1.1414 - val_accuracy: 0.6284\n",
      "Epoch 35/200\n",
      "26/26 [==============================] - 1s 53ms/step - loss: 0.7824 - accuracy: 0.7066 - val_loss: 1.3787 - val_accuracy: 0.5990\n",
      "Epoch 36/200\n",
      "26/26 [==============================] - 1s 56ms/step - loss: 0.8154 - accuracy: 0.7145 - val_loss: 1.9436 - val_accuracy: 0.5477\n",
      "Epoch 37/200\n",
      "26/26 [==============================] - 1s 55ms/step - loss: 0.8133 - accuracy: 0.7072 - val_loss: 1.3129 - val_accuracy: 0.6284\n",
      "Epoch 38/200\n",
      "26/26 [==============================] - 1s 54ms/step - loss: 0.7876 - accuracy: 0.7193 - val_loss: 1.5230 - val_accuracy: 0.6137\n",
      "Epoch 39/200\n",
      "26/26 [==============================] - 2s 62ms/step - loss: 0.7996 - accuracy: 0.7260 - val_loss: 1.5667 - val_accuracy: 0.6088\n",
      "Epoch 40/200\n",
      "26/26 [==============================] - 2s 63ms/step - loss: 0.7868 - accuracy: 0.7120 - val_loss: 1.7081 - val_accuracy: 0.6015\n",
      "Epoch 41/200\n",
      "26/26 [==============================] - 2s 58ms/step - loss: 0.7802 - accuracy: 0.7205 - val_loss: 1.1206 - val_accuracy: 0.6455\n",
      "Epoch 42/200\n",
      "26/26 [==============================] - 1s 54ms/step - loss: 0.7357 - accuracy: 0.7495 - val_loss: 1.7265 - val_accuracy: 0.6137\n",
      "Epoch 43/200\n",
      "26/26 [==============================] - 1s 53ms/step - loss: 0.7248 - accuracy: 0.7502 - val_loss: 1.2010 - val_accuracy: 0.6528\n",
      "Epoch 44/200\n",
      "26/26 [==============================] - 1s 53ms/step - loss: 0.7545 - accuracy: 0.7465 - val_loss: 1.3847 - val_accuracy: 0.6039\n",
      "Epoch 45/200\n",
      "26/26 [==============================] - 2s 60ms/step - loss: 0.7125 - accuracy: 0.7532 - val_loss: 1.3997 - val_accuracy: 0.5795\n",
      "Epoch 46/200\n",
      "26/26 [==============================] - 1s 57ms/step - loss: 0.7354 - accuracy: 0.7520 - val_loss: 1.3107 - val_accuracy: 0.5697\n",
      "Epoch 47/200\n",
      "26/26 [==============================] - 2s 63ms/step - loss: 0.7786 - accuracy: 0.7241 - val_loss: 1.0917 - val_accuracy: 0.6210\n",
      "Epoch 48/200\n",
      "26/26 [==============================] - 1s 56ms/step - loss: 0.7302 - accuracy: 0.7471 - val_loss: 1.4626 - val_accuracy: 0.6112\n",
      "Epoch 49/200\n",
      "26/26 [==============================] - 2s 59ms/step - loss: 0.7598 - accuracy: 0.7350 - val_loss: 1.0759 - val_accuracy: 0.6504\n",
      "Epoch 50/200\n",
      "26/26 [==============================] - 2s 59ms/step - loss: 0.7363 - accuracy: 0.7447 - val_loss: 1.0442 - val_accuracy: 0.6797\n",
      "Epoch 51/200\n",
      "26/26 [==============================] - 2s 58ms/step - loss: 0.7410 - accuracy: 0.7471 - val_loss: 1.6063 - val_accuracy: 0.6504\n",
      "Epoch 52/200\n",
      "26/26 [==============================] - 1s 57ms/step - loss: 0.7294 - accuracy: 0.7411 - val_loss: 1.2016 - val_accuracy: 0.6626\n",
      "Epoch 53/200\n",
      "26/26 [==============================] - 1s 52ms/step - loss: 0.6371 - accuracy: 0.7913 - val_loss: 1.1387 - val_accuracy: 0.6699\n",
      "Epoch 54/200\n",
      "26/26 [==============================] - 1s 53ms/step - loss: 0.6820 - accuracy: 0.7616 - val_loss: 1.7302 - val_accuracy: 0.6015\n",
      "Epoch 55/200\n",
      "26/26 [==============================] - 1s 53ms/step - loss: 0.7210 - accuracy: 0.7489 - val_loss: 1.7064 - val_accuracy: 0.6357\n",
      "Epoch 56/200\n",
      "26/26 [==============================] - 1s 53ms/step - loss: 0.7268 - accuracy: 0.7441 - val_loss: 1.1049 - val_accuracy: 0.6455\n",
      "Epoch 57/200\n",
      "26/26 [==============================] - 1s 52ms/step - loss: 0.7057 - accuracy: 0.7629 - val_loss: 1.4995 - val_accuracy: 0.6088\n",
      "Epoch 58/200\n"
     ]
    },
    {
     "name": "stdout",
     "output_type": "stream",
     "text": [
      "26/26 [==============================] - 1s 55ms/step - loss: 0.6918 - accuracy: 0.7647 - val_loss: 1.3698 - val_accuracy: 0.6235\n",
      "Epoch 59/200\n",
      "26/26 [==============================] - 1s 54ms/step - loss: 0.6839 - accuracy: 0.7598 - val_loss: 1.4056 - val_accuracy: 0.6064\n",
      "Epoch 60/200\n",
      "26/26 [==============================] - 1s 52ms/step - loss: 0.7125 - accuracy: 0.7623 - val_loss: 1.3615 - val_accuracy: 0.6284\n",
      "Epoch 61/200\n",
      "26/26 [==============================] - 1s 53ms/step - loss: 0.6536 - accuracy: 0.7786 - val_loss: 1.4151 - val_accuracy: 0.6406\n",
      "Epoch 62/200\n",
      "26/26 [==============================] - 1s 49ms/step - loss: 0.6774 - accuracy: 0.7677 - val_loss: 1.7224 - val_accuracy: 0.5917\n",
      "Epoch 63/200\n",
      "26/26 [==============================] - 1s 55ms/step - loss: 0.6624 - accuracy: 0.7647 - val_loss: 1.4825 - val_accuracy: 0.6039\n",
      "Epoch 64/200\n",
      "26/26 [==============================] - 1s 56ms/step - loss: 0.6866 - accuracy: 0.7731 - val_loss: 1.1714 - val_accuracy: 0.6773\n",
      "Epoch 65/200\n",
      "26/26 [==============================] - 2s 59ms/step - loss: 0.6477 - accuracy: 0.7774 - val_loss: 0.8967 - val_accuracy: 0.7042\n",
      "Epoch 66/200\n",
      "26/26 [==============================] - 1s 49ms/step - loss: 0.6415 - accuracy: 0.7864 - val_loss: 1.0299 - val_accuracy: 0.6650\n",
      "Epoch 67/200\n",
      "26/26 [==============================] - 1s 53ms/step - loss: 0.6744 - accuracy: 0.7743 - val_loss: 1.1262 - val_accuracy: 0.6626\n",
      "Epoch 68/200\n",
      "26/26 [==============================] - 2s 60ms/step - loss: 0.6926 - accuracy: 0.7737 - val_loss: 1.1989 - val_accuracy: 0.6577\n",
      "Epoch 69/200\n",
      "26/26 [==============================] - 2s 55ms/step - loss: 0.6281 - accuracy: 0.7707 - val_loss: 1.6167 - val_accuracy: 0.6259\n",
      "Epoch 70/200\n",
      "26/26 [==============================] - 2s 65ms/step - loss: 0.6421 - accuracy: 0.7871 - val_loss: 1.7689 - val_accuracy: 0.6015\n",
      "Epoch 71/200\n",
      "26/26 [==============================] - 2s 65ms/step - loss: 0.6446 - accuracy: 0.7743 - val_loss: 2.3768 - val_accuracy: 0.6137\n",
      "Epoch 72/200\n",
      "26/26 [==============================] - 2s 61ms/step - loss: 0.6393 - accuracy: 0.7786 - val_loss: 1.3564 - val_accuracy: 0.6699\n",
      "Epoch 73/200\n",
      "26/26 [==============================] - 1s 57ms/step - loss: 0.6297 - accuracy: 0.7846 - val_loss: 1.0791 - val_accuracy: 0.6650\n",
      "Epoch 74/200\n",
      "26/26 [==============================] - 2s 60ms/step - loss: 0.5969 - accuracy: 0.7889 - val_loss: 1.5075 - val_accuracy: 0.6235\n",
      "Epoch 75/200\n",
      "26/26 [==============================] - 2s 61ms/step - loss: 0.6677 - accuracy: 0.7635 - val_loss: 1.9820 - val_accuracy: 0.6015\n",
      "Epoch 76/200\n",
      "26/26 [==============================] - 2s 67ms/step - loss: 0.6438 - accuracy: 0.7804 - val_loss: 1.9640 - val_accuracy: 0.6088\n",
      "Epoch 77/200\n",
      "26/26 [==============================] - 2s 63ms/step - loss: 0.5786 - accuracy: 0.7985 - val_loss: 1.8549 - val_accuracy: 0.6430\n",
      "Epoch 78/200\n",
      "26/26 [==============================] - 2s 65ms/step - loss: 0.6268 - accuracy: 0.7804 - val_loss: 2.1781 - val_accuracy: 0.6064\n",
      "Epoch 79/200\n",
      "26/26 [==============================] - 2s 62ms/step - loss: 0.6569 - accuracy: 0.7895 - val_loss: 0.9885 - val_accuracy: 0.6895\n",
      "Epoch 80/200\n",
      "26/26 [==============================] - 2s 61ms/step - loss: 0.6353 - accuracy: 0.7828 - val_loss: 1.1377 - val_accuracy: 0.6357\n",
      "Epoch 81/200\n",
      "26/26 [==============================] - 2s 59ms/step - loss: 0.6343 - accuracy: 0.7768 - val_loss: 0.9175 - val_accuracy: 0.7213\n",
      "Epoch 82/200\n",
      "26/26 [==============================] - 1s 56ms/step - loss: 0.6512 - accuracy: 0.7689 - val_loss: 1.4997 - val_accuracy: 0.6895\n",
      "Epoch 83/200\n",
      "26/26 [==============================] - 1s 54ms/step - loss: 0.6138 - accuracy: 0.8052 - val_loss: 1.5790 - val_accuracy: 0.6870\n",
      "Epoch 84/200\n",
      "26/26 [==============================] - 1s 56ms/step - loss: 0.6234 - accuracy: 0.7858 - val_loss: 1.4041 - val_accuracy: 0.6430\n",
      "Epoch 85/200\n",
      "26/26 [==============================] - 1s 57ms/step - loss: 0.6078 - accuracy: 0.7949 - val_loss: 1.5420 - val_accuracy: 0.6381\n",
      "Epoch 86/200\n",
      "26/26 [==============================] - 2s 59ms/step - loss: 0.6042 - accuracy: 0.8034 - val_loss: 1.6740 - val_accuracy: 0.6112\n",
      "Epoch 87/200\n",
      "26/26 [==============================] - 1s 52ms/step - loss: 0.6129 - accuracy: 0.7919 - val_loss: 0.7866 - val_accuracy: 0.7262\n",
      "Epoch 88/200\n",
      "26/26 [==============================] - 1s 57ms/step - loss: 0.6432 - accuracy: 0.7828 - val_loss: 0.9377 - val_accuracy: 0.7066\n",
      "Epoch 89/200\n",
      "26/26 [==============================] - 1s 54ms/step - loss: 0.6385 - accuracy: 0.7792 - val_loss: 0.9654 - val_accuracy: 0.7139\n",
      "Epoch 90/200\n",
      "26/26 [==============================] - 1s 56ms/step - loss: 0.6006 - accuracy: 0.7949 - val_loss: 1.6022 - val_accuracy: 0.6235\n",
      "Epoch 91/200\n",
      "26/26 [==============================] - 1s 54ms/step - loss: 0.6248 - accuracy: 0.7846 - val_loss: 1.8865 - val_accuracy: 0.5917\n",
      "Epoch 92/200\n",
      "26/26 [==============================] - 1s 55ms/step - loss: 0.5793 - accuracy: 0.8052 - val_loss: 2.2377 - val_accuracy: 0.6259\n",
      "Epoch 93/200\n",
      "26/26 [==============================] - 1s 54ms/step - loss: 0.5856 - accuracy: 0.7998 - val_loss: 1.3261 - val_accuracy: 0.6675\n",
      "Epoch 94/200\n",
      "26/26 [==============================] - 1s 54ms/step - loss: 0.5829 - accuracy: 0.7919 - val_loss: 2.5977 - val_accuracy: 0.5550\n",
      "Epoch 95/200\n",
      "26/26 [==============================] - 1s 53ms/step - loss: 0.6085 - accuracy: 0.7852 - val_loss: 1.8365 - val_accuracy: 0.6039\n",
      "Epoch 96/200\n",
      "26/26 [==============================] - 1s 56ms/step - loss: 0.5966 - accuracy: 0.8016 - val_loss: 2.1950 - val_accuracy: 0.6088\n",
      "Epoch 97/200\n",
      "26/26 [==============================] - 1s 56ms/step - loss: 0.6237 - accuracy: 0.7919 - val_loss: 1.4419 - val_accuracy: 0.6553\n",
      "Epoch 98/200\n",
      "26/26 [==============================] - 1s 57ms/step - loss: 0.5748 - accuracy: 0.8004 - val_loss: 1.7022 - val_accuracy: 0.6430\n",
      "Epoch 99/200\n",
      "26/26 [==============================] - 1s 55ms/step - loss: 0.5644 - accuracy: 0.8106 - val_loss: 1.8665 - val_accuracy: 0.6479\n",
      "Epoch 100/200\n",
      "26/26 [==============================] - 1s 55ms/step - loss: 0.6052 - accuracy: 0.7925 - val_loss: 1.4447 - val_accuracy: 0.6553\n",
      "Epoch 101/200\n",
      "26/26 [==============================] - 1s 57ms/step - loss: 0.6082 - accuracy: 0.7883 - val_loss: 2.5672 - val_accuracy: 0.5990\n",
      "Epoch 102/200\n",
      "26/26 [==============================] - 1s 55ms/step - loss: 0.6894 - accuracy: 0.7828 - val_loss: 1.4673 - val_accuracy: 0.6406\n",
      "Epoch 103/200\n",
      "26/26 [==============================] - 1s 54ms/step - loss: 0.5825 - accuracy: 0.8046 - val_loss: 1.5085 - val_accuracy: 0.7017\n",
      "Epoch 104/200\n",
      "26/26 [==============================] - 1s 54ms/step - loss: 0.5888 - accuracy: 0.8022 - val_loss: 2.5121 - val_accuracy: 0.6015\n",
      "Epoch 105/200\n",
      "26/26 [==============================] - 1s 55ms/step - loss: 0.5986 - accuracy: 0.7919 - val_loss: 1.5370 - val_accuracy: 0.6650\n",
      "Epoch 106/200\n",
      "26/26 [==============================] - 1s 56ms/step - loss: 0.6240 - accuracy: 0.8028 - val_loss: 1.5712 - val_accuracy: 0.6137\n",
      "Epoch 107/200\n",
      "26/26 [==============================] - 1s 54ms/step - loss: 0.6025 - accuracy: 0.7895 - val_loss: 2.2879 - val_accuracy: 0.6112\n",
      "Epoch 108/200\n",
      "26/26 [==============================] - 1s 56ms/step - loss: 0.5585 - accuracy: 0.8215 - val_loss: 1.5704 - val_accuracy: 0.6137\n",
      "Epoch 109/200\n",
      "26/26 [==============================] - 1s 55ms/step - loss: 0.6079 - accuracy: 0.7973 - val_loss: 1.2846 - val_accuracy: 0.7237\n",
      "Epoch 110/200\n",
      "26/26 [==============================] - 1s 54ms/step - loss: 0.6160 - accuracy: 0.7937 - val_loss: 0.8928 - val_accuracy: 0.7433\n",
      "Epoch 111/200\n",
      "26/26 [==============================] - 1s 54ms/step - loss: 0.5528 - accuracy: 0.8161 - val_loss: 0.7672 - val_accuracy: 0.7579\n",
      "Epoch 112/200\n",
      "26/26 [==============================] - 1s 55ms/step - loss: 0.6002 - accuracy: 0.8064 - val_loss: 1.1853 - val_accuracy: 0.6699\n",
      "Epoch 113/200\n",
      "26/26 [==============================] - 1s 55ms/step - loss: 0.5797 - accuracy: 0.8082 - val_loss: 0.9383 - val_accuracy: 0.7359\n",
      "Epoch 114/200\n",
      "26/26 [==============================] - 1s 57ms/step - loss: 0.5859 - accuracy: 0.8094 - val_loss: 0.9378 - val_accuracy: 0.7531\n",
      "Epoch 115/200\n"
     ]
    },
    {
     "name": "stdout",
     "output_type": "stream",
     "text": [
      "26/26 [==============================] - 1s 54ms/step - loss: 0.5429 - accuracy: 0.8203 - val_loss: 1.3153 - val_accuracy: 0.7090\n",
      "Epoch 116/200\n",
      "26/26 [==============================] - 1s 54ms/step - loss: 0.5531 - accuracy: 0.8185 - val_loss: 1.5136 - val_accuracy: 0.6773\n",
      "Epoch 117/200\n",
      "26/26 [==============================] - 1s 50ms/step - loss: 0.6092 - accuracy: 0.7992 - val_loss: 1.7570 - val_accuracy: 0.6797\n",
      "Epoch 118/200\n",
      "26/26 [==============================] - 1s 55ms/step - loss: 0.6130 - accuracy: 0.7895 - val_loss: 1.3964 - val_accuracy: 0.6577\n",
      "Epoch 119/200\n",
      "26/26 [==============================] - 1s 52ms/step - loss: 0.5343 - accuracy: 0.8246 - val_loss: 1.1156 - val_accuracy: 0.6895\n",
      "Epoch 120/200\n",
      "26/26 [==============================] - 1s 53ms/step - loss: 0.5741 - accuracy: 0.8125 - val_loss: 1.2546 - val_accuracy: 0.6504\n",
      "Epoch 121/200\n",
      "26/26 [==============================] - 1s 55ms/step - loss: 0.5742 - accuracy: 0.8058 - val_loss: 1.0093 - val_accuracy: 0.7262\n",
      "Epoch 122/200\n",
      "26/26 [==============================] - 1s 54ms/step - loss: 0.6057 - accuracy: 0.8064 - val_loss: 1.5436 - val_accuracy: 0.6137\n",
      "Epoch 123/200\n",
      "26/26 [==============================] - 1s 55ms/step - loss: 0.5382 - accuracy: 0.8155 - val_loss: 1.1869 - val_accuracy: 0.6944\n",
      "Epoch 124/200\n",
      "26/26 [==============================] - 1s 55ms/step - loss: 0.5733 - accuracy: 0.8161 - val_loss: 1.3476 - val_accuracy: 0.7042\n",
      "Epoch 125/200\n",
      "26/26 [==============================] - 1s 55ms/step - loss: 0.5182 - accuracy: 0.8282 - val_loss: 1.7420 - val_accuracy: 0.6112\n",
      "Epoch 126/200\n",
      "26/26 [==============================] - 1s 54ms/step - loss: 0.5639 - accuracy: 0.8046 - val_loss: 2.5540 - val_accuracy: 0.5526\n",
      "Epoch 127/200\n",
      "26/26 [==============================] - 1s 53ms/step - loss: 0.5113 - accuracy: 0.8227 - val_loss: 1.6742 - val_accuracy: 0.6699\n",
      "Epoch 128/200\n",
      "26/26 [==============================] - 1s 55ms/step - loss: 0.5298 - accuracy: 0.8294 - val_loss: 1.9268 - val_accuracy: 0.6553\n",
      "Epoch 129/200\n",
      "26/26 [==============================] - 1s 55ms/step - loss: 0.5571 - accuracy: 0.8173 - val_loss: 1.4769 - val_accuracy: 0.6381\n",
      "Epoch 130/200\n",
      "26/26 [==============================] - 1s 57ms/step - loss: 0.5550 - accuracy: 0.8185 - val_loss: 1.5328 - val_accuracy: 0.6601\n",
      "Epoch 131/200\n",
      "26/26 [==============================] - 2s 59ms/step - loss: 0.5474 - accuracy: 0.8131 - val_loss: 1.5417 - val_accuracy: 0.6724\n",
      "Epoch 132/200\n",
      "26/26 [==============================] - 1s 56ms/step - loss: 0.5573 - accuracy: 0.8088 - val_loss: 1.8193 - val_accuracy: 0.6015\n",
      "Epoch 133/200\n",
      "26/26 [==============================] - 1s 54ms/step - loss: 0.5376 - accuracy: 0.8197 - val_loss: 1.8561 - val_accuracy: 0.6186\n",
      "Epoch 134/200\n",
      "26/26 [==============================] - 1s 54ms/step - loss: 0.5299 - accuracy: 0.8149 - val_loss: 3.1880 - val_accuracy: 0.5892\n",
      "Epoch 135/200\n",
      "26/26 [==============================] - 1s 54ms/step - loss: 0.5856 - accuracy: 0.8040 - val_loss: 0.9177 - val_accuracy: 0.7213\n",
      "Epoch 136/200\n",
      "26/26 [==============================] - 1s 55ms/step - loss: 0.5736 - accuracy: 0.8173 - val_loss: 1.0910 - val_accuracy: 0.7237\n",
      "Epoch 137/200\n",
      "26/26 [==============================] - 1s 54ms/step - loss: 0.5658 - accuracy: 0.8022 - val_loss: 1.7081 - val_accuracy: 0.6455\n",
      "Epoch 138/200\n",
      "26/26 [==============================] - 1s 50ms/step - loss: 0.5611 - accuracy: 0.8119 - val_loss: 1.7373 - val_accuracy: 0.6822\n",
      "Epoch 139/200\n",
      "26/26 [==============================] - 1s 55ms/step - loss: 0.5143 - accuracy: 0.8318 - val_loss: 1.0741 - val_accuracy: 0.7139\n",
      "Epoch 140/200\n",
      "26/26 [==============================] - 1s 55ms/step - loss: 0.5524 - accuracy: 0.8191 - val_loss: 1.4355 - val_accuracy: 0.6381\n",
      "Epoch 141/200\n",
      "26/26 [==============================] - 1s 55ms/step - loss: 0.5772 - accuracy: 0.8034 - val_loss: 1.2701 - val_accuracy: 0.6626\n",
      "Epoch 142/200\n",
      "26/26 [==============================] - 2s 58ms/step - loss: 0.5239 - accuracy: 0.8300 - val_loss: 1.9571 - val_accuracy: 0.6381\n",
      "Epoch 143/200\n",
      "26/26 [==============================] - 2s 58ms/step - loss: 0.5391 - accuracy: 0.8270 - val_loss: 1.1488 - val_accuracy: 0.6870\n",
      "Epoch 144/200\n",
      "26/26 [==============================] - 1s 55ms/step - loss: 0.5680 - accuracy: 0.8215 - val_loss: 1.7394 - val_accuracy: 0.6626\n",
      "Epoch 145/200\n",
      "26/26 [==============================] - 1s 54ms/step - loss: 0.5542 - accuracy: 0.8155 - val_loss: 1.5868 - val_accuracy: 0.6724\n",
      "Epoch 146/200\n",
      "26/26 [==============================] - 1s 54ms/step - loss: 0.4986 - accuracy: 0.8306 - val_loss: 1.6688 - val_accuracy: 0.6553\n",
      "Epoch 147/200\n",
      "26/26 [==============================] - 1s 55ms/step - loss: 0.5497 - accuracy: 0.8227 - val_loss: 2.4262 - val_accuracy: 0.6161\n",
      "Epoch 148/200\n",
      "26/26 [==============================] - 1s 51ms/step - loss: 0.4946 - accuracy: 0.8415 - val_loss: 2.0696 - val_accuracy: 0.6088\n",
      "Epoch 149/200\n",
      "26/26 [==============================] - 1s 55ms/step - loss: 0.5028 - accuracy: 0.8288 - val_loss: 2.4091 - val_accuracy: 0.6235\n",
      "Epoch 150/200\n",
      "26/26 [==============================] - 1s 54ms/step - loss: 0.5283 - accuracy: 0.8276 - val_loss: 1.7615 - val_accuracy: 0.6504\n",
      "Epoch 151/200\n",
      "26/26 [==============================] - 1s 55ms/step - loss: 0.5539 - accuracy: 0.8137 - val_loss: 1.7105 - val_accuracy: 0.6357\n",
      "Epoch 152/200\n",
      "26/26 [==============================] - 1s 55ms/step - loss: 0.5287 - accuracy: 0.8258 - val_loss: 1.6015 - val_accuracy: 0.6773\n",
      "Epoch 153/200\n",
      "26/26 [==============================] - 1s 55ms/step - loss: 0.4849 - accuracy: 0.8330 - val_loss: 1.9516 - val_accuracy: 0.6430\n",
      "Epoch 154/200\n",
      "26/26 [==============================] - 1s 54ms/step - loss: 0.4737 - accuracy: 0.8445 - val_loss: 1.6021 - val_accuracy: 0.6504\n",
      "Epoch 155/200\n",
      "26/26 [==============================] - 1s 54ms/step - loss: 0.5043 - accuracy: 0.8282 - val_loss: 1.1374 - val_accuracy: 0.7017\n",
      "Epoch 156/200\n",
      "26/26 [==============================] - 1s 56ms/step - loss: 0.5496 - accuracy: 0.8203 - val_loss: 1.2768 - val_accuracy: 0.7090\n",
      "Epoch 157/200\n",
      "26/26 [==============================] - 1s 55ms/step - loss: 0.5409 - accuracy: 0.8173 - val_loss: 2.1076 - val_accuracy: 0.6015\n",
      "Epoch 158/200\n",
      "26/26 [==============================] - 1s 54ms/step - loss: 0.5658 - accuracy: 0.8197 - val_loss: 1.4606 - val_accuracy: 0.6333\n",
      "Epoch 159/200\n",
      "26/26 [==============================] - 1s 54ms/step - loss: 0.5579 - accuracy: 0.8209 - val_loss: 0.9656 - val_accuracy: 0.6797\n",
      "Epoch 160/200\n",
      "26/26 [==============================] - 1s 52ms/step - loss: 0.5466 - accuracy: 0.8312 - val_loss: 1.0007 - val_accuracy: 0.6846\n",
      "Epoch 161/200\n",
      "26/26 [==============================] - 1s 55ms/step - loss: 0.5532 - accuracy: 0.8246 - val_loss: 1.7328 - val_accuracy: 0.6773\n",
      "Epoch 162/200\n",
      "26/26 [==============================] - 1s 57ms/step - loss: 0.5427 - accuracy: 0.8294 - val_loss: 1.1573 - val_accuracy: 0.7090\n",
      "Epoch 163/200\n",
      "26/26 [==============================] - 1s 54ms/step - loss: 0.5224 - accuracy: 0.8330 - val_loss: 1.3915 - val_accuracy: 0.7115\n",
      "Epoch 164/200\n",
      "26/26 [==============================] - 1s 57ms/step - loss: 0.5044 - accuracy: 0.8336 - val_loss: 0.9440 - val_accuracy: 0.7115\n",
      "Epoch 165/200\n",
      "26/26 [==============================] - 1s 56ms/step - loss: 0.5328 - accuracy: 0.8209 - val_loss: 1.9439 - val_accuracy: 0.5990\n",
      "Epoch 166/200\n",
      "26/26 [==============================] - 1s 54ms/step - loss: 0.5265 - accuracy: 0.8197 - val_loss: 2.1433 - val_accuracy: 0.6039\n",
      "Epoch 167/200\n",
      "26/26 [==============================] - 1s 55ms/step - loss: 0.5090 - accuracy: 0.8252 - val_loss: 1.4619 - val_accuracy: 0.6773\n",
      "Epoch 168/200\n",
      "26/26 [==============================] - 1s 55ms/step - loss: 0.4940 - accuracy: 0.8379 - val_loss: 1.6645 - val_accuracy: 0.6626\n",
      "Epoch 169/200\n",
      "26/26 [==============================] - 1s 55ms/step - loss: 0.5393 - accuracy: 0.8191 - val_loss: 1.1197 - val_accuracy: 0.6944\n",
      "Epoch 170/200\n",
      "26/26 [==============================] - 1s 55ms/step - loss: 0.5741 - accuracy: 0.8119 - val_loss: 1.5085 - val_accuracy: 0.6235\n",
      "Epoch 171/200\n",
      "26/26 [==============================] - 1s 54ms/step - loss: 0.5366 - accuracy: 0.8221 - val_loss: 1.4023 - val_accuracy: 0.6626\n"
     ]
    },
    {
     "name": "stdout",
     "output_type": "stream",
     "text": [
      "Epoch 172/200\n",
      "26/26 [==============================] - 1s 52ms/step - loss: 0.5181 - accuracy: 0.8318 - val_loss: 1.0703 - val_accuracy: 0.6993\n",
      "Epoch 173/200\n",
      "26/26 [==============================] - 1s 54ms/step - loss: 0.5304 - accuracy: 0.8191 - val_loss: 1.3711 - val_accuracy: 0.7090\n",
      "Epoch 174/200\n",
      "26/26 [==============================] - 1s 53ms/step - loss: 0.5210 - accuracy: 0.8155 - val_loss: 1.3980 - val_accuracy: 0.6675\n",
      "Epoch 175/200\n",
      "26/26 [==============================] - 1s 53ms/step - loss: 0.5372 - accuracy: 0.8276 - val_loss: 1.2780 - val_accuracy: 0.6577\n",
      "Epoch 176/200\n",
      "26/26 [==============================] - 1s 55ms/step - loss: 0.4822 - accuracy: 0.8451 - val_loss: 1.2149 - val_accuracy: 0.6699\n",
      "Epoch 177/200\n",
      "26/26 [==============================] - 1s 54ms/step - loss: 0.5012 - accuracy: 0.8264 - val_loss: 0.9367 - val_accuracy: 0.7359\n",
      "Epoch 178/200\n",
      "26/26 [==============================] - 1s 54ms/step - loss: 0.4781 - accuracy: 0.8397 - val_loss: 0.9919 - val_accuracy: 0.7335\n",
      "Epoch 179/200\n",
      "26/26 [==============================] - 1s 55ms/step - loss: 0.4928 - accuracy: 0.8475 - val_loss: 1.0965 - val_accuracy: 0.7017\n",
      "Epoch 180/200\n",
      "26/26 [==============================] - 1s 55ms/step - loss: 0.5301 - accuracy: 0.8270 - val_loss: 0.9264 - val_accuracy: 0.7408\n",
      "Epoch 181/200\n",
      "26/26 [==============================] - 1s 54ms/step - loss: 0.5220 - accuracy: 0.8361 - val_loss: 1.0944 - val_accuracy: 0.7213\n",
      "Epoch 182/200\n",
      "26/26 [==============================] - 1s 55ms/step - loss: 0.4923 - accuracy: 0.8355 - val_loss: 1.9579 - val_accuracy: 0.6699\n",
      "Epoch 183/200\n",
      "26/26 [==============================] - 1s 56ms/step - loss: 0.5325 - accuracy: 0.8348 - val_loss: 0.9374 - val_accuracy: 0.6822\n",
      "Epoch 184/200\n",
      "26/26 [==============================] - 1s 55ms/step - loss: 0.5164 - accuracy: 0.8215 - val_loss: 1.4303 - val_accuracy: 0.6455\n",
      "Epoch 185/200\n",
      "26/26 [==============================] - 1s 54ms/step - loss: 0.5011 - accuracy: 0.8324 - val_loss: 1.2220 - val_accuracy: 0.7090\n",
      "Epoch 186/200\n",
      "26/26 [==============================] - 1s 53ms/step - loss: 0.5129 - accuracy: 0.8252 - val_loss: 1.1633 - val_accuracy: 0.7090\n",
      "Epoch 187/200\n",
      "26/26 [==============================] - 1s 54ms/step - loss: 0.4913 - accuracy: 0.8433 - val_loss: 1.1638 - val_accuracy: 0.7090\n",
      "Epoch 188/200\n",
      "26/26 [==============================] - 1s 55ms/step - loss: 0.4619 - accuracy: 0.8445 - val_loss: 1.9202 - val_accuracy: 0.6528\n",
      "Epoch 189/200\n",
      "26/26 [==============================] - 2s 62ms/step - loss: 0.5487 - accuracy: 0.8203 - val_loss: 1.7854 - val_accuracy: 0.6284\n",
      "Epoch 190/200\n",
      "26/26 [==============================] - 2s 59ms/step - loss: 0.4679 - accuracy: 0.8342 - val_loss: 1.7992 - val_accuracy: 0.6430\n",
      "Epoch 191/200\n",
      "26/26 [==============================] - 1s 55ms/step - loss: 0.4908 - accuracy: 0.8391 - val_loss: 1.6691 - val_accuracy: 0.6430\n",
      "Epoch 192/200\n",
      "26/26 [==============================] - 1s 55ms/step - loss: 0.5198 - accuracy: 0.8215 - val_loss: 1.0371 - val_accuracy: 0.6748\n",
      "Epoch 193/200\n",
      "26/26 [==============================] - 1s 55ms/step - loss: 0.4626 - accuracy: 0.8433 - val_loss: 0.9723 - val_accuracy: 0.6968\n",
      "Epoch 194/200\n",
      "26/26 [==============================] - 1s 55ms/step - loss: 0.4894 - accuracy: 0.8361 - val_loss: 1.1837 - val_accuracy: 0.6968\n",
      "Epoch 195/200\n",
      "26/26 [==============================] - 1s 54ms/step - loss: 0.4838 - accuracy: 0.8415 - val_loss: 1.6022 - val_accuracy: 0.6724\n",
      "Epoch 196/200\n",
      "26/26 [==============================] - 1s 55ms/step - loss: 0.4849 - accuracy: 0.8415 - val_loss: 1.0476 - val_accuracy: 0.7262\n",
      "Epoch 197/200\n",
      "26/26 [==============================] - 1s 55ms/step - loss: 0.4846 - accuracy: 0.8463 - val_loss: 0.8738 - val_accuracy: 0.7384\n",
      "Epoch 198/200\n",
      "26/26 [==============================] - 1s 56ms/step - loss: 0.5035 - accuracy: 0.8463 - val_loss: 0.7853 - val_accuracy: 0.7482\n",
      "Epoch 199/200\n",
      "26/26 [==============================] - 1s 53ms/step - loss: 0.4684 - accuracy: 0.8433 - val_loss: 0.9242 - val_accuracy: 0.7335\n",
      "Epoch 200/200\n",
      "26/26 [==============================] - 2s 58ms/step - loss: 0.5083 - accuracy: 0.8264 - val_loss: 0.7977 - val_accuracy: 0.7555\n",
      "Execution time is 295 seconds\n"
     ]
    }
   ],
   "source": [
    "model3.compile(optimizer =SGD(lr=0.03, momentum = 0.9), loss = 'categorical_crossentropy', metrics = ['accuracy'])\n",
    "\n",
    "########################\n",
    "# fit model and train\n",
    "########################\n",
    "\n",
    "import time\n",
    "start = time.time()\n",
    "\n",
    "history=model3.fit_generator(\n",
    "        train_generator, \n",
    "        steps_per_epoch = len(train_generator), \n",
    "        epochs=200,\n",
    "        validation_data = validation_generator,\n",
    "        validation_steps = len(validation_generator), \n",
    "        verbose=1)\n",
    "\n",
    "model3.save_weights('m3_BatchNorm_200epochs.h5')\n",
    "\n",
    "end = time.time()\n",
    "print(\"Execution time is\", int(end - start), \"seconds\")"
   ]
  },
  {
   "cell_type": "code",
   "execution_count": 58,
   "metadata": {},
   "outputs": [
    {
     "data": {
      "text/plain": [
       "<matplotlib.legend.Legend at 0x1fd97f44a00>"
      ]
     },
     "execution_count": 58,
     "metadata": {},
     "output_type": "execute_result"
    },
    {
     "data": {
      "image/png": "[encoded data removed]",
      "text/plain": [
       "<Figure size 432x288 with 1 Axes>"
      ]
     },
     "metadata": {
      "needs_background": "light"
     },
     "output_type": "display_data"
    }
   ],
   "source": [
    "## Plotting the results \n",
    "plt.plot(history.history['accuracy'], label='accuracy')\n",
    "plt.plot(history.history['val_accuracy'], label = 'val_accuracy')\n",
    "plt.title(\"Train and Valid Accuracy by Epochs\")\n",
    "plt.xlabel('Epoch')\n",
    "plt.ylabel('Accuracy')\n",
    "plt.ylim([0,1])\n",
    "plt.legend(loc='lower right')"
   ]
  },
  {
   "cell_type": "code",
   "execution_count": 60,
   "metadata": {},
   "outputs": [
    {
     "name": "stdout",
     "output_type": "stream",
     "text": [
      "Epoch 1/2\n",
      "26/26 [==============================] - 2s 59ms/step - loss: 0.5121 - accuracy: 0.8445 - val_loss: 1.0400 - val_accuracy: 0.7457\n",
      "Epoch 2/2\n",
      "26/26 [==============================] - 1s 48ms/step - loss: 0.5443 - accuracy: 0.8167 - val_loss: 1.0862 - val_accuracy: 0.6846\n"
     ]
    }
   ],
   "source": [
    "model3.load_weights(\"C:\\\\Users\\\\SREEHARI\\\\Desktop\\\\internship\\\\my training\\\\Chapter11_CNN\\\\m3_BatchNorm_200epochs.h5\")\n",
    "\n",
    "history=model3.fit_generator(\n",
    "        train_generator, \n",
    "        steps_per_epoch = len(train_generator), \n",
    "        epochs=2,\n",
    "        validation_data = validation_generator,\n",
    "        validation_steps = len(validation_generator), \n",
    "        verbose=1)"
   ]
  },
  {
   "cell_type": "markdown",
   "metadata": {},
   "source": [
    "## Adam  Optimizer "
   ]
  },
  {
   "cell_type": "code",
   "execution_count": 61,
   "metadata": {},
   "outputs": [
    {
     "name": "stdout",
     "output_type": "stream",
     "text": [
      "Epoch 1/100\n",
      "26/26 [==============================] - 2s 65ms/step - loss: 0.5254 - accuracy: 0.8215 - val_loss: 2.7839 - val_accuracy: 0.6161\n",
      "Epoch 2/100\n",
      "26/26 [==============================] - 1s 54ms/step - loss: 0.4872 - accuracy: 0.8427 - val_loss: 1.5000 - val_accuracy: 0.6724\n",
      "Epoch 3/100\n",
      "26/26 [==============================] - 1s 55ms/step - loss: 0.5123 - accuracy: 0.8282 - val_loss: 0.9025 - val_accuracy: 0.7164\n",
      "Epoch 4/100\n",
      "26/26 [==============================] - 1s 55ms/step - loss: 0.5202 - accuracy: 0.8409 - val_loss: 0.8148 - val_accuracy: 0.7555\n",
      "Epoch 5/100\n",
      "26/26 [==============================] - 1s 50ms/step - loss: 0.4966 - accuracy: 0.8294 - val_loss: 1.0684 - val_accuracy: 0.6895\n",
      "Epoch 6/100\n",
      "26/26 [==============================] - 1s 55ms/step - loss: 0.4922 - accuracy: 0.8306 - val_loss: 0.9893 - val_accuracy: 0.7384\n",
      "Epoch 7/100\n",
      "26/26 [==============================] - 1s 56ms/step - loss: 0.4931 - accuracy: 0.8246 - val_loss: 1.2685 - val_accuracy: 0.7017\n",
      "Epoch 8/100\n",
      "26/26 [==============================] - 1s 54ms/step - loss: 0.5416 - accuracy: 0.8203 - val_loss: 1.2372 - val_accuracy: 0.7262\n",
      "Epoch 9/100\n",
      "26/26 [==============================] - 1s 55ms/step - loss: 0.6034 - accuracy: 0.8197 - val_loss: 1.9088 - val_accuracy: 0.6504\n",
      "Epoch 10/100\n",
      "26/26 [==============================] - 1s 55ms/step - loss: 0.5170 - accuracy: 0.8264 - val_loss: 1.0779 - val_accuracy: 0.7139\n",
      "Epoch 11/100\n",
      "26/26 [==============================] - 1s 55ms/step - loss: 0.4834 - accuracy: 0.8391 - val_loss: 0.8363 - val_accuracy: 0.7751\n",
      "Epoch 12/100\n",
      "26/26 [==============================] - 1s 54ms/step - loss: 0.5108 - accuracy: 0.8294 - val_loss: 1.3327 - val_accuracy: 0.6870\n",
      "Epoch 13/100\n",
      "26/26 [==============================] - 1s 54ms/step - loss: 0.5210 - accuracy: 0.8161 - val_loss: 1.0841 - val_accuracy: 0.7164\n",
      "Epoch 14/100\n",
      "26/26 [==============================] - 1s 55ms/step - loss: 0.4768 - accuracy: 0.8439 - val_loss: 0.7853 - val_accuracy: 0.7555\n",
      "Epoch 15/100\n",
      "26/26 [==============================] - 1s 55ms/step - loss: 0.4833 - accuracy: 0.8494 - val_loss: 0.8589 - val_accuracy: 0.7506\n",
      "Epoch 16/100\n",
      "26/26 [==============================] - 1s 54ms/step - loss: 0.5160 - accuracy: 0.8427 - val_loss: 1.0579 - val_accuracy: 0.7164\n",
      "Epoch 17/100\n",
      "26/26 [==============================] - 1s 55ms/step - loss: 0.5328 - accuracy: 0.8209 - val_loss: 0.8550 - val_accuracy: 0.7384\n",
      "Epoch 18/100\n",
      "26/26 [==============================] - 1s 55ms/step - loss: 0.4800 - accuracy: 0.8324 - val_loss: 0.8426 - val_accuracy: 0.7751\n",
      "Epoch 19/100\n",
      "26/26 [==============================] - 1s 54ms/step - loss: 0.4652 - accuracy: 0.8500 - val_loss: 1.1046 - val_accuracy: 0.7237\n",
      "Epoch 20/100\n",
      "26/26 [==============================] - 1s 54ms/step - loss: 0.4546 - accuracy: 0.8512 - val_loss: 0.8721 - val_accuracy: 0.7751\n",
      "Epoch 21/100\n",
      "26/26 [==============================] - 1s 55ms/step - loss: 0.4801 - accuracy: 0.8433 - val_loss: 2.4962 - val_accuracy: 0.6381\n",
      "Epoch 22/100\n",
      "26/26 [==============================] - 1s 54ms/step - loss: 0.4744 - accuracy: 0.8457 - val_loss: 1.1287 - val_accuracy: 0.7017\n",
      "Epoch 23/100\n",
      "26/26 [==============================] - 1s 52ms/step - loss: 0.4701 - accuracy: 0.8409 - val_loss: 1.1425 - val_accuracy: 0.7188\n",
      "Epoch 24/100\n",
      "26/26 [==============================] - 1s 56ms/step - loss: 0.4926 - accuracy: 0.8391 - val_loss: 0.9612 - val_accuracy: 0.7286\n",
      "Epoch 25/100\n",
      "26/26 [==============================] - 1s 54ms/step - loss: 0.5173 - accuracy: 0.8330 - val_loss: 0.8424 - val_accuracy: 0.7726\n",
      "Epoch 26/100\n",
      "26/26 [==============================] - 1s 54ms/step - loss: 0.4470 - accuracy: 0.8482 - val_loss: 2.7249 - val_accuracy: 0.6528\n",
      "Epoch 27/100\n",
      "26/26 [==============================] - 1s 56ms/step - loss: 0.4781 - accuracy: 0.8385 - val_loss: 3.1092 - val_accuracy: 0.6235\n",
      "Epoch 28/100\n",
      "26/26 [==============================] - 1s 56ms/step - loss: 0.4738 - accuracy: 0.8518 - val_loss: 1.9010 - val_accuracy: 0.6210\n",
      "Epoch 29/100\n",
      "26/26 [==============================] - 1s 56ms/step - loss: 0.4803 - accuracy: 0.8348 - val_loss: 1.2324 - val_accuracy: 0.6870\n",
      "Epoch 30/100\n",
      "26/26 [==============================] - 1s 56ms/step - loss: 0.4729 - accuracy: 0.8373 - val_loss: 0.8073 - val_accuracy: 0.7579\n",
      "Epoch 31/100\n",
      "26/26 [==============================] - 2s 59ms/step - loss: 0.4801 - accuracy: 0.8385 - val_loss: 0.7741 - val_accuracy: 0.7408\n",
      "Epoch 32/100\n",
      "26/26 [==============================] - 2s 59ms/step - loss: 0.4960 - accuracy: 0.8433 - val_loss: 0.9723 - val_accuracy: 0.7090\n",
      "Epoch 33/100\n",
      "26/26 [==============================] - 1s 57ms/step - loss: 0.4935 - accuracy: 0.8391 - val_loss: 1.0133 - val_accuracy: 0.7188\n",
      "Epoch 34/100\n",
      "26/26 [==============================] - 2s 58ms/step - loss: 0.4922 - accuracy: 0.8445 - val_loss: 1.3969 - val_accuracy: 0.6919\n",
      "Epoch 35/100\n",
      "26/26 [==============================] - 1s 57ms/step - loss: 0.4905 - accuracy: 0.8391 - val_loss: 1.8610 - val_accuracy: 0.6430\n",
      "Epoch 36/100\n",
      "26/26 [==============================] - 1s 57ms/step - loss: 0.4639 - accuracy: 0.8494 - val_loss: 1.6670 - val_accuracy: 0.6039\n",
      "Epoch 37/100\n",
      "26/26 [==============================] - 1s 57ms/step - loss: 0.4471 - accuracy: 0.8584 - val_loss: 0.6670 - val_accuracy: 0.7873\n",
      "Epoch 38/100\n",
      "26/26 [==============================] - 1s 56ms/step - loss: 0.4502 - accuracy: 0.8421 - val_loss: 1.1800 - val_accuracy: 0.7017\n",
      "Epoch 39/100\n",
      "26/26 [==============================] - 1s 55ms/step - loss: 0.5016 - accuracy: 0.8457 - val_loss: 1.3532 - val_accuracy: 0.6944\n",
      "Epoch 40/100\n",
      "26/26 [==============================] - 1s 51ms/step - loss: 0.4545 - accuracy: 0.8518 - val_loss: 1.7523 - val_accuracy: 0.6944\n",
      "Epoch 41/100\n",
      "26/26 [==============================] - 1s 55ms/step - loss: 0.4610 - accuracy: 0.8536 - val_loss: 1.4726 - val_accuracy: 0.7042\n",
      "Epoch 42/100\n",
      "26/26 [==============================] - 1s 54ms/step - loss: 0.4555 - accuracy: 0.8512 - val_loss: 2.3179 - val_accuracy: 0.6870\n",
      "Epoch 43/100\n",
      "26/26 [==============================] - 1s 54ms/step - loss: 0.4944 - accuracy: 0.8439 - val_loss: 1.2847 - val_accuracy: 0.7457\n",
      "Epoch 44/100\n",
      "26/26 [==============================] - 1s 54ms/step - loss: 0.4462 - accuracy: 0.8482 - val_loss: 0.7107 - val_accuracy: 0.8020\n",
      "Epoch 45/100\n",
      "26/26 [==============================] - 1s 55ms/step - loss: 0.4857 - accuracy: 0.8488 - val_loss: 1.2220 - val_accuracy: 0.7482\n",
      "Epoch 46/100\n",
      "26/26 [==============================] - 1s 54ms/step - loss: 0.4831 - accuracy: 0.8385 - val_loss: 0.9669 - val_accuracy: 0.7677\n",
      "Epoch 47/100\n",
      "26/26 [==============================] - 1s 55ms/step - loss: 0.4442 - accuracy: 0.8542 - val_loss: 0.9155 - val_accuracy: 0.7751\n",
      "Epoch 48/100\n",
      "26/26 [==============================] - 1s 54ms/step - loss: 0.4630 - accuracy: 0.8524 - val_loss: 0.8664 - val_accuracy: 0.7873\n",
      "Epoch 49/100\n",
      "26/26 [==============================] - 1s 54ms/step - loss: 0.4252 - accuracy: 0.8645 - val_loss: 0.6995 - val_accuracy: 0.8068\n",
      "Epoch 50/100\n",
      "26/26 [==============================] - 1s 52ms/step - loss: 0.4382 - accuracy: 0.8506 - val_loss: 2.2706 - val_accuracy: 0.6528\n",
      "Epoch 51/100\n",
      "26/26 [==============================] - 1s 54ms/step - loss: 0.4842 - accuracy: 0.8542 - val_loss: 0.9840 - val_accuracy: 0.7262\n",
      "Epoch 52/100\n",
      "26/26 [==============================] - 1s 54ms/step - loss: 0.4775 - accuracy: 0.8415 - val_loss: 1.4980 - val_accuracy: 0.6993\n",
      "Epoch 53/100\n",
      "26/26 [==============================] - 1s 52ms/step - loss: 0.4268 - accuracy: 0.8645 - val_loss: 1.4710 - val_accuracy: 0.6822\n",
      "Epoch 54/100\n",
      "26/26 [==============================] - 1s 54ms/step - loss: 0.4447 - accuracy: 0.8548 - val_loss: 1.8973 - val_accuracy: 0.6870\n",
      "Epoch 55/100\n",
      "26/26 [==============================] - 1s 55ms/step - loss: 0.4433 - accuracy: 0.8621 - val_loss: 1.6777 - val_accuracy: 0.7115\n",
      "Epoch 56/100\n",
      "26/26 [==============================] - 1s 55ms/step - loss: 0.4728 - accuracy: 0.8512 - val_loss: 0.7975 - val_accuracy: 0.7775\n",
      "Epoch 57/100\n",
      "26/26 [==============================] - 1s 55ms/step - loss: 0.4820 - accuracy: 0.8367 - val_loss: 0.7918 - val_accuracy: 0.7579\n",
      "Epoch 58/100\n"
     ]
    },
    {
     "name": "stdout",
     "output_type": "stream",
     "text": [
      "26/26 [==============================] - 1s 51ms/step - loss: 0.4215 - accuracy: 0.8705 - val_loss: 1.0697 - val_accuracy: 0.7090\n",
      "Epoch 59/100\n",
      "26/26 [==============================] - 1s 55ms/step - loss: 0.4800 - accuracy: 0.8451 - val_loss: 2.0564 - val_accuracy: 0.6235\n",
      "Epoch 60/100\n",
      "26/26 [==============================] - 1s 54ms/step - loss: 0.4360 - accuracy: 0.8584 - val_loss: 1.7427 - val_accuracy: 0.6235\n",
      "Epoch 61/100\n",
      "26/26 [==============================] - 1s 57ms/step - loss: 0.4511 - accuracy: 0.8469 - val_loss: 2.5236 - val_accuracy: 0.5941\n",
      "Epoch 62/100\n",
      "26/26 [==============================] - 1s 50ms/step - loss: 0.4362 - accuracy: 0.8633 - val_loss: 2.7214 - val_accuracy: 0.6333\n",
      "Epoch 63/100\n",
      "26/26 [==============================] - 1s 54ms/step - loss: 0.4569 - accuracy: 0.8572 - val_loss: 0.7361 - val_accuracy: 0.7604\n",
      "Epoch 64/100\n",
      "26/26 [==============================] - 1s 56ms/step - loss: 0.4521 - accuracy: 0.8512 - val_loss: 1.3125 - val_accuracy: 0.7164\n",
      "Epoch 65/100\n",
      "26/26 [==============================] - 1s 56ms/step - loss: 0.4170 - accuracy: 0.8627 - val_loss: 1.0973 - val_accuracy: 0.7237\n",
      "Epoch 66/100\n",
      "26/26 [==============================] - 1s 55ms/step - loss: 0.4150 - accuracy: 0.8645 - val_loss: 1.2370 - val_accuracy: 0.7237\n",
      "Epoch 67/100\n",
      "26/26 [==============================] - 1s 54ms/step - loss: 0.4192 - accuracy: 0.8651 - val_loss: 0.9154 - val_accuracy: 0.7433\n",
      "Epoch 68/100\n",
      "26/26 [==============================] - 1s 56ms/step - loss: 0.4456 - accuracy: 0.8584 - val_loss: 1.2572 - val_accuracy: 0.6724\n",
      "Epoch 69/100\n",
      "26/26 [==============================] - 1s 54ms/step - loss: 0.4688 - accuracy: 0.8361 - val_loss: 0.6771 - val_accuracy: 0.7971\n",
      "Epoch 70/100\n",
      "26/26 [==============================] - 1s 54ms/step - loss: 0.4503 - accuracy: 0.8482 - val_loss: 2.3034 - val_accuracy: 0.5966\n",
      "Epoch 71/100\n",
      "26/26 [==============================] - 1s 55ms/step - loss: 0.4265 - accuracy: 0.8627 - val_loss: 0.6867 - val_accuracy: 0.8044\n",
      "Epoch 72/100\n",
      "26/26 [==============================] - 1s 54ms/step - loss: 0.4475 - accuracy: 0.8554 - val_loss: 1.0637 - val_accuracy: 0.7433\n",
      "Epoch 73/100\n",
      "26/26 [==============================] - 1s 56ms/step - loss: 0.4375 - accuracy: 0.8548 - val_loss: 1.1065 - val_accuracy: 0.7482\n",
      "Epoch 74/100\n",
      "26/26 [==============================] - 1s 51ms/step - loss: 0.4262 - accuracy: 0.8596 - val_loss: 0.8346 - val_accuracy: 0.7457\n",
      "Epoch 75/100\n",
      "26/26 [==============================] - 1s 53ms/step - loss: 0.4469 - accuracy: 0.8590 - val_loss: 1.2691 - val_accuracy: 0.6993\n",
      "Epoch 76/100\n",
      "26/26 [==============================] - 1s 53ms/step - loss: 0.4679 - accuracy: 0.8560 - val_loss: 1.4926 - val_accuracy: 0.7237\n",
      "Epoch 77/100\n",
      "26/26 [==============================] - 1s 54ms/step - loss: 0.4306 - accuracy: 0.8536 - val_loss: 1.3895 - val_accuracy: 0.6846\n",
      "Epoch 78/100\n",
      "26/26 [==============================] - 1s 55ms/step - loss: 0.4290 - accuracy: 0.8518 - val_loss: 1.1174 - val_accuracy: 0.6870\n",
      "Epoch 79/100\n",
      "26/26 [==============================] - 1s 55ms/step - loss: 0.4188 - accuracy: 0.8699 - val_loss: 1.5325 - val_accuracy: 0.6699\n",
      "Epoch 80/100\n",
      "26/26 [==============================] - 1s 50ms/step - loss: 0.4496 - accuracy: 0.8494 - val_loss: 2.1789 - val_accuracy: 0.6553\n",
      "Epoch 81/100\n",
      "26/26 [==============================] - 1s 53ms/step - loss: 0.4385 - accuracy: 0.8536 - val_loss: 1.5632 - val_accuracy: 0.6919\n",
      "Epoch 82/100\n",
      "26/26 [==============================] - 1s 53ms/step - loss: 0.4213 - accuracy: 0.8621 - val_loss: 2.1298 - val_accuracy: 0.6381\n",
      "Epoch 83/100\n",
      "26/26 [==============================] - 1s 53ms/step - loss: 0.4673 - accuracy: 0.8469 - val_loss: 3.5853 - val_accuracy: 0.5844\n",
      "Epoch 84/100\n",
      "26/26 [==============================] - 1s 53ms/step - loss: 0.4618 - accuracy: 0.8506 - val_loss: 1.2878 - val_accuracy: 0.7408\n",
      "Epoch 85/100\n",
      "26/26 [==============================] - 1s 54ms/step - loss: 0.4570 - accuracy: 0.8506 - val_loss: 1.1137 - val_accuracy: 0.7433\n",
      "Epoch 86/100\n",
      "26/26 [==============================] - 1s 53ms/step - loss: 0.4289 - accuracy: 0.8494 - val_loss: 1.8070 - val_accuracy: 0.6699\n",
      "Epoch 87/100\n",
      "26/26 [==============================] - 1s 53ms/step - loss: 0.4506 - accuracy: 0.8554 - val_loss: 2.0674 - val_accuracy: 0.6577\n",
      "Epoch 88/100\n",
      "26/26 [==============================] - 1s 53ms/step - loss: 0.4106 - accuracy: 0.8681 - val_loss: 1.5010 - val_accuracy: 0.6822\n",
      "Epoch 89/100\n",
      "26/26 [==============================] - 1s 53ms/step - loss: 0.4446 - accuracy: 0.8506 - val_loss: 2.9647 - val_accuracy: 0.5941\n",
      "Epoch 90/100\n",
      "26/26 [==============================] - 1s 56ms/step - loss: 0.4523 - accuracy: 0.8560 - val_loss: 1.3453 - val_accuracy: 0.6724\n",
      "Epoch 91/100\n",
      "26/26 [==============================] - 1s 54ms/step - loss: 0.4082 - accuracy: 0.8627 - val_loss: 1.9956 - val_accuracy: 0.6259\n",
      "Epoch 92/100\n",
      "26/26 [==============================] - 1s 53ms/step - loss: 0.4447 - accuracy: 0.8633 - val_loss: 1.8406 - val_accuracy: 0.6626\n",
      "Epoch 93/100\n",
      "26/26 [==============================] - 1s 53ms/step - loss: 0.4060 - accuracy: 0.8669 - val_loss: 3.0583 - val_accuracy: 0.6406\n",
      "Epoch 94/100\n",
      "26/26 [==============================] - 1s 54ms/step - loss: 0.4176 - accuracy: 0.8693 - val_loss: 1.3597 - val_accuracy: 0.6797\n",
      "Epoch 95/100\n",
      "26/26 [==============================] - 1s 54ms/step - loss: 0.4468 - accuracy: 0.8584 - val_loss: 0.8401 - val_accuracy: 0.7604\n",
      "Epoch 96/100\n",
      "26/26 [==============================] - 1s 54ms/step - loss: 0.4018 - accuracy: 0.8699 - val_loss: 0.7581 - val_accuracy: 0.7726\n",
      "Epoch 97/100\n",
      "26/26 [==============================] - 1s 53ms/step - loss: 0.4308 - accuracy: 0.8560 - val_loss: 0.8614 - val_accuracy: 0.7726\n",
      "Epoch 98/100\n",
      "26/26 [==============================] - 1s 49ms/step - loss: 0.4448 - accuracy: 0.8590 - val_loss: 0.9234 - val_accuracy: 0.7653\n",
      "Epoch 99/100\n",
      "26/26 [==============================] - 1s 53ms/step - loss: 0.4286 - accuracy: 0.8578 - val_loss: 1.7032 - val_accuracy: 0.6846\n",
      "Epoch 100/100\n",
      "26/26 [==============================] - 1s 53ms/step - loss: 0.4136 - accuracy: 0.8500 - val_loss: 2.3859 - val_accuracy: 0.6430\n",
      "Execution time is 145 seconds\n"
     ]
    }
   ],
   "source": [
    "model3.compile(optimizer =Adam(learning_rate=0.005, beta_1=0.9, beta_2=0.999), loss = 'categorical_crossentropy', metrics = ['accuracy'])\n",
    "\n",
    "########################\n",
    "# fit model and train\n",
    "########################\n",
    "\n",
    "import time\n",
    "start = time.time()\n",
    "\n",
    "history=model3.fit_generator(\n",
    "        train_generator, \n",
    "        steps_per_epoch = len(train_generator), \n",
    "        epochs=100,\n",
    "        validation_data = validation_generator,\n",
    "        validation_steps = len(validation_generator), \n",
    "        verbose=1)\n",
    "\n",
    "model3.save_weights('m3_BatchNorm_and_Adam_100epochs.h5')\n",
    "\n",
    "end = time.time()\n",
    "print(\"Execution time is\", int(end - start), \"seconds\")"
   ]
  },
  {
   "cell_type": "code",
   "execution_count": 62,
   "metadata": {},
   "outputs": [
    {
     "data": {
      "text/plain": [
       "<matplotlib.legend.Legend at 0x1fd9a80be20>"
      ]
     },
     "execution_count": 62,
     "metadata": {},
     "output_type": "execute_result"
    },
    {
     "data": {
      "image/png": "[encoded data removed]",
      "text/plain": [
       "<Figure size 432x288 with 1 Axes>"
      ]
     },
     "metadata": {
      "needs_background": "light"
     },
     "output_type": "display_data"
    }
   ],
   "source": [
    "## Plotting the results \n",
    "plt.plot(history.history['accuracy'], label='accuracy')\n",
    "plt.plot(history.history['val_accuracy'], label = 'val_accuracy')\n",
    "plt.title(\"Train and Valid Accuracy by Epochs\")\n",
    "plt.xlabel('Epoch')\n",
    "plt.ylabel('Accuracy')\n",
    "plt.ylim([0,1])\n",
    "plt.legend(loc='lower right')"
   ]
  },
  {
   "cell_type": "code",
   "execution_count": 64,
   "metadata": {},
   "outputs": [
    {
     "name": "stdout",
     "output_type": "stream",
     "text": [
      "Epoch 1/2\n",
      "26/26 [==============================] - 2s 61ms/step - loss: 0.3920 - accuracy: 0.8784 - val_loss: 1.2424 - val_accuracy: 0.7262\n",
      "Epoch 2/2\n",
      "26/26 [==============================] - 1s 55ms/step - loss: 0.4192 - accuracy: 0.8560 - val_loss: 0.9435 - val_accuracy: 0.7164\n"
     ]
    }
   ],
   "source": [
    "model3.load_weights(\"C:\\\\Users\\\\SREEHARI\\\\Desktop\\\\internship\\\\my training\\\\Chapter11_CNN\\\\m3_BatchNorm_and_Adam_100epochs.h5\")\n",
    "\n",
    "history=model3.fit_generator(\n",
    "        train_generator, \n",
    "        steps_per_epoch = len(train_generator), \n",
    "        epochs=2,\n",
    "        validation_data = validation_generator,\n",
    "        validation_steps = len(validation_generator), \n",
    "        verbose=1)"
   ]
  },
  {
   "cell_type": "code",
   "execution_count": null,
   "metadata": {},
   "outputs": [],
   "source": []
  }
 ],
 "metadata": {
  "kernelspec": {
   "display_name": "Python 3 (ipykernel)",
   "language": "python",
   "name": "python3"
  },
  "language_info": {
   "codemirror_mode": {
    "name": "ipython",
    "version": 3
   },
   "file_extension": ".py",
   "mimetype": "text/x-python",
   "name": "python",
   "nbconvert_exporter": "python",
   "pygments_lexer": "ipython3",
   "version": "3.9.12"
  }
 },
 "nbformat": 4,
 "nbformat_minor": 4
}
