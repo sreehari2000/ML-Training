{
 "cells": [
  {
   "cell_type": "markdown",
   "metadata": {},
   "source": [
    "# TensorFlow and Keras"
   ]
  },
  {
   "cell_type": "code",
   "execution_count": 1,
   "metadata": {},
   "outputs": [],
   "source": [
    "#Uncomment and use it\n",
    "#!pip install tensorflow"
   ]
  },
  {
   "cell_type": "code",
   "execution_count": 2,
   "metadata": {},
   "outputs": [
    {
     "name": "stdout",
     "output_type": "stream",
     "text": [
      "Name: tensorflow\n",
      "Version: 2.6.0\n",
      "Summary: TensorFlow is an open source machine learning framework for everyone.\n",
      "Home-page: https://www.tensorflow.org/\n",
      "Author: Google Inc.\n",
      "Author-email: packages@tensorflow.org\n",
      "License: Apache 2.0\n",
      "Location: c:\\users\\sreehari\\anaconda3\\envs\\tfgpu\\lib\\site-packages\n",
      "Requires: protobuf, gast, opt-einsum, grpcio, clang, typing-extensions, wheel, astunparse, keras, numpy, google-pasta, h5py, absl-py, flatbuffers, keras-preprocessing, tensorboard, wrapt, termcolor, six, tensorflow-estimator\n",
      "Required-by: \n"
     ]
    }
   ],
   "source": [
    "!pip show tensorflow"
   ]
  },
  {
   "cell_type": "code",
   "execution_count": 3,
   "metadata": {},
   "outputs": [],
   "source": [
    "import tensorflow as tf\n",
    "%matplotlib inline  "
   ]
  },
  {
   "cell_type": "markdown",
   "metadata": {},
   "source": [
    "## Tensors"
   ]
  },
  {
   "cell_type": "markdown",
   "metadata": {},
   "source": [
    "#### Constants"
   ]
  },
  {
   "cell_type": "markdown",
   "metadata": {},
   "source": [
    "tf.constant creates constant values, these values do not change\n",
    "or update during optimization process(training phase)"
   ]
  },
  {
   "cell_type": "code",
   "execution_count": 4,
   "metadata": {},
   "outputs": [
    {
     "name": "stdout",
     "output_type": "stream",
     "text": [
      "tf.Tensor([50 10], shape=(2,), dtype=int32)\n"
     ]
    }
   ],
   "source": [
    "a = tf.constant([50,10])\n",
    "print(a)"
   ]
  },
  {
   "cell_type": "markdown",
   "metadata": {},
   "source": [
    "Few things that we can do with the tensors at the runtime:\n",
    "1. Directly get a numpy value of the tensor\n",
    "2. dtype : data type of the tensor(int16/int32/float32/float64)\n",
    "3. shape: shape of the tensor"
   ]
  },
  {
   "cell_type": "code",
   "execution_count": 5,
   "metadata": {},
   "outputs": [
    {
     "name": "stdout",
     "output_type": "stream",
     "text": [
      "a in tensorflow ==> tf.Tensor([50 10], shape=(2,), dtype=int32)\n",
      "numpy value of a ==> [50 10]\n",
      "dtype of a ==> <dtype: 'int32'>\n",
      "shape of a ==> (2,)\n"
     ]
    }
   ],
   "source": [
    "print('a in tensorflow ==>', a)\n",
    "print('numpy value of a ==>', a.numpy())\n",
    "print('dtype of a ==>', a.dtype)\n",
    "print('shape of a ==>', a.shape)"
   ]
  },
  {
   "cell_type": "markdown",
   "metadata": {},
   "source": [
    "We can use inbuild tf.XX() function to create constant tensors, just like numpy."
   ]
  },
  {
   "cell_type": "code",
   "execution_count": 6,
   "metadata": {},
   "outputs": [
    {
     "name": "stdout",
     "output_type": "stream",
     "text": [
      "Tensor of Ones: \n",
      " tf.Tensor(\n",
      "[[1. 1.]\n",
      " [1. 1.]], shape=(2, 2), dtype=float32)\n",
      "Tensor of Zeros: \n",
      " tf.Tensor(\n",
      "[[0. 0.]\n",
      " [0. 0.]], shape=(2, 2), dtype=float32)\n",
      "Random normal values \n",
      " tf.Tensor(\n",
      "[[5.4522805 6.0014324]\n",
      " [5.4652257 7.0920672]\n",
      " [3.3838544 5.1461864]], shape=(3, 2), dtype=float32)\n"
     ]
    }
   ],
   "source": [
    "print('Tensor of Ones: \\n',tf.ones(shape=(2, 2)))\n",
    "print('Tensor of Zeros: \\n',tf.zeros(shape=(2, 2)))\n",
    "print('Random normal values \\n', tf.random.normal(shape=(3, 2),\n",
    "                                                  mean=5, \n",
    "                                                  stddev=1))"
   ]
  },
  {
   "cell_type": "markdown",
   "metadata": {},
   "source": [
    "### Variables"
   ]
  },
  {
   "cell_type": "markdown",
   "metadata": {},
   "source": [
    "We generally create a variable with some values, call it initialized values, \n",
    "convert this constant tensor into a variable and then mutate the variable by using special functions."
   ]
  },
  {
   "cell_type": "code",
   "execution_count": 7,
   "metadata": {},
   "outputs": [
    {
     "name": "stdout",
     "output_type": "stream",
     "text": [
      "<tf.Variable 'Variable:0' shape=() dtype=int32, numpy=5>\n"
     ]
    }
   ],
   "source": [
    "x = tf.Variable(5) # Simple variable\n",
    "print(x)"
   ]
  },
  {
   "cell_type": "code",
   "execution_count": 8,
   "metadata": {},
   "outputs": [
    {
     "name": "stdout",
     "output_type": "stream",
     "text": [
      "<tf.Variable 'Variable:0' shape=(2, 2) dtype=float32, numpy=\n",
      "array([[ 0.17070255,  0.47234815],\n",
      "       [-1.0685375 , -0.11003946]], dtype=float32)>\n"
     ]
    }
   ],
   "source": [
    "#randomly initialized variable, like we need for our weights\n",
    "w = tf.Variable(tf.random.normal(shape=(2, 2))) \n",
    "print(w)"
   ]
  },
  {
   "cell_type": "code",
   "execution_count": 9,
   "metadata": {},
   "outputs": [
    {
     "name": "stdout",
     "output_type": "stream",
     "text": [
      "<tf.Variable 'Variable:0' shape=() dtype=int32, numpy=5>\n",
      "New value <tf.Variable 'UnreadVariable' shape=() dtype=int32, numpy=2>\n",
      "increment by 1 <tf.Variable 'UnreadVariable' shape=() dtype=int32, numpy=6>\n",
      "Decrement by 2 <tf.Variable 'UnreadVariable' shape=() dtype=int32, numpy=3>\n"
     ]
    }
   ],
   "source": [
    "m = tf.Variable(5) # Simple variable\n",
    "print(m)\n",
    "\n",
    "m = tf.Variable(5) \n",
    "print('New value', m.assign(2))\n",
    "\n",
    "m = tf.Variable(5) \n",
    "print('increment by 1', m.assign_add(1))\n",
    "\n",
    "m = tf.Variable(5) \n",
    "print('Decrement by 2', m.assign_sub(2))\n"
   ]
  },
  {
   "cell_type": "markdown",
   "metadata": {},
   "source": [
    "### Regression Model building in TensorFlow"
   ]
  },
  {
   "cell_type": "markdown",
   "metadata": {},
   "source": [
    "#This step is for data creation, x and y"
   ]
  },
  {
   "cell_type": "code",
   "execution_count": 10,
   "metadata": {},
   "outputs": [
    {
     "data": {
      "image/png": "[encoded data removed]",
      "text/plain": [
       "<Figure size 432x288 with 1 Axes>"
      ]
     },
     "metadata": {
      "needs_background": "light"
     },
     "output_type": "display_data"
    }
   ],
   "source": [
    "#This step is for data creation, x and y\n",
    "import numpy as np\n",
    "x_train= np.array(range(5000,5100)).reshape(-1,1)\n",
    "\n",
    "\n",
    "y_train=[3*i+np.random.normal(500, 10) for i in x_train]\n",
    "\n",
    "import matplotlib.pyplot as plt\n",
    "plt.title(\"x_train vs y_train data\")\n",
    "plt.plot(x_train, y_train, 'b.')\n",
    "plt.show()"
   ]
  },
  {
   "cell_type": "code",
   "execution_count": 11,
   "metadata": {},
   "outputs": [
    {
     "name": "stdout",
     "output_type": "stream",
     "text": [
      "epoch : 0, loss  219749456.0,  W : [[0.31288907]], b  [1.0000297]\n",
      "epoch : 1, loss  197908048.0,  W : [[0.45496386]], b  [1.0000578]\n",
      "epoch : 2, loss  178237456.0,  W : [[0.5897933]], b  [1.0000845]\n",
      "epoch : 3, loss  160522016.0,  W : [[0.717747]], b  [1.0001099]\n",
      "epoch : 4, loss  144567344.0,  W : [[0.8391754]], b  [1.000134]\n",
      "epoch : 5, loss  130198464.0,  W : [[0.9544114]], b  [1.0001568]\n",
      "epoch : 6, loss  117257728.0,  W : [[1.0637708]], b  [1.0001785]\n",
      "epoch : 7, loss  105603192.0,  W : [[1.1675532]], b  [1.000199]\n",
      "epoch : 8, loss  95107040.0,  W : [[1.2660431]], b  [1.0002185]\n",
      "epoch : 9, loss  85654128.0,  W : [[1.3595103]], b  [1.000237]\n",
      "epoch : 10, loss  77140760.0,  W : [[1.448211]], b  [1.0002545]\n",
      "epoch : 11, loss  69473560.0,  W : [[1.5323882]], b  [1.0002712]\n",
      "epoch : 12, loss  62568428.0,  W : [[1.6122727]], b  [1.000287]\n",
      "epoch : 13, loss  56349608.0,  W : [[1.6880834]], b  [1.0003021]\n",
      "epoch : 14, loss  50748896.0,  W : [[1.760028]], b  [1.0003164]\n",
      "epoch : 15, loss  45704856.0,  W : [[1.8283037]], b  [1.0003299]\n",
      "epoch : 16, loss  41162152.0,  W : [[1.8930975]], b  [1.0003427]\n",
      "epoch : 17, loss  37070960.0,  W : [[1.9545871]], b  [1.0003549]\n",
      "epoch : 18, loss  33386398.0,  W : [[2.012941]], b  [1.0003664]\n",
      "epoch : 19, loss  30068056.0,  W : [[2.0683188]], b  [1.0003774]\n",
      "epoch : 20, loss  27079534.0,  W : [[2.1208727]], b  [1.0003878]\n",
      "epoch : 21, loss  24388044.0,  W : [[2.1707466]], b  [1.0003977]\n",
      "epoch : 22, loss  21964072.0,  W : [[2.218077]], b  [1.0004071]\n",
      "epoch : 23, loss  19781022.0,  W : [[2.2629936]], b  [1.000416]\n",
      "epoch : 24, loss  17814958.0,  W : [[2.3056197]], b  [1.0004245]\n",
      "epoch : 25, loss  16044300.0,  W : [[2.3460722]], b  [1.0004325]\n",
      "epoch : 26, loss  14449626.0,  W : [[2.3844616]], b  [1.0004401]\n",
      "epoch : 27, loss  13013455.0,  W : [[2.4208934]], b  [1.0004474]\n",
      "epoch : 28, loss  11720027.0,  W : [[2.4554672]], b  [1.0004542]\n",
      "epoch : 29, loss  10555158.0,  W : [[2.488278]], b  [1.0004607]\n",
      "epoch : 30, loss  9506065.0,  W : [[2.5194154]], b  [1.000467]\n",
      "epoch : 31, loss  8561248.0,  W : [[2.548965]], b  [1.0004728]\n",
      "epoch : 32, loss  7710336.5,  W : [[2.5770075]], b  [1.0004784]\n",
      "epoch : 33, loss  6944001.5,  W : [[2.60362]], b  [1.0004836]\n",
      "epoch : 34, loss  6253833.5,  W : [[2.6288755]], b  [1.0004886]\n",
      "epoch : 35, loss  5632257.5,  W : [[2.652843]], b  [1.0004934]\n",
      "epoch : 36, loss  5072465.5,  W : [[2.6755881]], b  [1.0004979]\n",
      "epoch : 37, loss  4568314.5,  W : [[2.6971734]], b  [1.0005022]\n",
      "epoch : 38, loss  4114273.0,  W : [[2.7176578]], b  [1.0005063]\n",
      "epoch : 39, loss  3705358.75,  W : [[2.7370977]], b  [1.0005101]\n",
      "epoch : 40, loss  3337086.0,  W : [[2.755546]], b  [1.0005138]\n",
      "epoch : 41, loss  3005420.5,  W : [[2.7730536]], b  [1.0005172]\n",
      "epoch : 42, loss  2706719.75,  W : [[2.7896686]], b  [1.0005206]\n",
      "epoch : 43, loss  2437704.75,  W : [[2.8054361]], b  [1.0005237]\n",
      "epoch : 44, loss  2195428.25,  W : [[2.8203995]], b  [1.0005267]\n",
      "epoch : 45, loss  1977233.75,  W : [[2.8346]], b  [1.0005295]\n",
      "epoch : 46, loss  1780724.125,  W : [[2.848076]], b  [1.0005322]\n",
      "epoch : 47, loss  1603748.0,  W : [[2.860865]], b  [1.0005347]\n",
      "epoch : 48, loss  1444360.5,  W : [[2.8730018]], b  [1.000537]\n",
      "epoch : 49, loss  1300816.25,  W : [[2.8845196]], b  [1.0005393]\n",
      "epoch : 50, loss  1171539.375,  W : [[2.89545]], b  [1.0005414]\n",
      "epoch : 51, loss  1055110.125,  W : [[2.9058232]], b  [1.0005435]\n",
      "epoch : 52, loss  950253.0625,  W : [[2.9156673]], b  [1.0005454]\n",
      "epoch : 53, loss  855818.625,  W : [[2.9250093]], b  [1.0005473]\n",
      "epoch : 54, loss  770771.125,  W : [[2.9338748]], b  [1.0005491]\n",
      "epoch : 55, loss  694176.25,  W : [[2.9422884]], b  [1.0005507]\n",
      "epoch : 56, loss  625193.75,  W : [[2.9502728]], b  [1.0005523]\n",
      "epoch : 57, loss  563068.3125,  W : [[2.95785]], b  [1.0005538]\n",
      "epoch : 58, loss  507117.90625,  W : [[2.965041]], b  [1.0005553]\n",
      "epoch : 59, loss  456727.4375,  W : [[2.9718652]], b  [1.0005566]\n",
      "epoch : 60, loss  411345.1875,  W : [[2.9783413]], b  [1.0005579]\n",
      "epoch : 61, loss  370474.15625,  W : [[2.9844873]], b  [1.0005591]\n",
      "epoch : 62, loss  333665.09375,  W : [[2.9903197]], b  [1.0005603]\n",
      "epoch : 63, loss  300515.125,  W : [[2.9958549]], b  [1.0005614]\n",
      "epoch : 64, loss  270659.375,  W : [[3.0011077]], b  [1.0005624]\n",
      "epoch : 65, loss  243771.140625,  W : [[3.0060925]], b  [1.0005634]\n",
      "epoch : 66, loss  219555.9375,  W : [[3.0108232]], b  [1.0005643]\n",
      "epoch : 67, loss  197747.28125,  W : [[3.0153127]], b  [1.0005652]\n",
      "epoch : 68, loss  178106.375,  W : [[3.0195732]], b  [1.000566]\n",
      "epoch : 69, loss  160417.40625,  W : [[3.0236163]], b  [1.0005668]\n",
      "epoch : 70, loss  144487.234375,  W : [[3.0274534]], b  [1.0005676]\n",
      "epoch : 71, loss  130139.671875,  W : [[3.0310948]], b  [1.0005683]\n",
      "epoch : 72, loss  117218.3828125,  W : [[3.0345504]], b  [1.000569]\n",
      "epoch : 73, loss  105581.5,  W : [[3.0378299]], b  [1.0005696]\n",
      "epoch : 74, loss  95101.1171875,  W : [[3.040942]], b  [1.0005702]\n",
      "epoch : 75, loss  85662.796875,  W : [[3.0438955]], b  [1.0005708]\n",
      "epoch : 76, loss  77162.140625,  W : [[3.0466983]], b  [1.0005714]\n",
      "epoch : 77, loss  69506.5390625,  W : [[3.0493581]], b  [1.0005718]\n",
      "epoch : 78, loss  62612.140625,  W : [[3.0518823]], b  [1.0005723]\n",
      "epoch : 79, loss  56403.0390625,  W : [[3.054278]], b  [1.0005728]\n",
      "epoch : 80, loss  50810.5703125,  W : [[3.0565512]], b  [1.0005733]\n",
      "epoch : 81, loss  45774.2734375,  W : [[3.0587087]], b  [1.0005738]\n",
      "epoch : 82, loss  41238.41015625,  W : [[3.060756]], b  [1.0005741]\n",
      "epoch : 83, loss  37153.62109375,  W : [[3.062699]], b  [1.0005745]\n",
      "epoch : 84, loss  33474.421875,  W : [[3.064543]], b  [1.0005748]\n",
      "epoch : 85, loss  30161.078125,  W : [[3.066293]], b  [1.0005752]\n",
      "epoch : 86, loss  27176.89453125,  W : [[3.0679536]], b  [1.0005755]\n",
      "epoch : 87, loss  24489.58203125,  W : [[3.0695295]], b  [1.0005759]\n",
      "epoch : 88, loss  22069.296875,  W : [[3.0710251]], b  [1.0005761]\n",
      "epoch : 89, loss  19889.54296875,  W : [[3.0724444]], b  [1.0005764]\n",
      "epoch : 90, loss  17926.470703125,  W : [[3.0737913]], b  [1.0005766]\n",
      "epoch : 91, loss  16158.6396484375,  W : [[3.0750694]], b  [1.0005769]\n",
      "epoch : 92, loss  14566.4912109375,  W : [[3.0762825]], b  [1.0005771]\n",
      "epoch : 93, loss  13132.4736328125,  W : [[3.0774336]], b  [1.0005773]\n",
      "epoch : 94, loss  11841.1279296875,  W : [[3.078526]], b  [1.0005776]\n",
      "epoch : 95, loss  10678.072265625,  W : [[3.079563]], b  [1.0005778]\n",
      "epoch : 96, loss  9630.45703125,  W : [[3.0805469]], b  [1.000578]\n",
      "epoch : 97, loss  8687.0146484375,  W : [[3.0814805]], b  [1.0005783]\n",
      "epoch : 98, loss  7837.466796875,  W : [[3.0823667]], b  [1.0005784]\n",
      "epoch : 99, loss  7072.20703125,  W : [[3.0832076]], b  [1.0005785]\n",
      "epoch : 100, loss  6383.10009765625,  W : [[3.0840056]], b  [1.0005786]\n",
      "epoch : 101, loss  5762.50244140625,  W : [[3.084763]], b  [1.0005788]\n",
      "epoch : 102, loss  5203.4736328125,  W : [[3.085482]], b  [1.0005789]\n",
      "epoch : 103, loss  4700.0048828125,  W : [[3.086164]], b  [1.000579]\n",
      "epoch : 104, loss  4246.623046875,  W : [[3.0868113]], b  [1.0005791]\n",
      "epoch : 105, loss  3838.31689453125,  W : [[3.0874255]], b  [1.0005792]\n",
      "epoch : 106, loss  3470.673095703125,  W : [[3.0880084]], b  [1.0005794]\n",
      "epoch : 107, loss  3139.517822265625,  W : [[3.0885615]], b  [1.0005795]\n",
      "epoch : 108, loss  2841.314697265625,  W : [[3.0890865]], b  [1.0005796]\n",
      "epoch : 109, loss  2572.711669921875,  W : [[3.0895848]], b  [1.0005797]\n",
      "epoch : 110, loss  2330.770751953125,  W : [[3.0900576]], b  [1.0005798]\n",
      "epoch : 111, loss  2112.9248046875,  W : [[3.0905063]], b  [1.00058]\n",
      "epoch : 112, loss  1916.7154541015625,  W : [[3.0909321]], b  [1.0005801]\n",
      "epoch : 113, loss  1740.0106201171875,  W : [[3.0913363]], b  [1.0005802]\n",
      "epoch : 114, loss  1580.860595703125,  W : [[3.0917199]], b  [1.0005803]\n",
      "epoch : 115, loss  1437.4918212890625,  W : [[3.092084]], b  [1.0005804]\n",
      "epoch : 116, loss  1308.3709716796875,  W : [[3.0924294]], b  [1.0005805]\n",
      "epoch : 117, loss  1192.093994140625,  W : [[3.0927572]], b  [1.0005807]\n",
      "epoch : 118, loss  1087.38134765625,  W : [[3.0930684]], b  [1.0005808]\n",
      "epoch : 119, loss  993.0733032226562,  W : [[3.0933635]], b  [1.0005808]\n",
      "epoch : 120, loss  908.170654296875,  W : [[3.0936437]], b  [1.0005808]\n",
      "epoch : 121, loss  831.6954956054688,  W : [[3.0939095]], b  [1.0005808]\n",
      "epoch : 122, loss  762.825927734375,  W : [[3.0941617]], b  [1.0005808]\n",
      "epoch : 123, loss  700.8091430664062,  W : [[3.0944011]], b  [1.0005808]\n",
      "epoch : 124, loss  644.9629516601562,  W : [[3.0946283]], b  [1.0005808]\n",
      "epoch : 125, loss  594.6500854492188,  W : [[3.0948439]], b  [1.0005808]\n",
      "epoch : 126, loss  549.3590698242188,  W : [[3.0950484]], b  [1.0005808]\n",
      "epoch : 127, loss  508.5653381347656,  W : [[3.0952427]], b  [1.0005808]\n",
      "epoch : 128, loss  471.7936706542969,  W : [[3.095427]], b  [1.0005808]\n",
      "epoch : 129, loss  438.69366455078125,  W : [[3.095602]], b  [1.0005808]\n",
      "epoch : 130, loss  408.8671875,  W : [[3.095768]], b  [1.0005808]\n",
      "epoch : 131, loss  382.0283508300781,  W : [[3.0959256]], b  [1.0005808]\n",
      "epoch : 132, loss  357.83831787109375,  W : [[3.096075]], b  [1.0005808]\n",
      "epoch : 133, loss  336.0634765625,  W : [[3.096217]], b  [1.0005808]\n",
      "epoch : 134, loss  316.4533386230469,  W : [[3.0963516]], b  [1.0005808]\n",
      "epoch : 135, loss  298.7830505371094,  W : [[3.0964794]], b  [1.0005808]\n",
      "epoch : 136, loss  282.8739013671875,  W : [[3.0966005]], b  [1.0005808]\n",
      "epoch : 137, loss  268.565185546875,  W : [[3.0967157]], b  [1.0005808]\n",
      "epoch : 138, loss  255.65484619140625,  W : [[3.096825]], b  [1.0005808]\n",
      "epoch : 139, loss  244.0356903076172,  W : [[3.0969286]], b  [1.0005808]\n",
      "epoch : 140, loss  233.56585693359375,  W : [[3.0970268]], b  [1.0005808]\n",
      "epoch : 141, loss  224.1536865234375,  W : [[3.09712]], b  [1.0005808]\n",
      "epoch : 142, loss  215.67715454101562,  W : [[3.0972085]], b  [1.0005808]\n",
      "epoch : 143, loss  208.04185485839844,  W : [[3.0972927]], b  [1.0005808]\n",
      "epoch : 144, loss  201.1497802734375,  W : [[3.0973725]], b  [1.0005808]\n",
      "epoch : 145, loss  194.94052124023438,  W : [[3.097448]], b  [1.0005808]\n",
      "epoch : 146, loss  189.3663330078125,  W : [[3.0975199]], b  [1.0005808]\n",
      "epoch : 147, loss  184.34317016601562,  W : [[3.097588]], b  [1.0005808]\n",
      "epoch : 148, loss  179.81396484375,  W : [[3.0976527]], b  [1.0005808]\n",
      "epoch : 149, loss  175.7390594482422,  W : [[3.0977142]], b  [1.0005808]\n",
      "epoch : 150, loss  172.06048583984375,  W : [[3.0977724]], b  [1.0005808]\n",
      "epoch : 151, loss  168.7567596435547,  W : [[3.0978277]], b  [1.0005808]\n",
      "epoch : 152, loss  165.77597045898438,  W : [[3.0978801]], b  [1.0005808]\n",
      "epoch : 153, loss  163.09463500976562,  W : [[3.09793]], b  [1.0005808]\n",
      "epoch : 154, loss  160.6768035888672,  W : [[3.0979772]], b  [1.0005808]\n",
      "epoch : 155, loss  158.50259399414062,  W : [[3.098022]], b  [1.0005808]\n",
      "epoch : 156, loss  156.5431365966797,  W : [[3.0980647]], b  [1.0005808]\n",
      "epoch : 157, loss  154.77410888671875,  W : [[3.098105]], b  [1.0005808]\n",
      "epoch : 158, loss  153.1883544921875,  W : [[3.0981433]], b  [1.0005808]\n",
      "epoch : 159, loss  151.7540283203125,  W : [[3.0981798]], b  [1.0005808]\n",
      "epoch : 160, loss  150.4610595703125,  W : [[3.0982144]], b  [1.0005808]\n",
      "epoch : 161, loss  149.29718017578125,  W : [[3.098247]], b  [1.0005808]\n",
      "epoch : 162, loss  148.25408935546875,  W : [[3.098278]], b  [1.0005808]\n",
      "epoch : 163, loss  147.31568908691406,  W : [[3.0983076]], b  [1.0005808]\n",
      "epoch : 164, loss  146.4665069580078,  W : [[3.0983355]], b  [1.0005808]\n",
      "epoch : 165, loss  145.70603942871094,  W : [[3.098362]], b  [1.0005808]\n",
      "epoch : 166, loss  145.0200653076172,  W : [[3.0983872]], b  [1.0005808]\n",
      "epoch : 167, loss  144.39859008789062,  W : [[3.098411]], b  [1.0005808]\n",
      "epoch : 168, loss  143.84246826171875,  W : [[3.0984337]], b  [1.0005808]\n",
      "epoch : 169, loss  143.34115600585938,  W : [[3.0984552]], b  [1.0005808]\n",
      "epoch : 170, loss  142.88938903808594,  W : [[3.0984757]], b  [1.0005808]\n",
      "epoch : 171, loss  142.48104858398438,  W : [[3.098495]], b  [1.0005808]\n",
      "epoch : 172, loss  142.11558532714844,  W : [[3.0985134]], b  [1.0005808]\n",
      "epoch : 173, loss  141.78558349609375,  W : [[3.0985308]], b  [1.0005808]\n",
      "epoch : 174, loss  141.4881591796875,  W : [[3.0985475]], b  [1.0005808]\n",
      "epoch : 175, loss  141.2196807861328,  W : [[3.0985632]], b  [1.0005808]\n",
      "epoch : 176, loss  140.9767608642578,  W : [[3.0985782]], b  [1.0005808]\n",
      "epoch : 177, loss  140.75709533691406,  W : [[3.0985925]], b  [1.0005808]\n",
      "epoch : 178, loss  140.55979919433594,  W : [[3.0986059]], b  [1.0005808]\n",
      "epoch : 179, loss  140.38397216796875,  W : [[3.0986187]], b  [1.0005808]\n",
      "epoch : 180, loss  140.22299194335938,  W : [[3.098631]], b  [1.0005808]\n",
      "epoch : 181, loss  140.0806427001953,  W : [[3.0986423]], b  [1.0005808]\n",
      "epoch : 182, loss  139.95237731933594,  W : [[3.0986533]], b  [1.0005808]\n",
      "epoch : 183, loss  139.8351593017578,  W : [[3.0986636]], b  [1.0005808]\n",
      "epoch : 184, loss  139.7310791015625,  W : [[3.0986733]], b  [1.0005808]\n",
      "epoch : 185, loss  139.63726806640625,  W : [[3.0986826]], b  [1.0005808]\n",
      "epoch : 186, loss  139.55206298828125,  W : [[3.0986915]], b  [1.0005808]\n",
      "epoch : 187, loss  139.47642517089844,  W : [[3.0986998]], b  [1.0005808]\n",
      "epoch : 188, loss  139.4080047607422,  W : [[3.098708]], b  [1.0005808]\n",
      "epoch : 189, loss  139.3449249267578,  W : [[3.0987155]], b  [1.0005808]\n",
      "epoch : 190, loss  139.28921508789062,  W : [[3.0987227]], b  [1.0005808]\n",
      "epoch : 191, loss  139.23934936523438,  W : [[3.0987296]], b  [1.0005808]\n",
      "epoch : 192, loss  139.19281005859375,  W : [[3.098736]], b  [1.0005808]\n",
      "epoch : 193, loss  139.15179443359375,  W : [[3.0987422]], b  [1.0005808]\n",
      "epoch : 194, loss  139.1140594482422,  W : [[3.098748]], b  [1.0005808]\n",
      "epoch : 195, loss  139.08169555664062,  W : [[3.0987535]], b  [1.0005808]\n",
      "epoch : 196, loss  139.05355834960938,  W : [[3.0987587]], b  [1.0005808]\n",
      "epoch : 197, loss  139.0253143310547,  W : [[3.0987637]], b  [1.0005808]\n",
      "epoch : 198, loss  139.00022888183594,  W : [[3.0987685]], b  [1.0005808]\n",
      "epoch : 199, loss  138.97958374023438,  W : [[3.098773]], b  [1.0005808]\n"
     ]
    }
   ],
   "source": [
    "#Model y=X*W + b\n",
    "#Model function\n",
    "def output(x):\n",
    "    return W*x + b\n",
    "\n",
    "#Loss function Reduce mean square\n",
    "def loss_function(y_pred, y_true):\n",
    "    return tf.reduce_mean(tf.square(y_pred - y_true))\n",
    "\n",
    "#Initialize Weights\n",
    "W = tf.Variable(tf.random.uniform(shape=(1, 1)))\n",
    "b = tf.Variable(tf.ones(shape=(1,)))\n",
    "\n",
    "#Optimization\n",
    "## Writing training/learing loop with GradienTape\n",
    "learning_rate = 0.000000001\n",
    "steps = 200 #epochs\n",
    "\n",
    "for i in range(steps):\n",
    "    with tf.GradientTape() as tape:\n",
    "        predictions = output(x_train)\n",
    "        loss = loss_function(predictions,y_train)\n",
    "        dloss_dw, dloss_db = tape.gradient(loss, [W, b])\n",
    "    W.assign_sub(learning_rate * dloss_dw)\n",
    "    b.assign_sub(learning_rate * dloss_db)\n",
    "    print(f\"epoch : {i}, loss  {loss.numpy()},  W : {W.numpy()}, b  {b.numpy()}\")"
   ]
  },
  {
   "cell_type": "markdown",
   "metadata": {},
   "source": [
    "Final Weights"
   ]
  },
  {
   "cell_type": "code",
   "execution_count": 12,
   "metadata": {},
   "outputs": [
    {
     "name": "stdout",
     "output_type": "stream",
     "text": [
      "w  <tf.Variable 'Variable:0' shape=(1, 1) dtype=float32, numpy=array([[3.098773]], dtype=float32)>\n",
      "b  <tf.Variable 'Variable:0' shape=(1,) dtype=float32, numpy=array([1.0005808], dtype=float32)>\n"
     ]
    }
   ],
   "source": [
    "print('w ', W)\n",
    "print('b ', b)"
   ]
  },
  {
   "cell_type": "markdown",
   "metadata": {},
   "source": [
    "Plotting"
   ]
  },
  {
   "cell_type": "code",
   "execution_count": 13,
   "metadata": {},
   "outputs": [
    {
     "name": "stdout",
     "output_type": "stream",
     "text": [
      "epoch is: 0, loss is 222638752.0,  W is: [[0.29463375]], b is [1.0000298]\n"
     ]
    },
    {
     "data": {
      "image/png": "[encoded data removed]",
      "text/plain": [
       "<Figure size 432x288 with 1 Axes>"
      ]
     },
     "metadata": {
      "needs_background": "light"
     },
     "output_type": "display_data"
    },
    {
     "name": "stdout",
     "output_type": "stream",
     "text": [
      "epoch is: 30, loss is 9631053.0,  W is: [[2.5156186]], b is [1.0004698]\n"
     ]
    },
    {
     "data": {
      "image/png": "[encoded data removed]",
      "text/plain": [
       "<Figure size 432x288 with 1 Axes>"
      ]
     },
     "metadata": {
      "needs_background": "light"
     },
     "output_type": "display_data"
    },
    {
     "name": "stdout",
     "output_type": "stream",
     "text": [
      "epoch is: 60, loss is 416753.03125,  W is: [[2.9775515]], b is [1.000561]\n"
     ]
    },
    {
     "data": {
      "image/png": "[encoded data removed]",
      "text/plain": [
       "<Figure size 432x288 with 1 Axes>"
      ]
     },
     "metadata": {
      "needs_background": "light"
     },
     "output_type": "display_data"
    },
    {
     "name": "stdout",
     "output_type": "stream",
     "text": [
      "epoch is: 90, loss is 18160.365234375,  W is: [[3.073627]], b is [1.00058]\n"
     ]
    },
    {
     "data": {
      "image/png": "[encoded data removed]",
      "text/plain": [
       "<Figure size 432x288 with 1 Axes>"
      ]
     },
     "metadata": {
      "needs_background": "light"
     },
     "output_type": "display_data"
    },
    {
     "name": "stdout",
     "output_type": "stream",
     "text": [
      "epoch is: 120, loss is 918.4893798828125,  W is: [[3.0936089]], b is [1.0005841]\n"
     ]
    },
    {
     "data": {
      "image/png": "[encoded data removed]",
      "text/plain": [
       "<Figure size 432x288 with 1 Axes>"
      ]
     },
     "metadata": {
      "needs_background": "light"
     },
     "output_type": "display_data"
    },
    {
     "name": "stdout",
     "output_type": "stream",
     "text": [
      "epoch is: 150, loss is 172.52003479003906,  W is: [[3.097765]], b is [1.0005841]\n"
     ]
    },
    {
     "data": {
      "image/png": "[encoded data removed]",
      "text/plain": [
       "<Figure size 432x288 with 1 Axes>"
      ]
     },
     "metadata": {
      "needs_background": "light"
     },
     "output_type": "display_data"
    },
    {
     "name": "stdout",
     "output_type": "stream",
     "text": [
      "epoch is: 180, loss is 140.24147033691406,  W is: [[3.0986295]], b is [1.0005841]\n"
     ]
    },
    {
     "data": {
      "image/png": "[encoded data removed]",
      "text/plain": [
       "<Figure size 432x288 with 1 Axes>"
      ]
     },
     "metadata": {
      "needs_background": "light"
     },
     "output_type": "display_data"
    }
   ],
   "source": [
    "#Initialize Weights\n",
    "W = tf.Variable(tf.random.uniform(shape=(1, 1)))\n",
    "b = tf.Variable(tf.ones(shape=(1,)))\n",
    "\n",
    "#Optimization\n",
    "## Writing training/learing loop with GradienTape\n",
    "learning_rate = 0.000000001\n",
    "steps = 200 #epochs\n",
    "\n",
    "for i in range(steps):\n",
    "    with tf.GradientTape() as tape:\n",
    "        predictions = output(x_train)\n",
    "        loss = loss_function(predictions,y_train)\n",
    "        dloss_dw, dloss_db = tape.gradient(loss, [W, b])\n",
    "    W.assign_sub(learning_rate * dloss_dw)\n",
    "    b.assign_sub(learning_rate * dloss_db)\n",
    "    if i%30 == 0:\n",
    "        print(f\"epoch is: {i}, loss is {loss.numpy()},  W is: {W.numpy()}, b is {b.numpy()}\")\n",
    "        plt.title([\"epoch\", i])\n",
    "        plt.plot(x_train, y_train, 'b.')\n",
    "        plt.plot(x_train, output(x_train), c='r')\n",
    "        plt.show()"
   ]
  },
  {
   "cell_type": "markdown",
   "metadata": {},
   "source": [
    "### Logistic Regression Model building in TensorFlow"
   ]
  },
  {
   "cell_type": "code",
   "execution_count": 14,
   "metadata": {},
   "outputs": [
    {
     "data": {
      "image/png": "[encoded data removed]",
      "text/plain": [
       "<Figure size 432x288 with 1 Axes>"
      ]
     },
     "metadata": {
      "needs_background": "light"
     },
     "output_type": "display_data"
    }
   ],
   "source": [
    "# This step is for data creation\n",
    "x_train= np.random.rand(100,1)\n",
    "y_train=np.array([0 if i < 0.5 else 1 for i in x_train]).reshape(-1,1)\n",
    "\n",
    "import matplotlib.pyplot as plt\n",
    "plt.title(\"x_train vs y_train data\")\n",
    "plt.plot(x_train, y_train, 'b.',)\n",
    "plt.show()"
   ]
  },
  {
   "cell_type": "code",
   "execution_count": 15,
   "metadata": {},
   "outputs": [
    {
     "name": "stdout",
     "output_type": "stream",
     "text": [
      "epoch : 0, loss  23.391420364379883,  W : [[0.93670917]], b  [0.25816748]\n",
      "epoch : 1, loss  20.541446685791016,  W : [[1.1239858]], b  [-0.30233535]\n",
      "epoch : 2, loss  18.21820640563965,  W : [[1.6000996]], b  [-0.31501204]\n",
      "epoch : 3, loss  16.474807739257812,  W : [[1.8531415]], b  [-0.64735264]\n",
      "epoch : 4, loss  15.03258991241455,  W : [[2.215887]], b  [-0.7102991]\n",
      "epoch : 5, loss  13.849992752075195,  W : [[2.457747]], b  [-0.93346363]\n",
      "epoch : 6, loss  12.86880111694336,  W : [[2.7411673]], b  [-1.0202637]\n",
      "epoch : 7, loss  12.049297332763672,  W : [[2.9631145]], b  [-1.173966]\n",
      "epoch : 8, loss  11.357682228088379,  W : [[3.1919827]], b  [-1.2695382]\n",
      "epoch : 9, loss  10.767810821533203,  W : [[3.3915098]], b  [-1.3831278]\n",
      "epoch : 10, loss  10.259647369384766,  W : [[3.5843217]], b  [-1.4753996]\n",
      "epoch : 11, loss  9.817767143249512,  W : [[3.761722]], b  [-1.5676368]\n",
      "epoch : 12, loss  9.430283546447754,  W : [[3.929794]], b  [-1.6513872]\n",
      "epoch : 13, loss  9.087886810302734,  W : [[4.087767]], b  [-1.7312114]\n",
      "epoch : 14, loss  8.783204078674316,  W : [[4.2373967]], b  [-1.8062162]\n",
      "epoch : 15, loss  8.510334014892578,  W : [[4.3793035]], b  [-1.877393]\n",
      "epoch : 16, loss  8.264508247375488,  W : [[4.5143204]], b  [-1.9449989]\n",
      "epoch : 17, loss  8.041848182678223,  W : [[4.6430807]], b  [-2.0094314]\n",
      "epoch : 18, loss  7.839162826538086,  W : [[4.7661595]], b  [-2.0709844]\n",
      "epoch : 19, loss  7.653815746307373,  W : [[4.884055]], b  [-2.1299243]\n",
      "epoch : 20, loss  7.483609199523926,  W : [[4.997206]], b  [-2.1864805]\n",
      "epoch : 21, loss  7.326696395874023,  W : [[5.1059995]], b  [-2.2408547]\n",
      "epoch : 22, loss  7.181519031524658,  W : [[5.210778]], b  [-2.2932236]\n",
      "epoch : 23, loss  7.046751499176025,  W : [[5.3118477]], b  [-2.3437445]\n",
      "epoch : 24, loss  6.921260833740234,  W : [[5.40948]], b  [-2.3925564]\n",
      "epoch : 25, loss  6.804072380065918,  W : [[5.5039196]], b  [-2.4397833]\n",
      "epoch : 26, loss  6.6943440437316895,  W : [[5.5953856]], b  [-2.4855363]\n",
      "epoch : 27, loss  6.591342926025391,  W : [[5.684076]], b  [-2.529915]\n",
      "epoch : 28, loss  6.494433403015137,  W : [[5.77017]], b  [-2.5730097]\n",
      "epoch : 29, loss  6.403054237365723,  W : [[5.8538303]], b  [-2.614902]\n",
      "epoch : 30, loss  6.316714286804199,  W : [[5.935205]], b  [-2.6556654]\n",
      "epoch : 31, loss  6.234976291656494,  W : [[6.0144286]], b  [-2.695367]\n",
      "epoch : 32, loss  6.157456874847412,  W : [[6.091625]], b  [-2.7340689]\n",
      "epoch : 33, loss  6.083812713623047,  W : [[6.1669073]], b  [-2.771827]\n",
      "epoch : 34, loss  6.013735294342041,  W : [[6.2403793]], b  [-2.8086925]\n",
      "epoch : 35, loss  5.946952819824219,  W : [[6.3121367]], b  [-2.8447127]\n",
      "epoch : 36, loss  5.883218765258789,  W : [[6.382268]], b  [-2.8799317]\n",
      "epoch : 37, loss  5.822309494018555,  W : [[6.450855]], b  [-2.9143896]\n",
      "epoch : 38, loss  5.7640252113342285,  W : [[6.5179734]], b  [-2.9481235]\n",
      "epoch : 39, loss  5.708184719085693,  W : [[6.5836935]], b  [-2.9811685]\n",
      "epoch : 40, loss  5.654623508453369,  W : [[6.6480803]], b  [-3.0135562]\n",
      "epoch : 41, loss  5.6031904220581055,  W : [[6.711195]], b  [-3.0453167]\n",
      "epoch : 42, loss  5.553748607635498,  W : [[6.773094]], b  [-3.076478]\n",
      "epoch : 43, loss  5.506174087524414,  W : [[6.833831]], b  [-3.1070657]\n",
      "epoch : 44, loss  5.460352420806885,  W : [[6.8934546]], b  [-3.1371045]\n",
      "epoch : 45, loss  5.416177749633789,  W : [[6.952012]], b  [-3.1666172]\n",
      "epoch : 46, loss  5.37355375289917,  W : [[7.0095468]], b  [-3.195625]\n",
      "epoch : 47, loss  5.332390785217285,  W : [[7.066099]], b  [-3.224148]\n",
      "epoch : 48, loss  5.29260778427124,  W : [[7.1217084]], b  [-3.252205]\n",
      "epoch : 49, loss  5.254128456115723,  W : [[7.17641]], b  [-3.2798138]\n",
      "epoch : 50, loss  5.216882705688477,  W : [[7.230239]], b  [-3.306991]\n",
      "epoch : 51, loss  5.18080472946167,  W : [[7.283227]], b  [-3.3337526]\n",
      "epoch : 52, loss  5.145834922790527,  W : [[7.3354044]], b  [-3.3601136]\n",
      "epoch : 53, loss  5.111916542053223,  W : [[7.3868003]], b  [-3.3860877]\n",
      "epoch : 54, loss  5.078997611999512,  W : [[7.4374423]], b  [-3.4116886]\n",
      "epoch : 55, loss  5.0470290184021,  W : [[7.4873557]], b  [-3.4369287]\n",
      "epoch : 56, loss  5.015965461730957,  W : [[7.5365653]], b  [-3.4618204]\n",
      "epoch : 57, loss  4.9857635498046875,  W : [[7.585094]], b  [-3.4863749]\n",
      "epoch : 58, loss  4.956385135650635,  W : [[7.6329646]], b  [-3.5106027]\n",
      "epoch : 59, loss  4.92779016494751,  W : [[7.6801977]], b  [-3.5345147]\n",
      "epoch : 60, loss  4.8999457359313965,  W : [[7.7268133]], b  [-3.5581203]\n",
      "epoch : 61, loss  4.872818946838379,  W : [[7.7728305]], b  [-3.581429]\n",
      "epoch : 62, loss  4.846377372741699,  W : [[7.8182673]], b  [-3.6044497]\n",
      "epoch : 63, loss  4.820593357086182,  W : [[7.8631415]], b  [-3.6271908]\n",
      "epoch : 64, loss  4.795438766479492,  W : [[7.9074693]], b  [-3.6496606]\n",
      "epoch : 65, loss  4.77088737487793,  W : [[7.951267]], b  [-3.6718667]\n",
      "epoch : 66, loss  4.7469162940979,  W : [[7.994549]], b  [-3.6938164]\n",
      "epoch : 67, loss  4.723501205444336,  W : [[8.03733]], b  [-3.715517]\n",
      "epoch : 68, loss  4.700620651245117,  W : [[8.079624]], b  [-3.7369752]\n",
      "epoch : 69, loss  4.6782546043396,  W : [[8.121445]], b  [-3.7581978]\n",
      "epoch : 70, loss  4.656381607055664,  W : [[8.162804]], b  [-3.7791908]\n",
      "epoch : 71, loss  4.634985446929932,  W : [[8.203714]], b  [-3.7999601]\n",
      "epoch : 72, loss  4.614047527313232,  W : [[8.244187]], b  [-3.8205118]\n",
      "epoch : 73, loss  4.593551158905029,  W : [[8.284235]], b  [-3.840851]\n",
      "epoch : 74, loss  4.573479652404785,  W : [[8.323868]], b  [-3.8609834]\n",
      "epoch : 75, loss  4.553821086883545,  W : [[8.363095]], b  [-3.8809137]\n",
      "epoch : 76, loss  4.534557819366455,  W : [[8.401929]], b  [-3.9006472]\n",
      "epoch : 77, loss  4.515676975250244,  W : [[8.440377]], b  [-3.9201884]\n",
      "epoch : 78, loss  4.497166633605957,  W : [[8.47845]], b  [-3.939542]\n",
      "epoch : 79, loss  4.479013919830322,  W : [[8.516155]], b  [-3.9587126]\n",
      "epoch : 80, loss  4.461205959320068,  W : [[8.553502]], b  [-3.9777038]\n",
      "epoch : 81, loss  4.443734169006348,  W : [[8.590499]], b  [-3.99652]\n",
      "epoch : 82, loss  4.426585674285889,  W : [[8.627154]], b  [-4.0151653]\n",
      "epoch : 83, loss  4.409749984741211,  W : [[8.663475]], b  [-4.0336432]\n",
      "epoch : 84, loss  4.393218040466309,  W : [[8.699469]], b  [-4.0519576]\n",
      "epoch : 85, loss  4.376980781555176,  W : [[8.735143]], b  [-4.070112]\n",
      "epoch : 86, loss  4.361028671264648,  W : [[8.770504]], b  [-4.08811]\n",
      "epoch : 87, loss  4.345353603363037,  W : [[8.805559]], b  [-4.1059546]\n",
      "epoch : 88, loss  4.329946517944336,  W : [[8.840315]], b  [-4.123649]\n",
      "epoch : 89, loss  4.314799785614014,  W : [[8.874777]], b  [-4.1411967]\n",
      "epoch : 90, loss  4.299907207489014,  W : [[8.908952]], b  [-4.1586003]\n",
      "epoch : 91, loss  4.285259246826172,  W : [[8.942845]], b  [-4.175863]\n",
      "epoch : 92, loss  4.27085018157959,  W : [[8.976463]], b  [-4.192987]\n",
      "epoch : 93, loss  4.256673336029053,  W : [[9.009811]], b  [-4.2099752]\n",
      "epoch : 94, loss  4.2427215576171875,  W : [[9.042894]], b  [-4.226831]\n",
      "epoch : 95, loss  4.228989601135254,  W : [[9.075718]], b  [-4.2435565]\n",
      "epoch : 96, loss  4.215470790863037,  W : [[9.108287]], b  [-4.2601542]\n",
      "epoch : 97, loss  4.202160358428955,  W : [[9.140606]], b  [-4.2766266]\n",
      "epoch : 98, loss  4.189050674438477,  W : [[9.17268]], b  [-4.2929754]\n",
      "epoch : 99, loss  4.176138877868652,  W : [[9.204514]], b  [-4.3092036]\n",
      "epoch : 100, loss  4.163418769836426,  W : [[9.236112]], b  [-4.3253136]\n",
      "epoch : 101, loss  4.150885105133057,  W : [[9.267478]], b  [-4.341307]\n",
      "epoch : 102, loss  4.138533115386963,  W : [[9.298617]], b  [-4.3571863]\n",
      "epoch : 103, loss  4.126359462738037,  W : [[9.329534]], b  [-4.372953]\n",
      "epoch : 104, loss  4.114357948303223,  W : [[9.36023]], b  [-4.3886094]\n",
      "epoch : 105, loss  4.10252571105957,  W : [[9.390712]], b  [-4.4041576]\n",
      "epoch : 106, loss  4.09085750579834,  W : [[9.420981]], b  [-4.419599]\n",
      "epoch : 107, loss  4.079350471496582,  W : [[9.451042]], b  [-4.434936]\n",
      "epoch : 108, loss  4.068000793457031,  W : [[9.480899]], b  [-4.4501696]\n",
      "epoch : 109, loss  4.056803226470947,  W : [[9.510554]], b  [-4.465302]\n",
      "epoch : 110, loss  4.045755863189697,  W : [[9.540012]], b  [-4.4803348]\n",
      "epoch : 111, loss  4.034853935241699,  W : [[9.569276]], b  [-4.49527]\n",
      "epoch : 112, loss  4.024095058441162,  W : [[9.598349]], b  [-4.5101085]\n",
      "epoch : 113, loss  4.0134758949279785,  W : [[9.6272335]], b  [-4.5248523]\n",
      "epoch : 114, loss  4.002992153167725,  W : [[9.655933]], b  [-4.539503]\n",
      "epoch : 115, loss  3.9926414489746094,  W : [[9.684451]], b  [-4.554062]\n",
      "epoch : 116, loss  3.9824211597442627,  W : [[9.71279]], b  [-4.5685306]\n",
      "epoch : 117, loss  3.9723293781280518,  W : [[9.740952]], b  [-4.58291]\n",
      "epoch : 118, loss  3.9623608589172363,  W : [[9.76894]], b  [-4.597202]\n",
      "epoch : 119, loss  3.952514886856079,  W : [[9.796758]], b  [-4.6114073]\n",
      "epoch : 120, loss  3.9427876472473145,  W : [[9.824408]], b  [-4.625528]\n",
      "epoch : 121, loss  3.9331774711608887,  W : [[9.8518915]], b  [-4.639565]\n",
      "epoch : 122, loss  3.923682451248169,  W : [[9.879212]], b  [-4.6535196]\n",
      "epoch : 123, loss  3.9142982959747314,  W : [[9.906372]], b  [-4.667393]\n",
      "epoch : 124, loss  3.9050240516662598,  W : [[9.933373]], b  [-4.6811867]\n",
      "epoch : 125, loss  3.895857095718384,  W : [[9.960219]], b  [-4.694901]\n",
      "epoch : 126, loss  3.8867955207824707,  W : [[9.986911]], b  [-4.708538]\n",
      "epoch : 127, loss  3.8778371810913086,  W : [[10.013451]], b  [-4.7220984]\n",
      "epoch : 128, loss  3.8689792156219482,  W : [[10.039842]], b  [-4.735583]\n",
      "epoch : 129, loss  3.8602209091186523,  W : [[10.066085]], b  [-4.748993]\n",
      "epoch : 130, loss  3.85155987739563,  W : [[10.092183]], b  [-4.7623296]\n",
      "epoch : 131, loss  3.8429934978485107,  W : [[10.118138]], b  [-4.7755938]\n",
      "epoch : 132, loss  3.834520101547241,  W : [[10.143952]], b  [-4.788787]\n",
      "epoch : 133, loss  3.826138496398926,  W : [[10.169627]], b  [-4.8019094]\n",
      "epoch : 134, loss  3.81784725189209,  W : [[10.195164]], b  [-4.8149624]\n",
      "epoch : 135, loss  3.8096437454223633,  W : [[10.220565]], b  [-4.8279467]\n",
      "epoch : 136, loss  3.8015270233154297,  W : [[10.245832]], b  [-4.840863]\n",
      "epoch : 137, loss  3.793494701385498,  W : [[10.270968]], b  [-4.853713]\n",
      "epoch : 138, loss  3.7855465412139893,  W : [[10.295975]], b  [-4.866497]\n",
      "epoch : 139, loss  3.777679204940796,  W : [[10.320852]], b  [-4.879216]\n",
      "epoch : 140, loss  3.769892692565918,  W : [[10.345603]], b  [-4.891871]\n",
      "epoch : 141, loss  3.7621848583221436,  W : [[10.370229]], b  [-4.9044623]\n",
      "epoch : 142, loss  3.754554033279419,  W : [[10.394731]], b  [-4.916991]\n",
      "epoch : 143, loss  3.746999979019165,  W : [[10.41911]], b  [-4.929458]\n",
      "epoch : 144, loss  3.739520311355591,  W : [[10.44337]], b  [-4.941864]\n",
      "epoch : 145, loss  3.732114553451538,  W : [[10.46751]], b  [-4.9542093]\n",
      "epoch : 146, loss  3.724780321121216,  W : [[10.491533]], b  [-4.966495]\n",
      "epoch : 147, loss  3.717517375946045,  W : [[10.515441]], b  [-4.978722]\n",
      "epoch : 148, loss  3.7103238105773926,  W : [[10.539233]], b  [-4.9908915]\n",
      "epoch : 149, loss  3.7031989097595215,  W : [[10.562913]], b  [-5.003003]\n",
      "epoch : 150, loss  3.696141481399536,  W : [[10.586481]], b  [-5.015058]\n",
      "epoch : 151, loss  3.689150333404541,  W : [[10.609939]], b  [-5.027057]\n",
      "epoch : 152, loss  3.682224750518799,  W : [[10.633286]], b  [-5.039001]\n",
      "epoch : 153, loss  3.6753623485565186,  W : [[10.656527]], b  [-5.05089]\n",
      "epoch : 154, loss  3.6685633659362793,  W : [[10.67966]], b  [-5.062725]\n",
      "epoch : 155, loss  3.6618263721466064,  W : [[10.702688]], b  [-5.0745063]\n",
      "epoch : 156, loss  3.6551504135131836,  W : [[10.725613]], b  [-5.086235]\n",
      "epoch : 157, loss  3.6485342979431152,  W : [[10.748434]], b  [-5.0979114]\n",
      "epoch : 158, loss  3.641977310180664,  W : [[10.771153]], b  [-5.109536]\n",
      "epoch : 159, loss  3.635478973388672,  W : [[10.793773]], b  [-5.12111]\n",
      "epoch : 160, loss  3.629037380218506,  W : [[10.816293]], b  [-5.132633]\n",
      "epoch : 161, loss  3.622652053833008,  W : [[10.838715]], b  [-5.1441064]\n",
      "epoch : 162, loss  3.616321563720703,  W : [[10.861039]], b  [-5.1555305]\n",
      "epoch : 163, loss  3.610046625137329,  W : [[10.883267]], b  [-5.1669054]\n",
      "epoch : 164, loss  3.603825092315674,  W : [[10.9054]], b  [-5.178232]\n",
      "epoch : 165, loss  3.59765625,  W : [[10.92744]], b  [-5.1895113]\n",
      "epoch : 166, loss  3.5915396213531494,  W : [[10.949386]], b  [-5.200743]\n",
      "epoch : 167, loss  3.5854744911193848,  W : [[10.97124]], b  [-5.2119284]\n",
      "epoch : 168, loss  3.5794599056243896,  W : [[10.993003]], b  [-5.2230673]\n",
      "epoch : 169, loss  3.5734951496124268,  W : [[11.014676]], b  [-5.2341604]\n",
      "epoch : 170, loss  3.567579507827759,  W : [[11.036261]], b  [-5.2452083]\n",
      "epoch : 171, loss  3.5617120265960693,  W : [[11.057756]], b  [-5.2562113]\n",
      "epoch : 172, loss  3.5558924674987793,  W : [[11.079165]], b  [-5.26717]\n",
      "epoch : 173, loss  3.5501198768615723,  W : [[11.100488]], b  [-5.2780848]\n",
      "epoch : 174, loss  3.544393539428711,  W : [[11.121725]], b  [-5.288956]\n",
      "epoch : 175, loss  3.538712739944458,  W : [[11.142878]], b  [-5.299784]\n",
      "epoch : 176, loss  3.5330774784088135,  W : [[11.163946]], b  [-5.31057]\n",
      "epoch : 177, loss  3.5274860858917236,  W : [[11.184933]], b  [-5.3213134]\n",
      "epoch : 178, loss  3.5219383239746094,  W : [[11.205837]], b  [-5.3320155]\n",
      "epoch : 179, loss  3.5164337158203125,  W : [[11.22666]], b  [-5.342676]\n",
      "epoch : 180, loss  3.510971784591675,  W : [[11.247402]], b  [-5.3532963]\n",
      "epoch : 181, loss  3.505551815032959,  W : [[11.268065]], b  [-5.3638754]\n",
      "epoch : 182, loss  3.5001730918884277,  W : [[11.28865]], b  [-5.374415]\n",
      "epoch : 183, loss  3.49483585357666,  W : [[11.309156]], b  [-5.3849144]\n",
      "epoch : 184, loss  3.4895379543304443,  W : [[11.329586]], b  [-5.395375]\n",
      "epoch : 185, loss  3.4842801094055176,  W : [[11.349938]], b  [-5.405796]\n",
      "epoch : 186, loss  3.4790611267089844,  W : [[11.370215]], b  [-5.4161787]\n",
      "epoch : 187, loss  3.473881244659424,  W : [[11.390417]], b  [-5.426523]\n",
      "epoch : 188, loss  3.4687395095825195,  W : [[11.410545]], b  [-5.43683]\n",
      "epoch : 189, loss  3.463634967803955,  W : [[11.430599]], b  [-5.4470997]\n",
      "epoch : 190, loss  3.4585683345794678,  W : [[11.450581]], b  [-5.4573317]\n",
      "epoch : 191, loss  3.4535372257232666,  W : [[11.4704895]], b  [-5.4675274]\n",
      "epoch : 192, loss  3.4485435485839844,  W : [[11.490327]], b  [-5.4776864]\n",
      "epoch : 193, loss  3.44358491897583,  W : [[11.510094]], b  [-5.487809]\n",
      "epoch : 194, loss  3.438662052154541,  W : [[11.52979]], b  [-5.497896]\n",
      "epoch : 195, loss  3.4337732791900635,  W : [[11.5494175]], b  [-5.507948]\n",
      "epoch : 196, loss  3.4289188385009766,  W : [[11.568975]], b  [-5.517965]\n",
      "epoch : 197, loss  3.4240989685058594,  W : [[11.588466]], b  [-5.5279465]\n",
      "epoch : 198, loss  3.4193127155303955,  W : [[11.607888]], b  [-5.5378942]\n",
      "epoch : 199, loss  3.4145591259002686,  W : [[11.627243]], b  [-5.5478077]\n",
      "epoch : 200, loss  3.4098379611968994,  W : [[11.646532]], b  [-5.557687]\n",
      "epoch : 201, loss  3.405149459838867,  W : [[11.665755]], b  [-5.5675325]\n",
      "epoch : 202, loss  3.4004929065704346,  W : [[11.684913]], b  [-5.5773454]\n",
      "epoch : 203, loss  3.3958675861358643,  W : [[11.704005]], b  [-5.587125]\n",
      "epoch : 204, loss  3.3912734985351562,  W : [[11.723034]], b  [-5.596872]\n",
      "epoch : 205, loss  3.3867104053497314,  W : [[11.741999]], b  [-5.6065865]\n",
      "epoch : 206, loss  3.3821775913238525,  W : [[11.7609005]], b  [-5.6162686]\n",
      "epoch : 207, loss  3.3776743412017822,  W : [[11.77974]], b  [-5.625919]\n",
      "epoch : 208, loss  3.373201370239258,  W : [[11.798518]], b  [-5.6355376]\n",
      "epoch : 209, loss  3.368757486343384,  W : [[11.817234]], b  [-5.645125]\n",
      "epoch : 210, loss  3.36434268951416,  W : [[11.83589]], b  [-5.654681]\n",
      "epoch : 211, loss  3.3599557876586914,  W : [[11.854485]], b  [-5.664207]\n",
      "epoch : 212, loss  3.3555984497070312,  W : [[11.873019]], b  [-5.6737022]\n",
      "epoch : 213, loss  3.3512678146362305,  W : [[11.891495]], b  [-5.683167]\n",
      "epoch : 214, loss  3.346965789794922,  W : [[11.909912]], b  [-5.6926017]\n",
      "epoch : 215, loss  3.3426902294158936,  W : [[11.92827]], b  [-5.702007]\n",
      "epoch : 216, loss  3.338442325592041,  W : [[11.946571]], b  [-5.7113824]\n",
      "epoch : 217, loss  3.3342208862304688,  W : [[11.964814]], b  [-5.720729]\n",
      "epoch : 218, loss  3.3300249576568604,  W : [[11.983001]], b  [-5.730046]\n",
      "epoch : 219, loss  3.325856924057007,  W : [[12.00113]], b  [-5.739334]\n",
      "epoch : 220, loss  3.3217132091522217,  W : [[12.019204]], b  [-5.748594]\n",
      "epoch : 221, loss  3.3175954818725586,  W : [[12.037222]], b  [-5.7578254]\n",
      "epoch : 222, loss  3.3135035037994385,  W : [[12.055185]], b  [-5.7670283]\n",
      "epoch : 223, loss  3.3094358444213867,  W : [[12.073093]], b  [-5.7762036]\n",
      "epoch : 224, loss  3.3053929805755615,  W : [[12.090947]], b  [-5.7853513]\n",
      "epoch : 225, loss  3.301374673843384,  W : [[12.1087475]], b  [-5.7944713]\n",
      "epoch : 226, loss  3.2973804473876953,  W : [[12.126494]], b  [-5.803564]\n",
      "epoch : 227, loss  3.293409824371338,  W : [[12.144188]], b  [-5.81263]\n",
      "epoch : 228, loss  3.289463758468628,  W : [[12.161829]], b  [-5.821669]\n",
      "epoch : 229, loss  3.2855398654937744,  W : [[12.179418]], b  [-5.8306813]\n",
      "epoch : 230, loss  3.281639814376831,  W : [[12.196955]], b  [-5.8396673]\n",
      "epoch : 231, loss  3.2777628898620605,  W : [[12.21444]], b  [-5.848627]\n",
      "epoch : 232, loss  3.2739081382751465,  W : [[12.231875]], b  [-5.8575606]\n",
      "epoch : 233, loss  3.270075559616089,  W : [[12.24926]], b  [-5.8664684]\n",
      "epoch : 234, loss  3.2662651538848877,  W : [[12.266594]], b  [-5.8753505]\n",
      "epoch : 235, loss  3.262477397918701,  W : [[12.283878]], b  [-5.8842072]\n",
      "epoch : 236, loss  3.2587103843688965,  W : [[12.301113]], b  [-5.8930387]\n",
      "epoch : 237, loss  3.2549655437469482,  W : [[12.318299]], b  [-5.901845]\n",
      "epoch : 238, loss  3.25124192237854,  W : [[12.335437]], b  [-5.910627]\n",
      "epoch : 239, loss  3.2475388050079346,  W : [[12.352526]], b  [-5.919384]\n",
      "epoch : 240, loss  3.243856906890869,  W : [[12.369567]], b  [-5.9281163]\n",
      "epoch : 241, loss  3.2401955127716064,  W : [[12.38656]], b  [-5.9368243]\n",
      "epoch : 242, loss  3.2365541458129883,  W : [[12.403506]], b  [-5.9455085]\n",
      "epoch : 243, loss  3.23293399810791,  W : [[12.420405]], b  [-5.9541683]\n",
      "epoch : 244, loss  3.2293331623077393,  W : [[12.437258]], b  [-5.9628043]\n",
      "epoch : 245, loss  3.225752115249634,  W : [[12.454064]], b  [-5.971417]\n",
      "epoch : 246, loss  3.222191095352173,  W : [[12.470824]], b  [-5.980006]\n",
      "epoch : 247, loss  3.218648672103882,  W : [[12.487539]], b  [-5.988572]\n",
      "epoch : 248, loss  3.215125799179077,  W : [[12.504209]], b  [-5.9971147]\n",
      "epoch : 249, loss  3.2116219997406006,  W : [[12.520833]], b  [-6.0056343]\n",
      "epoch : 250, loss  3.208136796951294,  W : [[12.537413]], b  [-6.014131]\n",
      "epoch : 251, loss  3.2046713829040527,  W : [[12.553948]], b  [-6.0226054]\n",
      "epoch : 252, loss  3.201223373413086,  W : [[12.57044]], b  [-6.031057]\n",
      "epoch : 253, loss  3.19779372215271,  W : [[12.586888]], b  [-6.0394864]\n",
      "epoch : 254, loss  3.194382429122925,  W : [[12.603292]], b  [-6.0478935]\n",
      "epoch : 255, loss  3.190988779067993,  W : [[12.619654]], b  [-6.0562787]\n",
      "epoch : 256, loss  3.187613010406494,  W : [[12.635973]], b  [-6.064642]\n",
      "epoch : 257, loss  3.1842551231384277,  W : [[12.652249]], b  [-6.0729837]\n",
      "epoch : 258, loss  3.1809146404266357,  W : [[12.668484]], b  [-6.0813036]\n",
      "epoch : 259, loss  3.177590847015381,  W : [[12.684676]], b  [-6.0896025]\n",
      "epoch : 260, loss  3.1742842197418213,  W : [[12.700827]], b  [-6.09788]\n",
      "epoch : 261, loss  3.170994997024536,  W : [[12.716936]], b  [-6.1061363]\n",
      "epoch : 262, loss  3.167722702026367,  W : [[12.733005]], b  [-6.1143713]\n",
      "epoch : 263, loss  3.164466619491577,  W : [[12.749032]], b  [-6.122586]\n",
      "epoch : 264, loss  3.1612274646759033,  W : [[12.765018]], b  [-6.1307793]\n",
      "epoch : 265, loss  3.1580042839050293,  W : [[12.780965]], b  [-6.1389523]\n",
      "epoch : 266, loss  3.154797077178955,  W : [[12.796871]], b  [-6.1471047]\n",
      "epoch : 267, loss  3.151606559753418,  W : [[12.812738]], b  [-6.155237]\n",
      "epoch : 268, loss  3.1484317779541016,  W : [[12.828566]], b  [-6.163349]\n",
      "epoch : 269, loss  3.1452720165252686,  W : [[12.844354]], b  [-6.171441]\n",
      "epoch : 270, loss  3.1421289443969727,  W : [[12.860104]], b  [-6.1795135]\n",
      "epoch : 271, loss  3.139000177383423,  W : [[12.875814]], b  [-6.187566]\n",
      "epoch : 272, loss  3.135887622833252,  W : [[12.891487]], b  [-6.1955986]\n",
      "epoch : 273, loss  3.1327900886535645,  W : [[12.907122]], b  [-6.203612]\n",
      "epoch : 274, loss  3.129707098007202,  W : [[12.922718]], b  [-6.211606]\n",
      "epoch : 275, loss  3.1266393661499023,  W : [[12.938276]], b  [-6.2195807]\n",
      "epoch : 276, loss  3.1235861778259277,  W : [[12.953797]], b  [-6.227536]\n",
      "epoch : 277, loss  3.1205477714538574,  W : [[12.969281]], b  [-6.2354727]\n",
      "epoch : 278, loss  3.1175243854522705,  W : [[12.984729]], b  [-6.24339]\n",
      "epoch : 279, loss  3.1145143508911133,  W : [[13.000139]], b  [-6.251289]\n",
      "epoch : 280, loss  3.1115195751190186,  W : [[13.015513]], b  [-6.2591686]\n",
      "epoch : 281, loss  3.1085383892059326,  W : [[13.030851]], b  [-6.2670302]\n",
      "epoch : 282, loss  3.1055715084075928,  W : [[13.046153]], b  [-6.2748733]\n",
      "epoch : 283, loss  3.1026179790496826,  W : [[13.061419]], b  [-6.282698]\n",
      "epoch : 284, loss  3.0996792316436768,  W : [[13.076649]], b  [-6.2905045]\n",
      "epoch : 285, loss  3.0967535972595215,  W : [[13.091844]], b  [-6.298293]\n",
      "epoch : 286, loss  3.093841314315796,  W : [[13.107003]], b  [-6.3060637]\n",
      "epoch : 287, loss  3.090942859649658,  W : [[13.1221285]], b  [-6.313816]\n",
      "epoch : 288, loss  3.088057279586792,  W : [[13.137218]], b  [-6.321551]\n",
      "epoch : 289, loss  3.0851855278015137,  W : [[13.152274]], b  [-6.329268]\n",
      "epoch : 290, loss  3.0823259353637695,  W : [[13.167295]], b  [-6.3369675]\n",
      "epoch : 291, loss  3.0794801712036133,  W : [[13.182282]], b  [-6.34465]\n",
      "epoch : 292, loss  3.0766472816467285,  W : [[13.197236]], b  [-6.3523145]\n",
      "epoch : 293, loss  3.073826789855957,  W : [[13.212155]], b  [-6.359962]\n",
      "epoch : 294, loss  3.071018934249878,  W : [[13.227041]], b  [-6.3675923]\n",
      "epoch : 295, loss  3.0682244300842285,  W : [[13.241895]], b  [-6.3752055]\n",
      "epoch : 296, loss  3.065441608428955,  W : [[13.256715]], b  [-6.382802]\n",
      "epoch : 297, loss  3.062671422958374,  W : [[13.271502]], b  [-6.390382]\n",
      "epoch : 298, loss  3.059913158416748,  W : [[13.286256]], b  [-6.3979445]\n",
      "epoch : 299, loss  3.0571672916412354,  W : [[13.300978]], b  [-6.405491]\n"
     ]
    }
   ],
   "source": [
    "#Model y=sigmoid(X*W + b)\n",
    "# same as the linear regression just sigmoid wrapped around the linear equation\n",
    "def output(x): \n",
    "    return tf.sigmoid(W*x + b)\n",
    "\n",
    "#Loss function : sum of squares\n",
    "def loss_function(y_pred, y_true):\n",
    "    return tf.reduce_sum(tf.square(y_pred - y_true))\n",
    "\n",
    "#Initialize Weights\n",
    "W = tf.Variable(tf.random.uniform(shape=(1, 1)))\n",
    "b = tf.Variable(tf.zeros(shape=(1,)))\n",
    "\n",
    "## Optimization\n",
    "learning_rate = 0.1\n",
    "steps = 300 #epochs\n",
    "\n",
    "for i in range(steps):\n",
    "    with tf.GradientTape() as tape:\n",
    "        predictions = output(x_train)\n",
    "        loss = loss_function(y_train, predictions)\n",
    "        dloss_dw, dloss_db = tape.gradient(loss, [W, b])\n",
    "    W.assign_sub(learning_rate * dloss_dw)\n",
    "    b.assign_sub(learning_rate * dloss_db)\n",
    "    print(f\"epoch : {i}, loss  {loss.numpy()},  W : {W.numpy()}, b  {b.numpy()}\")"
   ]
  },
  {
   "cell_type": "markdown",
   "metadata": {},
   "source": [
    "Plotting"
   ]
  },
  {
   "cell_type": "code",
   "execution_count": 16,
   "metadata": {},
   "outputs": [
    {
     "name": "stdout",
     "output_type": "stream",
     "text": [
      "epoch is: 0, loss is 24.51860237121582,  W is: [[0.86075413]], b is [0.3607019]\n"
     ]
    },
    {
     "data": {
      "image/png": "[encoded data removed]",
      "text/plain": [
       "<Figure size 432x288 with 1 Axes>"
      ]
     },
     "metadata": {
      "needs_background": "light"
     },
     "output_type": "display_data"
    },
    {
     "name": "stdout",
     "output_type": "stream",
     "text": [
      "epoch is: 40, loss is 5.668291091918945,  W is: [[6.6315217]], b is [-3.0052257]\n"
     ]
    },
    {
     "data": {
      "image/png": "[encoded data removed]",
      "text/plain": [
       "<Figure size 432x288 with 1 Axes>"
      ]
     },
     "metadata": {
      "needs_background": "light"
     },
     "output_type": "display_data"
    },
    {
     "name": "stdout",
     "output_type": "stream",
     "text": [
      "epoch is: 80, loss is 4.4657883644104,  W is: [[8.543859]], b is [-3.9727995]\n"
     ]
    },
    {
     "data": {
      "image/png": "[encoded data removed]",
      "text/plain": [
       "<Figure size 432x288 with 1 Axes>"
      ]
     },
     "metadata": {
      "needs_background": "light"
     },
     "output_type": "display_data"
    },
    {
     "name": "stdout",
     "output_type": "stream",
     "text": [
      "epoch is: 120, loss is 3.945295572280884,  W is: [[9.817263]], b is [-4.621879]\n"
     ]
    },
    {
     "data": {
      "image/png": "[encoded data removed]",
      "text/plain": [
       "<Figure size 432x288 with 1 Axes>"
      ]
     },
     "metadata": {
      "needs_background": "light"
     },
     "output_type": "display_data"
    },
    {
     "name": "stdout",
     "output_type": "stream",
     "text": [
      "epoch is: 160, loss is 3.630699634552002,  W is: [[10.810471]], b is [-5.1296535]\n"
     ]
    },
    {
     "data": {
      "image/png": "[encoded data removed]",
      "text/plain": [
       "<Figure size 432x288 with 1 Axes>"
      ]
     },
     "metadata": {
      "needs_background": "light"
     },
     "output_type": "display_data"
    },
    {
     "name": "stdout",
     "output_type": "stream",
     "text": [
      "epoch is: 200, loss is 3.4110569953918457,  W is: [[11.641545]], b is [-5.555133]\n"
     ]
    },
    {
     "data": {
      "image/png": "[encoded data removed]",
      "text/plain": [
       "<Figure size 432x288 with 1 Axes>"
      ]
     },
     "metadata": {
      "needs_background": "light"
     },
     "output_type": "display_data"
    },
    {
     "name": "stdout",
     "output_type": "stream",
     "text": [
      "epoch is: 240, loss is 3.244807481765747,  W is: [[12.365163]], b is [-5.9258595]\n"
     ]
    },
    {
     "data": {
      "image/png": "[encoded data removed]",
      "text/plain": [
       "<Figure size 432x288 with 1 Axes>"
      ]
     },
     "metadata": {
      "needs_background": "light"
     },
     "output_type": "display_data"
    },
    {
     "name": "stdout",
     "output_type": "stream",
     "text": [
      "epoch is: 280, loss is 3.112292766571045,  W is: [[13.011539]], b is [-6.2571316]\n"
     ]
    },
    {
     "data": {
      "image/png": "[encoded data removed]",
      "text/plain": [
       "<Figure size 432x288 with 1 Axes>"
      ]
     },
     "metadata": {
      "needs_background": "light"
     },
     "output_type": "display_data"
    }
   ],
   "source": [
    "#Model y=X*W + b\n",
    "# same as the linear regression just sigmoid wrapped around the linear equation\n",
    "def output(x): \n",
    "    return tf.sigmoid(W*x + b)\n",
    "\n",
    "#Loss function : sum of squares\n",
    "def loss_function(y_pred, y_true):\n",
    "    return tf.reduce_sum(tf.square(y_pred - y_true))\n",
    "\n",
    "#Initialize Weights\n",
    "W = tf.Variable(tf.random.uniform(shape=(1, 1)))\n",
    "b = tf.Variable(tf.zeros(shape=(1,)))\n",
    "\n",
    "## Optimization\n",
    "learning_rate = 0.1\n",
    "steps = 300 #epochs\n",
    "\n",
    "for i in range(steps):\n",
    "    with tf.GradientTape() as tape:\n",
    "        predictions = output(x_train)\n",
    "        loss = loss_function(y_train, predictions)\n",
    "        dloss_dw, dloss_db = tape.gradient(loss, [W, b])\n",
    "    W.assign_sub(learning_rate * dloss_dw)\n",
    "    b.assign_sub(learning_rate * dloss_db)\n",
    "\n",
    "    if i%40 == 0:\n",
    "        print(f\"epoch is: {i}, loss is {loss.numpy()},  W is: {W.numpy()}, b is {b.numpy()}\")\n",
    "        plt.title([\"epoch\", i])\n",
    "        plt.plot(x_train, y_train, 'b+')\n",
    "        plt.plot(x_train, output(x_train), '.', c='r')\n",
    "        plt.show()"
   ]
  },
  {
   "cell_type": "markdown",
   "metadata": {},
   "source": [
    "# Keras"
   ]
  },
  {
   "cell_type": "code",
   "execution_count": 19,
   "metadata": {},
   "outputs": [],
   "source": [
    "from tensorflow import keras\n",
    "from tensorflow.keras import layers\n",
    "from tensorflow.keras.models import Sequential\n",
    "from tensorflow.keras.layers import Dense"
   ]
  },
  {
   "cell_type": "code",
   "execution_count": 20,
   "metadata": {},
   "outputs": [
    {
     "name": "stdout",
     "output_type": "stream",
     "text": [
      "Downloading data from https://storage.googleapis.com/tensorflow/tf-keras-datasets/mnist.npz\n",
      "11493376/11490434 [==============================] - 2s 0us/step\n",
      "(60000, 784) train input samples\n",
      "(10000, 784) test input samples\n",
      "(60000, 10) train output samples\n",
      "(10000, 10) test output samples\n"
     ]
    }
   ],
   "source": [
    "## The data, shuffled and split between train and test sets\n",
    "(X_train, Y_train), (X_test, Y_test) = keras.datasets.mnist.load_data()\n",
    "num_classes=10\n",
    "x_train = X_train.reshape(60000, 784)\n",
    "x_test = X_test.reshape(10000, 784)\n",
    "x_train = x_train.astype('float32')\n",
    "x_test = x_test.astype('float32')\n",
    "x_train /= 255\n",
    "x_test /= 255\n",
    "\n",
    "## Convert class vectors to binary class matrices\n",
    "y_train = keras.utils.to_categorical(Y_train, num_classes)\n",
    "y_test = keras.utils.to_categorical(Y_test, num_classes)\n",
    "\n",
    "print(x_train.shape, 'train input samples')\n",
    "print(x_test.shape, 'test input samples')\n",
    "\n",
    "print(y_train.shape, 'train output samples')\n",
    "print(y_test.shape, 'test output samples')"
   ]
  },
  {
   "cell_type": "code",
   "execution_count": 21,
   "metadata": {},
   "outputs": [
    {
     "data": {
      "image/png": "[encoded data removed]",
      "text/plain": [
       "<Figure size 432x288 with 4 Axes>"
      ]
     },
     "metadata": {
      "needs_background": "light"
     },
     "output_type": "display_data"
    }
   ],
   "source": [
    "# Plot 4 images as gray scale\n",
    "\n",
    "%matplotlib inline\n",
    "import matplotlib.pyplot as plt\n",
    "plt.subplot(221)\n",
    "plt.imshow(X_train[1], cmap=plt.get_cmap('gray'))\n",
    "plt.subplot(222)\n",
    "plt.imshow(X_train[6], cmap=plt.get_cmap('gray'))\n",
    "plt.subplot(223)\n",
    "plt.imshow(X_train[7], cmap=plt.get_cmap('gray'))\n",
    "plt.subplot(224)\n",
    "plt.imshow(X_train[9], cmap=plt.get_cmap('gray'))\n",
    "\n",
    "# show the plot\n",
    "plt.show()"
   ]
  },
  {
   "cell_type": "code",
   "execution_count": 22,
   "metadata": {},
   "outputs": [
    {
     "name": "stdout",
     "output_type": "stream",
     "text": [
      "Model: \"sequential\"\n",
      "_________________________________________________________________\n",
      "Layer (type)                 Output Shape              Param #   \n",
      "=================================================================\n",
      "dense (Dense)                (None, 20)                15700     \n",
      "_________________________________________________________________\n",
      "dense_1 (Dense)              (None, 20)                420       \n",
      "_________________________________________________________________\n",
      "dense_2 (Dense)              (None, 10)                210       \n",
      "=================================================================\n",
      "Total params: 16,330\n",
      "Trainable params: 16,330\n",
      "Non-trainable params: 0\n",
      "_________________________________________________________________\n"
     ]
    }
   ],
   "source": [
    "model = keras.Sequential()\n",
    "#Input Layer. The model needs to know what input shape it should expect. \n",
    "#For this reason, the first layer in a Sequential model needs to receive information about its input shape.\n",
    "#Only the first need the snape information, because following layers can do automatic shape inference\n",
    "model.add(layers.Dense(20, activation='sigmoid', input_shape=(784,)))\n",
    "\n",
    "#The dense layer is simply a layer where each unit or neuron is connected to each neuron in the next layer.\n",
    "model.add(layers.Dense(20, activation='sigmoid'))\n",
    "\n",
    "#In the final layer mention the output classes\n",
    "model.add(layers.Dense(10, activation='softmax'))\n",
    "\n",
    "#Model Summary\n",
    "model.summary()"
   ]
  },
  {
   "cell_type": "code",
   "execution_count": 23,
   "metadata": {},
   "outputs": [
    {
     "name": "stdout",
     "output_type": "stream",
     "text": [
      "Epoch 1/10\n",
      "1875/1875 [==============================] - 6s 2ms/step - loss: 1.0068 - accuracy: 0.7568\n",
      "Epoch 2/10\n",
      "1875/1875 [==============================] - 3s 2ms/step - loss: 0.3580 - accuracy: 0.9005\n",
      "Epoch 3/10\n",
      "1875/1875 [==============================] - 3s 2ms/step - loss: 0.2736 - accuracy: 0.9204\n",
      "Epoch 4/10\n",
      "1875/1875 [==============================] - 3s 2ms/step - loss: 0.2320 - accuracy: 0.9332\n",
      "Epoch 5/10\n",
      "1875/1875 [==============================] - 3s 2ms/step - loss: 0.2060 - accuracy: 0.9404\n",
      "Epoch 6/10\n",
      "1875/1875 [==============================] - 3s 2ms/step - loss: 0.1883 - accuracy: 0.9455\n",
      "Epoch 7/10\n",
      "1875/1875 [==============================] - 3s 2ms/step - loss: 0.1760 - accuracy: 0.9489\n",
      "Epoch 8/10\n",
      "1875/1875 [==============================] - 3s 2ms/step - loss: 0.1665 - accuracy: 0.9513\n",
      "Epoch 9/10\n",
      "1875/1875 [==============================] - 3s 2ms/step - loss: 0.1596 - accuracy: 0.9530\n",
      "Epoch 10/10\n",
      "1875/1875 [==============================] - 3s 2ms/step - loss: 0.1534 - accuracy: 0.9552\n"
     ]
    },
    {
     "data": {
      "text/plain": [
       "<tensorflow.python.keras.callbacks.History at 0x263b2fe7190>"
      ]
     },
     "execution_count": 23,
     "metadata": {},
     "output_type": "execute_result"
    }
   ],
   "source": [
    "# Compiling model : we define loss function, optimizer and validation matric of our choice\n",
    "model.compile(loss='categorical_crossentropy', metrics=['accuracy'])\n",
    "\n",
    "# Fit method: actually running our model by supplying our input and validation data\n",
    "model.fit(x_train, y_train,epochs=10)"
   ]
  },
  {
   "cell_type": "code",
   "execution_count": 24,
   "metadata": {},
   "outputs": [
    {
     "name": "stdout",
     "output_type": "stream",
     "text": [
      "[array([[-0.05892526, -0.05414296, -0.03496408, ...,  0.05517781,\n",
      "        -0.07779641,  0.07165894],\n",
      "       [ 0.0049303 , -0.07490315, -0.04819031, ..., -0.04690649,\n",
      "         0.02037498,  0.02409995],\n",
      "       [ 0.02321611, -0.04151903, -0.0494222 , ..., -0.05975289,\n",
      "         0.06963615,  0.05368617],\n",
      "       ...,\n",
      "       [-0.01076229, -0.0086471 , -0.0337502 , ..., -0.02719225,\n",
      "        -0.05668506, -0.04702216],\n",
      "       [ 0.08597085, -0.07209495,  0.05662455, ...,  0.05581121,\n",
      "         0.05761793, -0.07838762],\n",
      "       [ 0.0723203 ,  0.0358093 , -0.06299587, ...,  0.06306285,\n",
      "        -0.03472571,  0.00343879]], dtype=float32), array([-0.02060986, -0.264139  , -0.31995618, -0.17204227,  0.3090679 ,\n",
      "       -0.7941459 , -0.19933712, -0.1888914 , -0.11639135, -0.6946665 ,\n",
      "        0.19855775,  0.16070251,  0.0447658 ,  0.25391984, -0.0816147 ,\n",
      "       -0.1663646 ,  0.23004502, -0.05497823,  0.23313828, -0.13947685],\n",
      "      dtype=float32), array([[ 2.3631468 , -0.01098021, -0.29057795,  0.44445822, -0.05696441,\n",
      "        -0.7638319 ,  0.11676912, -0.15533668,  1.252355  , -1.4737442 ,\n",
      "        -1.2560669 , -0.35722753, -1.7479618 ,  2.30627   ,  1.616848  ,\n",
      "         0.15290305, -0.72646314,  0.15037711,  1.4824457 ,  0.53228533],\n",
      "       [ 0.68525934,  1.0586061 , -0.33382195,  0.7469476 ,  0.99733245,\n",
      "        -0.17322166,  1.050402  ,  0.87399894,  0.49555674, -0.4162205 ,\n",
      "        -2.2901716 , -0.38446683, -0.9804047 , -0.5940299 ,  0.41961995,\n",
      "        -0.176281  , -0.22993317,  1.1116747 ,  2.0635064 , -2.4778244 ],\n",
      "       [ 0.6212575 ,  0.7563633 ,  0.30670026,  1.0141621 ,  0.6321444 ,\n",
      "        -0.39048263,  0.12896256, -1.6905651 ,  0.55794686,  0.02624848,\n",
      "        -0.28794336, -1.0520463 , -0.92231274, -0.45127252, -0.73840964,\n",
      "         0.43798298, -0.1157819 ,  0.3522179 ,  1.9369162 , -0.6063326 ],\n",
      "       [ 0.3129543 , -0.60033774,  0.9559937 ,  0.53776234,  0.01784453,\n",
      "         0.48950845, -1.2535744 , -0.34353077,  0.22842678,  0.2312921 ,\n",
      "        -0.1355915 ,  1.7372379 ,  2.383985  , -0.9519503 , -1.44411   ,\n",
      "        -0.7882307 ,  0.71426594, -0.94173783, -0.2827291 ,  0.43569607],\n",
      "       [-0.34305125,  1.3970304 ,  1.3627734 , -0.6407595 ,  0.27012762,\n",
      "        -1.5828346 ,  2.528573  ,  1.8009247 ,  1.3542014 ,  0.98490345,\n",
      "        -1.3151425 ,  0.6574689 , -1.0996196 ,  1.7297556 ,  0.7763244 ,\n",
      "        -1.9156196 , -0.2216327 , -0.57030326, -1.2065319 , -2.0684986 ],\n",
      "       [-0.8749881 , -1.2462026 , -0.12708788, -1.5809    ,  1.6050637 ,\n",
      "         0.40042958, -0.24934413, -0.9056042 ,  0.48360625,  1.5650604 ,\n",
      "         0.25500152, -1.3957368 , -0.0111689 , -0.06382883, -1.0978398 ,\n",
      "         0.17204335,  1.8575397 , -0.2165374 ,  1.3864166 ,  0.0424208 ],\n",
      "       [-0.50765926,  0.5084608 , -0.34786358, -0.5661148 , -1.2373646 ,\n",
      "         0.25289103,  0.5911523 ,  1.2818294 ,  0.25253785,  0.75914174,\n",
      "         1.0564625 , -0.276647  ,  0.30789486,  0.8558636 ,  0.7519419 ,\n",
      "        -1.0448916 , -0.2805021 , -0.60068   , -0.899601  ,  0.57975084],\n",
      "       [-1.3206857 , -0.62200314, -1.2146447 ,  0.35703695,  0.50898457,\n",
      "         3.4106586 ,  0.38444814,  2.2781281 ,  1.0518012 ,  0.0153094 ,\n",
      "        -0.8519918 ,  0.61987627,  0.18256702, -0.11812221,  0.98074865,\n",
      "        -1.9774767 , -0.2198781 , -0.89514893,  1.948068  , -0.1356628 ],\n",
      "       [ 0.4435786 , -0.9797017 ,  0.39367387, -0.5964007 ,  0.23987316,\n",
      "        -0.697813  ,  0.3667005 ,  0.18841565,  1.434174  ,  1.6448172 ,\n",
      "        -0.15196012,  1.6359041 ,  0.46495366, -0.38524178, -0.59038156,\n",
      "        -0.9339027 , -1.1771923 , -0.7500619 ,  0.5707906 ,  0.50935566],\n",
      "       [-0.82923025,  1.7523907 , -0.48245904,  0.5297477 , -0.1114843 ,\n",
      "         1.1617686 ,  0.41082957, -1.0105469 , -0.4261531 ,  0.7570272 ,\n",
      "         1.4513984 ,  1.352888  ,  1.1937739 , -1.3653486 , -1.2182218 ,\n",
      "        -0.571596  , -0.6419875 ,  0.40095276, -1.2676066 , -0.7891937 ],\n",
      "       [-0.9718012 ,  1.5897367 , -0.6477102 ,  1.2162997 , -0.75645816,\n",
      "         1.2528583 ,  0.61766964, -0.5488535 , -1.4620749 , -0.05113561,\n",
      "         0.84097826,  1.3044993 ,  0.38406286, -1.1569963 , -1.1943071 ,\n",
      "        -0.3697415 , -0.7699897 ,  1.8500729 , -1.3644668 ,  0.1841393 ],\n",
      "       [ 1.9141725 ,  1.8641385 ,  0.25957152,  2.387973  , -1.2025442 ,\n",
      "         0.222845  ,  0.06730776,  0.77778935, -0.6550069 , -2.1238518 ,\n",
      "        -0.41390592, -0.30491394, -0.99577326, -0.30477175,  1.1200377 ,\n",
      "        -0.6078239 , -0.5696279 , -0.4937914 , -0.62411165,  0.13998498],\n",
      "       [ 2.349344  , -0.24034466,  2.6355877 ,  0.5246202 ,  1.4581926 ,\n",
      "        -1.3099465 , -1.0669764 , -1.7820541 ,  0.76849484, -0.12754862,\n",
      "        -0.5960407 ,  0.32510278,  0.74309164, -1.4665135 , -1.4277936 ,\n",
      "         0.640842  ,  0.995512  , -1.570654  ,  0.5231866 , -0.32063523],\n",
      "       [ 0.71155316,  3.0670907 ,  0.62042075,  0.37892643, -2.2132351 ,\n",
      "        -0.2211572 ,  0.9146544 , -0.24571037, -0.03833678, -0.7602384 ,\n",
      "         1.9905928 , -1.2557722 , -0.91146946, -0.51351655,  0.93593085,\n",
      "        -0.12339354,  1.2061118 , -1.3330231 , -2.1825855 ,  0.45332712],\n",
      "       [ 0.36793727, -0.38473547,  0.3754438 ,  0.35736054,  0.7925076 ,\n",
      "         0.23664609, -1.4905727 , -0.55149335, -1.0117801 , -1.3900938 ,\n",
      "        -0.7713245 ,  0.84233624,  0.6880416 ,  1.5381786 , -0.25045288,\n",
      "         1.5069679 ,  0.75559115,  1.0678463 ,  0.28657037, -0.04007817],\n",
      "       [ 1.6050694 , -1.0190313 ,  1.6239982 , -0.4293475 , -1.0319157 ,\n",
      "        -0.22749302, -0.5914713 , -0.1995547 ,  1.9908404 ,  0.800682  ,\n",
      "         0.8509531 , -0.27141032,  0.47019863, -0.42616457,  0.39571106,\n",
      "        -1.2723355 ,  1.5405722 , -3.1215692 ,  0.7488563 ,  2.4437795 ],\n",
      "       [ 1.1998271 ,  0.4165773 , -0.0136327 ,  1.2083819 , -0.71336704,\n",
      "         0.38902542, -0.7320678 , -0.8968711 , -0.25769687, -0.93208766,\n",
      "         0.5748073 , -1.6097838 , -0.0360511 , -1.2627271 ,  0.3153142 ,\n",
      "         0.6410814 ,  0.5962636 , -0.30838585,  0.02494236,  0.7527399 ],\n",
      "       [-0.3668018 , -0.53277266,  0.3824667 , -1.3932606 ,  0.19019811,\n",
      "        -0.57599926,  0.46461728,  0.14526181,  0.5476438 ,  0.16915731,\n",
      "         0.9788018 , -1.6438284 , -0.02471211,  1.6673629 ,  0.9492723 ,\n",
      "         1.184121  ,  1.7547234 ,  0.1186904 ,  0.49290064,  0.41383326],\n",
      "       [-0.45574337, -0.12888236,  0.7562273 , -1.4773796 ,  0.9223388 ,\n",
      "        -0.83402085, -0.14032826, -0.05338365, -0.80479705,  0.69025415,\n",
      "        -0.3570262 , -0.46167514,  1.0457869 ,  1.0298373 , -0.06721366,\n",
      "         1.0780867 ,  1.5784585 ,  0.5424301 ,  0.0484246 , -1.1429142 ],\n",
      "       [-0.2613856 , -0.10494377, -1.8830345 ,  1.6619877 , -1.147378  ,\n",
      "         1.5882937 ,  0.22763652,  0.6631825 ,  1.4013761 , -0.64488447,\n",
      "        -0.01953333,  1.1873904 , -0.8894623 ,  0.642713  ,  1.1382567 ,\n",
      "        -1.2399963 , -1.4252146 ,  0.04978198,  0.79622656,  1.9143677 ]],\n",
      "      dtype=float32), array([ 0.08442375,  0.00092775,  0.02736301, -0.18369421, -0.0985581 ,\n",
      "       -0.35977876,  0.32885692, -0.02959004,  0.200394  ,  0.3084812 ,\n",
      "        0.19620648, -0.02963652,  0.3346443 ,  0.31839928,  0.05991431,\n",
      "       -0.02725931,  0.07749755,  0.21311243,  0.0290119 , -0.29995507],\n",
      "      dtype=float32), array([[ 5.6568891e-01, -9.3672168e-01, -2.8135295e+00,  8.2593721e-01,\n",
      "         1.9571239e-01,  8.6787045e-01, -2.0227580e+00,  9.7954601e-01,\n",
      "        -2.8278608e+00,  3.6051441e-02],\n",
      "       [ 6.7049366e-01,  2.9534441e-01, -2.2697539e+00, -2.8807826e+00,\n",
      "         9.6489489e-02,  3.5541400e-01,  6.6940355e-01,  2.2200026e-01,\n",
      "        -1.9572803e-01, -2.5000442e-02],\n",
      "       [-1.7053761e-01,  5.4348516e-01, -5.3531909e-01,  6.6609371e-01,\n",
      "        -2.0141737e+00,  7.5305068e-01, -2.5182347e+00,  1.6570351e+00,\n",
      "         1.7167084e-03, -2.1018536e+00],\n",
      "       [ 1.0204347e+00, -3.6763034e+00, -1.9069085e+00, -2.0241203e+00,\n",
      "         3.7123334e-01,  1.0730940e+00,  6.8017811e-01, -1.0276622e+00,\n",
      "        -2.3372796e+00,  4.9433824e-01],\n",
      "       [ 9.7620946e-01, -3.0029883e+00,  1.1892327e+00,  5.1656950e-01,\n",
      "        -2.4592698e+00, -2.0583434e+00, -2.3712729e-01,  8.0692053e-01,\n",
      "        -1.5668474e-01, -1.3310007e+00],\n",
      "       [ 1.7787412e-01, -2.2423019e+00,  8.4257531e-01, -1.9169176e+00,\n",
      "        -1.6796039e-01,  7.0477402e-01,  6.2480652e-01, -3.1353929e+00,\n",
      "        -4.5039240e-01,  7.5840318e-01],\n",
      "       [-2.4119794e+00,  1.1349888e+00, -7.3073614e-01, -2.6873999e+00,\n",
      "         5.4167223e-01, -1.6838065e+00,  9.8265344e-01,  3.4347695e-01,\n",
      "        -1.3932005e-01, -4.9020588e-01],\n",
      "       [-8.5605627e-01,  1.1031044e+00,  1.7787079e+00, -3.0097907e+00,\n",
      "         1.6504103e+00, -1.5106238e+00, -6.9169730e-01, -2.2576311e+00,\n",
      "        -8.7720925e-01, -1.6227235e+00],\n",
      "       [-2.8588252e+00,  1.0628550e+00,  3.7745184e-01,  7.2492778e-01,\n",
      "         3.1251979e-01, -6.4620203e-01,  4.1175482e-01, -1.6993110e-01,\n",
      "        -2.9540770e+00, -9.2538369e-01],\n",
      "       [-1.5676334e+00,  9.9860579e-01,  5.0989711e-01,  4.6511227e-01,\n",
      "        -2.6199727e+00, -1.0660791e+00,  1.4346725e+00, -1.3306165e+00,\n",
      "         4.4486269e-01, -3.8260322e+00],\n",
      "       [-4.0263705e+00,  1.3392628e+00, -1.5905709e+00, -5.7459116e-01,\n",
      "        -1.5245466e+00,  9.3448907e-01,  4.8165515e-01, -2.8370790e+00,\n",
      "         8.2834774e-01,  2.1566309e-01],\n",
      "       [ 1.0287058e+00, -3.0863304e+00, -3.6231041e-01, -3.7752174e-02,\n",
      "         1.4657786e+00,  3.9520738e-01,  9.0468496e-01, -2.3780601e+00,\n",
      "         4.6704504e-01, -2.9589133e+00],\n",
      "       [ 6.6822189e-01, -8.4495616e-01, -1.2562837e-03,  9.0357736e-02,\n",
      "        -2.3965163e+00,  2.1176104e-01, -8.1587476e-01, -3.3890948e+00,\n",
      "         5.2170098e-01, -2.0453854e+00],\n",
      "       [-2.8403218e+00,  9.4691396e-02,  6.5432620e-01,  2.0277967e-01,\n",
      "         5.8033049e-01, -2.2943125e+00, -3.9290605e+00,  4.9355626e-01,\n",
      "         8.6642325e-01,  1.7700452e-01],\n",
      "       [-2.9177630e+00,  8.5564756e-01, -4.0253472e-01, -1.5372387e+00,\n",
      "         8.5431397e-01, -1.9575107e+00, -3.7827439e+00,  2.9511744e-01,\n",
      "        -1.6686209e+00,  1.7863850e-01],\n",
      "       [ 7.6247001e-01, -1.6731497e+00, -1.9033940e+00,  9.5117301e-01,\n",
      "        -2.5176239e+00, -1.2832849e+00, -3.5021081e+00,  1.0008789e+00,\n",
      "         7.6796746e-01,  9.6235055e-01],\n",
      "       [ 2.1214458e-01,  5.4585218e-01,  5.8378346e-02, -1.7123564e-01,\n",
      "        -3.2710681e+00,  2.4540342e-01, -2.6197784e+00,  1.5678899e-02,\n",
      "         4.7268692e-01,  3.4011734e-01],\n",
      "       [ 9.1762000e-01, -3.6338632e+00, -1.1408658e+00, -1.7860897e+00,\n",
      "         3.3024830e-01, -2.6511285e+00,  6.4947581e-01,  3.5125971e-01,\n",
      "         1.2949995e+00,  3.1056884e-01],\n",
      "       [-4.0106866e-01, -2.4125323e+00,  1.5838115e+00,  7.7390343e-01,\n",
      "        -3.7823212e-01, -2.3195815e+00,  3.9216733e-01,  4.6915966e-01,\n",
      "        -3.0187018e+00,  7.5671011e-01],\n",
      "       [-3.8407285e+00, -3.8741253e-02, -9.5558172e-01,  1.3816147e+00,\n",
      "         2.7174586e-01,  1.1482558e+00, -3.1385267e-01, -3.0072954e+00,\n",
      "        -6.6803718e-01,  8.5573578e-01]], dtype=float32), array([-0.05273762, -0.26926714, -0.34011498, -0.1155782 , -0.38988316,\n",
      "       -0.13538304, -0.25915694,  0.04594915, -0.15507396, -0.2735485 ],\n",
      "      dtype=float32)]\n"
     ]
    }
   ],
   "source": [
    "print(model.get_weights())"
   ]
  },
  {
   "cell_type": "code",
   "execution_count": 25,
   "metadata": {},
   "outputs": [
    {
     "name": "stdout",
     "output_type": "stream",
     "text": [
      "313/313 - 1s - loss: 0.1745 - accuracy: 0.9504\n",
      "Test Accuracy: 95.04%\n"
     ]
    }
   ],
   "source": [
    "loss, acc = model.evaluate(x_test,  y_test, verbose=2)\n",
    "print(\"Test Accuracy: {:5.2f}%\".format(100*acc))"
   ]
  },
  {
   "cell_type": "code",
   "execution_count": null,
   "metadata": {},
   "outputs": [],
   "source": []
  }
 ],
 "metadata": {
  "kernelspec": {
   "display_name": "Python 3 (ipykernel)",
   "language": "python",
   "name": "python3"
  },
  "language_info": {
   "codemirror_mode": {
    "name": "ipython",
    "version": 3
   },
   "file_extension": ".py",
   "mimetype": "text/x-python",
   "name": "python",
   "nbconvert_exporter": "python",
   "pygments_lexer": "ipython3",
   "version": "3.9.12"
  }
 },
 "nbformat": 4,
 "nbformat_minor": 4
}
