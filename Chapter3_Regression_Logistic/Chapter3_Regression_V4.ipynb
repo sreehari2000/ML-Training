{
 "cells": [
  {
   "cell_type": "code",
   "execution_count": 2,
   "id": "6a603fe9-5932-4e25-8896-d78cef0c47c4",
   "metadata": {},
   "outputs": [],
   "source": [
    "import pandas as pd\n",
    "import matplotlib.pyplot as plt\n",
    "import statsmodels.formula.api as sm\n",
    "from sklearn.metrics import confusion_matrix"
   ]
  },
  {
   "cell_type": "code",
   "execution_count": 3,
   "id": "07bba596-6d9b-4090-8dc7-c9bf1474f3b5",
   "metadata": {},
   "outputs": [
    {
     "data": {
      "text/html": [
       "<div>\n",
       "<style scoped>\n",
       "    .dataframe tbody tr th:only-of-type {\n",
       "        vertical-align: middle;\n",
       "    }\n",
       "\n",
       "    .dataframe tbody tr th {\n",
       "        vertical-align: top;\n",
       "    }\n",
       "\n",
       "    .dataframe thead th {\n",
       "        text-align: right;\n",
       "    }\n",
       "</style>\n",
       "<table border=\"1\" class=\"dataframe\">\n",
       "  <thead>\n",
       "    <tr style=\"text-align: right;\">\n",
       "      <th></th>\n",
       "      <th>EmpId</th>\n",
       "      <th>Monthly_Income</th>\n",
       "      <th>Monthly_Expenses</th>\n",
       "      <th>Time_Spent_Reading_Books</th>\n",
       "    </tr>\n",
       "  </thead>\n",
       "  <tbody>\n",
       "    <tr>\n",
       "      <th>0</th>\n",
       "      <td>1</td>\n",
       "      <td>6092</td>\n",
       "      <td>3836.80</td>\n",
       "      <td>29</td>\n",
       "    </tr>\n",
       "    <tr>\n",
       "      <th>1</th>\n",
       "      <td>2</td>\n",
       "      <td>2109</td>\n",
       "      <td>1422.85</td>\n",
       "      <td>14</td>\n",
       "    </tr>\n",
       "    <tr>\n",
       "      <th>2</th>\n",
       "      <td>3</td>\n",
       "      <td>7177</td>\n",
       "      <td>4717.05</td>\n",
       "      <td>39</td>\n",
       "    </tr>\n",
       "    <tr>\n",
       "      <th>3</th>\n",
       "      <td>4</td>\n",
       "      <td>6665</td>\n",
       "      <td>4330.25</td>\n",
       "      <td>1</td>\n",
       "    </tr>\n",
       "    <tr>\n",
       "      <th>4</th>\n",
       "      <td>5</td>\n",
       "      <td>8356</td>\n",
       "      <td>5552.40</td>\n",
       "      <td>44</td>\n",
       "    </tr>\n",
       "  </tbody>\n",
       "</table>\n",
       "</div>"
      ],
      "text/plain": [
       "   EmpId  Monthly_Income  Monthly_Expenses  Time_Spent_Reading_Books\n",
       "0      1            6092           3836.80                        29\n",
       "1      2            2109           1422.85                        14\n",
       "2      3            7177           4717.05                        39\n",
       "3      4            6665           4330.25                         1\n",
       "4      5            8356           5552.40                        44"
      ]
     },
     "execution_count": 3,
     "metadata": {},
     "output_type": "execute_result"
    }
   ],
   "source": [
    "emp_profile=pd.read_csv(r\"C:\\Users\\SREEHARI\\Desktop\\internship\\my training\\Chapter3_Regression_Logistic\\Datasets\\employee_profile.csv\")\n",
    "\n",
    "#First few rows\n",
    "emp_profile.head()"
   ]
  },
  {
   "cell_type": "code",
   "execution_count": 4,
   "id": "f24e0054-3d66-43a5-9c45-ec54d39e7e97",
   "metadata": {},
   "outputs": [
    {
     "name": "stdout",
     "output_type": "stream",
     "text": [
      "Index(['EmpId', 'Monthly_Income', 'Monthly_Expenses',\n",
      "       'Time_Spent_Reading_Books'],\n",
      "      dtype='object')\n"
     ]
    }
   ],
   "source": [
    "#Column names \n",
    "print(emp_profile.columns)"
   ]
  },
  {
   "cell_type": "code",
   "execution_count": 5,
   "id": "6342ce7b-faf0-4aed-9a6a-35f9d9e90bba",
   "metadata": {},
   "outputs": [
    {
     "data": {
      "image/png": "[encoded data removed]",
      "text/plain": [
       "<Figure size 432x288 with 1 Axes>"
      ]
     },
     "metadata": {
      "needs_background": "light"
     },
     "output_type": "display_data"
    }
   ],
   "source": [
    "#Drawing the Scatter Plotq\n",
    "plt.scatter(emp_profile[\"Monthly_Income\"], emp_profile[\"Monthly_Expenses\"])\n",
    "plt.title('Income vs Expenses Plot')\n",
    "plt.xlabel('Monthly Income')\n",
    "plt.ylabel('Monthly Expenses')\n",
    "plt.show()"
   ]
  },
  {
   "cell_type": "code",
   "execution_count": 6,
   "id": "5868fa7d-3b52-4091-9dba-659460c7bb79",
   "metadata": {},
   "outputs": [
    {
     "data": {
      "image/png": "[encoded data removed]",
      "text/plain": [
       "<Figure size 432x288 with 1 Axes>"
      ]
     },
     "metadata": {
      "needs_background": "light"
     },
     "output_type": "display_data"
    }
   ],
   "source": [
    "plt.scatter(emp_profile[\"Monthly_Income\"], emp_profile[\"Time_Spent_Reading_Books\"])\n",
    "plt.title('Income vs Time_Spent_Reading_Books Plot')\n",
    "plt.xlabel('Monthly Income')\n",
    "plt.ylabel('Time_Spent_Reading_Books')\n",
    "plt.show()"
   ]
  },
  {
   "cell_type": "code",
   "execution_count": 7,
   "id": "5d149e72-3303-466d-bd31-875ef3a1c3fe",
   "metadata": {},
   "outputs": [
    {
     "name": "stdout",
     "output_type": "stream",
     "text": [
      "Index(['Passengers_count', 'marketing_cost', 'percent_delayed_flights',\n",
      "       'number_of_trips', 'customer_ratings', 'poor_weather_index',\n",
      "       'percent_male_customers', 'Holiday_week', 'percent_female_customers'],\n",
      "      dtype='object')\n"
     ]
    }
   ],
   "source": [
    "#Regression Model Building\n",
    "air_pass=pd.read_csv(r\"C:\\Users\\SREEHARI\\Desktop\\internship\\my training\\Chapter3_Regression_Logistic\\Datasets\\Air_Passengers.csv\")\n",
    "\n",
    "print(air_pass.columns)"
   ]
  },
  {
   "cell_type": "code",
   "execution_count": 8,
   "id": "170e1c7a-a7d6-4d0e-9dc1-2242fab44e2c",
   "metadata": {},
   "outputs": [
    {
     "data": {
      "text/html": [
       "<table class=\"simpletable\">\n",
       "<caption>OLS Regression Results</caption>\n",
       "<tr>\n",
       "  <th>Dep. Variable:</th>    <td>Passengers_count</td> <th>  R-squared:         </th> <td>   0.761</td>\n",
       "</tr>\n",
       "<tr>\n",
       "  <th>Model:</th>                   <td>OLS</td>       <th>  Adj. R-squared:    </th> <td>   0.760</td>\n",
       "</tr>\n",
       "<tr>\n",
       "  <th>Method:</th>             <td>Least Squares</td>  <th>  F-statistic:       </th> <td>   830.0</td>\n",
       "</tr>\n",
       "<tr>\n",
       "  <th>Date:</th>             <td>Tue, 31 Jan 2023</td> <th>  Prob (F-statistic):</th> <td>4.87e-83</td>\n",
       "</tr>\n",
       "<tr>\n",
       "  <th>Time:</th>                 <td>18:25:38</td>     <th>  Log-Likelihood:    </th> <td> -2453.4</td>\n",
       "</tr>\n",
       "<tr>\n",
       "  <th>No. Observations:</th>      <td>   263</td>      <th>  AIC:               </th> <td>   4911.</td>\n",
       "</tr>\n",
       "<tr>\n",
       "  <th>Df Residuals:</th>          <td>   261</td>      <th>  BIC:               </th> <td>   4918.</td>\n",
       "</tr>\n",
       "<tr>\n",
       "  <th>Df Model:</th>              <td>     1</td>      <th>                     </th>     <td> </td>   \n",
       "</tr>\n",
       "<tr>\n",
       "  <th>Covariance Type:</th>      <td>nonrobust</td>    <th>                     </th>     <td> </td>   \n",
       "</tr>\n",
       "</table>\n",
       "<table class=\"simpletable\">\n",
       "<tr>\n",
       "         <td></td>           <th>coef</th>     <th>std err</th>      <th>t</th>      <th>P>|t|</th>  <th>[0.025</th>    <th>0.975]</th>  \n",
       "</tr>\n",
       "<tr>\n",
       "  <th>Intercept</th>      <td> 5186.6868</td> <td>  839.019</td> <td>    6.182</td> <td> 0.000</td> <td> 3534.579</td> <td> 6838.795</td>\n",
       "</tr>\n",
       "<tr>\n",
       "  <th>marketing_cost</th> <td>    6.3901</td> <td>    0.222</td> <td>   28.810</td> <td> 0.000</td> <td>    5.953</td> <td>    6.827</td>\n",
       "</tr>\n",
       "</table>\n",
       "<table class=\"simpletable\">\n",
       "<tr>\n",
       "  <th>Omnibus:</th>       <td> 8.874</td> <th>  Durbin-Watson:     </th> <td>   1.829</td>\n",
       "</tr>\n",
       "<tr>\n",
       "  <th>Prob(Omnibus):</th> <td> 0.012</td> <th>  Jarque-Bera (JB):  </th> <td>   9.679</td>\n",
       "</tr>\n",
       "<tr>\n",
       "  <th>Skew:</th>          <td> 0.342</td> <th>  Prob(JB):          </th> <td> 0.00791</td>\n",
       "</tr>\n",
       "<tr>\n",
       "  <th>Kurtosis:</th>      <td> 3.644</td> <th>  Cond. No.          </th> <td>1.88e+04</td>\n",
       "</tr>\n",
       "</table><br/><br/>Notes:<br/>[1] Standard Errors assume that the covariance matrix of the errors is correctly specified.<br/>[2] The condition number is large, 1.88e+04. This might indicate that there are<br/>strong multicollinearity or other numerical problems."
      ],
      "text/plain": [
       "<class 'statsmodels.iolib.summary.Summary'>\n",
       "\"\"\"\n",
       "                            OLS Regression Results                            \n",
       "==============================================================================\n",
       "Dep. Variable:       Passengers_count   R-squared:                       0.761\n",
       "Model:                            OLS   Adj. R-squared:                  0.760\n",
       "Method:                 Least Squares   F-statistic:                     830.0\n",
       "Date:                Tue, 31 Jan 2023   Prob (F-statistic):           4.87e-83\n",
       "Time:                        18:25:38   Log-Likelihood:                -2453.4\n",
       "No. Observations:                 263   AIC:                             4911.\n",
       "Df Residuals:                     261   BIC:                             4918.\n",
       "Df Model:                           1                                         \n",
       "Covariance Type:            nonrobust                                         \n",
       "==================================================================================\n",
       "                     coef    std err          t      P>|t|      [0.025      0.975]\n",
       "----------------------------------------------------------------------------------\n",
       "Intercept       5186.6868    839.019      6.182      0.000    3534.579    6838.795\n",
       "marketing_cost     6.3901      0.222     28.810      0.000       5.953       6.827\n",
       "==============================================================================\n",
       "Omnibus:                        8.874   Durbin-Watson:                   1.829\n",
       "Prob(Omnibus):                  0.012   Jarque-Bera (JB):                9.679\n",
       "Skew:                           0.342   Prob(JB):                      0.00791\n",
       "Kurtosis:                       3.644   Cond. No.                     1.88e+04\n",
       "==============================================================================\n",
       "\n",
       "Notes:\n",
       "[1] Standard Errors assume that the covariance matrix of the errors is correctly specified.\n",
       "[2] The condition number is large, 1.88e+04. This might indicate that there are\n",
       "strong multicollinearity or other numerical problems.\n",
       "\"\"\""
      ]
     },
     "execution_count": 8,
     "metadata": {},
     "output_type": "execute_result"
    }
   ],
   "source": [
    "model1 = sm.ols(formula='Passengers_count ~ marketing_cost', data=air_pass)\n",
    "fitted1 = model1.fit()\n",
    "fitted1.summary()"
   ]
  },
  {
   "cell_type": "code",
   "execution_count": 9,
   "id": "226bdb29-2888-49d2-be08-386aa84b666e",
   "metadata": {},
   "outputs": [
    {
     "name": "stdout",
     "output_type": "stream",
     "text": [
      "0    33942.146091\n",
      "dtype: float64\n"
     ]
    }
   ],
   "source": [
    "#prediction from the model\n",
    "new_data=pd.DataFrame({\"marketing_cost\":[4500]})\n",
    "print(fitted1.predict(new_data))"
   ]
  },
  {
   "cell_type": "code",
   "execution_count": 10,
   "id": "becffdbb-c882-47e9-8f65-11f12b630a7d",
   "metadata": {},
   "outputs": [
    {
     "name": "stdout",
     "output_type": "stream",
     "text": [
      "0    33942.146091\n",
      "1    28191.054238\n",
      "2    24356.993003\n",
      "3    37137.197120\n",
      "dtype: float64\n"
     ]
    }
   ],
   "source": [
    "new_data1=pd.DataFrame({\"marketing_cost\":[4500,3600, 3000,5000]})\n",
    "print(fitted1.predict(new_data1))"
   ]
  },
  {
   "cell_type": "code",
   "execution_count": 11,
   "id": "8eaefe3f-cd73-4878-929b-d53a0e5a9753",
   "metadata": {},
   "outputs": [
    {
     "data": {
      "text/html": [
       "<div>\n",
       "<style scoped>\n",
       "    .dataframe tbody tr th:only-of-type {\n",
       "        vertical-align: middle;\n",
       "    }\n",
       "\n",
       "    .dataframe tbody tr th {\n",
       "        vertical-align: top;\n",
       "    }\n",
       "\n",
       "    .dataframe thead th {\n",
       "        text-align: right;\n",
       "    }\n",
       "</style>\n",
       "<table border=\"1\" class=\"dataframe\">\n",
       "  <thead>\n",
       "    <tr style=\"text-align: right;\">\n",
       "      <th></th>\n",
       "      <th>marketing_cost</th>\n",
       "      <th>Passengers_count</th>\n",
       "      <th>passengers_count_pred</th>\n",
       "    </tr>\n",
       "  </thead>\n",
       "  <tbody>\n",
       "    <tr>\n",
       "      <th>0</th>\n",
       "      <td>3588.1</td>\n",
       "      <td>23291</td>\n",
       "      <td>28115.0</td>\n",
       "    </tr>\n",
       "    <tr>\n",
       "      <th>1</th>\n",
       "      <td>3186.3</td>\n",
       "      <td>25523</td>\n",
       "      <td>25547.0</td>\n",
       "    </tr>\n",
       "    <tr>\n",
       "      <th>2</th>\n",
       "      <td>3342.0</td>\n",
       "      <td>25620</td>\n",
       "      <td>26542.0</td>\n",
       "    </tr>\n",
       "    <tr>\n",
       "      <th>3</th>\n",
       "      <td>2512.5</td>\n",
       "      <td>19625</td>\n",
       "      <td>21242.0</td>\n",
       "    </tr>\n",
       "    <tr>\n",
       "      <th>4</th>\n",
       "      <td>3012.1</td>\n",
       "      <td>27231</td>\n",
       "      <td>24434.0</td>\n",
       "    </tr>\n",
       "    <tr>\n",
       "      <th>...</th>\n",
       "      <td>...</td>\n",
       "      <td>...</td>\n",
       "      <td>...</td>\n",
       "    </tr>\n",
       "    <tr>\n",
       "      <th>258</th>\n",
       "      <td>2929.8</td>\n",
       "      <td>24238</td>\n",
       "      <td>23908.0</td>\n",
       "    </tr>\n",
       "    <tr>\n",
       "      <th>259</th>\n",
       "      <td>4024.0</td>\n",
       "      <td>29600</td>\n",
       "      <td>30900.0</td>\n",
       "    </tr>\n",
       "    <tr>\n",
       "      <th>260</th>\n",
       "      <td>3003.8</td>\n",
       "      <td>28578</td>\n",
       "      <td>24381.0</td>\n",
       "    </tr>\n",
       "    <tr>\n",
       "      <th>261</th>\n",
       "      <td>3327.6</td>\n",
       "      <td>27426</td>\n",
       "      <td>26450.0</td>\n",
       "    </tr>\n",
       "    <tr>\n",
       "      <th>262</th>\n",
       "      <td>2052.1</td>\n",
       "      <td>17591</td>\n",
       "      <td>18300.0</td>\n",
       "    </tr>\n",
       "  </tbody>\n",
       "</table>\n",
       "<p>263 rows × 3 columns</p>\n",
       "</div>"
      ],
      "text/plain": [
       "     marketing_cost  Passengers_count  passengers_count_pred\n",
       "0            3588.1             23291                28115.0\n",
       "1            3186.3             25523                25547.0\n",
       "2            3342.0             25620                26542.0\n",
       "3            2512.5             19625                21242.0\n",
       "4            3012.1             27231                24434.0\n",
       "..              ...               ...                    ...\n",
       "258          2929.8             24238                23908.0\n",
       "259          4024.0             29600                30900.0\n",
       "260          3003.8             28578                24381.0\n",
       "261          3327.6             27426                26450.0\n",
       "262          2052.1             17591                18300.0\n",
       "\n",
       "[263 rows x 3 columns]"
      ]
     },
     "execution_count": 11,
     "metadata": {},
     "output_type": "execute_result"
    }
   ],
   "source": [
    "#Predictions for the data\n",
    "air_pass[\"passengers_count_pred\"]=round(fitted1.predict(air_pass))\n",
    "keep_cols=[\"marketing_cost\", \"Passengers_count\", \"passengers_count_pred\"]\n",
    "air_pass[keep_cols]"
   ]
  },
  {
   "cell_type": "code",
   "execution_count": 12,
   "id": "690079b4-309e-4d02-b59e-aeccd638c8b3",
   "metadata": {},
   "outputs": [
    {
     "data": {
      "text/html": [
       "<table class=\"simpletable\">\n",
       "<caption>OLS Regression Results</caption>\n",
       "<tr>\n",
       "  <th>Dep. Variable:</th>    <td>Passengers_count</td> <th>  R-squared:         </th> <td>   0.102</td>\n",
       "</tr>\n",
       "<tr>\n",
       "  <th>Model:</th>                   <td>OLS</td>       <th>  Adj. R-squared:    </th> <td>   0.099</td>\n",
       "</tr>\n",
       "<tr>\n",
       "  <th>Method:</th>             <td>Least Squares</td>  <th>  F-statistic:       </th> <td>   29.72</td>\n",
       "</tr>\n",
       "<tr>\n",
       "  <th>Date:</th>             <td>Tue, 31 Jan 2023</td> <th>  Prob (F-statistic):</th> <td>1.16e-07</td>\n",
       "</tr>\n",
       "<tr>\n",
       "  <th>Time:</th>                 <td>18:25:38</td>     <th>  Log-Likelihood:    </th> <td> -2627.4</td>\n",
       "</tr>\n",
       "<tr>\n",
       "  <th>No. Observations:</th>      <td>   263</td>      <th>  AIC:               </th> <td>   5259.</td>\n",
       "</tr>\n",
       "<tr>\n",
       "  <th>Df Residuals:</th>          <td>   261</td>      <th>  BIC:               </th> <td>   5266.</td>\n",
       "</tr>\n",
       "<tr>\n",
       "  <th>Df Model:</th>              <td>     1</td>      <th>                     </th>     <td> </td>   \n",
       "</tr>\n",
       "<tr>\n",
       "  <th>Covariance Type:</th>      <td>nonrobust</td>    <th>                     </th>     <td> </td>   \n",
       "</tr>\n",
       "</table>\n",
       "<table class=\"simpletable\">\n",
       "<tr>\n",
       "          <td></td>            <th>coef</th>     <th>std err</th>      <th>t</th>      <th>P>|t|</th>  <th>[0.025</th>    <th>0.975]</th>  \n",
       "</tr>\n",
       "<tr>\n",
       "  <th>Intercept</th>        <td> 2.261e+04</td> <td> 1192.915</td> <td>   18.955</td> <td> 0.000</td> <td> 2.03e+04</td> <td>  2.5e+04</td>\n",
       "</tr>\n",
       "<tr>\n",
       "  <th>customer_ratings</th> <td>  894.4643</td> <td>  164.083</td> <td>    5.451</td> <td> 0.000</td> <td>  571.369</td> <td> 1217.560</td>\n",
       "</tr>\n",
       "</table>\n",
       "<table class=\"simpletable\">\n",
       "<tr>\n",
       "  <th>Omnibus:</th>       <td>28.234</td> <th>  Durbin-Watson:     </th> <td>   2.024</td>\n",
       "</tr>\n",
       "<tr>\n",
       "  <th>Prob(Omnibus):</th> <td> 0.000</td> <th>  Jarque-Bera (JB):  </th> <td>  35.541</td>\n",
       "</tr>\n",
       "<tr>\n",
       "  <th>Skew:</th>          <td> 0.767</td> <th>  Prob(JB):          </th> <td>1.92e-08</td>\n",
       "</tr>\n",
       "<tr>\n",
       "  <th>Kurtosis:</th>      <td> 3.944</td> <th>  Cond. No.          </th> <td>    27.0</td>\n",
       "</tr>\n",
       "</table><br/><br/>Notes:<br/>[1] Standard Errors assume that the covariance matrix of the errors is correctly specified."
      ],
      "text/plain": [
       "<class 'statsmodels.iolib.summary.Summary'>\n",
       "\"\"\"\n",
       "                            OLS Regression Results                            \n",
       "==============================================================================\n",
       "Dep. Variable:       Passengers_count   R-squared:                       0.102\n",
       "Model:                            OLS   Adj. R-squared:                  0.099\n",
       "Method:                 Least Squares   F-statistic:                     29.72\n",
       "Date:                Tue, 31 Jan 2023   Prob (F-statistic):           1.16e-07\n",
       "Time:                        18:25:38   Log-Likelihood:                -2627.4\n",
       "No. Observations:                 263   AIC:                             5259.\n",
       "Df Residuals:                     261   BIC:                             5266.\n",
       "Df Model:                           1                                         \n",
       "Covariance Type:            nonrobust                                         \n",
       "====================================================================================\n",
       "                       coef    std err          t      P>|t|      [0.025      0.975]\n",
       "------------------------------------------------------------------------------------\n",
       "Intercept         2.261e+04   1192.915     18.955      0.000    2.03e+04     2.5e+04\n",
       "customer_ratings   894.4643    164.083      5.451      0.000     571.369    1217.560\n",
       "==============================================================================\n",
       "Omnibus:                       28.234   Durbin-Watson:                   2.024\n",
       "Prob(Omnibus):                  0.000   Jarque-Bera (JB):               35.541\n",
       "Skew:                           0.767   Prob(JB):                     1.92e-08\n",
       "Kurtosis:                       3.944   Cond. No.                         27.0\n",
       "==============================================================================\n",
       "\n",
       "Notes:\n",
       "[1] Standard Errors assume that the covariance matrix of the errors is correctly specified.\n",
       "\"\"\""
      ]
     },
     "execution_count": 12,
     "metadata": {},
     "output_type": "execute_result"
    }
   ],
   "source": [
    "#R-Squared Value\n",
    "model2 = sm.ols(formula='Passengers_count ~ customer_ratings', data=air_pass)\n",
    "fitted2 = model2.fit()\n",
    "fitted2.summary()"
   ]
  },
  {
   "cell_type": "code",
   "execution_count": 13,
   "id": "84c8363c-20e7-489f-b97d-bd2acfc453aa",
   "metadata": {},
   "outputs": [
    {
     "data": {
      "text/html": [
       "<table class=\"simpletable\">\n",
       "<caption>OLS Regression Results</caption>\n",
       "<tr>\n",
       "  <th>Dep. Variable:</th>    <td>Passengers_count</td> <th>  R-squared:         </th> <td>   0.911</td> \n",
       "</tr>\n",
       "<tr>\n",
       "  <th>Model:</th>                   <td>OLS</td>       <th>  Adj. R-squared:    </th> <td>   0.908</td> \n",
       "</tr>\n",
       "<tr>\n",
       "  <th>Method:</th>             <td>Least Squares</td>  <th>  F-statistic:       </th> <td>   325.3</td> \n",
       "</tr>\n",
       "<tr>\n",
       "  <th>Date:</th>             <td>Tue, 31 Jan 2023</td> <th>  Prob (F-statistic):</th> <td>8.93e-129</td>\n",
       "</tr>\n",
       "<tr>\n",
       "  <th>Time:</th>                 <td>18:25:38</td>     <th>  Log-Likelihood:    </th> <td> -2323.3</td> \n",
       "</tr>\n",
       "<tr>\n",
       "  <th>No. Observations:</th>      <td>   263</td>      <th>  AIC:               </th> <td>   4665.</td> \n",
       "</tr>\n",
       "<tr>\n",
       "  <th>Df Residuals:</th>          <td>   254</td>      <th>  BIC:               </th> <td>   4697.</td> \n",
       "</tr>\n",
       "<tr>\n",
       "  <th>Df Model:</th>              <td>     8</td>      <th>                     </th>     <td> </td>    \n",
       "</tr>\n",
       "<tr>\n",
       "  <th>Covariance Type:</th>      <td>nonrobust</td>    <th>                     </th>     <td> </td>    \n",
       "</tr>\n",
       "</table>\n",
       "<table class=\"simpletable\">\n",
       "<tr>\n",
       "              <td></td>                <th>coef</th>     <th>std err</th>      <th>t</th>      <th>P>|t|</th>  <th>[0.025</th>    <th>0.975]</th>  \n",
       "</tr>\n",
       "<tr>\n",
       "  <th>Intercept</th>                <td> 4173.3041</td> <td> 3.71e+04</td> <td>    0.113</td> <td> 0.910</td> <td>-6.88e+04</td> <td> 7.71e+04</td>\n",
       "</tr>\n",
       "<tr>\n",
       "  <th>marketing_cost</th>           <td>    4.4279</td> <td>    0.168</td> <td>   26.287</td> <td> 0.000</td> <td>    4.096</td> <td>    4.760</td>\n",
       "</tr>\n",
       "<tr>\n",
       "  <th>percent_delayed_flights</th>  <td> 2.187e+04</td> <td> 4827.398</td> <td>    4.530</td> <td> 0.000</td> <td> 1.24e+04</td> <td> 3.14e+04</td>\n",
       "</tr>\n",
       "<tr>\n",
       "  <th>number_of_trips</th>          <td>    0.3004</td> <td>    0.270</td> <td>    1.114</td> <td> 0.266</td> <td>   -0.231</td> <td>    0.831</td>\n",
       "</tr>\n",
       "<tr>\n",
       "  <th>customer_ratings</th>         <td>  546.3104</td> <td>   53.897</td> <td>   10.136</td> <td> 0.000</td> <td>  440.168</td> <td>  652.453</td>\n",
       "</tr>\n",
       "<tr>\n",
       "  <th>poor_weather_index</th>       <td> -919.5035</td> <td> 4520.130</td> <td>   -0.203</td> <td> 0.839</td> <td>-9821.210</td> <td> 7982.203</td>\n",
       "</tr>\n",
       "<tr>\n",
       "  <th>percent_female_customers</th> <td>  -15.7188</td> <td>  371.808</td> <td>   -0.042</td> <td> 0.966</td> <td> -747.937</td> <td>  716.499</td>\n",
       "</tr>\n",
       "<tr>\n",
       "  <th>Holiday_week</th>             <td> 6804.5389</td> <td>  598.471</td> <td>   11.370</td> <td> 0.000</td> <td> 5625.942</td> <td> 7983.136</td>\n",
       "</tr>\n",
       "<tr>\n",
       "  <th>percent_male_customers</th>   <td>   -7.3113</td> <td>  372.653</td> <td>   -0.020</td> <td> 0.984</td> <td> -741.195</td> <td>  726.572</td>\n",
       "</tr>\n",
       "</table>\n",
       "<table class=\"simpletable\">\n",
       "<tr>\n",
       "  <th>Omnibus:</th>       <td> 0.087</td> <th>  Durbin-Watson:     </th> <td>   1.778</td>\n",
       "</tr>\n",
       "<tr>\n",
       "  <th>Prob(Omnibus):</th> <td> 0.957</td> <th>  Jarque-Bera (JB):  </th> <td>   0.082</td>\n",
       "</tr>\n",
       "<tr>\n",
       "  <th>Skew:</th>          <td> 0.041</td> <th>  Prob(JB):          </th> <td>   0.960</td>\n",
       "</tr>\n",
       "<tr>\n",
       "  <th>Kurtosis:</th>      <td> 2.969</td> <th>  Cond. No.          </th> <td>1.43e+06</td>\n",
       "</tr>\n",
       "</table><br/><br/>Notes:<br/>[1] Standard Errors assume that the covariance matrix of the errors is correctly specified.<br/>[2] The condition number is large, 1.43e+06. This might indicate that there are<br/>strong multicollinearity or other numerical problems."
      ],
      "text/plain": [
       "<class 'statsmodels.iolib.summary.Summary'>\n",
       "\"\"\"\n",
       "                            OLS Regression Results                            \n",
       "==============================================================================\n",
       "Dep. Variable:       Passengers_count   R-squared:                       0.911\n",
       "Model:                            OLS   Adj. R-squared:                  0.908\n",
       "Method:                 Least Squares   F-statistic:                     325.3\n",
       "Date:                Tue, 31 Jan 2023   Prob (F-statistic):          8.93e-129\n",
       "Time:                        18:25:38   Log-Likelihood:                -2323.3\n",
       "No. Observations:                 263   AIC:                             4665.\n",
       "Df Residuals:                     254   BIC:                             4697.\n",
       "Df Model:                           8                                         \n",
       "Covariance Type:            nonrobust                                         \n",
       "============================================================================================\n",
       "                               coef    std err          t      P>|t|      [0.025      0.975]\n",
       "--------------------------------------------------------------------------------------------\n",
       "Intercept                 4173.3041   3.71e+04      0.113      0.910   -6.88e+04    7.71e+04\n",
       "marketing_cost               4.4279      0.168     26.287      0.000       4.096       4.760\n",
       "percent_delayed_flights   2.187e+04   4827.398      4.530      0.000    1.24e+04    3.14e+04\n",
       "number_of_trips              0.3004      0.270      1.114      0.266      -0.231       0.831\n",
       "customer_ratings           546.3104     53.897     10.136      0.000     440.168     652.453\n",
       "poor_weather_index        -919.5035   4520.130     -0.203      0.839   -9821.210    7982.203\n",
       "percent_female_customers   -15.7188    371.808     -0.042      0.966    -747.937     716.499\n",
       "Holiday_week              6804.5389    598.471     11.370      0.000    5625.942    7983.136\n",
       "percent_male_customers      -7.3113    372.653     -0.020      0.984    -741.195     726.572\n",
       "==============================================================================\n",
       "Omnibus:                        0.087   Durbin-Watson:                   1.778\n",
       "Prob(Omnibus):                  0.957   Jarque-Bera (JB):                0.082\n",
       "Skew:                           0.041   Prob(JB):                        0.960\n",
       "Kurtosis:                       2.969   Cond. No.                     1.43e+06\n",
       "==============================================================================\n",
       "\n",
       "Notes:\n",
       "[1] Standard Errors assume that the covariance matrix of the errors is correctly specified.\n",
       "[2] The condition number is large, 1.43e+06. This might indicate that there are\n",
       "strong multicollinearity or other numerical problems.\n",
       "\"\"\""
      ]
     },
     "execution_count": 13,
     "metadata": {},
     "output_type": "execute_result"
    }
   ],
   "source": [
    "# Multiple regression\n",
    "import statsmodels.formula.api as sm\n",
    "model3 = sm.ols(formula='Passengers_count ~ marketing_cost+percent_delayed_flights+number_of_trips+customer_ratings+poor_weather_index+percent_female_customers+Holiday_week+percent_male_customers', data=air_pass)\n",
    "fitted3 = model3.fit()\n",
    "fitted3.summary()"
   ]
  },
  {
   "cell_type": "code",
   "execution_count": 14,
   "id": "074a2b3c-da87-4f7b-b945-76a348a9ed7b",
   "metadata": {},
   "outputs": [
    {
     "name": "stdout",
     "output_type": "stream",
     "text": [
      "Index(['id', 'Monthly_Income_in_USD', 'Number_of_Credit_cards',\n",
      "       'Number_of_personal_loans', 'Monthly_Income_in_Euro',\n",
      "       'Monthly_Expenses'],\n",
      "      dtype='object')\n"
     ]
    }
   ],
   "source": [
    "# Multicollinearity\n",
    "income_expenses=pd.read_csv(r\"C:\\Users\\SREEHARI\\Desktop\\internship\\my training\\Chapter3_Regression_Logistic\\Datasets\\customer_income_expenses.csv\")\n",
    "\n",
    "print(income_expenses.columns)"
   ]
  },
  {
   "cell_type": "code",
   "execution_count": 15,
   "id": "f4bc8c8b-3452-43e2-af98-58f7a589cd09",
   "metadata": {},
   "outputs": [
    {
     "data": {
      "text/html": [
       "<table class=\"simpletable\">\n",
       "<caption>OLS Regression Results</caption>\n",
       "<tr>\n",
       "  <th>Dep. Variable:</th>    <td>Monthly_Expenses</td> <th>  R-squared:         </th> <td>   0.966</td>\n",
       "</tr>\n",
       "<tr>\n",
       "  <th>Model:</th>                   <td>OLS</td>       <th>  Adj. R-squared:    </th> <td>   0.964</td>\n",
       "</tr>\n",
       "<tr>\n",
       "  <th>Method:</th>             <td>Least Squares</td>  <th>  F-statistic:       </th> <td>   483.1</td>\n",
       "</tr>\n",
       "<tr>\n",
       "  <th>Date:</th>             <td>Tue, 31 Jan 2023</td> <th>  Prob (F-statistic):</th> <td>1.31e-48</td>\n",
       "</tr>\n",
       "<tr>\n",
       "  <th>Time:</th>                 <td>18:25:38</td>     <th>  Log-Likelihood:    </th> <td> -512.77</td>\n",
       "</tr>\n",
       "<tr>\n",
       "  <th>No. Observations:</th>      <td>    72</td>      <th>  AIC:               </th> <td>   1036.</td>\n",
       "</tr>\n",
       "<tr>\n",
       "  <th>Df Residuals:</th>          <td>    67</td>      <th>  BIC:               </th> <td>   1047.</td>\n",
       "</tr>\n",
       "<tr>\n",
       "  <th>Df Model:</th>              <td>     4</td>      <th>                     </th>     <td> </td>   \n",
       "</tr>\n",
       "<tr>\n",
       "  <th>Covariance Type:</th>      <td>nonrobust</td>    <th>                     </th>     <td> </td>   \n",
       "</tr>\n",
       "</table>\n",
       "<table class=\"simpletable\">\n",
       "<tr>\n",
       "              <td></td>                <th>coef</th>     <th>std err</th>      <th>t</th>      <th>P>|t|</th>  <th>[0.025</th>    <th>0.975]</th>  \n",
       "</tr>\n",
       "<tr>\n",
       "  <th>Intercept</th>                <td>  -72.6691</td> <td>  143.534</td> <td>   -0.506</td> <td> 0.614</td> <td> -359.164</td> <td>  213.826</td>\n",
       "</tr>\n",
       "<tr>\n",
       "  <th>Monthly_Income_in_USD</th>    <td>    7.5244</td> <td>  121.538</td> <td>    0.062</td> <td> 0.951</td> <td> -235.066</td> <td>  250.115</td>\n",
       "</tr>\n",
       "<tr>\n",
       "  <th>Number_of_Credit_cards</th>   <td>   30.2664</td> <td>   53.290</td> <td>    0.568</td> <td> 0.572</td> <td>  -76.100</td> <td>  136.633</td>\n",
       "</tr>\n",
       "<tr>\n",
       "  <th>Number_of_personal_loans</th> <td>  149.2454</td> <td>  104.408</td> <td>    1.429</td> <td> 0.158</td> <td>  -59.155</td> <td>  357.645</td>\n",
       "</tr>\n",
       "<tr>\n",
       "  <th>Monthly_Income_in_Euro</th>   <td>   -7.6337</td> <td>  135.041</td> <td>   -0.057</td> <td> 0.955</td> <td> -277.178</td> <td>  261.910</td>\n",
       "</tr>\n",
       "</table>\n",
       "<table class=\"simpletable\">\n",
       "<tr>\n",
       "  <th>Omnibus:</th>       <td>29.413</td> <th>  Durbin-Watson:     </th> <td>   2.599</td>\n",
       "</tr>\n",
       "<tr>\n",
       "  <th>Prob(Omnibus):</th> <td> 0.000</td> <th>  Jarque-Bera (JB):  </th> <td>   5.056</td>\n",
       "</tr>\n",
       "<tr>\n",
       "  <th>Skew:</th>          <td> 0.104</td> <th>  Prob(JB):          </th> <td>  0.0798</td>\n",
       "</tr>\n",
       "<tr>\n",
       "  <th>Kurtosis:</th>      <td> 1.719</td> <th>  Cond. No.          </th> <td>4.68e+04</td>\n",
       "</tr>\n",
       "</table><br/><br/>Notes:<br/>[1] Standard Errors assume that the covariance matrix of the errors is correctly specified.<br/>[2] The condition number is large, 4.68e+04. This might indicate that there are<br/>strong multicollinearity or other numerical problems."
      ],
      "text/plain": [
       "<class 'statsmodels.iolib.summary.Summary'>\n",
       "\"\"\"\n",
       "                            OLS Regression Results                            \n",
       "==============================================================================\n",
       "Dep. Variable:       Monthly_Expenses   R-squared:                       0.966\n",
       "Model:                            OLS   Adj. R-squared:                  0.964\n",
       "Method:                 Least Squares   F-statistic:                     483.1\n",
       "Date:                Tue, 31 Jan 2023   Prob (F-statistic):           1.31e-48\n",
       "Time:                        18:25:38   Log-Likelihood:                -512.77\n",
       "No. Observations:                  72   AIC:                             1036.\n",
       "Df Residuals:                      67   BIC:                             1047.\n",
       "Df Model:                           4                                         \n",
       "Covariance Type:            nonrobust                                         \n",
       "============================================================================================\n",
       "                               coef    std err          t      P>|t|      [0.025      0.975]\n",
       "--------------------------------------------------------------------------------------------\n",
       "Intercept                  -72.6691    143.534     -0.506      0.614    -359.164     213.826\n",
       "Monthly_Income_in_USD        7.5244    121.538      0.062      0.951    -235.066     250.115\n",
       "Number_of_Credit_cards      30.2664     53.290      0.568      0.572     -76.100     136.633\n",
       "Number_of_personal_loans   149.2454    104.408      1.429      0.158     -59.155     357.645\n",
       "Monthly_Income_in_Euro      -7.6337    135.041     -0.057      0.955    -277.178     261.910\n",
       "==============================================================================\n",
       "Omnibus:                       29.413   Durbin-Watson:                   2.599\n",
       "Prob(Omnibus):                  0.000   Jarque-Bera (JB):                5.056\n",
       "Skew:                           0.104   Prob(JB):                       0.0798\n",
       "Kurtosis:                       1.719   Cond. No.                     4.68e+04\n",
       "==============================================================================\n",
       "\n",
       "Notes:\n",
       "[1] Standard Errors assume that the covariance matrix of the errors is correctly specified.\n",
       "[2] The condition number is large, 4.68e+04. This might indicate that there are\n",
       "strong multicollinearity or other numerical problems.\n",
       "\"\"\""
      ]
     },
     "execution_count": 15,
     "metadata": {},
     "output_type": "execute_result"
    }
   ],
   "source": [
    "model4=sm.ols(formula='Monthly_Expenses ~ Monthly_Income_in_USD+Number_of_Credit_cards+Number_of_personal_loans+Monthly_Income_in_Euro', data=income_expenses)\n",
    "fitted4 = model4.fit()\n",
    "fitted4.summary()"
   ]
  },
  {
   "cell_type": "code",
   "execution_count": 16,
   "id": "e4bc65c6-d94f-4fbf-bba1-816e1087cac3",
   "metadata": {},
   "outputs": [
    {
     "data": {
      "text/html": [
       "<table class=\"simpletable\">\n",
       "<caption>OLS Regression Results</caption>\n",
       "<tr>\n",
       "  <th>Dep. Variable:</th>    <td>Monthly_Expenses</td> <th>  R-squared:         </th> <td>   0.966</td>\n",
       "</tr>\n",
       "<tr>\n",
       "  <th>Model:</th>                   <td>OLS</td>       <th>  Adj. R-squared:    </th> <td>   0.965</td>\n",
       "</tr>\n",
       "<tr>\n",
       "  <th>Method:</th>             <td>Least Squares</td>  <th>  F-statistic:       </th> <td>   653.7</td>\n",
       "</tr>\n",
       "<tr>\n",
       "  <th>Date:</th>             <td>Tue, 31 Jan 2023</td> <th>  Prob (F-statistic):</th> <td>4.71e-50</td>\n",
       "</tr>\n",
       "<tr>\n",
       "  <th>Time:</th>                 <td>18:25:38</td>     <th>  Log-Likelihood:    </th> <td> -512.77</td>\n",
       "</tr>\n",
       "<tr>\n",
       "  <th>No. Observations:</th>      <td>    72</td>      <th>  AIC:               </th> <td>   1034.</td>\n",
       "</tr>\n",
       "<tr>\n",
       "  <th>Df Residuals:</th>          <td>    68</td>      <th>  BIC:               </th> <td>   1043.</td>\n",
       "</tr>\n",
       "<tr>\n",
       "  <th>Df Model:</th>              <td>     3</td>      <th>                     </th>     <td> </td>   \n",
       "</tr>\n",
       "<tr>\n",
       "  <th>Covariance Type:</th>      <td>nonrobust</td>    <th>                     </th>     <td> </td>   \n",
       "</tr>\n",
       "</table>\n",
       "<table class=\"simpletable\">\n",
       "<tr>\n",
       "              <td></td>                <th>coef</th>     <th>std err</th>      <th>t</th>      <th>P>|t|</th>  <th>[0.025</th>    <th>0.975]</th>  \n",
       "</tr>\n",
       "<tr>\n",
       "  <th>Intercept</th>                <td>  -67.9274</td> <td>  120.499</td> <td>   -0.564</td> <td> 0.575</td> <td> -308.379</td> <td>  172.524</td>\n",
       "</tr>\n",
       "<tr>\n",
       "  <th>Number_of_Credit_cards</th>   <td>   30.1840</td> <td>   52.882</td> <td>    0.571</td> <td> 0.570</td> <td>  -75.339</td> <td>  135.707</td>\n",
       "</tr>\n",
       "<tr>\n",
       "  <th>Number_of_personal_loans</th> <td>  149.1943</td> <td>  103.638</td> <td>    1.440</td> <td> 0.155</td> <td>  -57.611</td> <td>  356.000</td>\n",
       "</tr>\n",
       "<tr>\n",
       "  <th>Monthly_Income_in_Euro</th>   <td>    0.7267</td> <td>    0.017</td> <td>   43.434</td> <td> 0.000</td> <td>    0.693</td> <td>    0.760</td>\n",
       "</tr>\n",
       "</table>\n",
       "<table class=\"simpletable\">\n",
       "<tr>\n",
       "  <th>Omnibus:</th>       <td>29.870</td> <th>  Durbin-Watson:     </th> <td>   2.600</td>\n",
       "</tr>\n",
       "<tr>\n",
       "  <th>Prob(Omnibus):</th> <td> 0.000</td> <th>  Jarque-Bera (JB):  </th> <td>   5.071</td>\n",
       "</tr>\n",
       "<tr>\n",
       "  <th>Skew:</th>          <td> 0.099</td> <th>  Prob(JB):          </th> <td>  0.0792</td>\n",
       "</tr>\n",
       "<tr>\n",
       "  <th>Kurtosis:</th>      <td> 1.715</td> <th>  Cond. No.          </th> <td>1.87e+04</td>\n",
       "</tr>\n",
       "</table><br/><br/>Notes:<br/>[1] Standard Errors assume that the covariance matrix of the errors is correctly specified.<br/>[2] The condition number is large, 1.87e+04. This might indicate that there are<br/>strong multicollinearity or other numerical problems."
      ],
      "text/plain": [
       "<class 'statsmodels.iolib.summary.Summary'>\n",
       "\"\"\"\n",
       "                            OLS Regression Results                            \n",
       "==============================================================================\n",
       "Dep. Variable:       Monthly_Expenses   R-squared:                       0.966\n",
       "Model:                            OLS   Adj. R-squared:                  0.965\n",
       "Method:                 Least Squares   F-statistic:                     653.7\n",
       "Date:                Tue, 31 Jan 2023   Prob (F-statistic):           4.71e-50\n",
       "Time:                        18:25:38   Log-Likelihood:                -512.77\n",
       "No. Observations:                  72   AIC:                             1034.\n",
       "Df Residuals:                      68   BIC:                             1043.\n",
       "Df Model:                           3                                         \n",
       "Covariance Type:            nonrobust                                         \n",
       "============================================================================================\n",
       "                               coef    std err          t      P>|t|      [0.025      0.975]\n",
       "--------------------------------------------------------------------------------------------\n",
       "Intercept                  -67.9274    120.499     -0.564      0.575    -308.379     172.524\n",
       "Number_of_Credit_cards      30.1840     52.882      0.571      0.570     -75.339     135.707\n",
       "Number_of_personal_loans   149.1943    103.638      1.440      0.155     -57.611     356.000\n",
       "Monthly_Income_in_Euro       0.7267      0.017     43.434      0.000       0.693       0.760\n",
       "==============================================================================\n",
       "Omnibus:                       29.870   Durbin-Watson:                   2.600\n",
       "Prob(Omnibus):                  0.000   Jarque-Bera (JB):                5.071\n",
       "Skew:                           0.099   Prob(JB):                       0.0792\n",
       "Kurtosis:                       1.715   Cond. No.                     1.87e+04\n",
       "==============================================================================\n",
       "\n",
       "Notes:\n",
       "[1] Standard Errors assume that the covariance matrix of the errors is correctly specified.\n",
       "[2] The condition number is large, 1.87e+04. This might indicate that there are\n",
       "strong multicollinearity or other numerical problems.\n",
       "\"\"\""
      ]
     },
     "execution_count": 16,
     "metadata": {},
     "output_type": "execute_result"
    }
   ],
   "source": [
    "#Model after dropping Monthly_Income_in_USD\n",
    "model5=sm.ols(formula='Monthly_Expenses ~Number_of_Credit_cards+Number_of_personal_loans+Monthly_Income_in_Euro', data=income_expenses)\n",
    "fitted5 = model5.fit()\n",
    "fitted5.summary()"
   ]
  },
  {
   "cell_type": "code",
   "execution_count": 17,
   "id": "f2964084-e1e7-4164-96ef-028c7b842a4e",
   "metadata": {},
   "outputs": [],
   "source": [
    "#VIF Function \n",
    "def vif_cal(x_vars):\n",
    "    xvar_names=x_vars.columns\n",
    "    for i in range(0,xvar_names.shape[0]):\n",
    "        y=x_vars[xvar_names[i]] \n",
    "        x=x_vars[xvar_names.drop(xvar_names[i])]\n",
    "        rsq=sm.ols(formula=\"y~x\", data=x_vars).fit().rsquared  \n",
    "        vif=round(1/(1-rsq),2)\n",
    "        print (xvar_names[i], \" VIF = \" , vif)"
   ]
  },
  {
   "cell_type": "code",
   "execution_count": 18,
   "id": "30cd2358-9248-4a0f-896c-6b39233c7fd4",
   "metadata": {},
   "outputs": [
    {
     "name": "stdout",
     "output_type": "stream",
     "text": [
      "id  VIF =  1.07\n",
      "Monthly_Income_in_USD  VIF =  65007299.17\n",
      "Number_of_Credit_cards  VIF =  15.94\n",
      "Number_of_personal_loans  VIF =  16.15\n",
      "Monthly_Income_in_Euro  VIF =  65007347.03\n"
     ]
    }
   ],
   "source": [
    "#Calculating VIF values using that function\n",
    "vif_cal(x_vars=income_expenses.drop([\"Monthly_Expenses\"], axis=1))"
   ]
  },
  {
   "cell_type": "code",
   "execution_count": 19,
   "id": "01485173-cdca-432c-ab4e-0623e525258a",
   "metadata": {},
   "outputs": [
    {
     "name": "stdout",
     "output_type": "stream",
     "text": [
      "id  VIF =  1.06\n",
      "Monthly_Income_in_USD  VIF =  1.01\n",
      "Number_of_Credit_cards  VIF =  15.94\n",
      "Number_of_personal_loans  VIF =  16.14\n"
     ]
    }
   ],
   "source": [
    "#Calculating VIF values after dropping Monthly_Income_in_Euro\n",
    "vif_cal(x_vars=income_expenses.drop([\"Monthly_Expenses\",\"Monthly_Income_in_Euro\"], axis=1))"
   ]
  },
  {
   "cell_type": "code",
   "execution_count": 20,
   "id": "e7e2dd9c-faa5-4c3b-83e0-ce6381d0d45e",
   "metadata": {},
   "outputs": [
    {
     "name": "stdout",
     "output_type": "stream",
     "text": [
      "id  VIF =  1.01\n",
      "Monthly_Income_in_USD  VIF =  1.0\n",
      "Number_of_Credit_cards  VIF =  1.01\n"
     ]
    }
   ],
   "source": [
    "#Calculating VIF values after dropping Monthly_Income_in_Euro and Number_of_Credit_cards\n",
    "vif_cal(x_vars=income_expenses.drop([\"Monthly_Expenses\",\"Monthly_Income_in_Euro\",\"Number_of_personal_loans\"], axis=1))"
   ]
  },
  {
   "cell_type": "code",
   "execution_count": 21,
   "id": "f6918250-da96-44d4-a807-860fc46f187e",
   "metadata": {},
   "outputs": [
    {
     "data": {
      "text/html": [
       "<table class=\"simpletable\">\n",
       "<caption>OLS Regression Results</caption>\n",
       "<tr>\n",
       "  <th>Dep. Variable:</th>    <td>Monthly_Expenses</td> <th>  R-squared:         </th> <td>   0.965</td>\n",
       "</tr>\n",
       "<tr>\n",
       "  <th>Model:</th>                   <td>OLS</td>       <th>  Adj. R-squared:    </th> <td>   0.964</td>\n",
       "</tr>\n",
       "<tr>\n",
       "  <th>Method:</th>             <td>Least Squares</td>  <th>  F-statistic:       </th> <td>   964.5</td>\n",
       "</tr>\n",
       "<tr>\n",
       "  <th>Date:</th>             <td>Tue, 31 Jan 2023</td> <th>  Prob (F-statistic):</th> <td>3.71e-51</td>\n",
       "</tr>\n",
       "<tr>\n",
       "  <th>Time:</th>                 <td>18:25:39</td>     <th>  Log-Likelihood:    </th> <td> -513.85</td>\n",
       "</tr>\n",
       "<tr>\n",
       "  <th>No. Observations:</th>      <td>    72</td>      <th>  AIC:               </th> <td>   1034.</td>\n",
       "</tr>\n",
       "<tr>\n",
       "  <th>Df Residuals:</th>          <td>    69</td>      <th>  BIC:               </th> <td>   1041.</td>\n",
       "</tr>\n",
       "<tr>\n",
       "  <th>Df Model:</th>              <td>     2</td>      <th>                     </th>     <td> </td>   \n",
       "</tr>\n",
       "<tr>\n",
       "  <th>Covariance Type:</th>      <td>nonrobust</td>    <th>                     </th>     <td> </td>   \n",
       "</tr>\n",
       "</table>\n",
       "<table class=\"simpletable\">\n",
       "<tr>\n",
       "             <td></td>               <th>coef</th>     <th>std err</th>      <th>t</th>      <th>P>|t|</th>  <th>[0.025</th>    <th>0.975]</th>  \n",
       "</tr>\n",
       "<tr>\n",
       "  <th>Intercept</th>              <td>  -56.3653</td> <td>  121.148</td> <td>   -0.465</td> <td> 0.643</td> <td> -298.049</td> <td>  185.319</td>\n",
       "</tr>\n",
       "<tr>\n",
       "  <th>Monthly_Income_in_USD</th>  <td>    0.6522</td> <td>    0.015</td> <td>   43.134</td> <td> 0.000</td> <td>    0.622</td> <td>    0.682</td>\n",
       "</tr>\n",
       "<tr>\n",
       "  <th>Number_of_Credit_cards</th> <td>  103.7997</td> <td>   13.600</td> <td>    7.632</td> <td> 0.000</td> <td>   76.669</td> <td>  130.931</td>\n",
       "</tr>\n",
       "</table>\n",
       "<table class=\"simpletable\">\n",
       "<tr>\n",
       "  <th>Omnibus:</th>       <td>34.625</td> <th>  Durbin-Watson:     </th> <td>   2.544</td>\n",
       "</tr>\n",
       "<tr>\n",
       "  <th>Prob(Omnibus):</th> <td> 0.000</td> <th>  Jarque-Bera (JB):  </th> <td>   5.263</td>\n",
       "</tr>\n",
       "<tr>\n",
       "  <th>Skew:</th>          <td> 0.067</td> <th>  Prob(JB):          </th> <td>  0.0720</td>\n",
       "</tr>\n",
       "<tr>\n",
       "  <th>Kurtosis:</th>      <td> 1.682</td> <th>  Cond. No.          </th> <td>2.06e+04</td>\n",
       "</tr>\n",
       "</table><br/><br/>Notes:<br/>[1] Standard Errors assume that the covariance matrix of the errors is correctly specified.<br/>[2] The condition number is large, 2.06e+04. This might indicate that there are<br/>strong multicollinearity or other numerical problems."
      ],
      "text/plain": [
       "<class 'statsmodels.iolib.summary.Summary'>\n",
       "\"\"\"\n",
       "                            OLS Regression Results                            \n",
       "==============================================================================\n",
       "Dep. Variable:       Monthly_Expenses   R-squared:                       0.965\n",
       "Model:                            OLS   Adj. R-squared:                  0.964\n",
       "Method:                 Least Squares   F-statistic:                     964.5\n",
       "Date:                Tue, 31 Jan 2023   Prob (F-statistic):           3.71e-51\n",
       "Time:                        18:25:39   Log-Likelihood:                -513.85\n",
       "No. Observations:                  72   AIC:                             1034.\n",
       "Df Residuals:                      69   BIC:                             1041.\n",
       "Df Model:                           2                                         \n",
       "Covariance Type:            nonrobust                                         \n",
       "==========================================================================================\n",
       "                             coef    std err          t      P>|t|      [0.025      0.975]\n",
       "------------------------------------------------------------------------------------------\n",
       "Intercept                -56.3653    121.148     -0.465      0.643    -298.049     185.319\n",
       "Monthly_Income_in_USD      0.6522      0.015     43.134      0.000       0.622       0.682\n",
       "Number_of_Credit_cards   103.7997     13.600      7.632      0.000      76.669     130.931\n",
       "==============================================================================\n",
       "Omnibus:                       34.625   Durbin-Watson:                   2.544\n",
       "Prob(Omnibus):                  0.000   Jarque-Bera (JB):                5.263\n",
       "Skew:                           0.067   Prob(JB):                       0.0720\n",
       "Kurtosis:                       1.682   Cond. No.                     2.06e+04\n",
       "==============================================================================\n",
       "\n",
       "Notes:\n",
       "[1] Standard Errors assume that the covariance matrix of the errors is correctly specified.\n",
       "[2] The condition number is large, 2.06e+04. This might indicate that there are\n",
       "strong multicollinearity or other numerical problems.\n",
       "\"\"\""
      ]
     },
     "execution_count": 21,
     "metadata": {},
     "output_type": "execute_result"
    }
   ],
   "source": [
    "#The Final model after removing all the multicollinearity \n",
    "model6=sm.ols(formula='Monthly_Expenses ~ Monthly_Income_in_USD+Number_of_Credit_cards', data=income_expenses)\n",
    "fitted6 = model6.fit()\n",
    "fitted6.summary()"
   ]
  },
  {
   "cell_type": "code",
   "execution_count": 22,
   "id": "3a47b323-4ed1-420f-95bc-407626d55ea6",
   "metadata": {},
   "outputs": [
    {
     "name": "stdout",
     "output_type": "stream",
     "text": [
      "marketing_cost  VIF =  1.51\n",
      "percent_delayed_flights  VIF =  13.4\n",
      "number_of_trips  VIF =  1.03\n",
      "customer_ratings  VIF =  1.06\n",
      "poor_weather_index  VIF =  12.81\n",
      "percent_male_customers  VIF =  990.52\n",
      "Holiday_week  VIF =  1.21\n",
      "percent_female_customers  VIF =  989.91\n"
     ]
    }
   ],
   "source": [
    "#Calculating VIF values for airpassengers data \n",
    "vif_cal(x_vars=air_pass.drop([\"Passengers_count\",\"passengers_count_pred\"], axis=1))"
   ]
  },
  {
   "cell_type": "code",
   "execution_count": 23,
   "id": "35d99ab1-f93d-453c-90e9-a53dba20d4ca",
   "metadata": {},
   "outputs": [
    {
     "name": "stdout",
     "output_type": "stream",
     "text": [
      "marketing_cost  VIF =  1.51\n",
      "percent_delayed_flights  VIF =  13.34\n",
      "number_of_trips  VIF =  1.03\n",
      "customer_ratings  VIF =  1.06\n",
      "poor_weather_index  VIF =  12.78\n",
      "Holiday_week  VIF =  1.2\n",
      "percent_female_customers  VIF =  1.03\n"
     ]
    }
   ],
   "source": [
    "#Dropped percent_male_customers due to high VIF\n",
    "vif_cal(x_vars=air_pass.drop([\"Passengers_count\",\"passengers_count_pred\", \"percent_male_customers\"], axis=1))"
   ]
  },
  {
   "cell_type": "code",
   "execution_count": 24,
   "id": "e3e95ba7-6af5-43df-b0c4-31da8d3bf9d9",
   "metadata": {},
   "outputs": [
    {
     "name": "stdout",
     "output_type": "stream",
     "text": [
      "marketing_cost  VIF =  1.45\n",
      "number_of_trips  VIF =  1.02\n",
      "customer_ratings  VIF =  1.06\n",
      "poor_weather_index  VIF =  1.25\n",
      "Holiday_week  VIF =  1.2\n",
      "percent_female_customers  VIF =  1.01\n"
     ]
    }
   ],
   "source": [
    "#Dropped percent_male_customers and percent_delayed_flights due to high VIF\n",
    "vif_cal(x_vars=air_pass.drop([\"Passengers_count\",\"passengers_count_pred\",\"percent_male_customers\", \"percent_delayed_flights\"], axis=1))"
   ]
  },
  {
   "cell_type": "code",
   "execution_count": 25,
   "id": "5e83ae59-8832-41cf-a276-8b3fc0a2986a",
   "metadata": {},
   "outputs": [
    {
     "data": {
      "text/html": [
       "<table class=\"simpletable\">\n",
       "<caption>OLS Regression Results</caption>\n",
       "<tr>\n",
       "  <th>Dep. Variable:</th>    <td>Passengers_count</td> <th>  R-squared:         </th> <td>   0.904</td> \n",
       "</tr>\n",
       "<tr>\n",
       "  <th>Model:</th>                   <td>OLS</td>       <th>  Adj. R-squared:    </th> <td>   0.902</td> \n",
       "</tr>\n",
       "<tr>\n",
       "  <th>Method:</th>             <td>Least Squares</td>  <th>  F-statistic:       </th> <td>   401.2</td> \n",
       "</tr>\n",
       "<tr>\n",
       "  <th>Date:</th>             <td>Tue, 31 Jan 2023</td> <th>  Prob (F-statistic):</th> <td>4.35e-127</td>\n",
       "</tr>\n",
       "<tr>\n",
       "  <th>Time:</th>                 <td>18:26:56</td>     <th>  Log-Likelihood:    </th> <td> -2333.5</td> \n",
       "</tr>\n",
       "<tr>\n",
       "  <th>No. Observations:</th>      <td>   263</td>      <th>  AIC:               </th> <td>   4681.</td> \n",
       "</tr>\n",
       "<tr>\n",
       "  <th>Df Residuals:</th>          <td>   256</td>      <th>  BIC:               </th> <td>   4706.</td> \n",
       "</tr>\n",
       "<tr>\n",
       "  <th>Df Model:</th>              <td>     6</td>      <th>                     </th>     <td> </td>    \n",
       "</tr>\n",
       "<tr>\n",
       "  <th>Covariance Type:</th>      <td>nonrobust</td>    <th>                     </th>     <td> </td>    \n",
       "</tr>\n",
       "</table>\n",
       "<table class=\"simpletable\">\n",
       "<tr>\n",
       "              <td></td>                <th>coef</th>     <th>std err</th>      <th>t</th>      <th>P>|t|</th>  <th>[0.025</th>    <th>0.975]</th>  \n",
       "</tr>\n",
       "<tr>\n",
       "  <th>Intercept</th>                <td> 3659.6674</td> <td>  984.371</td> <td>    3.718</td> <td> 0.000</td> <td> 1721.172</td> <td> 5598.163</td>\n",
       "</tr>\n",
       "<tr>\n",
       "  <th>marketing_cost</th>           <td>    4.5785</td> <td>    0.171</td> <td>   26.797</td> <td> 0.000</td> <td>    4.242</td> <td>    4.915</td>\n",
       "</tr>\n",
       "<tr>\n",
       "  <th>number_of_trips</th>          <td>    0.4177</td> <td>    0.278</td> <td>    1.503</td> <td> 0.134</td> <td>   -0.130</td> <td>    0.965</td>\n",
       "</tr>\n",
       "<tr>\n",
       "  <th>customer_ratings</th>         <td>  547.0027</td> <td>   55.782</td> <td>    9.806</td> <td> 0.000</td> <td>  437.152</td> <td>  656.853</td>\n",
       "</tr>\n",
       "<tr>\n",
       "  <th>poor_weather_index</th>       <td> 1.855e+04</td> <td> 1461.863</td> <td>   12.691</td> <td> 0.000</td> <td> 1.57e+04</td> <td> 2.14e+04</td>\n",
       "</tr>\n",
       "<tr>\n",
       "  <th>percent_female_customers</th> <td>  -15.5571</td> <td>   12.302</td> <td>   -1.265</td> <td> 0.207</td> <td>  -39.783</td> <td>    8.668</td>\n",
       "</tr>\n",
       "<tr>\n",
       "  <th>Holiday_week</th>             <td> 6802.3234</td> <td>  619.101</td> <td>   10.987</td> <td> 0.000</td> <td> 5583.144</td> <td> 8021.503</td>\n",
       "</tr>\n",
       "</table>\n",
       "<table class=\"simpletable\">\n",
       "<tr>\n",
       "  <th>Omnibus:</th>       <td> 1.354</td> <th>  Durbin-Watson:     </th> <td>   1.869</td>\n",
       "</tr>\n",
       "<tr>\n",
       "  <th>Prob(Omnibus):</th> <td> 0.508</td> <th>  Jarque-Bera (JB):  </th> <td>   1.134</td>\n",
       "</tr>\n",
       "<tr>\n",
       "  <th>Skew:</th>          <td> 0.154</td> <th>  Prob(JB):          </th> <td>   0.567</td>\n",
       "</tr>\n",
       "<tr>\n",
       "  <th>Kurtosis:</th>      <td> 3.094</td> <th>  Cond. No.          </th> <td>5.53e+04</td>\n",
       "</tr>\n",
       "</table><br/><br/>Notes:<br/>[1] Standard Errors assume that the covariance matrix of the errors is correctly specified.<br/>[2] The condition number is large, 5.53e+04. This might indicate that there are<br/>strong multicollinearity or other numerical problems."
      ],
      "text/plain": [
       "<class 'statsmodels.iolib.summary.Summary'>\n",
       "\"\"\"\n",
       "                            OLS Regression Results                            \n",
       "==============================================================================\n",
       "Dep. Variable:       Passengers_count   R-squared:                       0.904\n",
       "Model:                            OLS   Adj. R-squared:                  0.902\n",
       "Method:                 Least Squares   F-statistic:                     401.2\n",
       "Date:                Tue, 31 Jan 2023   Prob (F-statistic):          4.35e-127\n",
       "Time:                        18:26:56   Log-Likelihood:                -2333.5\n",
       "No. Observations:                 263   AIC:                             4681.\n",
       "Df Residuals:                     256   BIC:                             4706.\n",
       "Df Model:                           6                                         \n",
       "Covariance Type:            nonrobust                                         \n",
       "============================================================================================\n",
       "                               coef    std err          t      P>|t|      [0.025      0.975]\n",
       "--------------------------------------------------------------------------------------------\n",
       "Intercept                 3659.6674    984.371      3.718      0.000    1721.172    5598.163\n",
       "marketing_cost               4.5785      0.171     26.797      0.000       4.242       4.915\n",
       "number_of_trips              0.4177      0.278      1.503      0.134      -0.130       0.965\n",
       "customer_ratings           547.0027     55.782      9.806      0.000     437.152     656.853\n",
       "poor_weather_index        1.855e+04   1461.863     12.691      0.000    1.57e+04    2.14e+04\n",
       "percent_female_customers   -15.5571     12.302     -1.265      0.207     -39.783       8.668\n",
       "Holiday_week              6802.3234    619.101     10.987      0.000    5583.144    8021.503\n",
       "==============================================================================\n",
       "Omnibus:                        1.354   Durbin-Watson:                   1.869\n",
       "Prob(Omnibus):                  0.508   Jarque-Bera (JB):                1.134\n",
       "Skew:                           0.154   Prob(JB):                        0.567\n",
       "Kurtosis:                       3.094   Cond. No.                     5.53e+04\n",
       "==============================================================================\n",
       "\n",
       "Notes:\n",
       "[1] Standard Errors assume that the covariance matrix of the errors is correctly specified.\n",
       "[2] The condition number is large, 5.53e+04. This might indicate that there are\n",
       "strong multicollinearity or other numerical problems.\n",
       "\"\"\""
      ]
     },
     "execution_count": 25,
     "metadata": {},
     "output_type": "execute_result"
    }
   ],
   "source": [
    "#Model after exclusing the high VIF variables\n",
    "model7 = sm.ols(formula='Passengers_count ~ marketing_cost+number_of_trips+customer_ratings+poor_weather_index+percent_female_customers+Holiday_week', data=air_pass)\n",
    "fitted7 = model7.fit()\n",
    "fitted7.summary()"
   ]
  },
  {
   "cell_type": "code",
   "execution_count": 26,
   "id": "ea63fa22-3df5-4b74-b678-e20f12eda84d",
   "metadata": {},
   "outputs": [
    {
     "data": {
      "text/html": [
       "<table class=\"simpletable\">\n",
       "<caption>OLS Regression Results</caption>\n",
       "<tr>\n",
       "  <th>Dep. Variable:</th>    <td>Passengers_count</td> <th>  R-squared:         </th> <td>   0.903</td> \n",
       "</tr>\n",
       "<tr>\n",
       "  <th>Model:</th>                   <td>OLS</td>       <th>  Adj. R-squared:    </th> <td>   0.901</td> \n",
       "</tr>\n",
       "<tr>\n",
       "  <th>Method:</th>             <td>Least Squares</td>  <th>  F-statistic:       </th> <td>   597.2</td> \n",
       "</tr>\n",
       "<tr>\n",
       "  <th>Date:</th>             <td>Tue, 31 Jan 2023</td> <th>  Prob (F-statistic):</th> <td>4.33e-129</td>\n",
       "</tr>\n",
       "<tr>\n",
       "  <th>Time:</th>                 <td>18:27:30</td>     <th>  Log-Likelihood:    </th> <td> -2335.4</td> \n",
       "</tr>\n",
       "<tr>\n",
       "  <th>No. Observations:</th>      <td>   263</td>      <th>  AIC:               </th> <td>   4681.</td> \n",
       "</tr>\n",
       "<tr>\n",
       "  <th>Df Residuals:</th>          <td>   258</td>      <th>  BIC:               </th> <td>   4699.</td> \n",
       "</tr>\n",
       "<tr>\n",
       "  <th>Df Model:</th>              <td>     4</td>      <th>                     </th>     <td> </td>    \n",
       "</tr>\n",
       "<tr>\n",
       "  <th>Covariance Type:</th>      <td>nonrobust</td>    <th>                     </th>     <td> </td>    \n",
       "</tr>\n",
       "</table>\n",
       "<table class=\"simpletable\">\n",
       "<tr>\n",
       "           <td></td>             <th>coef</th>     <th>std err</th>      <th>t</th>      <th>P>|t|</th>  <th>[0.025</th>    <th>0.975]</th>  \n",
       "</tr>\n",
       "<tr>\n",
       "  <th>Intercept</th>          <td> 3366.1891</td> <td>  664.355</td> <td>    5.067</td> <td> 0.000</td> <td> 2057.941</td> <td> 4674.438</td>\n",
       "</tr>\n",
       "<tr>\n",
       "  <th>marketing_cost</th>     <td>    4.6010</td> <td>    0.170</td> <td>   27.002</td> <td> 0.000</td> <td>    4.265</td> <td>    4.936</td>\n",
       "</tr>\n",
       "<tr>\n",
       "  <th>customer_ratings</th>   <td>  539.0514</td> <td>   55.771</td> <td>    9.665</td> <td> 0.000</td> <td>  429.228</td> <td>  648.875</td>\n",
       "</tr>\n",
       "<tr>\n",
       "  <th>poor_weather_index</th> <td> 1.852e+04</td> <td> 1465.404</td> <td>   12.638</td> <td> 0.000</td> <td> 1.56e+04</td> <td> 2.14e+04</td>\n",
       "</tr>\n",
       "<tr>\n",
       "  <th>Holiday_week</th>       <td> 6790.5039</td> <td>  618.849</td> <td>   10.973</td> <td> 0.000</td> <td> 5571.866</td> <td> 8009.142</td>\n",
       "</tr>\n",
       "</table>\n",
       "<table class=\"simpletable\">\n",
       "<tr>\n",
       "  <th>Omnibus:</th>       <td> 1.156</td> <th>  Durbin-Watson:     </th> <td>   1.894</td>\n",
       "</tr>\n",
       "<tr>\n",
       "  <th>Prob(Omnibus):</th> <td> 0.561</td> <th>  Jarque-Bera (JB):  </th> <td>   0.970</td>\n",
       "</tr>\n",
       "<tr>\n",
       "  <th>Skew:</th>          <td> 0.145</td> <th>  Prob(JB):          </th> <td>   0.616</td>\n",
       "</tr>\n",
       "<tr>\n",
       "  <th>Kurtosis:</th>      <td> 3.070</td> <th>  Cond. No.          </th> <td>5.16e+04</td>\n",
       "</tr>\n",
       "</table><br/><br/>Notes:<br/>[1] Standard Errors assume that the covariance matrix of the errors is correctly specified.<br/>[2] The condition number is large, 5.16e+04. This might indicate that there are<br/>strong multicollinearity or other numerical problems."
      ],
      "text/plain": [
       "<class 'statsmodels.iolib.summary.Summary'>\n",
       "\"\"\"\n",
       "                            OLS Regression Results                            \n",
       "==============================================================================\n",
       "Dep. Variable:       Passengers_count   R-squared:                       0.903\n",
       "Model:                            OLS   Adj. R-squared:                  0.901\n",
       "Method:                 Least Squares   F-statistic:                     597.2\n",
       "Date:                Tue, 31 Jan 2023   Prob (F-statistic):          4.33e-129\n",
       "Time:                        18:27:30   Log-Likelihood:                -2335.4\n",
       "No. Observations:                 263   AIC:                             4681.\n",
       "Df Residuals:                     258   BIC:                             4699.\n",
       "Df Model:                           4                                         \n",
       "Covariance Type:            nonrobust                                         \n",
       "======================================================================================\n",
       "                         coef    std err          t      P>|t|      [0.025      0.975]\n",
       "--------------------------------------------------------------------------------------\n",
       "Intercept           3366.1891    664.355      5.067      0.000    2057.941    4674.438\n",
       "marketing_cost         4.6010      0.170     27.002      0.000       4.265       4.936\n",
       "customer_ratings     539.0514     55.771      9.665      0.000     429.228     648.875\n",
       "poor_weather_index  1.852e+04   1465.404     12.638      0.000    1.56e+04    2.14e+04\n",
       "Holiday_week        6790.5039    618.849     10.973      0.000    5571.866    8009.142\n",
       "==============================================================================\n",
       "Omnibus:                        1.156   Durbin-Watson:                   1.894\n",
       "Prob(Omnibus):                  0.561   Jarque-Bera (JB):                0.970\n",
       "Skew:                           0.145   Prob(JB):                        0.616\n",
       "Kurtosis:                       3.070   Cond. No.                     5.16e+04\n",
       "==============================================================================\n",
       "\n",
       "Notes:\n",
       "[1] Standard Errors assume that the covariance matrix of the errors is correctly specified.\n",
       "[2] The condition number is large, 5.16e+04. This might indicate that there are\n",
       "strong multicollinearity or other numerical problems.\n",
       "\"\"\""
      ]
     },
     "execution_count": 26,
     "metadata": {},
     "output_type": "execute_result"
    }
   ],
   "source": [
    "#Individual impact of the variables \n",
    "##Drop two variables non-impacful number_of_trips and percent_female_customers\n",
    "model8 = sm.ols(formula='Passengers_count ~ marketing_cost+customer_ratings+poor_weather_index+Holiday_week', data=air_pass)\n",
    "fitted8 = model8.fit()\n",
    "fitted8.summary()"
   ]
  },
  {
   "cell_type": "code",
   "execution_count": 27,
   "id": "b86b340c-1fa4-43c0-884e-86650633aab2",
   "metadata": {},
   "outputs": [
    {
     "data": {
      "text/html": [
       "<table class=\"simpletable\">\n",
       "<caption>OLS Regression Results</caption>\n",
       "<tr>\n",
       "  <th>Dep. Variable:</th>    <td>Passengers_count</td> <th>  R-squared:         </th> <td>   0.627</td>\n",
       "</tr>\n",
       "<tr>\n",
       "  <th>Model:</th>                   <td>OLS</td>       <th>  Adj. R-squared:    </th> <td>   0.623</td>\n",
       "</tr>\n",
       "<tr>\n",
       "  <th>Method:</th>             <td>Least Squares</td>  <th>  F-statistic:       </th> <td>   145.2</td>\n",
       "</tr>\n",
       "<tr>\n",
       "  <th>Date:</th>             <td>Tue, 31 Jan 2023</td> <th>  Prob (F-statistic):</th> <td>3.44e-55</td>\n",
       "</tr>\n",
       "<tr>\n",
       "  <th>Time:</th>                 <td>18:27:54</td>     <th>  Log-Likelihood:    </th> <td> -2511.8</td>\n",
       "</tr>\n",
       "<tr>\n",
       "  <th>No. Observations:</th>      <td>   263</td>      <th>  AIC:               </th> <td>   5032.</td>\n",
       "</tr>\n",
       "<tr>\n",
       "  <th>Df Residuals:</th>          <td>   259</td>      <th>  BIC:               </th> <td>   5046.</td>\n",
       "</tr>\n",
       "<tr>\n",
       "  <th>Df Model:</th>              <td>     3</td>      <th>                     </th>     <td> </td>   \n",
       "</tr>\n",
       "<tr>\n",
       "  <th>Covariance Type:</th>      <td>nonrobust</td>    <th>                     </th>     <td> </td>   \n",
       "</tr>\n",
       "</table>\n",
       "<table class=\"simpletable\">\n",
       "<tr>\n",
       "           <td></td>             <th>coef</th>     <th>std err</th>      <th>t</th>      <th>P>|t|</th>  <th>[0.025</th>    <th>0.975]</th>  \n",
       "</tr>\n",
       "<tr>\n",
       "  <th>Intercept</th>          <td>  1.45e+04</td> <td> 1016.979</td> <td>   14.257</td> <td> 0.000</td> <td> 1.25e+04</td> <td> 1.65e+04</td>\n",
       "</tr>\n",
       "<tr>\n",
       "  <th>customer_ratings</th>   <td>  834.0677</td> <td>  106.768</td> <td>    7.812</td> <td> 0.000</td> <td>  623.823</td> <td> 1044.312</td>\n",
       "</tr>\n",
       "<tr>\n",
       "  <th>poor_weather_index</th> <td> 3.379e+04</td> <td> 2639.293</td> <td>   12.801</td> <td> 0.000</td> <td> 2.86e+04</td> <td>  3.9e+04</td>\n",
       "</tr>\n",
       "<tr>\n",
       "  <th>Holiday_week</th>       <td> 1.223e+04</td> <td> 1142.371</td> <td>   10.705</td> <td> 0.000</td> <td> 9979.306</td> <td> 1.45e+04</td>\n",
       "</tr>\n",
       "</table>\n",
       "<table class=\"simpletable\">\n",
       "<tr>\n",
       "  <th>Omnibus:</th>       <td> 5.814</td> <th>  Durbin-Watson:     </th> <td>   1.887</td>\n",
       "</tr>\n",
       "<tr>\n",
       "  <th>Prob(Omnibus):</th> <td> 0.055</td> <th>  Jarque-Bera (JB):  </th> <td>   5.509</td>\n",
       "</tr>\n",
       "<tr>\n",
       "  <th>Skew:</th>          <td> 0.330</td> <th>  Prob(JB):          </th> <td>  0.0636</td>\n",
       "</tr>\n",
       "<tr>\n",
       "  <th>Kurtosis:</th>      <td> 3.257</td> <th>  Cond. No.          </th> <td>    95.3</td>\n",
       "</tr>\n",
       "</table><br/><br/>Notes:<br/>[1] Standard Errors assume that the covariance matrix of the errors is correctly specified."
      ],
      "text/plain": [
       "<class 'statsmodels.iolib.summary.Summary'>\n",
       "\"\"\"\n",
       "                            OLS Regression Results                            \n",
       "==============================================================================\n",
       "Dep. Variable:       Passengers_count   R-squared:                       0.627\n",
       "Model:                            OLS   Adj. R-squared:                  0.623\n",
       "Method:                 Least Squares   F-statistic:                     145.2\n",
       "Date:                Tue, 31 Jan 2023   Prob (F-statistic):           3.44e-55\n",
       "Time:                        18:27:54   Log-Likelihood:                -2511.8\n",
       "No. Observations:                 263   AIC:                             5032.\n",
       "Df Residuals:                     259   BIC:                             5046.\n",
       "Df Model:                           3                                         \n",
       "Covariance Type:            nonrobust                                         \n",
       "======================================================================================\n",
       "                         coef    std err          t      P>|t|      [0.025      0.975]\n",
       "--------------------------------------------------------------------------------------\n",
       "Intercept            1.45e+04   1016.979     14.257      0.000    1.25e+04    1.65e+04\n",
       "customer_ratings     834.0677    106.768      7.812      0.000     623.823    1044.312\n",
       "poor_weather_index  3.379e+04   2639.293     12.801      0.000    2.86e+04     3.9e+04\n",
       "Holiday_week        1.223e+04   1142.371     10.705      0.000    9979.306    1.45e+04\n",
       "==============================================================================\n",
       "Omnibus:                        5.814   Durbin-Watson:                   1.887\n",
       "Prob(Omnibus):                  0.055   Jarque-Bera (JB):                5.509\n",
       "Skew:                           0.330   Prob(JB):                       0.0636\n",
       "Kurtosis:                       3.257   Cond. No.                         95.3\n",
       "==============================================================================\n",
       "\n",
       "Notes:\n",
       "[1] Standard Errors assume that the covariance matrix of the errors is correctly specified.\n",
       "\"\"\""
      ]
     },
     "execution_count": 27,
     "metadata": {},
     "output_type": "execute_result"
    }
   ],
   "source": [
    "#Drop an impactful variable\n",
    "model9 = sm.ols(formula='Passengers_count ~  customer_ratings+poor_weather_index+Holiday_week', data=air_pass)\n",
    "fitted9 = model9.fit()\n",
    "fitted9.summary()"
   ]
  },
  {
   "cell_type": "code",
   "execution_count": 28,
   "id": "7c2231ca-a006-4eba-a8a7-9b0b3ae7c971",
   "metadata": {},
   "outputs": [
    {
     "name": "stdout",
     "output_type": "stream",
     "text": [
      "Index(['Income', 'Bought'], dtype='object')\n"
     ]
    }
   ],
   "source": [
    "##################################\n",
    "####Logistic Regression\n",
    "#################################\n",
    "\n",
    "#product_sales Model\n",
    "product_sales=pd.read_csv(r\"C:\\Users\\SREEHARI\\Desktop\\internship\\my training\\Chapter3_Regression_Logistic\\Datasets\\Product_sales.csv\")\n",
    "print(product_sales.columns)"
   ]
  },
  {
   "cell_type": "code",
   "execution_count": 29,
   "id": "db1b81e2-64d0-48b2-8e86-66e6e1880f81",
   "metadata": {},
   "outputs": [
    {
     "data": {
      "text/html": [
       "<table class=\"simpletable\">\n",
       "<caption>OLS Regression Results</caption>\n",
       "<tr>\n",
       "  <th>Dep. Variable:</th>         <td>Bought</td>      <th>  R-squared:         </th> <td>   0.843</td> \n",
       "</tr>\n",
       "<tr>\n",
       "  <th>Model:</th>                   <td>OLS</td>       <th>  Adj. R-squared:    </th> <td>   0.842</td> \n",
       "</tr>\n",
       "<tr>\n",
       "  <th>Method:</th>             <td>Least Squares</td>  <th>  F-statistic:       </th> <td>   2489.</td> \n",
       "</tr>\n",
       "<tr>\n",
       "  <th>Date:</th>             <td>Tue, 31 Jan 2023</td> <th>  Prob (F-statistic):</th> <td>8.50e-189</td>\n",
       "</tr>\n",
       "<tr>\n",
       "  <th>Time:</th>                 <td>18:28:52</td>     <th>  Log-Likelihood:    </th> <td>  96.245</td> \n",
       "</tr>\n",
       "<tr>\n",
       "  <th>No. Observations:</th>      <td>   467</td>      <th>  AIC:               </th> <td>  -188.5</td> \n",
       "</tr>\n",
       "<tr>\n",
       "  <th>Df Residuals:</th>          <td>   465</td>      <th>  BIC:               </th> <td>  -180.2</td> \n",
       "</tr>\n",
       "<tr>\n",
       "  <th>Df Model:</th>              <td>     1</td>      <th>                     </th>     <td> </td>    \n",
       "</tr>\n",
       "<tr>\n",
       "  <th>Covariance Type:</th>      <td>nonrobust</td>    <th>                     </th>     <td> </td>    \n",
       "</tr>\n",
       "</table>\n",
       "<table class=\"simpletable\">\n",
       "<tr>\n",
       "      <td></td>         <th>coef</th>     <th>std err</th>      <th>t</th>      <th>P>|t|</th>  <th>[0.025</th>    <th>0.975]</th>  \n",
       "</tr>\n",
       "<tr>\n",
       "  <th>Intercept</th> <td>   -0.1805</td> <td>    0.015</td> <td>  -11.712</td> <td> 0.000</td> <td>   -0.211</td> <td>   -0.150</td>\n",
       "</tr>\n",
       "<tr>\n",
       "  <th>Income</th>    <td> 2.095e-05</td> <td>  4.2e-07</td> <td>   49.886</td> <td> 0.000</td> <td> 2.01e-05</td> <td> 2.18e-05</td>\n",
       "</tr>\n",
       "</table>\n",
       "<table class=\"simpletable\">\n",
       "<tr>\n",
       "  <th>Omnibus:</th>       <td>77.189</td> <th>  Durbin-Watson:     </th> <td>   1.886</td> \n",
       "</tr>\n",
       "<tr>\n",
       "  <th>Prob(Omnibus):</th> <td> 0.000</td> <th>  Jarque-Bera (JB):  </th> <td>1010.549</td> \n",
       "</tr>\n",
       "<tr>\n",
       "  <th>Skew:</th>          <td> 0.076</td> <th>  Prob(JB):          </th> <td>3.65e-220</td>\n",
       "</tr>\n",
       "<tr>\n",
       "  <th>Kurtosis:</th>      <td>10.205</td> <th>  Cond. No.          </th> <td>6.20e+04</td> \n",
       "</tr>\n",
       "</table><br/><br/>Notes:<br/>[1] Standard Errors assume that the covariance matrix of the errors is correctly specified.<br/>[2] The condition number is large, 6.2e+04. This might indicate that there are<br/>strong multicollinearity or other numerical problems."
      ],
      "text/plain": [
       "<class 'statsmodels.iolib.summary.Summary'>\n",
       "\"\"\"\n",
       "                            OLS Regression Results                            \n",
       "==============================================================================\n",
       "Dep. Variable:                 Bought   R-squared:                       0.843\n",
       "Model:                            OLS   Adj. R-squared:                  0.842\n",
       "Method:                 Least Squares   F-statistic:                     2489.\n",
       "Date:                Tue, 31 Jan 2023   Prob (F-statistic):          8.50e-189\n",
       "Time:                        18:28:52   Log-Likelihood:                 96.245\n",
       "No. Observations:                 467   AIC:                            -188.5\n",
       "Df Residuals:                     465   BIC:                            -180.2\n",
       "Df Model:                           1                                         \n",
       "Covariance Type:            nonrobust                                         \n",
       "==============================================================================\n",
       "                 coef    std err          t      P>|t|      [0.025      0.975]\n",
       "------------------------------------------------------------------------------\n",
       "Intercept     -0.1805      0.015    -11.712      0.000      -0.211      -0.150\n",
       "Income      2.095e-05    4.2e-07     49.886      0.000    2.01e-05    2.18e-05\n",
       "==============================================================================\n",
       "Omnibus:                       77.189   Durbin-Watson:                   1.886\n",
       "Prob(Omnibus):                  0.000   Jarque-Bera (JB):             1010.549\n",
       "Skew:                           0.076   Prob(JB):                    3.65e-220\n",
       "Kurtosis:                      10.205   Cond. No.                     6.20e+04\n",
       "==============================================================================\n",
       "\n",
       "Notes:\n",
       "[1] Standard Errors assume that the covariance matrix of the errors is correctly specified.\n",
       "[2] The condition number is large, 6.2e+04. This might indicate that there are\n",
       "strong multicollinearity or other numerical problems.\n",
       "\"\"\""
      ]
     },
     "execution_count": 29,
     "metadata": {},
     "output_type": "execute_result"
    }
   ],
   "source": [
    "model10 = sm.ols(formula='Bought ~  Income', data=product_sales)\n",
    "fitted10 = model10.fit()\n",
    "fitted10.summary()"
   ]
  },
  {
   "cell_type": "code",
   "execution_count": 30,
   "id": "04a7cc5a-18ff-4e31-a876-13e982b259ea",
   "metadata": {},
   "outputs": [
    {
     "name": "stdout",
     "output_type": "stream",
     "text": [
      "0   -0.096753\n",
      "dtype: float64\n"
     ]
    }
   ],
   "source": [
    "#prediction from the model\n",
    "new_data=pd.DataFrame({\"Income\":[4000]})\n",
    "print(fitted10.predict(new_data))"
   ]
  },
  {
   "cell_type": "code",
   "execution_count": 31,
   "id": "7ec4e91d-47e9-4b02-9926-0226fc8e1668",
   "metadata": {},
   "outputs": [
    {
     "name": "stdout",
     "output_type": "stream",
     "text": [
      "0    1.599893\n",
      "dtype: float64\n"
     ]
    }
   ],
   "source": [
    "new_data1=pd.DataFrame({\"Income\":[85000]})\n",
    "print(fitted10.predict(new_data1))"
   ]
  },
  {
   "cell_type": "code",
   "execution_count": 32,
   "id": "e0052c41-c72b-4dda-b741-780622726338",
   "metadata": {},
   "outputs": [
    {
     "name": "stdout",
     "output_type": "stream",
     "text": [
      "      Income  Bought\n",
      "466  57387.4       1\n",
      "267   2468.1       0\n",
      "283  51759.2       1\n",
      "196  10226.8       0\n",
      "36    4643.9       0\n",
      "265  63438.4       1\n",
      "309  42236.6       1\n",
      "86    1679.7       0\n",
      "120  10598.5       0\n",
      "419  12853.8       0\n"
     ]
    }
   ],
   "source": [
    "#product_sales data sample\n",
    "print(product_sales.sample(10))"
   ]
  },
  {
   "cell_type": "code",
   "execution_count": 33,
   "id": "e2d0bd98-218a-477a-99d1-27c4b4d64201",
   "metadata": {},
   "outputs": [
    {
     "data": {
      "image/png": "[encoded data removed]",
      "text/plain": [
       "<Figure size 432x288 with 1 Axes>"
      ]
     },
     "metadata": {
      "needs_background": "light"
     },
     "output_type": "display_data"
    }
   ],
   "source": [
    "#Drawing the Scatter Plot\n",
    "plt.scatter(product_sales[\"Income\"], product_sales[\"Bought\"])\n",
    "plt.title('Income vs Bought Plot')\n",
    "plt.xlabel('Income')\n",
    "plt.ylabel('Bought')\n",
    "plt.show()"
   ]
  },
  {
   "cell_type": "code",
   "execution_count": 34,
   "id": "d445aa69-5334-4c4d-aef0-3cdc15532500",
   "metadata": {},
   "outputs": [
    {
     "data": {
      "image/png": "[encoded data removed]",
      "text/plain": [
       "<Figure size 432x288 with 1 Axes>"
      ]
     },
     "metadata": {
      "needs_background": "light"
     },
     "output_type": "display_data"
    }
   ],
   "source": [
    "#Drawing the Regression line\n",
    "pred_values= fitted10.predict(product_sales[\"Income\"]) \n",
    "plt.scatter(product_sales[\"Income\"], product_sales[\"Bought\"])\n",
    "plt.plot(product_sales[\"Income\"], pred_values, color='green')\n",
    "plt.title('Income vs Bought Plot')\n",
    "plt.xlabel('Income')\n",
    "plt.ylabel('Bought')\n",
    "plt.show()"
   ]
  },
  {
   "cell_type": "code",
   "execution_count": 36,
   "id": "18f64f6d-9481-47ea-87bc-582bcf6d706f",
   "metadata": {},
   "outputs": [
    {
     "name": "stdout",
     "output_type": "stream",
     "text": [
      "Optimization terminated successfully.\n",
      "         Current function value: 0.101165\n",
      "         Iterations 9\n"
     ]
    },
    {
     "data": {
      "text/html": [
       "<table class=\"simpletable\">\n",
       "<caption>Logit Regression Results</caption>\n",
       "<tr>\n",
       "  <th>Dep. Variable:</th>        <td>Bought</td>      <th>  No. Observations:  </th>   <td>   467</td>  \n",
       "</tr>\n",
       "<tr>\n",
       "  <th>Model:</th>                 <td>Logit</td>      <th>  Df Residuals:      </th>   <td>   465</td>  \n",
       "</tr>\n",
       "<tr>\n",
       "  <th>Method:</th>                 <td>MLE</td>       <th>  Df Model:          </th>   <td>     1</td>  \n",
       "</tr>\n",
       "<tr>\n",
       "  <th>Date:</th>            <td>Tue, 31 Jan 2023</td> <th>  Pseudo R-squ.:     </th>   <td>0.8525</td>  \n",
       "</tr>\n",
       "<tr>\n",
       "  <th>Time:</th>                <td>18:32:20</td>     <th>  Log-Likelihood:    </th>  <td> -47.244</td> \n",
       "</tr>\n",
       "<tr>\n",
       "  <th>converged:</th>             <td>True</td>       <th>  LL-Null:           </th>  <td> -320.21</td> \n",
       "</tr>\n",
       "<tr>\n",
       "  <th>Covariance Type:</th>     <td>nonrobust</td>    <th>  LLR p-value:       </th> <td>9.637e-121</td>\n",
       "</tr>\n",
       "</table>\n",
       "<table class=\"simpletable\">\n",
       "<tr>\n",
       "     <td></td>       <th>coef</th>     <th>std err</th>      <th>z</th>      <th>P>|z|</th>  <th>[0.025</th>    <th>0.975]</th>  \n",
       "</tr>\n",
       "<tr>\n",
       "  <th>const</th>  <td>   -7.0288</td> <td>    0.739</td> <td>   -9.505</td> <td> 0.000</td> <td>   -8.478</td> <td>   -5.579</td>\n",
       "</tr>\n",
       "<tr>\n",
       "  <th>Income</th> <td>    0.0002</td> <td>  2.1e-05</td> <td>   10.397</td> <td> 0.000</td> <td>    0.000</td> <td>    0.000</td>\n",
       "</tr>\n",
       "</table>"
      ],
      "text/plain": [
       "<class 'statsmodels.iolib.summary.Summary'>\n",
       "\"\"\"\n",
       "                           Logit Regression Results                           \n",
       "==============================================================================\n",
       "Dep. Variable:                 Bought   No. Observations:                  467\n",
       "Model:                          Logit   Df Residuals:                      465\n",
       "Method:                           MLE   Df Model:                            1\n",
       "Date:                Tue, 31 Jan 2023   Pseudo R-squ.:                  0.8525\n",
       "Time:                        18:32:20   Log-Likelihood:                -47.244\n",
       "converged:                       True   LL-Null:                       -320.21\n",
       "Covariance Type:            nonrobust   LLR p-value:                9.637e-121\n",
       "==============================================================================\n",
       "                 coef    std err          z      P>|z|      [0.025      0.975]\n",
       "------------------------------------------------------------------------------\n",
       "const         -7.0288      0.739     -9.505      0.000      -8.478      -5.579\n",
       "Income         0.0002    2.1e-05     10.397      0.000       0.000       0.000\n",
       "==============================================================================\n",
       "\"\"\""
      ]
     },
     "execution_count": 36,
     "metadata": {},
     "output_type": "execute_result"
    }
   ],
   "source": [
    "#3.9 Logistic Regression Model building\n",
    "import statsmodels.api as sm\n",
    "logit_model=sm.Logit(product_sales[\"Bought\"],product_sales[\"Income\"])\n",
    "#Model with intercept\n",
    "logit_model1=sm.Logit(product_sales[\"Bought\"],sm.add_constant(product_sales[\"Income\"]))\n",
    "logit_fit1=logit_model1.fit()\n",
    "logit_fit1.summary()"
   ]
  },
  {
   "cell_type": "code",
   "execution_count": 37,
   "id": "a816d73c-bf4d-412d-a289-89a7c1c7edfc",
   "metadata": {},
   "outputs": [
    {
     "name": "stdout",
     "output_type": "stream",
     "text": [
      "0    0.002118\n",
      "1    0.999990\n",
      "dtype: float64\n"
     ]
    }
   ],
   "source": [
    "#prediction from the model\n",
    "new_data=pd.DataFrame({\"Constant\":[1,1],\"Income\":[4000, 85000]})\n",
    "print(logit_fit1.predict(new_data))"
   ]
  },
  {
   "cell_type": "code",
   "execution_count": 38,
   "id": "66165409-aede-47fb-b160-25bfbcd85fa4",
   "metadata": {},
   "outputs": [
    {
     "data": {
      "image/png": "[encoded data removed]",
      "text/plain": [
       "<Figure size 432x288 with 1 Axes>"
      ]
     },
     "metadata": {
      "needs_background": "light"
     },
     "output_type": "display_data"
    }
   ],
   "source": [
    "#Drawing the Logistic line\n",
    "\n",
    "new_data=product_sales.drop([\"Bought\"], axis=1)\n",
    "new_data[\"Constant\"]=1\n",
    "new_data=new_data[[\"Constant\",\"Income\"]]\n",
    "#Pass the variables to get the predicted values. Add actual values in a new column \n",
    "new_data[\"pred_values\"]= logit_fit1.predict(new_data)\n",
    "new_data[\"Actual\"]=product_sales[\"Bought\"]\n",
    "#Sort the data and draw the graph\n",
    "new_data=new_data.sort_values([\"pred_values\"])\n",
    "plt.scatter(new_data[\"Income\"], new_data[\"Actual\"])\n",
    "plt.plot(new_data[\"Income\"], new_data[\"pred_values\"], color='green')\n",
    "#Add lables and title \n",
    "plt.title('Predicted vs Actual Plot')\n",
    "plt.xlabel('Income')\n",
    "plt.ylabel('Bought')\n",
    "plt.show()"
   ]
  },
  {
   "cell_type": "code",
   "execution_count": 39,
   "id": "94e83377-3821-4bd5-b1d0-8fd4ace29b75",
   "metadata": {},
   "outputs": [
    {
     "name": "stdout",
     "output_type": "stream",
     "text": [
      "    Income  Bought\n",
      "0   2380.0       0\n",
      "1   7351.1       0\n",
      "2  48224.4       1\n",
      "3   4833.0       0\n",
      "4  18426.1       0\n",
      "5  52709.0       1\n",
      "6  54926.7       1\n",
      "7  52109.3       1\n",
      "8   8658.6       0\n",
      "9  12227.9       0\n"
     ]
    }
   ],
   "source": [
    "#Accuracy of the model \n",
    "print(product_sales.head(10))"
   ]
  },
  {
   "cell_type": "code",
   "execution_count": 41,
   "id": "4d638d73-7a6e-41ae-8678-6943c8fbe4d9",
   "metadata": {},
   "outputs": [
    {
     "name": "stdout",
     "output_type": "stream",
     "text": [
      "     Bought  pred_Bought\n",
      "0         0          0.0\n",
      "1         0          0.0\n",
      "2         1          1.0\n",
      "3         0          0.0\n",
      "4         0          0.0\n",
      "..      ...          ...\n",
      "462       0          0.0\n",
      "463       0          0.0\n",
      "464       1          1.0\n",
      "465       1          1.0\n",
      "466       1          1.0\n",
      "\n",
      "[467 rows x 2 columns]\n"
     ]
    }
   ],
   "source": [
    "#Add a new column for intercept. This will be used in prediction\n",
    "product_sales[\"Constant\"]=1\n",
    "#Get the predicted values into a new column\n",
    "product_sales[\"pred_Bought\"]=logit_fit1.predict(product_sales[[\"Constant\",\"Income\"]])\n",
    "product_sales[\"pred_Bought\"]=round(product_sales[\"pred_Bought\"])\n",
    "\n",
    "#Data after updating with predicted values\n",
    "print(product_sales[[\"Bought\",\"pred_Bought\"]])"
   ]
  },
  {
   "cell_type": "code",
   "execution_count": 42,
   "id": "6badc652-0eb5-433e-9b45-f10d0cd91149",
   "metadata": {},
   "outputs": [
    {
     "name": "stdout",
     "output_type": "stream",
     "text": [
      "[[257   5]\n",
      " [  3 202]]\n"
     ]
    }
   ],
   "source": [
    "cm1 = confusion_matrix(product_sales[\"Bought\"],product_sales[\"pred_Bought\"])\n",
    "print(cm1)"
   ]
  },
  {
   "cell_type": "code",
   "execution_count": 43,
   "id": "1459fa28-f600-48e1-9808-9303b7a311ea",
   "metadata": {},
   "outputs": [
    {
     "name": "stdout",
     "output_type": "stream",
     "text": [
      "0.9828693790149893\n"
     ]
    }
   ],
   "source": [
    "accuracy1=(cm1[0,0]+cm1[1,1])/(cm1[0,0]+cm1[0,1]+cm1[1,0]+cm1[1,1])\n",
    "print(accuracy1)"
   ]
  },
  {
   "cell_type": "code",
   "execution_count": 44,
   "id": "2d4ee999-3893-475d-a554-59864d8f9cc2",
   "metadata": {},
   "outputs": [
    {
     "name": "stdout",
     "output_type": "stream",
     "text": [
      "(100000, 11)\n",
      "Index(['Id', 'Active_cust', 'estimated_income', 'months_on_network',\n",
      "       'complaints_count', 'plan_changes_count', 'relocated_new_place',\n",
      "       'monthly_bill_avg', 'CSAT_Survey_Score', 'high_talktime_flag',\n",
      "       'internet_time'],\n",
      "      dtype='object')\n"
     ]
    }
   ],
   "source": [
    "#3.10 Multiple Logistic Regression Line\n",
    "\n",
    "telco_cust=pd.read_csv(r\"C:\\Users\\SREEHARI\\Desktop\\internship\\my training\\Chapter3_Regression_Logistic\\Datasets\\telco_data.csv\")\n",
    "print(telco_cust.shape)\n",
    "print(telco_cust.columns)"
   ]
  },
  {
   "cell_type": "code",
   "execution_count": 45,
   "id": "d516e488-7be9-4e71-8151-6e855928e843",
   "metadata": {},
   "outputs": [
    {
     "name": "stdout",
     "output_type": "stream",
     "text": [
      "Optimization terminated successfully.\n",
      "         Current function value: 0.327208\n",
      "         Iterations 11\n"
     ]
    },
    {
     "data": {
      "text/html": [
       "<table class=\"simpletable\">\n",
       "<caption>Logit Regression Results</caption>\n",
       "<tr>\n",
       "  <th>Dep. Variable:</th>      <td>Active_cust</td>   <th>  No. Observations:  </th>  <td>100000</td> \n",
       "</tr>\n",
       "<tr>\n",
       "  <th>Model:</th>                 <td>Logit</td>      <th>  Df Residuals:      </th>  <td> 99991</td> \n",
       "</tr>\n",
       "<tr>\n",
       "  <th>Method:</th>                 <td>MLE</td>       <th>  Df Model:          </th>  <td>     8</td> \n",
       "</tr>\n",
       "<tr>\n",
       "  <th>Date:</th>            <td>Tue, 31 Jan 2023</td> <th>  Pseudo R-squ.:     </th>  <td>0.5193</td> \n",
       "</tr>\n",
       "<tr>\n",
       "  <th>Time:</th>                <td>18:36:26</td>     <th>  Log-Likelihood:    </th> <td> -32721.</td>\n",
       "</tr>\n",
       "<tr>\n",
       "  <th>converged:</th>             <td>True</td>       <th>  LL-Null:           </th> <td> -68074.</td>\n",
       "</tr>\n",
       "<tr>\n",
       "  <th>Covariance Type:</th>     <td>nonrobust</td>    <th>  LLR p-value:       </th>  <td> 0.000</td> \n",
       "</tr>\n",
       "</table>\n",
       "<table class=\"simpletable\">\n",
       "<tr>\n",
       "           <td></td>              <th>coef</th>     <th>std err</th>      <th>z</th>      <th>P>|z|</th>  <th>[0.025</th>    <th>0.975]</th>  \n",
       "</tr>\n",
       "<tr>\n",
       "  <th>estimated_income</th>    <td> 5.476e-05</td> <td> 3.15e-05</td> <td>    1.740</td> <td> 0.082</td> <td>-6.93e-06</td> <td>    0.000</td>\n",
       "</tr>\n",
       "<tr>\n",
       "  <th>months_on_network</th>   <td>   -2.1605</td> <td>    2.473</td> <td>   -0.874</td> <td> 0.382</td> <td>   -7.008</td> <td>    2.687</td>\n",
       "</tr>\n",
       "<tr>\n",
       "  <th>complaints_count</th>    <td>   31.7026</td> <td>   37.097</td> <td>    0.855</td> <td> 0.393</td> <td>  -41.006</td> <td>  104.411</td>\n",
       "</tr>\n",
       "<tr>\n",
       "  <th>plan_changes_count</th>  <td>   -0.5828</td> <td>    0.011</td> <td>  -52.166</td> <td> 0.000</td> <td>   -0.605</td> <td>   -0.561</td>\n",
       "</tr>\n",
       "<tr>\n",
       "  <th>relocated_new_place</th> <td>   -2.4047</td> <td>    0.047</td> <td>  -51.554</td> <td> 0.000</td> <td>   -2.496</td> <td>   -2.313</td>\n",
       "</tr>\n",
       "<tr>\n",
       "  <th>monthly_bill_avg</th>    <td>   -0.0035</td> <td>    0.000</td> <td>  -17.173</td> <td> 0.000</td> <td>   -0.004</td> <td>   -0.003</td>\n",
       "</tr>\n",
       "<tr>\n",
       "  <th>CSAT_Survey_Score</th>   <td>    3.3119</td> <td>    3.710</td> <td>    0.893</td> <td> 0.372</td> <td>   -3.959</td> <td>   10.583</td>\n",
       "</tr>\n",
       "<tr>\n",
       "  <th>high_talktime_flag</th>  <td>   -0.0354</td> <td>    0.020</td> <td>   -1.763</td> <td> 0.078</td> <td>   -0.075</td> <td>    0.004</td>\n",
       "</tr>\n",
       "<tr>\n",
       "  <th>internet_time</th>       <td>    0.0079</td> <td> 4.68e-05</td> <td>  168.858</td> <td> 0.000</td> <td>    0.008</td> <td>    0.008</td>\n",
       "</tr>\n",
       "</table>"
      ],
      "text/plain": [
       "<class 'statsmodels.iolib.summary.Summary'>\n",
       "\"\"\"\n",
       "                           Logit Regression Results                           \n",
       "==============================================================================\n",
       "Dep. Variable:            Active_cust   No. Observations:               100000\n",
       "Model:                          Logit   Df Residuals:                    99991\n",
       "Method:                           MLE   Df Model:                            8\n",
       "Date:                Tue, 31 Jan 2023   Pseudo R-squ.:                  0.5193\n",
       "Time:                        18:36:26   Log-Likelihood:                -32721.\n",
       "converged:                       True   LL-Null:                       -68074.\n",
       "Covariance Type:            nonrobust   LLR p-value:                     0.000\n",
       "=======================================================================================\n",
       "                          coef    std err          z      P>|z|      [0.025      0.975]\n",
       "---------------------------------------------------------------------------------------\n",
       "estimated_income     5.476e-05   3.15e-05      1.740      0.082   -6.93e-06       0.000\n",
       "months_on_network      -2.1605      2.473     -0.874      0.382      -7.008       2.687\n",
       "complaints_count       31.7026     37.097      0.855      0.393     -41.006     104.411\n",
       "plan_changes_count     -0.5828      0.011    -52.166      0.000      -0.605      -0.561\n",
       "relocated_new_place    -2.4047      0.047    -51.554      0.000      -2.496      -2.313\n",
       "monthly_bill_avg       -0.0035      0.000    -17.173      0.000      -0.004      -0.003\n",
       "CSAT_Survey_Score       3.3119      3.710      0.893      0.372      -3.959      10.583\n",
       "high_talktime_flag     -0.0354      0.020     -1.763      0.078      -0.075       0.004\n",
       "internet_time           0.0079   4.68e-05    168.858      0.000       0.008       0.008\n",
       "=======================================================================================\n",
       "\"\"\""
      ]
     },
     "execution_count": 45,
     "metadata": {},
     "output_type": "execute_result"
    }
   ],
   "source": [
    "import statsmodels.api as sm\n",
    "logit_model2=sm.Logit(telco_cust['Active_cust'],telco_cust[[\"estimated_income\"]+['months_on_network']+['complaints_count']+['plan_changes_count']+['relocated_new_place']+['monthly_bill_avg']+[\"CSAT_Survey_Score\"]+['high_talktime_flag']+['internet_time']])\n",
    "logit_fit2=logit_model2.fit()\n",
    "logit_fit2.summary()"
   ]
  },
  {
   "cell_type": "code",
   "execution_count": 46,
   "id": "b2674ba6-05ae-4d01-9e70-71e13048be3c",
   "metadata": {},
   "outputs": [],
   "source": [
    "#Confuson Matrix and Accuracy\n",
    "telco_cust[\"pred_Active_cust\"]=logit_fit2.predict(telco_cust.drop([\"Id\",\"Active_cust\"],axis=1))\n",
    "telco_cust[\"pred_Active_cust\"]=round(telco_cust[\"pred_Active_cust\"])"
   ]
  },
  {
   "cell_type": "code",
   "execution_count": 47,
   "id": "0232e62c-9cff-4b98-a7a5-0a52bcf574ae",
   "metadata": {},
   "outputs": [
    {
     "name": "stdout",
     "output_type": "stream",
     "text": [
      "[[35985  6156]\n",
      " [ 7443 50416]]\n"
     ]
    }
   ],
   "source": [
    "cm2 = confusion_matrix(telco_cust[\"Active_cust\"],telco_cust[\"pred_Active_cust\"])\n",
    "print(cm2)"
   ]
  },
  {
   "cell_type": "code",
   "execution_count": 48,
   "id": "c7b8f9aa-a656-4032-8dd7-d3d03533f068",
   "metadata": {},
   "outputs": [
    {
     "name": "stdout",
     "output_type": "stream",
     "text": [
      "0.86401\n"
     ]
    }
   ],
   "source": [
    "accuracy2=(cm2[0,0]+cm2[1,1])/(cm2[0,0]+cm2[0,1]+cm2[1,0]+cm2[1,1])\n",
    "print(accuracy2)"
   ]
  },
  {
   "cell_type": "code",
   "execution_count": 51,
   "id": "dced7ef4-874a-4bb3-90d7-0f191cd17000",
   "metadata": {},
   "outputs": [],
   "source": [
    "import statsmodels.formula.api as sm1\n",
    "def vif_cal(x_vars):\n",
    "    xvar_names=x_vars.columns\n",
    "    for i in range(0,xvar_names.shape[0]):\n",
    "        y=x_vars[xvar_names[i]] \n",
    "        x=x_vars[xvar_names.drop(xvar_names[i])]\n",
    "        rsq=sm1.ols(formula=\"y~x\", data=x_vars).fit().rsquared  \n",
    "        vif=round(1/(1-rsq),2)\n",
    "        print (xvar_names[i], \" VIF = \" , vif)"
   ]
  },
  {
   "cell_type": "code",
   "execution_count": 52,
   "id": "ec0d3350-de00-4c68-807f-2d11fa98ad27",
   "metadata": {},
   "outputs": [
    {
     "name": "stdout",
     "output_type": "stream",
     "text": [
      "estimated_income  VIF =  1.02\n",
      "months_on_network  VIF =  20991947.38\n",
      "complaints_count  VIF =  1105768.47\n",
      "plan_changes_count  VIF =  1.56\n",
      "relocated_new_place  VIF =  1.63\n",
      "monthly_bill_avg  VIF =  1.0\n",
      "CSAT_Survey_Score  VIF =  22885771.92\n",
      "high_talktime_flag  VIF =  1.0\n",
      "internet_time  VIF =  1.07\n"
     ]
    }
   ],
   "source": [
    "#Calculating VIF values using that function\n",
    "vif_cal(x_vars=telco_cust.drop([\"Id\",\"Active_cust\",\"pred_Active_cust\"], axis=1))"
   ]
  },
  {
   "cell_type": "code",
   "execution_count": 53,
   "id": "ee6149aa-4bee-4409-934c-8cb949c3d343",
   "metadata": {},
   "outputs": [
    {
     "name": "stdout",
     "output_type": "stream",
     "text": [
      "estimated_income  VIF =  1.02\n",
      "months_on_network  VIF =  1.03\n",
      "complaints_count  VIF =  1.02\n",
      "plan_changes_count  VIF =  1.56\n",
      "relocated_new_place  VIF =  1.63\n",
      "monthly_bill_avg  VIF =  1.0\n",
      "high_talktime_flag  VIF =  1.0\n",
      "internet_time  VIF =  1.07\n"
     ]
    }
   ],
   "source": [
    "#Drop CSAT_Survey_Score\n",
    "vif_cal(x_vars=telco_cust.drop([\"Id\",\"Active_cust\",\"pred_Active_cust\",\"CSAT_Survey_Score\"], axis=1))"
   ]
  },
  {
   "cell_type": "code",
   "execution_count": 54,
   "id": "258886b9-443b-44e4-bbbd-dbd4af837de7",
   "metadata": {},
   "outputs": [
    {
     "name": "stdout",
     "output_type": "stream",
     "text": [
      "Optimization terminated successfully.\n",
      "         Current function value: 0.327212\n",
      "         Iterations 10\n"
     ]
    },
    {
     "data": {
      "text/html": [
       "<table class=\"simpletable\">\n",
       "<caption>Logit Regression Results</caption>\n",
       "<tr>\n",
       "  <th>Dep. Variable:</th>      <td>Active_cust</td>   <th>  No. Observations:  </th>  <td>100000</td> \n",
       "</tr>\n",
       "<tr>\n",
       "  <th>Model:</th>                 <td>Logit</td>      <th>  Df Residuals:      </th>  <td> 99992</td> \n",
       "</tr>\n",
       "<tr>\n",
       "  <th>Method:</th>                 <td>MLE</td>       <th>  Df Model:          </th>  <td>     7</td> \n",
       "</tr>\n",
       "<tr>\n",
       "  <th>Date:</th>            <td>Tue, 31 Jan 2023</td> <th>  Pseudo R-squ.:     </th>  <td>0.5193</td> \n",
       "</tr>\n",
       "<tr>\n",
       "  <th>Time:</th>                <td>18:38:15</td>     <th>  Log-Likelihood:    </th> <td> -32721.</td>\n",
       "</tr>\n",
       "<tr>\n",
       "  <th>converged:</th>             <td>True</td>       <th>  LL-Null:           </th> <td> -68074.</td>\n",
       "</tr>\n",
       "<tr>\n",
       "  <th>Covariance Type:</th>     <td>nonrobust</td>    <th>  LLR p-value:       </th>  <td> 0.000</td> \n",
       "</tr>\n",
       "</table>\n",
       "<table class=\"simpletable\">\n",
       "<tr>\n",
       "           <td></td>              <th>coef</th>     <th>std err</th>      <th>z</th>      <th>P>|z|</th>  <th>[0.025</th>    <th>0.975]</th>  \n",
       "</tr>\n",
       "<tr>\n",
       "  <th>estimated_income</th>    <td> 5.457e-05</td> <td> 3.15e-05</td> <td>    1.735</td> <td> 0.083</td> <td>-7.08e-06</td> <td>    0.000</td>\n",
       "</tr>\n",
       "<tr>\n",
       "  <th>months_on_network</th>   <td>    0.0474</td> <td>    0.001</td> <td>   60.421</td> <td> 0.000</td> <td>    0.046</td> <td>    0.049</td>\n",
       "</tr>\n",
       "<tr>\n",
       "  <th>complaints_count</th>    <td>   -1.4164</td> <td>    0.024</td> <td>  -59.194</td> <td> 0.000</td> <td>   -1.463</td> <td>   -1.370</td>\n",
       "</tr>\n",
       "<tr>\n",
       "  <th>plan_changes_count</th>  <td>   -0.5827</td> <td>    0.011</td> <td>  -52.166</td> <td> 0.000</td> <td>   -0.605</td> <td>   -0.561</td>\n",
       "</tr>\n",
       "<tr>\n",
       "  <th>relocated_new_place</th> <td>   -2.4051</td> <td>    0.047</td> <td>  -51.561</td> <td> 0.000</td> <td>   -2.496</td> <td>   -2.314</td>\n",
       "</tr>\n",
       "<tr>\n",
       "  <th>monthly_bill_avg</th>    <td>   -0.0035</td> <td>    0.000</td> <td>  -17.172</td> <td> 0.000</td> <td>   -0.004</td> <td>   -0.003</td>\n",
       "</tr>\n",
       "<tr>\n",
       "  <th>high_talktime_flag</th>  <td>   -0.0354</td> <td>    0.020</td> <td>   -1.760</td> <td> 0.078</td> <td>   -0.075</td> <td>    0.004</td>\n",
       "</tr>\n",
       "<tr>\n",
       "  <th>internet_time</th>       <td>    0.0079</td> <td> 4.68e-05</td> <td>  168.861</td> <td> 0.000</td> <td>    0.008</td> <td>    0.008</td>\n",
       "</tr>\n",
       "</table>"
      ],
      "text/plain": [
       "<class 'statsmodels.iolib.summary.Summary'>\n",
       "\"\"\"\n",
       "                           Logit Regression Results                           \n",
       "==============================================================================\n",
       "Dep. Variable:            Active_cust   No. Observations:               100000\n",
       "Model:                          Logit   Df Residuals:                    99992\n",
       "Method:                           MLE   Df Model:                            7\n",
       "Date:                Tue, 31 Jan 2023   Pseudo R-squ.:                  0.5193\n",
       "Time:                        18:38:15   Log-Likelihood:                -32721.\n",
       "converged:                       True   LL-Null:                       -68074.\n",
       "Covariance Type:            nonrobust   LLR p-value:                     0.000\n",
       "=======================================================================================\n",
       "                          coef    std err          z      P>|z|      [0.025      0.975]\n",
       "---------------------------------------------------------------------------------------\n",
       "estimated_income     5.457e-05   3.15e-05      1.735      0.083   -7.08e-06       0.000\n",
       "months_on_network       0.0474      0.001     60.421      0.000       0.046       0.049\n",
       "complaints_count       -1.4164      0.024    -59.194      0.000      -1.463      -1.370\n",
       "plan_changes_count     -0.5827      0.011    -52.166      0.000      -0.605      -0.561\n",
       "relocated_new_place    -2.4051      0.047    -51.561      0.000      -2.496      -2.314\n",
       "monthly_bill_avg       -0.0035      0.000    -17.172      0.000      -0.004      -0.003\n",
       "high_talktime_flag     -0.0354      0.020     -1.760      0.078      -0.075       0.004\n",
       "internet_time           0.0079   4.68e-05    168.861      0.000       0.008       0.008\n",
       "=======================================================================================\n",
       "\"\"\""
      ]
     },
     "execution_count": 54,
     "metadata": {},
     "output_type": "execute_result"
    }
   ],
   "source": [
    "import statsmodels.api as sm\n",
    "logit_model3=sm.Logit(telco_cust['Active_cust'],telco_cust[[\"estimated_income\"]+['months_on_network']+['complaints_count']+['plan_changes_count']+['relocated_new_place']+['monthly_bill_avg']+['high_talktime_flag']+['internet_time']])\n",
    "logit_fit3=logit_model3.fit()\n",
    "logit_fit3.summary()"
   ]
  },
  {
   "cell_type": "code",
   "execution_count": 55,
   "id": "cfd06e12-fa2e-43bb-bb6f-71953e9c6cbb",
   "metadata": {},
   "outputs": [],
   "source": [
    "#Confuson Matrix and Accuracy\n",
    "telco_cust[\"pred_Active_cust\"]=logit_fit3.predict(telco_cust.drop([\"Id\",\"Active_cust\",\"pred_Active_cust\",\"CSAT_Survey_Score\"],axis=1))\n",
    "telco_cust[\"pred_Active_cust\"]=round(telco_cust[\"pred_Active_cust\"])"
   ]
  },
  {
   "cell_type": "code",
   "execution_count": 56,
   "id": "df726aa8-d110-4023-aa42-1d0cab87cafd",
   "metadata": {},
   "outputs": [
    {
     "name": "stdout",
     "output_type": "stream",
     "text": [
      "[[35983  6158]\n",
      " [ 7442 50417]]\n"
     ]
    }
   ],
   "source": [
    "cm3 = confusion_matrix(telco_cust[\"Active_cust\"],telco_cust[\"pred_Active_cust\"])\n",
    "print(cm3)"
   ]
  },
  {
   "cell_type": "code",
   "execution_count": 57,
   "id": "1b0285b6-4065-4d1f-8337-a188d4fb0edb",
   "metadata": {},
   "outputs": [
    {
     "name": "stdout",
     "output_type": "stream",
     "text": [
      "0.864\n"
     ]
    }
   ],
   "source": [
    "accuracy3=(cm3[0,0]+cm3[1,1])/(cm3[0,0]+cm3[0,1]+cm3[1,0]+cm3[1,1])\n",
    "print(accuracy3)"
   ]
  },
  {
   "cell_type": "code",
   "execution_count": 58,
   "id": "2f863e30-ba20-44f3-b241-8df2478511e3",
   "metadata": {},
   "outputs": [
    {
     "name": "stdout",
     "output_type": "stream",
     "text": [
      "Optimization terminated successfully.\n",
      "         Current function value: 0.327522\n",
      "         Iterations 8\n"
     ]
    },
    {
     "data": {
      "text/html": [
       "<table class=\"simpletable\">\n",
       "<caption>Logit Regression Results</caption>\n",
       "<tr>\n",
       "  <th>Dep. Variable:</th>      <td>Active_cust</td>   <th>  No. Observations:  </th>  <td>100000</td> \n",
       "</tr>\n",
       "<tr>\n",
       "  <th>Model:</th>                 <td>Logit</td>      <th>  Df Residuals:      </th>  <td> 99994</td> \n",
       "</tr>\n",
       "<tr>\n",
       "  <th>Method:</th>                 <td>MLE</td>       <th>  Df Model:          </th>  <td>     5</td> \n",
       "</tr>\n",
       "<tr>\n",
       "  <th>Date:</th>            <td>Tue, 31 Jan 2023</td> <th>  Pseudo R-squ.:     </th>  <td>0.5189</td> \n",
       "</tr>\n",
       "<tr>\n",
       "  <th>Time:</th>                <td>18:39:59</td>     <th>  Log-Likelihood:    </th> <td> -32752.</td>\n",
       "</tr>\n",
       "<tr>\n",
       "  <th>converged:</th>             <td>True</td>       <th>  LL-Null:           </th> <td> -68074.</td>\n",
       "</tr>\n",
       "<tr>\n",
       "  <th>Covariance Type:</th>     <td>nonrobust</td>    <th>  LLR p-value:       </th>  <td> 0.000</td> \n",
       "</tr>\n",
       "</table>\n",
       "<table class=\"simpletable\">\n",
       "<tr>\n",
       "           <td></td>              <th>coef</th>     <th>std err</th>      <th>z</th>      <th>P>|z|</th>  <th>[0.025</th>    <th>0.975]</th>  \n",
       "</tr>\n",
       "<tr>\n",
       "  <th>months_on_network</th>   <td>    0.0463</td> <td>    0.001</td> <td>   69.979</td> <td> 0.000</td> <td>    0.045</td> <td>    0.048</td>\n",
       "</tr>\n",
       "<tr>\n",
       "  <th>complaints_count</th>    <td>   -1.3804</td> <td>    0.013</td> <td> -105.503</td> <td> 0.000</td> <td>   -1.406</td> <td>   -1.355</td>\n",
       "</tr>\n",
       "<tr>\n",
       "  <th>plan_changes_count</th>  <td>   -0.5807</td> <td>    0.011</td> <td>  -52.132</td> <td> 0.000</td> <td>   -0.603</td> <td>   -0.559</td>\n",
       "</tr>\n",
       "<tr>\n",
       "  <th>relocated_new_place</th> <td>   -2.3988</td> <td>    0.046</td> <td>  -51.593</td> <td> 0.000</td> <td>   -2.490</td> <td>   -2.308</td>\n",
       "</tr>\n",
       "<tr>\n",
       "  <th>monthly_bill_avg</th>    <td>   -0.0034</td> <td>    0.000</td> <td>  -17.166</td> <td> 0.000</td> <td>   -0.004</td> <td>   -0.003</td>\n",
       "</tr>\n",
       "<tr>\n",
       "  <th>internet_time</th>       <td>    0.0079</td> <td> 4.67e-05</td> <td>  169.255</td> <td> 0.000</td> <td>    0.008</td> <td>    0.008</td>\n",
       "</tr>\n",
       "</table>"
      ],
      "text/plain": [
       "<class 'statsmodels.iolib.summary.Summary'>\n",
       "\"\"\"\n",
       "                           Logit Regression Results                           \n",
       "==============================================================================\n",
       "Dep. Variable:            Active_cust   No. Observations:               100000\n",
       "Model:                          Logit   Df Residuals:                    99994\n",
       "Method:                           MLE   Df Model:                            5\n",
       "Date:                Tue, 31 Jan 2023   Pseudo R-squ.:                  0.5189\n",
       "Time:                        18:39:59   Log-Likelihood:                -32752.\n",
       "converged:                       True   LL-Null:                       -68074.\n",
       "Covariance Type:            nonrobust   LLR p-value:                     0.000\n",
       "=======================================================================================\n",
       "                          coef    std err          z      P>|z|      [0.025      0.975]\n",
       "---------------------------------------------------------------------------------------\n",
       "months_on_network       0.0463      0.001     69.979      0.000       0.045       0.048\n",
       "complaints_count       -1.3804      0.013   -105.503      0.000      -1.406      -1.355\n",
       "plan_changes_count     -0.5807      0.011    -52.132      0.000      -0.603      -0.559\n",
       "relocated_new_place    -2.3988      0.046    -51.593      0.000      -2.490      -2.308\n",
       "monthly_bill_avg       -0.0034      0.000    -17.166      0.000      -0.004      -0.003\n",
       "internet_time           0.0079   4.67e-05    169.255      0.000       0.008       0.008\n",
       "=======================================================================================\n",
       "\"\"\""
      ]
     },
     "execution_count": 58,
     "metadata": {},
     "output_type": "execute_result"
    }
   ],
   "source": [
    "#3.12 Individual impact of the variables \n",
    "\n",
    "#Drop estimated_income and high_talktime_flag \n",
    "import statsmodels.api as sm\n",
    "logit_model4=sm.Logit(telco_cust['Active_cust'],telco_cust[['months_on_network']+['complaints_count']+['plan_changes_count']+['relocated_new_place']+['monthly_bill_avg']+['internet_time']])\n",
    "logit_fit4=logit_model4.fit()\n",
    "logit_fit4.summary()"
   ]
  },
  {
   "cell_type": "code",
   "execution_count": 59,
   "id": "383001a6-335d-4bb9-9c82-0ce5f2a8d74b",
   "metadata": {},
   "outputs": [],
   "source": [
    "#Confuson Matrix and Accuracy\n",
    "telco_cust[\"pred_Active_cust\"]=logit_fit4.predict(telco_cust.drop([\"Id\",\"Active_cust\",\"pred_Active_cust\",\"CSAT_Survey_Score\",\"estimated_income\",\"high_talktime_flag\"],axis=1))\n",
    "telco_cust[\"pred_Active_cust\"]=round(telco_cust[\"pred_Active_cust\"])"
   ]
  },
  {
   "cell_type": "code",
   "execution_count": 60,
   "id": "af58c55e-0a80-4b8b-ac9a-f22aae119205",
   "metadata": {},
   "outputs": [
    {
     "name": "stdout",
     "output_type": "stream",
     "text": [
      "[[36010  6131]\n",
      " [ 7474 50385]]\n"
     ]
    }
   ],
   "source": [
    "cm4= confusion_matrix(telco_cust[\"Active_cust\"],telco_cust[\"pred_Active_cust\"])\n",
    "print(cm4)"
   ]
  },
  {
   "cell_type": "code",
   "execution_count": 61,
   "id": "f62887c4-e50c-45be-b1fe-666722426aea",
   "metadata": {},
   "outputs": [
    {
     "name": "stdout",
     "output_type": "stream",
     "text": [
      "0.86395\n"
     ]
    }
   ],
   "source": [
    "accuracy4=(cm4[0,0]+cm4[1,1])/(cm4[0,0]+cm4[0,1]+cm4[1,0]+cm4[1,1])\n",
    "print(accuracy4)"
   ]
  },
  {
   "cell_type": "code",
   "execution_count": null,
   "id": "d6f504f7-3da7-4bc1-ac32-b0ee0309e476",
   "metadata": {},
   "outputs": [],
   "source": []
  }
 ],
 "metadata": {
  "kernelspec": {
   "display_name": "Python 3 (ipykernel)",
   "language": "python",
   "name": "python3"
  },
  "language_info": {
   "codemirror_mode": {
    "name": "ipython",
    "version": 3
   },
   "file_extension": ".py",
   "mimetype": "text/x-python",
   "name": "python",
   "nbconvert_exporter": "python",
   "pygments_lexer": "ipython3",
   "version": "3.9.12"
  }
 },
 "nbformat": 4,
 "nbformat_minor": 5
}
