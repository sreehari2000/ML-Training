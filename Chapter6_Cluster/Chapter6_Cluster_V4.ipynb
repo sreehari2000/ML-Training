{
 "cells": [
  {
   "cell_type": "code",
   "execution_count": 1,
   "id": "ba460254-9012-4a8a-a64a-7c4ddc80d43a",
   "metadata": {},
   "outputs": [],
   "source": [
    "import numpy as np\n",
    "import pandas as pd\n",
    "import matplotlib.pyplot as plt\n",
    "import seaborn as sns"
   ]
  },
  {
   "cell_type": "code",
   "execution_count": 2,
   "id": "d5a0f4b2-5efa-4895-8e36-720a8d3fbf46",
   "metadata": {},
   "outputs": [],
   "source": [
    "# Load the wholesale customers dataset\n",
    "cust_data = pd.read_csv(r\"C:\\Users\\SREEHARI\\Desktop\\internship\\ML_DL_py_TF-master\\Chapter6_Cluster\\Datasets\\Wholesale\\Wholesale_customers_data.csv\")"
   ]
  },
  {
   "cell_type": "code",
   "execution_count": 3,
   "id": "e63346ff-9364-47cb-9a8b-3556c59d003c",
   "metadata": {},
   "outputs": [
    {
     "name": "stdout",
     "output_type": "stream",
     "text": [
      "(440, 9)\n",
      "['Cust_id' 'Channel' 'Region' 'Fresh' 'Milk' 'Grocery' 'Frozen'\n",
      " 'Detergents_Paper' 'Delicatessen']\n",
      "<class 'pandas.core.frame.DataFrame'>\n",
      "RangeIndex: 440 entries, 0 to 439\n",
      "Data columns (total 9 columns):\n",
      " #   Column            Non-Null Count  Dtype\n",
      "---  ------            --------------  -----\n",
      " 0   Cust_id           440 non-null    int64\n",
      " 1   Channel           440 non-null    int64\n",
      " 2   Region            440 non-null    int64\n",
      " 3   Fresh             440 non-null    int64\n",
      " 4   Milk              440 non-null    int64\n",
      " 5   Grocery           440 non-null    int64\n",
      " 6   Frozen            440 non-null    int64\n",
      " 7   Detergents_Paper  440 non-null    int64\n",
      " 8   Delicatessen      440 non-null    int64\n",
      "dtypes: int64(9)\n",
      "memory usage: 31.1 KB\n"
     ]
    }
   ],
   "source": [
    "#Rows and Columns\n",
    "print(cust_data.shape)\n",
    "print(cust_data.columns.values)\n",
    "#Dataset Information\n",
    "cust_data.info()"
   ]
  },
  {
   "cell_type": "code",
   "execution_count": 4,
   "id": "3af173e4-2a10-4699-907f-5e47481b387c",
   "metadata": {},
   "outputs": [
    {
     "data": {
      "text/html": [
       "<div>\n",
       "<style scoped>\n",
       "    .dataframe tbody tr th:only-of-type {\n",
       "        vertical-align: middle;\n",
       "    }\n",
       "\n",
       "    .dataframe tbody tr th {\n",
       "        vertical-align: top;\n",
       "    }\n",
       "\n",
       "    .dataframe thead th {\n",
       "        text-align: right;\n",
       "    }\n",
       "</style>\n",
       "<table border=\"1\" class=\"dataframe\">\n",
       "  <thead>\n",
       "    <tr style=\"text-align: right;\">\n",
       "      <th></th>\n",
       "      <th>Cust_id</th>\n",
       "      <th>Channel</th>\n",
       "      <th>Region</th>\n",
       "      <th>Fresh</th>\n",
       "      <th>Milk</th>\n",
       "      <th>Grocery</th>\n",
       "      <th>Frozen</th>\n",
       "      <th>Detergents_Paper</th>\n",
       "      <th>Delicatessen</th>\n",
       "    </tr>\n",
       "  </thead>\n",
       "  <tbody>\n",
       "    <tr>\n",
       "      <th>45</th>\n",
       "      <td>46</td>\n",
       "      <td>2</td>\n",
       "      <td>3</td>\n",
       "      <td>5181</td>\n",
       "      <td>22044</td>\n",
       "      <td>21531</td>\n",
       "      <td>1740</td>\n",
       "      <td>7353</td>\n",
       "      <td>4985</td>\n",
       "    </tr>\n",
       "    <tr>\n",
       "      <th>223</th>\n",
       "      <td>224</td>\n",
       "      <td>2</td>\n",
       "      <td>1</td>\n",
       "      <td>2790</td>\n",
       "      <td>2527</td>\n",
       "      <td>5265</td>\n",
       "      <td>5612</td>\n",
       "      <td>788</td>\n",
       "      <td>1360</td>\n",
       "    </tr>\n",
       "    <tr>\n",
       "      <th>64</th>\n",
       "      <td>65</td>\n",
       "      <td>1</td>\n",
       "      <td>3</td>\n",
       "      <td>4760</td>\n",
       "      <td>1227</td>\n",
       "      <td>3250</td>\n",
       "      <td>3724</td>\n",
       "      <td>1247</td>\n",
       "      <td>1145</td>\n",
       "    </tr>\n",
       "    <tr>\n",
       "      <th>366</th>\n",
       "      <td>367</td>\n",
       "      <td>1</td>\n",
       "      <td>3</td>\n",
       "      <td>9561</td>\n",
       "      <td>2217</td>\n",
       "      <td>1664</td>\n",
       "      <td>1173</td>\n",
       "      <td>222</td>\n",
       "      <td>447</td>\n",
       "    </tr>\n",
       "    <tr>\n",
       "      <th>288</th>\n",
       "      <td>289</td>\n",
       "      <td>1</td>\n",
       "      <td>3</td>\n",
       "      <td>16260</td>\n",
       "      <td>594</td>\n",
       "      <td>1296</td>\n",
       "      <td>848</td>\n",
       "      <td>445</td>\n",
       "      <td>258</td>\n",
       "    </tr>\n",
       "  </tbody>\n",
       "</table>\n",
       "</div>"
      ],
      "text/plain": [
       "     Cust_id  Channel  Region  Fresh   Milk  Grocery  Frozen  \\\n",
       "45        46        2       3   5181  22044    21531    1740   \n",
       "223      224        2       1   2790   2527     5265    5612   \n",
       "64        65        1       3   4760   1227     3250    3724   \n",
       "366      367        1       3   9561   2217     1664    1173   \n",
       "288      289        1       3  16260    594     1296     848   \n",
       "\n",
       "     Detergents_Paper  Delicatessen  \n",
       "45               7353          4985  \n",
       "223               788          1360  \n",
       "64               1247          1145  \n",
       "366               222           447  \n",
       "288               445           258  "
      ]
     },
     "execution_count": 4,
     "metadata": {},
     "output_type": "execute_result"
    }
   ],
   "source": [
    "#Head\n",
    "pd.set_option('display.max_columns', None) #This option displays all the columns \n",
    "cust_data.sample(n=5, random_state=77)"
   ]
  },
  {
   "cell_type": "code",
   "execution_count": 5,
   "id": "5a755cb5-f6ab-47fd-a683-ef6cb25b7f3a",
   "metadata": {},
   "outputs": [
    {
     "data": {
      "text/plain": [
       "3    316\n",
       "1     77\n",
       "2     47\n",
       "Name: Region, dtype: int64"
      ]
     },
     "execution_count": 5,
     "metadata": {},
     "output_type": "execute_result"
    }
   ],
   "source": [
    "#Frequency Counts\n",
    "cust_data[\"Channel\"].value_counts()\n",
    "cust_data[\"Region\"].value_counts()"
   ]
  },
  {
   "cell_type": "code",
   "execution_count": 6,
   "id": "064d4132-0cb1-4ddb-a953-9dcd8bb2e023",
   "metadata": {},
   "outputs": [
    {
     "data": {
      "text/html": [
       "<div>\n",
       "<style scoped>\n",
       "    .dataframe tbody tr th:only-of-type {\n",
       "        vertical-align: middle;\n",
       "    }\n",
       "\n",
       "    .dataframe tbody tr th {\n",
       "        vertical-align: top;\n",
       "    }\n",
       "\n",
       "    .dataframe thead th {\n",
       "        text-align: right;\n",
       "    }\n",
       "</style>\n",
       "<table border=\"1\" class=\"dataframe\">\n",
       "  <thead>\n",
       "    <tr style=\"text-align: right;\">\n",
       "      <th></th>\n",
       "      <th>Cust_id</th>\n",
       "      <th>Channel</th>\n",
       "      <th>Region</th>\n",
       "      <th>Fresh</th>\n",
       "      <th>Milk</th>\n",
       "      <th>Grocery</th>\n",
       "      <th>Frozen</th>\n",
       "      <th>Detergents_Paper</th>\n",
       "      <th>Delicatessen</th>\n",
       "    </tr>\n",
       "  </thead>\n",
       "  <tbody>\n",
       "    <tr>\n",
       "      <th>count</th>\n",
       "      <td>440.00</td>\n",
       "      <td>440.00</td>\n",
       "      <td>440.00</td>\n",
       "      <td>440.00</td>\n",
       "      <td>440.00</td>\n",
       "      <td>440.00</td>\n",
       "      <td>440.00</td>\n",
       "      <td>440.00</td>\n",
       "      <td>440.00</td>\n",
       "    </tr>\n",
       "    <tr>\n",
       "      <th>mean</th>\n",
       "      <td>220.50</td>\n",
       "      <td>1.32</td>\n",
       "      <td>2.54</td>\n",
       "      <td>12000.30</td>\n",
       "      <td>5796.27</td>\n",
       "      <td>7951.28</td>\n",
       "      <td>3071.93</td>\n",
       "      <td>2881.49</td>\n",
       "      <td>1524.87</td>\n",
       "    </tr>\n",
       "    <tr>\n",
       "      <th>std</th>\n",
       "      <td>127.16</td>\n",
       "      <td>0.47</td>\n",
       "      <td>0.77</td>\n",
       "      <td>12647.33</td>\n",
       "      <td>7380.38</td>\n",
       "      <td>9503.16</td>\n",
       "      <td>4854.67</td>\n",
       "      <td>4767.85</td>\n",
       "      <td>2820.11</td>\n",
       "    </tr>\n",
       "    <tr>\n",
       "      <th>min</th>\n",
       "      <td>1.00</td>\n",
       "      <td>1.00</td>\n",
       "      <td>1.00</td>\n",
       "      <td>3.00</td>\n",
       "      <td>55.00</td>\n",
       "      <td>3.00</td>\n",
       "      <td>25.00</td>\n",
       "      <td>3.00</td>\n",
       "      <td>3.00</td>\n",
       "    </tr>\n",
       "    <tr>\n",
       "      <th>25%</th>\n",
       "      <td>110.75</td>\n",
       "      <td>1.00</td>\n",
       "      <td>2.00</td>\n",
       "      <td>3127.75</td>\n",
       "      <td>1533.00</td>\n",
       "      <td>2153.00</td>\n",
       "      <td>742.25</td>\n",
       "      <td>256.75</td>\n",
       "      <td>408.25</td>\n",
       "    </tr>\n",
       "    <tr>\n",
       "      <th>50%</th>\n",
       "      <td>220.50</td>\n",
       "      <td>1.00</td>\n",
       "      <td>3.00</td>\n",
       "      <td>8504.00</td>\n",
       "      <td>3627.00</td>\n",
       "      <td>4755.50</td>\n",
       "      <td>1526.00</td>\n",
       "      <td>816.50</td>\n",
       "      <td>965.50</td>\n",
       "    </tr>\n",
       "    <tr>\n",
       "      <th>75%</th>\n",
       "      <td>330.25</td>\n",
       "      <td>2.00</td>\n",
       "      <td>3.00</td>\n",
       "      <td>16933.75</td>\n",
       "      <td>7190.25</td>\n",
       "      <td>10655.75</td>\n",
       "      <td>3554.25</td>\n",
       "      <td>3922.00</td>\n",
       "      <td>1820.25</td>\n",
       "    </tr>\n",
       "    <tr>\n",
       "      <th>max</th>\n",
       "      <td>440.00</td>\n",
       "      <td>2.00</td>\n",
       "      <td>3.00</td>\n",
       "      <td>112151.00</td>\n",
       "      <td>73498.00</td>\n",
       "      <td>92780.00</td>\n",
       "      <td>60869.00</td>\n",
       "      <td>40827.00</td>\n",
       "      <td>47943.00</td>\n",
       "    </tr>\n",
       "  </tbody>\n",
       "</table>\n",
       "</div>"
      ],
      "text/plain": [
       "       Cust_id  Channel  Region      Fresh      Milk   Grocery    Frozen  \\\n",
       "count   440.00   440.00  440.00     440.00    440.00    440.00    440.00   \n",
       "mean    220.50     1.32    2.54   12000.30   5796.27   7951.28   3071.93   \n",
       "std     127.16     0.47    0.77   12647.33   7380.38   9503.16   4854.67   \n",
       "min       1.00     1.00    1.00       3.00     55.00      3.00     25.00   \n",
       "25%     110.75     1.00    2.00    3127.75   1533.00   2153.00    742.25   \n",
       "50%     220.50     1.00    3.00    8504.00   3627.00   4755.50   1526.00   \n",
       "75%     330.25     2.00    3.00   16933.75   7190.25  10655.75   3554.25   \n",
       "max     440.00     2.00    3.00  112151.00  73498.00  92780.00  60869.00   \n",
       "\n",
       "       Detergents_Paper  Delicatessen  \n",
       "count            440.00        440.00  \n",
       "mean            2881.49       1524.87  \n",
       "std             4767.85       2820.11  \n",
       "min                3.00          3.00  \n",
       "25%              256.75        408.25  \n",
       "50%              816.50        965.50  \n",
       "75%             3922.00       1820.25  \n",
       "max            40827.00      47943.00  "
      ]
     },
     "execution_count": 6,
     "metadata": {},
     "output_type": "execute_result"
    }
   ],
   "source": [
    "#Summary\n",
    "round(cust_data.describe(),2)"
   ]
  },
  {
   "cell_type": "code",
   "execution_count": 7,
   "id": "1dc9f114-0587-49b1-8707-15a765a54e5a",
   "metadata": {},
   "outputs": [
    {
     "data": {
      "image/png": "[encoded data removed]",
      "text/plain": [
       "<Figure size 720x720 with 1 Axes>"
      ]
     },
     "metadata": {
      "needs_background": "light"
     },
     "output_type": "display_data"
    }
   ],
   "source": [
    "#Box Plots\n",
    "plt.figure(figsize=(10,10))\n",
    "plt.title(\"All the variables box plots\", size=20)\n",
    "sns.boxplot(x=\"variable\", y=\"value\", data=pd.melt(cust_data[['Fresh', 'Milk', 'Grocery','Frozen', 'Detergents_Paper', 'Delicatessen']]))\n",
    "plt.show()"
   ]
  },
  {
   "cell_type": "code",
   "execution_count": 8,
   "id": "7ee0eb81-ab3a-4120-b2ec-b97777a26522",
   "metadata": {},
   "outputs": [
    {
     "data": {
      "text/html": [
       "<div>\n",
       "<style scoped>\n",
       "    .dataframe tbody tr th:only-of-type {\n",
       "        vertical-align: middle;\n",
       "    }\n",
       "\n",
       "    .dataframe tbody tr th {\n",
       "        vertical-align: top;\n",
       "    }\n",
       "\n",
       "    .dataframe thead th {\n",
       "        text-align: right;\n",
       "    }\n",
       "</style>\n",
       "<table border=\"1\" class=\"dataframe\">\n",
       "  <thead>\n",
       "    <tr style=\"text-align: right;\">\n",
       "      <th></th>\n",
       "      <th>Cust_id</th>\n",
       "      <th>Fresh</th>\n",
       "      <th>Grocery</th>\n",
       "    </tr>\n",
       "  </thead>\n",
       "  <tbody>\n",
       "    <tr>\n",
       "      <th>45</th>\n",
       "      <td>46</td>\n",
       "      <td>5181</td>\n",
       "      <td>21531</td>\n",
       "    </tr>\n",
       "    <tr>\n",
       "      <th>223</th>\n",
       "      <td>224</td>\n",
       "      <td>2790</td>\n",
       "      <td>5265</td>\n",
       "    </tr>\n",
       "    <tr>\n",
       "      <th>64</th>\n",
       "      <td>65</td>\n",
       "      <td>4760</td>\n",
       "      <td>3250</td>\n",
       "    </tr>\n",
       "    <tr>\n",
       "      <th>366</th>\n",
       "      <td>367</td>\n",
       "      <td>9561</td>\n",
       "      <td>1664</td>\n",
       "    </tr>\n",
       "    <tr>\n",
       "      <th>288</th>\n",
       "      <td>289</td>\n",
       "      <td>16260</td>\n",
       "      <td>1296</td>\n",
       "    </tr>\n",
       "  </tbody>\n",
       "</table>\n",
       "</div>"
      ],
      "text/plain": [
       "     Cust_id  Fresh  Grocery\n",
       "45        46   5181    21531\n",
       "223      224   2790     5265\n",
       "64        65   4760     3250\n",
       "366      367   9561     1664\n",
       "288      289  16260     1296"
      ]
     },
     "execution_count": 8,
     "metadata": {},
     "output_type": "execute_result"
    }
   ],
   "source": [
    "#Distance Measure\n",
    "cust_data_sample=cust_data.sample(n=5, random_state=77)\n",
    "cust_data_sample[[\"Cust_id\",\"Fresh\", \"Grocery\"]]"
   ]
  },
  {
   "cell_type": "code",
   "execution_count": 9,
   "id": "2a2bb258-6c73-42f7-a2c9-c6c1baa30a0b",
   "metadata": {},
   "outputs": [
    {
     "data": {
      "image/png": "[encoded data removed]",
      "text/plain": [
       "<Figure size 720x720 with 1 Axes>"
      ]
     },
     "metadata": {
      "needs_background": "light"
     },
     "output_type": "display_data"
    }
   ],
   "source": [
    "#Scatter plot of customers\n",
    "plt.figure(figsize=(10,10))\n",
    "plt.title(\"Fresh and Grocery spending plot\", size=20)\n",
    "plot=sns.scatterplot(x=\"Fresh\",y=\"Grocery\", data=cust_data_sample, s=500)\n",
    "for i in list(cust_data_sample.index):\n",
    "    plot.text(cust_data_sample.Fresh[i],cust_data_sample.Grocery[i],cust_data_sample.Cust_id[i],size=20)"
   ]
  },
  {
   "cell_type": "code",
   "execution_count": 10,
   "id": "c422a6fc-46a3-4567-aa36-eaf9f8678d84",
   "metadata": {},
   "outputs": [],
   "source": [
    "#############\n",
    "## Distance Matrix\n",
    "\n",
    "def distance_cal(data_frame):\n",
    "    distance_matrix=np.zeros((data_frame.shape[0],data_frame.shape[0]))\n",
    "    for i in range(0 , data_frame.shape[0]):\n",
    "        for j in range(0 , data_frame.shape[0]):\n",
    "            distance_matrix[i,j]=round(np.sqrt(sum((data_frame.iloc[i] - data_frame.iloc[j])**2)))\n",
    "    return(distance_matrix)"
   ]
  },
  {
   "cell_type": "code",
   "execution_count": 11,
   "id": "f0de71f7-cc7a-4501-ac74-96a2b582814a",
   "metadata": {},
   "outputs": [
    {
     "name": "stdout",
     "output_type": "stream",
     "text": [
      "[[    0. 16441. 18286. 20344. 23069.]\n",
      " [16441.     0.  2818.  7669. 14043.]\n",
      " [18286.  2818.     0.  5056. 11665.]\n",
      " [20344.  7669.  5056.     0.  6709.]\n",
      " [23069. 14043. 11665.  6709.     0.]]\n",
      "0.0\n",
      "16441.0\n",
      "2818.0\n"
     ]
    }
   ],
   "source": [
    "distance_matrix=distance_cal(cust_data_sample[[\"Fresh\", \"Grocery\"]])\n",
    "print(distance_matrix)\n",
    "print(distance_matrix[0,0])\n",
    "print(distance_matrix[1,0])\n",
    "print(distance_matrix[2,1])"
   ]
  },
  {
   "cell_type": "code",
   "execution_count": 12,
   "id": "93900bc4-4c7a-473d-84cc-6673e8496c54",
   "metadata": {},
   "outputs": [],
   "source": [
    "############################\n",
    "## Building clusters in Python    \n",
    "from sklearn.cluster import KMeans\n",
    "kmeans = KMeans(n_clusters=5, random_state=333) # Mention the Number of clusters\n",
    "X=cust_data.drop(['Cust_id', 'Channel', 'Region'],axis=1) # Custid is not needed\n",
    "kmeans = kmeans.fit(X) #Model building"
   ]
  },
  {
   "cell_type": "code",
   "execution_count": 13,
   "id": "5c2a2e02-3f7d-4ac4-8450-08888199b5d6",
   "metadata": {},
   "outputs": [
    {
     "data": {
      "text/html": [
       "<div>\n",
       "<style scoped>\n",
       "    .dataframe tbody tr th:only-of-type {\n",
       "        vertical-align: middle;\n",
       "    }\n",
       "\n",
       "    .dataframe tbody tr th {\n",
       "        vertical-align: top;\n",
       "    }\n",
       "\n",
       "    .dataframe thead th {\n",
       "        text-align: right;\n",
       "    }\n",
       "</style>\n",
       "<table border=\"1\" class=\"dataframe\">\n",
       "  <thead>\n",
       "    <tr style=\"text-align: right;\">\n",
       "      <th></th>\n",
       "      <th>Cust_id</th>\n",
       "      <th>Channel</th>\n",
       "      <th>Region</th>\n",
       "      <th>Fresh</th>\n",
       "      <th>Milk</th>\n",
       "      <th>Grocery</th>\n",
       "      <th>Frozen</th>\n",
       "      <th>Detergents_Paper</th>\n",
       "      <th>Delicatessen</th>\n",
       "      <th>Cluster_id</th>\n",
       "    </tr>\n",
       "  </thead>\n",
       "  <tbody>\n",
       "    <tr>\n",
       "      <th>0</th>\n",
       "      <td>1</td>\n",
       "      <td>2</td>\n",
       "      <td>3</td>\n",
       "      <td>12669</td>\n",
       "      <td>9656</td>\n",
       "      <td>7561</td>\n",
       "      <td>214</td>\n",
       "      <td>2674</td>\n",
       "      <td>1338</td>\n",
       "      <td>0</td>\n",
       "    </tr>\n",
       "    <tr>\n",
       "      <th>1</th>\n",
       "      <td>2</td>\n",
       "      <td>2</td>\n",
       "      <td>3</td>\n",
       "      <td>7057</td>\n",
       "      <td>9810</td>\n",
       "      <td>9568</td>\n",
       "      <td>1762</td>\n",
       "      <td>3293</td>\n",
       "      <td>1776</td>\n",
       "      <td>0</td>\n",
       "    </tr>\n",
       "    <tr>\n",
       "      <th>2</th>\n",
       "      <td>3</td>\n",
       "      <td>2</td>\n",
       "      <td>3</td>\n",
       "      <td>6353</td>\n",
       "      <td>8808</td>\n",
       "      <td>7684</td>\n",
       "      <td>2405</td>\n",
       "      <td>3516</td>\n",
       "      <td>7844</td>\n",
       "      <td>0</td>\n",
       "    </tr>\n",
       "    <tr>\n",
       "      <th>3</th>\n",
       "      <td>4</td>\n",
       "      <td>1</td>\n",
       "      <td>3</td>\n",
       "      <td>13265</td>\n",
       "      <td>1196</td>\n",
       "      <td>4221</td>\n",
       "      <td>6404</td>\n",
       "      <td>507</td>\n",
       "      <td>1788</td>\n",
       "      <td>4</td>\n",
       "    </tr>\n",
       "    <tr>\n",
       "      <th>4</th>\n",
       "      <td>5</td>\n",
       "      <td>2</td>\n",
       "      <td>3</td>\n",
       "      <td>22615</td>\n",
       "      <td>5410</td>\n",
       "      <td>7198</td>\n",
       "      <td>3915</td>\n",
       "      <td>1777</td>\n",
       "      <td>5185</td>\n",
       "      <td>4</td>\n",
       "    </tr>\n",
       "    <tr>\n",
       "      <th>5</th>\n",
       "      <td>6</td>\n",
       "      <td>2</td>\n",
       "      <td>3</td>\n",
       "      <td>9413</td>\n",
       "      <td>8259</td>\n",
       "      <td>5126</td>\n",
       "      <td>666</td>\n",
       "      <td>1795</td>\n",
       "      <td>1451</td>\n",
       "      <td>0</td>\n",
       "    </tr>\n",
       "    <tr>\n",
       "      <th>6</th>\n",
       "      <td>7</td>\n",
       "      <td>2</td>\n",
       "      <td>3</td>\n",
       "      <td>12126</td>\n",
       "      <td>3199</td>\n",
       "      <td>6975</td>\n",
       "      <td>480</td>\n",
       "      <td>3140</td>\n",
       "      <td>545</td>\n",
       "      <td>0</td>\n",
       "    </tr>\n",
       "    <tr>\n",
       "      <th>7</th>\n",
       "      <td>8</td>\n",
       "      <td>2</td>\n",
       "      <td>3</td>\n",
       "      <td>7579</td>\n",
       "      <td>4956</td>\n",
       "      <td>9426</td>\n",
       "      <td>1669</td>\n",
       "      <td>3321</td>\n",
       "      <td>2566</td>\n",
       "      <td>0</td>\n",
       "    </tr>\n",
       "    <tr>\n",
       "      <th>8</th>\n",
       "      <td>9</td>\n",
       "      <td>1</td>\n",
       "      <td>3</td>\n",
       "      <td>5963</td>\n",
       "      <td>3648</td>\n",
       "      <td>6192</td>\n",
       "      <td>425</td>\n",
       "      <td>1716</td>\n",
       "      <td>750</td>\n",
       "      <td>0</td>\n",
       "    </tr>\n",
       "    <tr>\n",
       "      <th>9</th>\n",
       "      <td>10</td>\n",
       "      <td>2</td>\n",
       "      <td>3</td>\n",
       "      <td>6006</td>\n",
       "      <td>11093</td>\n",
       "      <td>18881</td>\n",
       "      <td>1159</td>\n",
       "      <td>7425</td>\n",
       "      <td>2098</td>\n",
       "      <td>2</td>\n",
       "    </tr>\n",
       "  </tbody>\n",
       "</table>\n",
       "</div>"
      ],
      "text/plain": [
       "   Cust_id  Channel  Region  Fresh   Milk  Grocery  Frozen  Detergents_Paper  \\\n",
       "0        1        2       3  12669   9656     7561     214              2674   \n",
       "1        2        2       3   7057   9810     9568    1762              3293   \n",
       "2        3        2       3   6353   8808     7684    2405              3516   \n",
       "3        4        1       3  13265   1196     4221    6404               507   \n",
       "4        5        2       3  22615   5410     7198    3915              1777   \n",
       "5        6        2       3   9413   8259     5126     666              1795   \n",
       "6        7        2       3  12126   3199     6975     480              3140   \n",
       "7        8        2       3   7579   4956     9426    1669              3321   \n",
       "8        9        1       3   5963   3648     6192     425              1716   \n",
       "9       10        2       3   6006  11093    18881    1159              7425   \n",
       "\n",
       "   Delicatessen  Cluster_id  \n",
       "0          1338           0  \n",
       "1          1776           0  \n",
       "2          7844           0  \n",
       "3          1788           4  \n",
       "4          5185           4  \n",
       "5          1451           0  \n",
       "6           545           0  \n",
       "7          2566           0  \n",
       "8           750           0  \n",
       "9          2098           2  "
      ]
     },
     "execution_count": 13,
     "metadata": {},
     "output_type": "execute_result"
    }
   ],
   "source": [
    "# Getting the cluster labels and attaching them to the original data\n",
    "cust_data_clusters=cust_data\n",
    "cust_data_clusters[\"Cluster_id\"]= kmeans.predict(X)\n",
    "cust_data_clusters.head(10)"
   ]
  },
  {
   "cell_type": "code",
   "execution_count": 14,
   "id": "bd6eb699-dc85-4078-9087-f950700823c8",
   "metadata": {},
   "outputs": [],
   "source": [
    "#Final Results\n",
    "cluster_counts=cust_data_clusters['Cluster_id'].value_counts(sort=False)\n",
    "cluster_means= cust_data_clusters.groupby(['Cluster_id']).mean()"
   ]
  },
  {
   "cell_type": "code",
   "execution_count": 15,
   "id": "3d6751e8-6cd8-4dd2-9663-c683d97506e3",
   "metadata": {},
   "outputs": [
    {
     "name": "stdout",
     "output_type": "stream",
     "text": [
      "0    217\n",
      "4    107\n",
      "2     82\n",
      "1     27\n",
      "3      7\n",
      "Name: Cluster_id, dtype: int64\n",
      "            Cust_id  Channel  Region    Fresh     Milk  Grocery  Frozen  \\\n",
      "Cluster_id                                                                \n",
      "0             230.0      1.2     2.5   5834.0   3322.4   4096.3  2635.2   \n",
      "1             225.1      1.1     2.7  46916.6   7033.6   6205.3  9757.0   \n",
      "2             207.1      1.9     2.5   5057.0  12105.1  18414.1  1580.7   \n",
      "3             127.9      2.0     2.6  20031.3  38084.0  56126.1  2564.6   \n",
      "4             216.4      1.2     2.5  20490.7   3554.1   5040.1  3446.8   \n",
      "\n",
      "            Detergents_Paper  Delicatessen  \n",
      "Cluster_id                                  \n",
      "0                     1234.7         995.5  \n",
      "1                      936.4        4199.3  \n",
      "2                     8092.0        1828.7  \n",
      "3                    27644.6        2548.1  \n",
      "4                     1099.0        1623.9  \n"
     ]
    }
   ],
   "source": [
    "print(cluster_counts)\n",
    "print(round(cluster_means,1))"
   ]
  },
  {
   "cell_type": "code",
   "execution_count": 16,
   "id": "3c30c432-1270-48f7-b2fa-a9dbee77984d",
   "metadata": {},
   "outputs": [],
   "source": [
    "##Cluster wise Spendings box plot\n",
    "df_melt = pd.melt(cust_data_clusters.drop(['Cust_id', 'Channel', 'Region'],axis=1), \"Cluster_id\", var_name=\"Prod_type\", value_name=\"Spend\")"
   ]
  },
  {
   "cell_type": "code",
   "execution_count": 17,
   "id": "d52c43b2-e71b-4101-bfd8-b50163d8959f",
   "metadata": {},
   "outputs": [
    {
     "data": {
      "text/plain": [
       "Text(0.5, 1.0, 'Cluster wise Spendings')"
      ]
     },
     "execution_count": 17,
     "metadata": {},
     "output_type": "execute_result"
    },
    {
     "data": {
      "image/png": "[encoded data removed]",
      "text/plain": [
       "<Figure size 1440x720 with 1 Axes>"
      ]
     },
     "metadata": {
      "needs_background": "light"
     },
     "output_type": "display_data"
    }
   ],
   "source": [
    "plt.figure(figsize=(20,10))\n",
    "sns.boxplot(x='Cluster_id', hue=\"Prod_type\", y=\"Spend\", data=df_melt)\n",
    "plt.title(\"Cluster wise Spendings\", size=20)"
   ]
  },
  {
   "cell_type": "code",
   "execution_count": 18,
   "id": "6586a5ef-f018-4b09-963f-e4b3fa5a8370",
   "metadata": {},
   "outputs": [
    {
     "data": {
      "text/plain": [
       "Text(0.5, 1.0, 'Cluster4')"
      ]
     },
     "execution_count": 18,
     "metadata": {},
     "output_type": "execute_result"
    },
    {
     "data": {
      "image/png": "[encoded data removed]",
      "text/plain": [
       "<Figure size 504x504 with 1 Axes>"
      ]
     },
     "metadata": {
      "needs_background": "light"
     },
     "output_type": "display_data"
    }
   ],
   "source": [
    "##Cluster 0 to 4\n",
    "Cluster=df_melt[(df_melt['Cluster_id']==4)] #Change this from 0  to 4 \n",
    "plt.figure(figsize=(7,7))\n",
    "sns.boxplot(x='Cluster_id', hue=\"Prod_type\", y=\"Spend\", data=Cluster)\n",
    "plt.title(\"Cluster4\", size=20)"
   ]
  },
  {
   "cell_type": "code",
   "execution_count": 19,
   "id": "ef7d19d4-82e1-439f-9bc2-1f79f75a3f64",
   "metadata": {},
   "outputs": [
    {
     "data": {
      "text/plain": [
       "Text(0.5, 1.0, 'Cluster 2 and 3 only')"
      ]
     },
     "execution_count": 19,
     "metadata": {},
     "output_type": "execute_result"
    },
    {
     "data": {
      "image/png": "[encoded data removed]",
      "text/plain": [
       "<Figure size 720x504 with 1 Axes>"
      ]
     },
     "metadata": {
      "needs_background": "light"
     },
     "output_type": "display_data"
    }
   ],
   "source": [
    "##Objective 1\n",
    "Cluster_2and3=df_melt[(df_melt['Cluster_id']==2)| (df_melt['Cluster_id']==3)]\n",
    "plt.figure(figsize=(10,7))\n",
    "sns.boxplot(x='Cluster_id', hue=\"Prod_type\", y=\"Spend\", data=Cluster_2and3)\n",
    "plt.title(\"Cluster 2 and 3 only\", size=20)"
   ]
  },
  {
   "cell_type": "code",
   "execution_count": 20,
   "id": "a152a954-155b-4aed-ba83-914f17a94d9f",
   "metadata": {},
   "outputs": [
    {
     "name": "stdout",
     "output_type": "stream",
     "text": [
      "[10, 11, 17, 24, 29, 38, 39, 43, 44, 46, 47, 48, 50, 54, 57, 58, 62, 64, 66, 78, 82, 83, 86, 87, 93, 95, 101, 102, 107, 108, 110, 112, 146, 156, 157, 160, 164, 166, 171, 172, 174, 176, 183, 189, 190, 194, 201, 202, 206, 210, 212, 215, 216, 217, 219, 246, 252, 265, 266, 267, 269, 294, 302, 304, 305, 306, 307, 310, 313, 316, 320, 332, 334, 344, 347, 350, 352, 354, 358, 377, 385, 397, 408, 417, 419, 421, 427, 431, 438]\n"
     ]
    }
   ],
   "source": [
    "obj1_data= cust_data_clusters[(cust_data_clusters['Cluster_id']==2)| (cust_data_clusters['Cluster_id']==3)]\n",
    "print(list(obj1_data[\"Cust_id\"]))"
   ]
  },
  {
   "cell_type": "code",
   "execution_count": 21,
   "id": "14e6bd49-e09f-4ed8-bf0e-c75500a903b7",
   "metadata": {},
   "outputs": [
    {
     "name": "stdout",
     "output_type": "stream",
     "text": [
      "[4, 5, 13, 14, 15, 19, 21, 23, 25, 26, 28, 31, 33, 34, 37, 41, 42, 55, 59, 68, 71, 72, 74, 76, 84, 90, 105, 106, 113, 114, 115, 119, 121, 127, 128, 133, 139, 141, 142, 145, 150, 151, 153, 158, 163, 191, 192, 196, 203, 211, 218, 221, 227, 233, 235, 238, 241, 242, 243, 248, 249, 254, 256, 263, 268, 270, 277, 280, 284, 288, 289, 295, 297, 301, 308, 312, 323, 324, 325, 329, 333, 335, 336, 337, 348, 355, 357, 361, 369, 372, 374, 381, 382, 388, 394, 402, 403, 404, 405, 407, 422, 423, 424, 425, 433, 435, 436]\n"
     ]
    }
   ],
   "source": [
    "##Objective 2\n",
    "obj2_data= cust_data_clusters[cust_data_clusters['Cluster_id']==4]\n",
    "print(list(obj2_data[\"Cust_id\"]))"
   ]
  },
  {
   "cell_type": "code",
   "execution_count": 22,
   "id": "6cdb2f67-c2a0-4171-b6df-fc22a3f96272",
   "metadata": {},
   "outputs": [
    {
     "name": "stdout",
     "output_type": "stream",
     "text": [
      "[30, 40, 53, 88, 104, 125, 126, 130, 143, 177, 182, 184, 197, 240, 259, 260, 274, 283, 285, 286, 290, 326, 371, 378, 383, 428, 437]\n"
     ]
    }
   ],
   "source": [
    "##Objective 3\n",
    "obj3_data= cust_data_clusters[cust_data_clusters['Cluster_id']==1]\n",
    "print(list(obj3_data[\"Cust_id\"]))"
   ]
  },
  {
   "cell_type": "code",
   "execution_count": 23,
   "id": "08095457-e10a-42c4-9f70-f99f5dd2d114",
   "metadata": {},
   "outputs": [
    {
     "name": "stdout",
     "output_type": "stream",
     "text": [
      "53138778131.157585\n"
     ]
    }
   ],
   "source": [
    "##Inertia\n",
    "print(kmeans.inertia_)"
   ]
  },
  {
   "cell_type": "code",
   "execution_count": 24,
   "id": "b36681b2-c8ce-4b5a-84f8-aec9c37fb00b",
   "metadata": {},
   "outputs": [
    {
     "name": "stderr",
     "output_type": "stream",
     "text": [
      "C:\\Users\\SREEHARI\\anaconda3\\lib\\site-packages\\sklearn\\cluster\\_kmeans.py:1036: UserWarning: KMeans is known to have a memory leak on Windows with MKL, when there are less chunks than available threads. You can avoid it by setting the environment variable OMP_NUM_THREADS=2.\n",
      "  warnings.warn(\n"
     ]
    },
    {
     "name": "stdout",
     "output_type": "stream",
     "text": [
      "       K       Inertia\n",
      "1    1.0  15759.585837\n",
      "2    2.0  11321.752961\n",
      "3    3.0   8034.216798\n",
      "4    4.0   6485.574107\n",
      "5    5.0   5313.877813\n",
      "6    6.0   4727.387665\n",
      "7    7.0   4131.258478\n",
      "8    8.0   3627.142213\n",
      "9    9.0   3281.378566\n",
      "10  10.0   3006.729241\n",
      "11  11.0   2837.224803\n",
      "12  12.0   2659.655791\n",
      "13  13.0   2455.059454\n",
      "14  14.0   2258.887159\n",
      "15  15.0   2133.564861\n"
     ]
    }
   ],
   "source": [
    "###########################\n",
    "####Elbow Method\n",
    "elbow_data=pd.DataFrame()\n",
    "for i in range(1,16):\n",
    "    kmeans_m2 = KMeans(n_clusters=i, random_state=333) # Mention the Number of clusters\n",
    "    X=cust_data.drop(['Cust_id', 'Channel', 'Region'],axis=1) # Custid is not needed\n",
    "    model= kmeans_m2.fit(X)\n",
    "    elbow_data.at[i,\"K\"]=i\n",
    "    elbow_data.at[i,\"Inertia\"]=round(model.inertia_)/10000000 #To lower the values\n",
    "print(elbow_data)"
   ]
  },
  {
   "cell_type": "code",
   "execution_count": 25,
   "id": "4aa08c6f-e522-4400-a1af-dc20cd16e4e4",
   "metadata": {},
   "outputs": [
    {
     "data": {
      "text/plain": [
       "Text(0, 0.5, 'Inertia')"
      ]
     },
     "execution_count": 25,
     "metadata": {},
     "output_type": "execute_result"
    },
    {
     "data": {
      "image/png": "[encoded data removed]",
      "text/plain": [
       "<Figure size 1080x576 with 1 Axes>"
      ]
     },
     "metadata": {
      "needs_background": "light"
     },
     "output_type": "display_data"
    }
   ],
   "source": [
    "##Elbow Plot\n",
    "plt.figure(figsize=(15,8))\n",
    "plt.title(\"Elbow Plot\", size=20)\n",
    "plt.plot(elbow_data[\"K\"],elbow_data[\"Inertia\"],'--bD')\n",
    "plt.xticks(elbow_data[\"K\"])\n",
    "plt.xlabel(\"K\", size=15)\n",
    "plt.ylabel(\"Inertia\", size=15)"
   ]
  },
  {
   "cell_type": "code",
   "execution_count": null,
   "id": "826af7ff-c669-43b2-aa9b-7488b1be5990",
   "metadata": {},
   "outputs": [],
   "source": []
  }
 ],
 "metadata": {
  "kernelspec": {
   "display_name": "Python 3 (ipykernel)",
   "language": "python",
   "name": "python3"
  },
  "language_info": {
   "codemirror_mode": {
    "name": "ipython",
    "version": 3
   },
   "file_extension": ".py",
   "mimetype": "text/x-python",
   "name": "python",
   "nbconvert_exporter": "python",
   "pygments_lexer": "ipython3",
   "version": "3.9.12"
  }
 },
 "nbformat": 4,
 "nbformat_minor": 5
}
